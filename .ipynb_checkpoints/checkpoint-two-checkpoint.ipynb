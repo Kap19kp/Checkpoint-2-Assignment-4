{
 "cells": [
  {
   "cell_type": "markdown",
   "metadata": {
    "azdata_cell_guid": "151601c9-ca7a-412e-af80-c62a87e0837e"
   },
   "source": [
    "# Checkpoint Two: Exploratory Data Analysis\n",
    "\n",
    "Now that your chosen dataset is approved, it is time to start working on your analysis. Use this notebook to perform your EDA and make notes where directed to as you work.\n",
    "\n",
    "## Getting Started\n",
    "\n",
    "Since we have not provided your dataset for you, you will need to load the necessary files in this repository. Make sure to include a link back to the original dataset here as well.\n",
    "\n",
    "My dataset: https://www.kaggle.com/datasets/thedevastator/higher-education-predictors-of-student-retention\n",
    "\n",
    "> Column category information can be found at https://www.mdpi.com/2306-5729/7/11/146 in Appendix A\n",
    "\n",
    "Objective: \n",
    "> I would like to determine what factors are associated with college graduates and college dropouts to see if there are any strong indicators that could predict a student’s potential college outcome. \n",
    "\n",
    "Your first task in EDA is to import necessary libraries and create a dataframe(s). Make note in the form of code comments of what your thought process is as you work on this setup task."
   ]
  },
  {
   "cell_type": "code",
   "execution_count": 361,
   "metadata": {
    "azdata_cell_guid": "7b503e37-6df5-4433-acfb-678b1346db14"
   },
   "outputs": [],
   "source": [
    "#Import libraries\n",
    "import pandas as pd\n",
    "import matplotlib.pyplot as plt\n",
    "import seaborn as sns\n",
    "import numpy as np\n",
    "import plotly.express as px\n",
    "import plotly.graph_objects as go\n",
    "from matplotlib import style\n",
    "pd.set_option('display.max_columns', None)\n",
    "plt.style.use(\"seaborn-v0_8-bright\")"
   ]
  },
  {
   "cell_type": "code",
   "execution_count": 2,
   "metadata": {},
   "outputs": [],
   "source": [
    "#Creating dataframe\n",
    "df = pd.read_csv(\"C:\\\\Users\\\\kap19\\\\OneDrive\\\\Desktop\\\\LaunchCode\\\\Codes\\\\Assignments\\\\Assignment 4 Final Project\\\\dataset.csv\")"
   ]
  },
  {
   "cell_type": "markdown",
   "metadata": {
    "azdata_cell_guid": "129ce836-524b-4ea8-b394-a959f9308d6a"
   },
   "source": [
    "## Get to Know the Numbers\n",
    "\n",
    "Now that you have everything setup, put any code that you use to get to know the dataframe and its rows and columns better in the cell below. You can use whatever techniques you like, except for visualizations. You will put those in a separate section.\n",
    "\n",
    "When working on your code, make sure to leave comments so that your mentors can understand your thought process."
   ]
  },
  {
   "cell_type": "code",
   "execution_count": 3,
   "metadata": {
    "azdata_cell_guid": "0ca2d318-f6e8-43ef-a33e-5304d24d928d",
    "tags": []
   },
   "outputs": [
    {
     "data": {
      "text/html": [
       "<div>\n",
       "<style scoped>\n",
       "    .dataframe tbody tr th:only-of-type {\n",
       "        vertical-align: middle;\n",
       "    }\n",
       "\n",
       "    .dataframe tbody tr th {\n",
       "        vertical-align: top;\n",
       "    }\n",
       "\n",
       "    .dataframe thead th {\n",
       "        text-align: right;\n",
       "    }\n",
       "</style>\n",
       "<table border=\"1\" class=\"dataframe\">\n",
       "  <thead>\n",
       "    <tr style=\"text-align: right;\">\n",
       "      <th></th>\n",
       "      <th>Marital status</th>\n",
       "      <th>Application mode</th>\n",
       "      <th>Application order</th>\n",
       "      <th>Course</th>\n",
       "      <th>Daytime/evening attendance</th>\n",
       "      <th>Previous qualification</th>\n",
       "      <th>Nacionality</th>\n",
       "      <th>Mother's qualification</th>\n",
       "      <th>Father's qualification</th>\n",
       "      <th>Mother's occupation</th>\n",
       "      <th>Father's occupation</th>\n",
       "      <th>Displaced</th>\n",
       "      <th>Educational special needs</th>\n",
       "      <th>Debtor</th>\n",
       "      <th>Tuition fees up to date</th>\n",
       "      <th>Gender</th>\n",
       "      <th>Scholarship holder</th>\n",
       "      <th>Age at enrollment</th>\n",
       "      <th>International</th>\n",
       "      <th>Curricular units 1st sem (credited)</th>\n",
       "      <th>Curricular units 1st sem (enrolled)</th>\n",
       "      <th>Curricular units 1st sem (evaluations)</th>\n",
       "      <th>Curricular units 1st sem (approved)</th>\n",
       "      <th>Curricular units 1st sem (grade)</th>\n",
       "      <th>Curricular units 1st sem (without evaluations)</th>\n",
       "      <th>Curricular units 2nd sem (credited)</th>\n",
       "      <th>Curricular units 2nd sem (enrolled)</th>\n",
       "      <th>Curricular units 2nd sem (evaluations)</th>\n",
       "      <th>Curricular units 2nd sem (approved)</th>\n",
       "      <th>Curricular units 2nd sem (grade)</th>\n",
       "      <th>Curricular units 2nd sem (without evaluations)</th>\n",
       "      <th>Unemployment rate</th>\n",
       "      <th>Inflation rate</th>\n",
       "      <th>GDP</th>\n",
       "      <th>Target</th>\n",
       "    </tr>\n",
       "  </thead>\n",
       "  <tbody>\n",
       "    <tr>\n",
       "      <th>0</th>\n",
       "      <td>1</td>\n",
       "      <td>8</td>\n",
       "      <td>5</td>\n",
       "      <td>2</td>\n",
       "      <td>1</td>\n",
       "      <td>1</td>\n",
       "      <td>1</td>\n",
       "      <td>13</td>\n",
       "      <td>10</td>\n",
       "      <td>6</td>\n",
       "      <td>10</td>\n",
       "      <td>1</td>\n",
       "      <td>0</td>\n",
       "      <td>0</td>\n",
       "      <td>1</td>\n",
       "      <td>1</td>\n",
       "      <td>0</td>\n",
       "      <td>20</td>\n",
       "      <td>0</td>\n",
       "      <td>0</td>\n",
       "      <td>0</td>\n",
       "      <td>0</td>\n",
       "      <td>0</td>\n",
       "      <td>0.000000</td>\n",
       "      <td>0</td>\n",
       "      <td>0</td>\n",
       "      <td>0</td>\n",
       "      <td>0</td>\n",
       "      <td>0</td>\n",
       "      <td>0.000000</td>\n",
       "      <td>0</td>\n",
       "      <td>10.8</td>\n",
       "      <td>1.4</td>\n",
       "      <td>1.74</td>\n",
       "      <td>Dropout</td>\n",
       "    </tr>\n",
       "    <tr>\n",
       "      <th>1</th>\n",
       "      <td>1</td>\n",
       "      <td>6</td>\n",
       "      <td>1</td>\n",
       "      <td>11</td>\n",
       "      <td>1</td>\n",
       "      <td>1</td>\n",
       "      <td>1</td>\n",
       "      <td>1</td>\n",
       "      <td>3</td>\n",
       "      <td>4</td>\n",
       "      <td>4</td>\n",
       "      <td>1</td>\n",
       "      <td>0</td>\n",
       "      <td>0</td>\n",
       "      <td>0</td>\n",
       "      <td>1</td>\n",
       "      <td>0</td>\n",
       "      <td>19</td>\n",
       "      <td>0</td>\n",
       "      <td>0</td>\n",
       "      <td>6</td>\n",
       "      <td>6</td>\n",
       "      <td>6</td>\n",
       "      <td>14.000000</td>\n",
       "      <td>0</td>\n",
       "      <td>0</td>\n",
       "      <td>6</td>\n",
       "      <td>6</td>\n",
       "      <td>6</td>\n",
       "      <td>13.666667</td>\n",
       "      <td>0</td>\n",
       "      <td>13.9</td>\n",
       "      <td>-0.3</td>\n",
       "      <td>0.79</td>\n",
       "      <td>Graduate</td>\n",
       "    </tr>\n",
       "    <tr>\n",
       "      <th>2</th>\n",
       "      <td>1</td>\n",
       "      <td>1</td>\n",
       "      <td>5</td>\n",
       "      <td>5</td>\n",
       "      <td>1</td>\n",
       "      <td>1</td>\n",
       "      <td>1</td>\n",
       "      <td>22</td>\n",
       "      <td>27</td>\n",
       "      <td>10</td>\n",
       "      <td>10</td>\n",
       "      <td>1</td>\n",
       "      <td>0</td>\n",
       "      <td>0</td>\n",
       "      <td>0</td>\n",
       "      <td>1</td>\n",
       "      <td>0</td>\n",
       "      <td>19</td>\n",
       "      <td>0</td>\n",
       "      <td>0</td>\n",
       "      <td>6</td>\n",
       "      <td>0</td>\n",
       "      <td>0</td>\n",
       "      <td>0.000000</td>\n",
       "      <td>0</td>\n",
       "      <td>0</td>\n",
       "      <td>6</td>\n",
       "      <td>0</td>\n",
       "      <td>0</td>\n",
       "      <td>0.000000</td>\n",
       "      <td>0</td>\n",
       "      <td>10.8</td>\n",
       "      <td>1.4</td>\n",
       "      <td>1.74</td>\n",
       "      <td>Dropout</td>\n",
       "    </tr>\n",
       "    <tr>\n",
       "      <th>3</th>\n",
       "      <td>1</td>\n",
       "      <td>8</td>\n",
       "      <td>2</td>\n",
       "      <td>15</td>\n",
       "      <td>1</td>\n",
       "      <td>1</td>\n",
       "      <td>1</td>\n",
       "      <td>23</td>\n",
       "      <td>27</td>\n",
       "      <td>6</td>\n",
       "      <td>4</td>\n",
       "      <td>1</td>\n",
       "      <td>0</td>\n",
       "      <td>0</td>\n",
       "      <td>1</td>\n",
       "      <td>0</td>\n",
       "      <td>0</td>\n",
       "      <td>20</td>\n",
       "      <td>0</td>\n",
       "      <td>0</td>\n",
       "      <td>6</td>\n",
       "      <td>8</td>\n",
       "      <td>6</td>\n",
       "      <td>13.428571</td>\n",
       "      <td>0</td>\n",
       "      <td>0</td>\n",
       "      <td>6</td>\n",
       "      <td>10</td>\n",
       "      <td>5</td>\n",
       "      <td>12.400000</td>\n",
       "      <td>0</td>\n",
       "      <td>9.4</td>\n",
       "      <td>-0.8</td>\n",
       "      <td>-3.12</td>\n",
       "      <td>Graduate</td>\n",
       "    </tr>\n",
       "    <tr>\n",
       "      <th>4</th>\n",
       "      <td>2</td>\n",
       "      <td>12</td>\n",
       "      <td>1</td>\n",
       "      <td>3</td>\n",
       "      <td>0</td>\n",
       "      <td>1</td>\n",
       "      <td>1</td>\n",
       "      <td>22</td>\n",
       "      <td>28</td>\n",
       "      <td>10</td>\n",
       "      <td>10</td>\n",
       "      <td>0</td>\n",
       "      <td>0</td>\n",
       "      <td>0</td>\n",
       "      <td>1</td>\n",
       "      <td>0</td>\n",
       "      <td>0</td>\n",
       "      <td>45</td>\n",
       "      <td>0</td>\n",
       "      <td>0</td>\n",
       "      <td>6</td>\n",
       "      <td>9</td>\n",
       "      <td>5</td>\n",
       "      <td>12.333333</td>\n",
       "      <td>0</td>\n",
       "      <td>0</td>\n",
       "      <td>6</td>\n",
       "      <td>6</td>\n",
       "      <td>6</td>\n",
       "      <td>13.000000</td>\n",
       "      <td>0</td>\n",
       "      <td>13.9</td>\n",
       "      <td>-0.3</td>\n",
       "      <td>0.79</td>\n",
       "      <td>Graduate</td>\n",
       "    </tr>\n",
       "  </tbody>\n",
       "</table>\n",
       "</div>"
      ],
      "text/plain": [
       "   Marital status  Application mode  Application order  Course  \\\n",
       "0               1                 8                  5       2   \n",
       "1               1                 6                  1      11   \n",
       "2               1                 1                  5       5   \n",
       "3               1                 8                  2      15   \n",
       "4               2                12                  1       3   \n",
       "\n",
       "   Daytime/evening attendance  Previous qualification  Nacionality  \\\n",
       "0                           1                       1            1   \n",
       "1                           1                       1            1   \n",
       "2                           1                       1            1   \n",
       "3                           1                       1            1   \n",
       "4                           0                       1            1   \n",
       "\n",
       "   Mother's qualification  Father's qualification  Mother's occupation  \\\n",
       "0                      13                      10                    6   \n",
       "1                       1                       3                    4   \n",
       "2                      22                      27                   10   \n",
       "3                      23                      27                    6   \n",
       "4                      22                      28                   10   \n",
       "\n",
       "   Father's occupation  Displaced  Educational special needs  Debtor  \\\n",
       "0                   10          1                          0       0   \n",
       "1                    4          1                          0       0   \n",
       "2                   10          1                          0       0   \n",
       "3                    4          1                          0       0   \n",
       "4                   10          0                          0       0   \n",
       "\n",
       "   Tuition fees up to date  Gender  Scholarship holder  Age at enrollment  \\\n",
       "0                        1       1                   0                 20   \n",
       "1                        0       1                   0                 19   \n",
       "2                        0       1                   0                 19   \n",
       "3                        1       0                   0                 20   \n",
       "4                        1       0                   0                 45   \n",
       "\n",
       "   International  Curricular units 1st sem (credited)  \\\n",
       "0              0                                    0   \n",
       "1              0                                    0   \n",
       "2              0                                    0   \n",
       "3              0                                    0   \n",
       "4              0                                    0   \n",
       "\n",
       "   Curricular units 1st sem (enrolled)  \\\n",
       "0                                    0   \n",
       "1                                    6   \n",
       "2                                    6   \n",
       "3                                    6   \n",
       "4                                    6   \n",
       "\n",
       "   Curricular units 1st sem (evaluations)  \\\n",
       "0                                       0   \n",
       "1                                       6   \n",
       "2                                       0   \n",
       "3                                       8   \n",
       "4                                       9   \n",
       "\n",
       "   Curricular units 1st sem (approved)  Curricular units 1st sem (grade)  \\\n",
       "0                                    0                          0.000000   \n",
       "1                                    6                         14.000000   \n",
       "2                                    0                          0.000000   \n",
       "3                                    6                         13.428571   \n",
       "4                                    5                         12.333333   \n",
       "\n",
       "   Curricular units 1st sem (without evaluations)  \\\n",
       "0                                               0   \n",
       "1                                               0   \n",
       "2                                               0   \n",
       "3                                               0   \n",
       "4                                               0   \n",
       "\n",
       "   Curricular units 2nd sem (credited)  Curricular units 2nd sem (enrolled)  \\\n",
       "0                                    0                                    0   \n",
       "1                                    0                                    6   \n",
       "2                                    0                                    6   \n",
       "3                                    0                                    6   \n",
       "4                                    0                                    6   \n",
       "\n",
       "   Curricular units 2nd sem (evaluations)  \\\n",
       "0                                       0   \n",
       "1                                       6   \n",
       "2                                       0   \n",
       "3                                      10   \n",
       "4                                       6   \n",
       "\n",
       "   Curricular units 2nd sem (approved)  Curricular units 2nd sem (grade)  \\\n",
       "0                                    0                          0.000000   \n",
       "1                                    6                         13.666667   \n",
       "2                                    0                          0.000000   \n",
       "3                                    5                         12.400000   \n",
       "4                                    6                         13.000000   \n",
       "\n",
       "   Curricular units 2nd sem (without evaluations)  Unemployment rate  \\\n",
       "0                                               0               10.8   \n",
       "1                                               0               13.9   \n",
       "2                                               0               10.8   \n",
       "3                                               0                9.4   \n",
       "4                                               0               13.9   \n",
       "\n",
       "   Inflation rate   GDP    Target  \n",
       "0             1.4  1.74   Dropout  \n",
       "1            -0.3  0.79  Graduate  \n",
       "2             1.4  1.74   Dropout  \n",
       "3            -0.8 -3.12  Graduate  \n",
       "4            -0.3  0.79  Graduate  "
      ]
     },
     "execution_count": 3,
     "metadata": {},
     "output_type": "execute_result"
    }
   ],
   "source": [
    "#Trying to see what the columns are\n",
    "df.head()"
   ]
  },
  {
   "cell_type": "code",
   "execution_count": 5,
   "metadata": {},
   "outputs": [
    {
     "data": {
      "text/plain": [
       "Index(['Marital status', 'Application mode', 'Application order', 'Course',\n",
       "       'Daytime/evening attendance', 'Previous qualification', 'Nacionality',\n",
       "       'Mother's qualification', 'Father's qualification',\n",
       "       'Mother's occupation', 'Father's occupation', 'Displaced',\n",
       "       'Educational special needs', 'Debtor', 'Tuition fees up to date',\n",
       "       'Gender', 'Scholarship holder', 'Age at enrollment', 'International',\n",
       "       'Curricular units 1st sem (credited)',\n",
       "       'Curricular units 1st sem (enrolled)',\n",
       "       'Curricular units 1st sem (evaluations)',\n",
       "       'Curricular units 1st sem (approved)',\n",
       "       'Curricular units 1st sem (grade)',\n",
       "       'Curricular units 1st sem (without evaluations)',\n",
       "       'Curricular units 2nd sem (credited)',\n",
       "       'Curricular units 2nd sem (enrolled)',\n",
       "       'Curricular units 2nd sem (evaluations)',\n",
       "       'Curricular units 2nd sem (approved)',\n",
       "       'Curricular units 2nd sem (grade)',\n",
       "       'Curricular units 2nd sem (without evaluations)', 'Unemployment rate',\n",
       "       'Inflation rate', 'GDP', 'Target'],\n",
       "      dtype='object')"
      ]
     },
     "execution_count": 5,
     "metadata": {},
     "output_type": "execute_result"
    }
   ],
   "source": [
    "#Viewing column headings\n",
    "df.columns"
   ]
  },
  {
   "cell_type": "code",
   "execution_count": 4,
   "metadata": {},
   "outputs": [
    {
     "data": {
      "text/html": [
       "<div>\n",
       "<style scoped>\n",
       "    .dataframe tbody tr th:only-of-type {\n",
       "        vertical-align: middle;\n",
       "    }\n",
       "\n",
       "    .dataframe tbody tr th {\n",
       "        vertical-align: top;\n",
       "    }\n",
       "\n",
       "    .dataframe thead th {\n",
       "        text-align: right;\n",
       "    }\n",
       "</style>\n",
       "<table border=\"1\" class=\"dataframe\">\n",
       "  <thead>\n",
       "    <tr style=\"text-align: right;\">\n",
       "      <th></th>\n",
       "      <th>Marital status</th>\n",
       "      <th>Application mode</th>\n",
       "      <th>Application order</th>\n",
       "      <th>Course</th>\n",
       "      <th>Daytime/evening attendance</th>\n",
       "      <th>Previous qualification</th>\n",
       "      <th>Nacionality</th>\n",
       "      <th>Mother's qualification</th>\n",
       "      <th>Father's qualification</th>\n",
       "      <th>Mother's occupation</th>\n",
       "      <th>Father's occupation</th>\n",
       "      <th>Displaced</th>\n",
       "      <th>Educational special needs</th>\n",
       "      <th>Debtor</th>\n",
       "      <th>Tuition fees up to date</th>\n",
       "      <th>Gender</th>\n",
       "      <th>Scholarship holder</th>\n",
       "      <th>Age at enrollment</th>\n",
       "      <th>International</th>\n",
       "      <th>Curricular units 1st sem (credited)</th>\n",
       "      <th>Curricular units 1st sem (enrolled)</th>\n",
       "      <th>Curricular units 1st sem (evaluations)</th>\n",
       "      <th>Curricular units 1st sem (approved)</th>\n",
       "      <th>Curricular units 1st sem (grade)</th>\n",
       "      <th>Curricular units 1st sem (without evaluations)</th>\n",
       "      <th>Curricular units 2nd sem (credited)</th>\n",
       "      <th>Curricular units 2nd sem (enrolled)</th>\n",
       "      <th>Curricular units 2nd sem (evaluations)</th>\n",
       "      <th>Curricular units 2nd sem (approved)</th>\n",
       "      <th>Curricular units 2nd sem (grade)</th>\n",
       "      <th>Curricular units 2nd sem (without evaluations)</th>\n",
       "      <th>Unemployment rate</th>\n",
       "      <th>Inflation rate</th>\n",
       "      <th>GDP</th>\n",
       "    </tr>\n",
       "  </thead>\n",
       "  <tbody>\n",
       "    <tr>\n",
       "      <th>count</th>\n",
       "      <td>4424.000000</td>\n",
       "      <td>4424.000000</td>\n",
       "      <td>4424.000000</td>\n",
       "      <td>4424.000000</td>\n",
       "      <td>4424.000000</td>\n",
       "      <td>4424.000000</td>\n",
       "      <td>4424.000000</td>\n",
       "      <td>4424.000000</td>\n",
       "      <td>4424.000000</td>\n",
       "      <td>4424.000000</td>\n",
       "      <td>4424.000000</td>\n",
       "      <td>4424.000000</td>\n",
       "      <td>4424.000000</td>\n",
       "      <td>4424.000000</td>\n",
       "      <td>4424.000000</td>\n",
       "      <td>4424.000000</td>\n",
       "      <td>4424.000000</td>\n",
       "      <td>4424.000000</td>\n",
       "      <td>4424.000000</td>\n",
       "      <td>4424.000000</td>\n",
       "      <td>4424.000000</td>\n",
       "      <td>4424.000000</td>\n",
       "      <td>4424.000000</td>\n",
       "      <td>4424.000000</td>\n",
       "      <td>4424.000000</td>\n",
       "      <td>4424.000000</td>\n",
       "      <td>4424.000000</td>\n",
       "      <td>4424.000000</td>\n",
       "      <td>4424.000000</td>\n",
       "      <td>4424.000000</td>\n",
       "      <td>4424.000000</td>\n",
       "      <td>4424.000000</td>\n",
       "      <td>4424.000000</td>\n",
       "      <td>4424.000000</td>\n",
       "    </tr>\n",
       "    <tr>\n",
       "      <th>mean</th>\n",
       "      <td>1.178571</td>\n",
       "      <td>6.886980</td>\n",
       "      <td>1.727848</td>\n",
       "      <td>9.899186</td>\n",
       "      <td>0.890823</td>\n",
       "      <td>2.531420</td>\n",
       "      <td>1.254521</td>\n",
       "      <td>12.322107</td>\n",
       "      <td>16.455244</td>\n",
       "      <td>7.317812</td>\n",
       "      <td>7.819168</td>\n",
       "      <td>0.548373</td>\n",
       "      <td>0.011528</td>\n",
       "      <td>0.113698</td>\n",
       "      <td>0.880651</td>\n",
       "      <td>0.351718</td>\n",
       "      <td>0.248418</td>\n",
       "      <td>23.265145</td>\n",
       "      <td>0.024864</td>\n",
       "      <td>0.709991</td>\n",
       "      <td>6.270570</td>\n",
       "      <td>8.299051</td>\n",
       "      <td>4.706600</td>\n",
       "      <td>10.640822</td>\n",
       "      <td>0.137658</td>\n",
       "      <td>0.541817</td>\n",
       "      <td>6.232143</td>\n",
       "      <td>8.063291</td>\n",
       "      <td>4.435805</td>\n",
       "      <td>10.230206</td>\n",
       "      <td>0.150316</td>\n",
       "      <td>11.566139</td>\n",
       "      <td>1.228029</td>\n",
       "      <td>0.001969</td>\n",
       "    </tr>\n",
       "    <tr>\n",
       "      <th>std</th>\n",
       "      <td>0.605747</td>\n",
       "      <td>5.298964</td>\n",
       "      <td>1.313793</td>\n",
       "      <td>4.331792</td>\n",
       "      <td>0.311897</td>\n",
       "      <td>3.963707</td>\n",
       "      <td>1.748447</td>\n",
       "      <td>9.026251</td>\n",
       "      <td>11.044800</td>\n",
       "      <td>3.997828</td>\n",
       "      <td>4.856692</td>\n",
       "      <td>0.497711</td>\n",
       "      <td>0.106760</td>\n",
       "      <td>0.317480</td>\n",
       "      <td>0.324235</td>\n",
       "      <td>0.477560</td>\n",
       "      <td>0.432144</td>\n",
       "      <td>7.587816</td>\n",
       "      <td>0.155729</td>\n",
       "      <td>2.360507</td>\n",
       "      <td>2.480178</td>\n",
       "      <td>4.179106</td>\n",
       "      <td>3.094238</td>\n",
       "      <td>4.843663</td>\n",
       "      <td>0.690880</td>\n",
       "      <td>1.918546</td>\n",
       "      <td>2.195951</td>\n",
       "      <td>3.947951</td>\n",
       "      <td>3.014764</td>\n",
       "      <td>5.210808</td>\n",
       "      <td>0.753774</td>\n",
       "      <td>2.663850</td>\n",
       "      <td>1.382711</td>\n",
       "      <td>2.269935</td>\n",
       "    </tr>\n",
       "    <tr>\n",
       "      <th>min</th>\n",
       "      <td>1.000000</td>\n",
       "      <td>1.000000</td>\n",
       "      <td>0.000000</td>\n",
       "      <td>1.000000</td>\n",
       "      <td>0.000000</td>\n",
       "      <td>1.000000</td>\n",
       "      <td>1.000000</td>\n",
       "      <td>1.000000</td>\n",
       "      <td>1.000000</td>\n",
       "      <td>1.000000</td>\n",
       "      <td>1.000000</td>\n",
       "      <td>0.000000</td>\n",
       "      <td>0.000000</td>\n",
       "      <td>0.000000</td>\n",
       "      <td>0.000000</td>\n",
       "      <td>0.000000</td>\n",
       "      <td>0.000000</td>\n",
       "      <td>17.000000</td>\n",
       "      <td>0.000000</td>\n",
       "      <td>0.000000</td>\n",
       "      <td>0.000000</td>\n",
       "      <td>0.000000</td>\n",
       "      <td>0.000000</td>\n",
       "      <td>0.000000</td>\n",
       "      <td>0.000000</td>\n",
       "      <td>0.000000</td>\n",
       "      <td>0.000000</td>\n",
       "      <td>0.000000</td>\n",
       "      <td>0.000000</td>\n",
       "      <td>0.000000</td>\n",
       "      <td>0.000000</td>\n",
       "      <td>7.600000</td>\n",
       "      <td>-0.800000</td>\n",
       "      <td>-4.060000</td>\n",
       "    </tr>\n",
       "    <tr>\n",
       "      <th>25%</th>\n",
       "      <td>1.000000</td>\n",
       "      <td>1.000000</td>\n",
       "      <td>1.000000</td>\n",
       "      <td>6.000000</td>\n",
       "      <td>1.000000</td>\n",
       "      <td>1.000000</td>\n",
       "      <td>1.000000</td>\n",
       "      <td>2.000000</td>\n",
       "      <td>3.000000</td>\n",
       "      <td>5.000000</td>\n",
       "      <td>5.000000</td>\n",
       "      <td>0.000000</td>\n",
       "      <td>0.000000</td>\n",
       "      <td>0.000000</td>\n",
       "      <td>1.000000</td>\n",
       "      <td>0.000000</td>\n",
       "      <td>0.000000</td>\n",
       "      <td>19.000000</td>\n",
       "      <td>0.000000</td>\n",
       "      <td>0.000000</td>\n",
       "      <td>5.000000</td>\n",
       "      <td>6.000000</td>\n",
       "      <td>3.000000</td>\n",
       "      <td>11.000000</td>\n",
       "      <td>0.000000</td>\n",
       "      <td>0.000000</td>\n",
       "      <td>5.000000</td>\n",
       "      <td>6.000000</td>\n",
       "      <td>2.000000</td>\n",
       "      <td>10.750000</td>\n",
       "      <td>0.000000</td>\n",
       "      <td>9.400000</td>\n",
       "      <td>0.300000</td>\n",
       "      <td>-1.700000</td>\n",
       "    </tr>\n",
       "    <tr>\n",
       "      <th>50%</th>\n",
       "      <td>1.000000</td>\n",
       "      <td>8.000000</td>\n",
       "      <td>1.000000</td>\n",
       "      <td>10.000000</td>\n",
       "      <td>1.000000</td>\n",
       "      <td>1.000000</td>\n",
       "      <td>1.000000</td>\n",
       "      <td>13.000000</td>\n",
       "      <td>14.000000</td>\n",
       "      <td>6.000000</td>\n",
       "      <td>8.000000</td>\n",
       "      <td>1.000000</td>\n",
       "      <td>0.000000</td>\n",
       "      <td>0.000000</td>\n",
       "      <td>1.000000</td>\n",
       "      <td>0.000000</td>\n",
       "      <td>0.000000</td>\n",
       "      <td>20.000000</td>\n",
       "      <td>0.000000</td>\n",
       "      <td>0.000000</td>\n",
       "      <td>6.000000</td>\n",
       "      <td>8.000000</td>\n",
       "      <td>5.000000</td>\n",
       "      <td>12.285714</td>\n",
       "      <td>0.000000</td>\n",
       "      <td>0.000000</td>\n",
       "      <td>6.000000</td>\n",
       "      <td>8.000000</td>\n",
       "      <td>5.000000</td>\n",
       "      <td>12.200000</td>\n",
       "      <td>0.000000</td>\n",
       "      <td>11.100000</td>\n",
       "      <td>1.400000</td>\n",
       "      <td>0.320000</td>\n",
       "    </tr>\n",
       "    <tr>\n",
       "      <th>75%</th>\n",
       "      <td>1.000000</td>\n",
       "      <td>12.000000</td>\n",
       "      <td>2.000000</td>\n",
       "      <td>13.000000</td>\n",
       "      <td>1.000000</td>\n",
       "      <td>1.000000</td>\n",
       "      <td>1.000000</td>\n",
       "      <td>22.000000</td>\n",
       "      <td>27.000000</td>\n",
       "      <td>10.000000</td>\n",
       "      <td>10.000000</td>\n",
       "      <td>1.000000</td>\n",
       "      <td>0.000000</td>\n",
       "      <td>0.000000</td>\n",
       "      <td>1.000000</td>\n",
       "      <td>1.000000</td>\n",
       "      <td>0.000000</td>\n",
       "      <td>25.000000</td>\n",
       "      <td>0.000000</td>\n",
       "      <td>0.000000</td>\n",
       "      <td>7.000000</td>\n",
       "      <td>10.000000</td>\n",
       "      <td>6.000000</td>\n",
       "      <td>13.400000</td>\n",
       "      <td>0.000000</td>\n",
       "      <td>0.000000</td>\n",
       "      <td>7.000000</td>\n",
       "      <td>10.000000</td>\n",
       "      <td>6.000000</td>\n",
       "      <td>13.333333</td>\n",
       "      <td>0.000000</td>\n",
       "      <td>13.900000</td>\n",
       "      <td>2.600000</td>\n",
       "      <td>1.790000</td>\n",
       "    </tr>\n",
       "    <tr>\n",
       "      <th>max</th>\n",
       "      <td>6.000000</td>\n",
       "      <td>18.000000</td>\n",
       "      <td>9.000000</td>\n",
       "      <td>17.000000</td>\n",
       "      <td>1.000000</td>\n",
       "      <td>17.000000</td>\n",
       "      <td>21.000000</td>\n",
       "      <td>29.000000</td>\n",
       "      <td>34.000000</td>\n",
       "      <td>32.000000</td>\n",
       "      <td>46.000000</td>\n",
       "      <td>1.000000</td>\n",
       "      <td>1.000000</td>\n",
       "      <td>1.000000</td>\n",
       "      <td>1.000000</td>\n",
       "      <td>1.000000</td>\n",
       "      <td>1.000000</td>\n",
       "      <td>70.000000</td>\n",
       "      <td>1.000000</td>\n",
       "      <td>20.000000</td>\n",
       "      <td>26.000000</td>\n",
       "      <td>45.000000</td>\n",
       "      <td>26.000000</td>\n",
       "      <td>18.875000</td>\n",
       "      <td>12.000000</td>\n",
       "      <td>19.000000</td>\n",
       "      <td>23.000000</td>\n",
       "      <td>33.000000</td>\n",
       "      <td>20.000000</td>\n",
       "      <td>18.571429</td>\n",
       "      <td>12.000000</td>\n",
       "      <td>16.200000</td>\n",
       "      <td>3.700000</td>\n",
       "      <td>3.510000</td>\n",
       "    </tr>\n",
       "  </tbody>\n",
       "</table>\n",
       "</div>"
      ],
      "text/plain": [
       "       Marital status  Application mode  Application order       Course  \\\n",
       "count     4424.000000       4424.000000        4424.000000  4424.000000   \n",
       "mean         1.178571          6.886980           1.727848     9.899186   \n",
       "std          0.605747          5.298964           1.313793     4.331792   \n",
       "min          1.000000          1.000000           0.000000     1.000000   \n",
       "25%          1.000000          1.000000           1.000000     6.000000   \n",
       "50%          1.000000          8.000000           1.000000    10.000000   \n",
       "75%          1.000000         12.000000           2.000000    13.000000   \n",
       "max          6.000000         18.000000           9.000000    17.000000   \n",
       "\n",
       "       Daytime/evening attendance  Previous qualification  Nacionality  \\\n",
       "count                 4424.000000             4424.000000  4424.000000   \n",
       "mean                     0.890823                2.531420     1.254521   \n",
       "std                      0.311897                3.963707     1.748447   \n",
       "min                      0.000000                1.000000     1.000000   \n",
       "25%                      1.000000                1.000000     1.000000   \n",
       "50%                      1.000000                1.000000     1.000000   \n",
       "75%                      1.000000                1.000000     1.000000   \n",
       "max                      1.000000               17.000000    21.000000   \n",
       "\n",
       "       Mother's qualification  Father's qualification  Mother's occupation  \\\n",
       "count             4424.000000             4424.000000          4424.000000   \n",
       "mean                12.322107               16.455244             7.317812   \n",
       "std                  9.026251               11.044800             3.997828   \n",
       "min                  1.000000                1.000000             1.000000   \n",
       "25%                  2.000000                3.000000             5.000000   \n",
       "50%                 13.000000               14.000000             6.000000   \n",
       "75%                 22.000000               27.000000            10.000000   \n",
       "max                 29.000000               34.000000            32.000000   \n",
       "\n",
       "       Father's occupation    Displaced  Educational special needs  \\\n",
       "count          4424.000000  4424.000000                4424.000000   \n",
       "mean              7.819168     0.548373                   0.011528   \n",
       "std               4.856692     0.497711                   0.106760   \n",
       "min               1.000000     0.000000                   0.000000   \n",
       "25%               5.000000     0.000000                   0.000000   \n",
       "50%               8.000000     1.000000                   0.000000   \n",
       "75%              10.000000     1.000000                   0.000000   \n",
       "max              46.000000     1.000000                   1.000000   \n",
       "\n",
       "            Debtor  Tuition fees up to date       Gender  Scholarship holder  \\\n",
       "count  4424.000000              4424.000000  4424.000000         4424.000000   \n",
       "mean      0.113698                 0.880651     0.351718            0.248418   \n",
       "std       0.317480                 0.324235     0.477560            0.432144   \n",
       "min       0.000000                 0.000000     0.000000            0.000000   \n",
       "25%       0.000000                 1.000000     0.000000            0.000000   \n",
       "50%       0.000000                 1.000000     0.000000            0.000000   \n",
       "75%       0.000000                 1.000000     1.000000            0.000000   \n",
       "max       1.000000                 1.000000     1.000000            1.000000   \n",
       "\n",
       "       Age at enrollment  International  Curricular units 1st sem (credited)  \\\n",
       "count        4424.000000    4424.000000                          4424.000000   \n",
       "mean           23.265145       0.024864                             0.709991   \n",
       "std             7.587816       0.155729                             2.360507   \n",
       "min            17.000000       0.000000                             0.000000   \n",
       "25%            19.000000       0.000000                             0.000000   \n",
       "50%            20.000000       0.000000                             0.000000   \n",
       "75%            25.000000       0.000000                             0.000000   \n",
       "max            70.000000       1.000000                            20.000000   \n",
       "\n",
       "       Curricular units 1st sem (enrolled)  \\\n",
       "count                          4424.000000   \n",
       "mean                              6.270570   \n",
       "std                               2.480178   \n",
       "min                               0.000000   \n",
       "25%                               5.000000   \n",
       "50%                               6.000000   \n",
       "75%                               7.000000   \n",
       "max                              26.000000   \n",
       "\n",
       "       Curricular units 1st sem (evaluations)  \\\n",
       "count                             4424.000000   \n",
       "mean                                 8.299051   \n",
       "std                                  4.179106   \n",
       "min                                  0.000000   \n",
       "25%                                  6.000000   \n",
       "50%                                  8.000000   \n",
       "75%                                 10.000000   \n",
       "max                                 45.000000   \n",
       "\n",
       "       Curricular units 1st sem (approved)  Curricular units 1st sem (grade)  \\\n",
       "count                          4424.000000                       4424.000000   \n",
       "mean                              4.706600                         10.640822   \n",
       "std                               3.094238                          4.843663   \n",
       "min                               0.000000                          0.000000   \n",
       "25%                               3.000000                         11.000000   \n",
       "50%                               5.000000                         12.285714   \n",
       "75%                               6.000000                         13.400000   \n",
       "max                              26.000000                         18.875000   \n",
       "\n",
       "       Curricular units 1st sem (without evaluations)  \\\n",
       "count                                     4424.000000   \n",
       "mean                                         0.137658   \n",
       "std                                          0.690880   \n",
       "min                                          0.000000   \n",
       "25%                                          0.000000   \n",
       "50%                                          0.000000   \n",
       "75%                                          0.000000   \n",
       "max                                         12.000000   \n",
       "\n",
       "       Curricular units 2nd sem (credited)  \\\n",
       "count                          4424.000000   \n",
       "mean                              0.541817   \n",
       "std                               1.918546   \n",
       "min                               0.000000   \n",
       "25%                               0.000000   \n",
       "50%                               0.000000   \n",
       "75%                               0.000000   \n",
       "max                              19.000000   \n",
       "\n",
       "       Curricular units 2nd sem (enrolled)  \\\n",
       "count                          4424.000000   \n",
       "mean                              6.232143   \n",
       "std                               2.195951   \n",
       "min                               0.000000   \n",
       "25%                               5.000000   \n",
       "50%                               6.000000   \n",
       "75%                               7.000000   \n",
       "max                              23.000000   \n",
       "\n",
       "       Curricular units 2nd sem (evaluations)  \\\n",
       "count                             4424.000000   \n",
       "mean                                 8.063291   \n",
       "std                                  3.947951   \n",
       "min                                  0.000000   \n",
       "25%                                  6.000000   \n",
       "50%                                  8.000000   \n",
       "75%                                 10.000000   \n",
       "max                                 33.000000   \n",
       "\n",
       "       Curricular units 2nd sem (approved)  Curricular units 2nd sem (grade)  \\\n",
       "count                          4424.000000                       4424.000000   \n",
       "mean                              4.435805                         10.230206   \n",
       "std                               3.014764                          5.210808   \n",
       "min                               0.000000                          0.000000   \n",
       "25%                               2.000000                         10.750000   \n",
       "50%                               5.000000                         12.200000   \n",
       "75%                               6.000000                         13.333333   \n",
       "max                              20.000000                         18.571429   \n",
       "\n",
       "       Curricular units 2nd sem (without evaluations)  Unemployment rate  \\\n",
       "count                                     4424.000000        4424.000000   \n",
       "mean                                         0.150316          11.566139   \n",
       "std                                          0.753774           2.663850   \n",
       "min                                          0.000000           7.600000   \n",
       "25%                                          0.000000           9.400000   \n",
       "50%                                          0.000000          11.100000   \n",
       "75%                                          0.000000          13.900000   \n",
       "max                                         12.000000          16.200000   \n",
       "\n",
       "       Inflation rate          GDP  \n",
       "count     4424.000000  4424.000000  \n",
       "mean         1.228029     0.001969  \n",
       "std          1.382711     2.269935  \n",
       "min         -0.800000    -4.060000  \n",
       "25%          0.300000    -1.700000  \n",
       "50%          1.400000     0.320000  \n",
       "75%          2.600000     1.790000  \n",
       "max          3.700000     3.510000  "
      ]
     },
     "execution_count": 4,
     "metadata": {},
     "output_type": "execute_result"
    }
   ],
   "source": [
    "#Looking at range of data\n",
    "df.describe()"
   ]
  },
  {
   "cell_type": "code",
   "execution_count": 5,
   "metadata": {},
   "outputs": [
    {
     "name": "stdout",
     "output_type": "stream",
     "text": [
      "<class 'pandas.core.frame.DataFrame'>\n",
      "RangeIndex: 4424 entries, 0 to 4423\n",
      "Data columns (total 35 columns):\n",
      " #   Column                                          Non-Null Count  Dtype  \n",
      "---  ------                                          --------------  -----  \n",
      " 0   Marital status                                  4424 non-null   int64  \n",
      " 1   Application mode                                4424 non-null   int64  \n",
      " 2   Application order                               4424 non-null   int64  \n",
      " 3   Course                                          4424 non-null   int64  \n",
      " 4   Daytime/evening attendance                      4424 non-null   int64  \n",
      " 5   Previous qualification                          4424 non-null   int64  \n",
      " 6   Nacionality                                     4424 non-null   int64  \n",
      " 7   Mother's qualification                          4424 non-null   int64  \n",
      " 8   Father's qualification                          4424 non-null   int64  \n",
      " 9   Mother's occupation                             4424 non-null   int64  \n",
      " 10  Father's occupation                             4424 non-null   int64  \n",
      " 11  Displaced                                       4424 non-null   int64  \n",
      " 12  Educational special needs                       4424 non-null   int64  \n",
      " 13  Debtor                                          4424 non-null   int64  \n",
      " 14  Tuition fees up to date                         4424 non-null   int64  \n",
      " 15  Gender                                          4424 non-null   int64  \n",
      " 16  Scholarship holder                              4424 non-null   int64  \n",
      " 17  Age at enrollment                               4424 non-null   int64  \n",
      " 18  International                                   4424 non-null   int64  \n",
      " 19  Curricular units 1st sem (credited)             4424 non-null   int64  \n",
      " 20  Curricular units 1st sem (enrolled)             4424 non-null   int64  \n",
      " 21  Curricular units 1st sem (evaluations)          4424 non-null   int64  \n",
      " 22  Curricular units 1st sem (approved)             4424 non-null   int64  \n",
      " 23  Curricular units 1st sem (grade)                4424 non-null   float64\n",
      " 24  Curricular units 1st sem (without evaluations)  4424 non-null   int64  \n",
      " 25  Curricular units 2nd sem (credited)             4424 non-null   int64  \n",
      " 26  Curricular units 2nd sem (enrolled)             4424 non-null   int64  \n",
      " 27  Curricular units 2nd sem (evaluations)          4424 non-null   int64  \n",
      " 28  Curricular units 2nd sem (approved)             4424 non-null   int64  \n",
      " 29  Curricular units 2nd sem (grade)                4424 non-null   float64\n",
      " 30  Curricular units 2nd sem (without evaluations)  4424 non-null   int64  \n",
      " 31  Unemployment rate                               4424 non-null   float64\n",
      " 32  Inflation rate                                  4424 non-null   float64\n",
      " 33  GDP                                             4424 non-null   float64\n",
      " 34  Target                                          4424 non-null   object \n",
      "dtypes: float64(5), int64(29), object(1)\n",
      "memory usage: 1.2+ MB\n"
     ]
    }
   ],
   "source": [
    "#Determining data types in each column, and number of rows and total columns\n",
    "df.info()"
   ]
  },
  {
   "cell_type": "code",
   "execution_count": 6,
   "metadata": {},
   "outputs": [
    {
     "data": {
      "text/plain": [
       "Graduate    2209\n",
       "Dropout     1421\n",
       "Enrolled     794\n",
       "Name: Target, dtype: int64"
      ]
     },
     "execution_count": 6,
     "metadata": {},
     "output_type": "execute_result"
    }
   ],
   "source": [
    "#Determining number of drop outs vs graduates\n",
    "df[\"Target\"].value_counts()"
   ]
  },
  {
   "cell_type": "code",
   "execution_count": 43,
   "metadata": {},
   "outputs": [
    {
     "data": {
      "text/plain": [
       "Mother's qualification\n",
       "1                         1069\n",
       "22                        1009\n",
       "13                         953\n",
       "23                         562\n",
       "3                          438\n",
       "19                         130\n",
       "2                           83\n",
       "4                           49\n",
       "10                          42\n",
       "5                           21\n",
       "25                           9\n",
       "24                           8\n",
       "7                            8\n",
       "26                           6\n",
       "28                           4\n",
       "6                            4\n",
       "27                           4\n",
       "9                            3\n",
       "17                           3\n",
       "18                           3\n",
       "8                            3\n",
       "20                           3\n",
       "21                           3\n",
       "11                           2\n",
       "15                           1\n",
       "16                           1\n",
       "14                           1\n",
       "12                           1\n",
       "29                           1\n",
       "dtype: int64"
      ]
     },
     "execution_count": 43,
     "metadata": {},
     "output_type": "execute_result"
    }
   ],
   "source": [
    "#Determining number of qualification types for mother and counts\n",
    "df[[\"Mother's qualification\"]].value_counts()"
   ]
  },
  {
   "cell_type": "code",
   "execution_count": 8,
   "metadata": {},
   "outputs": [
    {
     "data": {
      "text/plain": [
       "Father's qualification\n",
       "27                        1209\n",
       "14                         968\n",
       "1                          904\n",
       "28                         702\n",
       "3                          282\n",
       "24                         112\n",
       "2                           68\n",
       "4                           39\n",
       "10                          38\n",
       "29                          20\n",
       "5                           18\n",
       "9                           10\n",
       "26                           8\n",
       "7                            5\n",
       "30                           5\n",
       "21                           4\n",
       "12                           4\n",
       "16                           4\n",
       "20                           3\n",
       "31                           2\n",
       "33                           2\n",
       "25                           2\n",
       "18                           2\n",
       "8                            2\n",
       "6                            2\n",
       "23                           1\n",
       "22                           1\n",
       "19                           1\n",
       "17                           1\n",
       "15                           1\n",
       "13                           1\n",
       "11                           1\n",
       "32                           1\n",
       "34                           1\n",
       "dtype: int64"
      ]
     },
     "execution_count": 8,
     "metadata": {},
     "output_type": "execute_result"
    }
   ],
   "source": [
    "#Determining number of qualification types for father and counts\n",
    "df[[\"Father's qualification\"]].value_counts()"
   ]
  },
  {
   "cell_type": "code",
   "execution_count": 9,
   "metadata": {},
   "outputs": [
    {
     "data": {
      "text/plain": [
       "1     3717\n",
       "14     219\n",
       "12     162\n",
       "3      126\n",
       "9       45\n",
       "15      40\n",
       "16      36\n",
       "2       23\n",
       "6       16\n",
       "7       11\n",
       "4        8\n",
       "13       7\n",
       "17       6\n",
       "8        4\n",
       "11       2\n",
       "5        1\n",
       "10       1\n",
       "Name: Previous qualification, dtype: int64"
      ]
     },
     "execution_count": 9,
     "metadata": {},
     "output_type": "execute_result"
    }
   ],
   "source": [
    "#Determing different values for Previous Qualification column\n",
    "df[\"Previous qualification\"].value_counts()"
   ]
  },
  {
   "cell_type": "code",
   "execution_count": 141,
   "metadata": {},
   "outputs": [
    {
     "data": {
      "text/html": [
       "<div>\n",
       "<style scoped>\n",
       "    .dataframe tbody tr th:only-of-type {\n",
       "        vertical-align: middle;\n",
       "    }\n",
       "\n",
       "    .dataframe tbody tr th {\n",
       "        vertical-align: top;\n",
       "    }\n",
       "\n",
       "    .dataframe thead th {\n",
       "        text-align: right;\n",
       "    }\n",
       "</style>\n",
       "<table border=\"1\" class=\"dataframe\">\n",
       "  <thead>\n",
       "    <tr style=\"text-align: right;\">\n",
       "      <th>Target</th>\n",
       "      <th>Dropout</th>\n",
       "      <th>Enrolled</th>\n",
       "      <th>Graduate</th>\n",
       "    </tr>\n",
       "    <tr>\n",
       "      <th>Scholarship holder</th>\n",
       "      <th></th>\n",
       "      <th></th>\n",
       "      <th></th>\n",
       "    </tr>\n",
       "  </thead>\n",
       "  <tbody>\n",
       "    <tr>\n",
       "      <th>No Scholarship</th>\n",
       "      <td>1287</td>\n",
       "      <td>664</td>\n",
       "      <td>1374</td>\n",
       "    </tr>\n",
       "    <tr>\n",
       "      <th>Scholarship</th>\n",
       "      <td>134</td>\n",
       "      <td>130</td>\n",
       "      <td>835</td>\n",
       "    </tr>\n",
       "  </tbody>\n",
       "</table>\n",
       "</div>"
      ],
      "text/plain": [
       "Target              Dropout  Enrolled  Graduate\n",
       "Scholarship holder                             \n",
       "No Scholarship         1287       664      1374\n",
       "Scholarship             134       130       835"
      ]
     },
     "execution_count": 141,
     "metadata": {},
     "output_type": "execute_result"
    }
   ],
   "source": [
    "#Creating coding for chart below to show scholarship status for each target\n",
    "#Coding 2\n",
    "scholar30 = pd.crosstab(df[\"Target\"], df[\"Scholarship holder\"])\n",
    "scholar30.rename(columns={0: \"No Scholarship\", 1: \"Scholarship\"}, inplace=True)\n",
    "scholar30.T"
   ]
  },
  {
   "cell_type": "code",
   "execution_count": 50,
   "metadata": {},
   "outputs": [
    {
     "data": {
      "text/html": [
       "<div>\n",
       "<style scoped>\n",
       "    .dataframe tbody tr th:only-of-type {\n",
       "        vertical-align: middle;\n",
       "    }\n",
       "\n",
       "    .dataframe tbody tr th {\n",
       "        vertical-align: top;\n",
       "    }\n",
       "\n",
       "    .dataframe thead tr th {\n",
       "        text-align: left;\n",
       "    }\n",
       "\n",
       "    .dataframe thead tr:last-of-type th {\n",
       "        text-align: right;\n",
       "    }\n",
       "</style>\n",
       "<table border=\"1\" class=\"dataframe\">\n",
       "  <thead>\n",
       "    <tr>\n",
       "      <th>Gender</th>\n",
       "      <th colspan=\"3\" halign=\"left\">Female</th>\n",
       "      <th colspan=\"3\" halign=\"left\">Male</th>\n",
       "    </tr>\n",
       "    <tr>\n",
       "      <th>Target</th>\n",
       "      <th>Dropout</th>\n",
       "      <th>Enrolled</th>\n",
       "      <th>Graduate</th>\n",
       "      <th>Dropout</th>\n",
       "      <th>Enrolled</th>\n",
       "      <th>Graduate</th>\n",
       "    </tr>\n",
       "    <tr>\n",
       "      <th>Scholarship holder</th>\n",
       "      <th></th>\n",
       "      <th></th>\n",
       "      <th></th>\n",
       "      <th></th>\n",
       "      <th></th>\n",
       "      <th></th>\n",
       "    </tr>\n",
       "  </thead>\n",
       "  <tbody>\n",
       "    <tr>\n",
       "      <th>No Scholarship</th>\n",
       "      <td>656</td>\n",
       "      <td>265</td>\n",
       "      <td>403</td>\n",
       "      <td>631</td>\n",
       "      <td>399</td>\n",
       "      <td>971</td>\n",
       "    </tr>\n",
       "    <tr>\n",
       "      <th>Scholarship</th>\n",
       "      <td>45</td>\n",
       "      <td>42</td>\n",
       "      <td>145</td>\n",
       "      <td>89</td>\n",
       "      <td>88</td>\n",
       "      <td>690</td>\n",
       "    </tr>\n",
       "  </tbody>\n",
       "</table>\n",
       "</div>"
      ],
      "text/plain": [
       "Gender              Female                      Male                  \n",
       "Target             Dropout Enrolled Graduate Dropout Enrolled Graduate\n",
       "Scholarship holder                                                    \n",
       "No Scholarship         656      265      403     631      399      971\n",
       "Scholarship             45       42      145      89       88      690"
      ]
     },
     "execution_count": 50,
     "metadata": {},
     "output_type": "execute_result"
    }
   ],
   "source": [
    "#Scholarship status for each gender per target outcome\n",
    "scholar = pd.crosstab(df[\"Scholarship holder\"], [df[\"Gender\"], df[\"Target\"]], colnames=['Gender', 'Target'])\n",
    "scholar.rename(index={0: \"No Scholarship\", 1: \"Scholarship\"}, inplace=True)\n",
    "scholar"
   ]
  },
  {
   "cell_type": "code",
   "execution_count": 130,
   "metadata": {
    "scrolled": true
   },
   "outputs": [
    {
     "data": {
      "text/html": [
       "<div>\n",
       "<style scoped>\n",
       "    .dataframe tbody tr th:only-of-type {\n",
       "        vertical-align: middle;\n",
       "    }\n",
       "\n",
       "    .dataframe tbody tr th {\n",
       "        vertical-align: top;\n",
       "    }\n",
       "\n",
       "    .dataframe thead th {\n",
       "        text-align: right;\n",
       "    }\n",
       "</style>\n",
       "<table border=\"1\" class=\"dataframe\">\n",
       "  <thead>\n",
       "    <tr style=\"text-align: right;\">\n",
       "      <th>Gender</th>\n",
       "      <th>Female</th>\n",
       "      <th>Male</th>\n",
       "    </tr>\n",
       "    <tr>\n",
       "      <th>Target</th>\n",
       "      <th></th>\n",
       "      <th></th>\n",
       "    </tr>\n",
       "  </thead>\n",
       "  <tbody>\n",
       "    <tr>\n",
       "      <th>Dropout</th>\n",
       "      <td>720</td>\n",
       "      <td>701</td>\n",
       "    </tr>\n",
       "    <tr>\n",
       "      <th>Enrolled</th>\n",
       "      <td>487</td>\n",
       "      <td>307</td>\n",
       "    </tr>\n",
       "    <tr>\n",
       "      <th>Graduate</th>\n",
       "      <td>1661</td>\n",
       "      <td>548</td>\n",
       "    </tr>\n",
       "  </tbody>\n",
       "</table>\n",
       "</div>"
      ],
      "text/plain": [
       "Gender    Female  Male\n",
       "Target                \n",
       "Dropout      720   701\n",
       "Enrolled     487   307\n",
       "Graduate    1661   548"
      ]
     },
     "execution_count": 130,
     "metadata": {},
     "output_type": "execute_result"
    }
   ],
   "source": [
    "#Creating code for chart to show male vs female counts for each target\n",
    "#Chart 3\n",
    "gender_target = pd.crosstab(df[\"Gender\"], df[\"Target\"])\n",
    "gender_target.rename(index={0: \"Female\", 1: \"Male\"}, inplace=True)\n",
    "gender_target.T"
   ]
  },
  {
   "cell_type": "code",
   "execution_count": 452,
   "metadata": {},
   "outputs": [
    {
     "data": {
      "text/html": [
       "<div>\n",
       "<style scoped>\n",
       "    .dataframe tbody tr th:only-of-type {\n",
       "        vertical-align: middle;\n",
       "    }\n",
       "\n",
       "    .dataframe tbody tr th {\n",
       "        vertical-align: top;\n",
       "    }\n",
       "\n",
       "    .dataframe thead th {\n",
       "        text-align: right;\n",
       "    }\n",
       "</style>\n",
       "<table border=\"1\" class=\"dataframe\">\n",
       "  <thead>\n",
       "    <tr style=\"text-align: right;\">\n",
       "      <th>Marital status</th>\n",
       "      <th>Single</th>\n",
       "      <th>Married</th>\n",
       "      <th>Widower</th>\n",
       "      <th>Divorced</th>\n",
       "      <th>Facto union</th>\n",
       "      <th>Legally separated</th>\n",
       "    </tr>\n",
       "    <tr>\n",
       "      <th>Target</th>\n",
       "      <th></th>\n",
       "      <th></th>\n",
       "      <th></th>\n",
       "      <th></th>\n",
       "      <th></th>\n",
       "      <th></th>\n",
       "    </tr>\n",
       "  </thead>\n",
       "  <tbody>\n",
       "    <tr>\n",
       "      <th>Dropout</th>\n",
       "      <td>1184</td>\n",
       "      <td>179</td>\n",
       "      <td>1</td>\n",
       "      <td>42</td>\n",
       "      <td>11</td>\n",
       "      <td>4</td>\n",
       "    </tr>\n",
       "    <tr>\n",
       "      <th>Enrolled</th>\n",
       "      <td>720</td>\n",
       "      <td>52</td>\n",
       "      <td>2</td>\n",
       "      <td>16</td>\n",
       "      <td>3</td>\n",
       "      <td>1</td>\n",
       "    </tr>\n",
       "    <tr>\n",
       "      <th>Graduate</th>\n",
       "      <td>2015</td>\n",
       "      <td>148</td>\n",
       "      <td>1</td>\n",
       "      <td>33</td>\n",
       "      <td>11</td>\n",
       "      <td>1</td>\n",
       "    </tr>\n",
       "  </tbody>\n",
       "</table>\n",
       "</div>"
      ],
      "text/plain": [
       "Marital status  Single  Married  Widower  Divorced  Facto union  \\\n",
       "Target                                                            \n",
       "Dropout           1184      179        1        42           11   \n",
       "Enrolled           720       52        2        16            3   \n",
       "Graduate          2015      148        1        33           11   \n",
       "\n",
       "Marital status  Legally separated  \n",
       "Target                             \n",
       "Dropout                         4  \n",
       "Enrolled                        1  \n",
       "Graduate                        1  "
      ]
     },
     "execution_count": 452,
     "metadata": {},
     "output_type": "execute_result"
    }
   ],
   "source": [
    "#Marital status for each target outcome\n",
    "marital = pd.crosstab(df[\"Marital status\"], df[\"Target\"])\n",
    "marital.rename(index={1:'Single', 2:'Married', 3:'Widower', 4:'Divorced', 5:'Facto union', 6:'Legally separated'}, inplace=True)\n",
    "marital.T"
   ]
  },
  {
   "cell_type": "code",
   "execution_count": 142,
   "metadata": {},
   "outputs": [
    {
     "data": {
      "text/html": [
       "<div>\n",
       "<style scoped>\n",
       "    .dataframe tbody tr th:only-of-type {\n",
       "        vertical-align: middle;\n",
       "    }\n",
       "\n",
       "    .dataframe tbody tr th {\n",
       "        vertical-align: top;\n",
       "    }\n",
       "\n",
       "    .dataframe thead th {\n",
       "        text-align: right;\n",
       "    }\n",
       "</style>\n",
       "<table border=\"1\" class=\"dataframe\">\n",
       "  <thead>\n",
       "    <tr style=\"text-align: right;\">\n",
       "      <th></th>\n",
       "      <th>Age at enrollment</th>\n",
       "      <th>17</th>\n",
       "      <th>18</th>\n",
       "      <th>19</th>\n",
       "      <th>20</th>\n",
       "      <th>21</th>\n",
       "      <th>22</th>\n",
       "      <th>23</th>\n",
       "      <th>24</th>\n",
       "      <th>25</th>\n",
       "      <th>26</th>\n",
       "      <th>27</th>\n",
       "      <th>28</th>\n",
       "      <th>29</th>\n",
       "      <th>30</th>\n",
       "      <th>31</th>\n",
       "      <th>32</th>\n",
       "      <th>33</th>\n",
       "      <th>34</th>\n",
       "      <th>35</th>\n",
       "      <th>36</th>\n",
       "      <th>37</th>\n",
       "      <th>38</th>\n",
       "      <th>39</th>\n",
       "      <th>40</th>\n",
       "      <th>41</th>\n",
       "      <th>42</th>\n",
       "      <th>43</th>\n",
       "      <th>44</th>\n",
       "      <th>45</th>\n",
       "      <th>46</th>\n",
       "      <th>47</th>\n",
       "      <th>48</th>\n",
       "      <th>49</th>\n",
       "      <th>50</th>\n",
       "      <th>51</th>\n",
       "      <th>52</th>\n",
       "      <th>53</th>\n",
       "      <th>54</th>\n",
       "      <th>55</th>\n",
       "      <th>57</th>\n",
       "      <th>58</th>\n",
       "      <th>59</th>\n",
       "      <th>60</th>\n",
       "      <th>61</th>\n",
       "      <th>62</th>\n",
       "      <th>70</th>\n",
       "    </tr>\n",
       "    <tr>\n",
       "      <th>Gender</th>\n",
       "      <th>Target</th>\n",
       "      <th></th>\n",
       "      <th></th>\n",
       "      <th></th>\n",
       "      <th></th>\n",
       "      <th></th>\n",
       "      <th></th>\n",
       "      <th></th>\n",
       "      <th></th>\n",
       "      <th></th>\n",
       "      <th></th>\n",
       "      <th></th>\n",
       "      <th></th>\n",
       "      <th></th>\n",
       "      <th></th>\n",
       "      <th></th>\n",
       "      <th></th>\n",
       "      <th></th>\n",
       "      <th></th>\n",
       "      <th></th>\n",
       "      <th></th>\n",
       "      <th></th>\n",
       "      <th></th>\n",
       "      <th></th>\n",
       "      <th></th>\n",
       "      <th></th>\n",
       "      <th></th>\n",
       "      <th></th>\n",
       "      <th></th>\n",
       "      <th></th>\n",
       "      <th></th>\n",
       "      <th></th>\n",
       "      <th></th>\n",
       "      <th></th>\n",
       "      <th></th>\n",
       "      <th></th>\n",
       "      <th></th>\n",
       "      <th></th>\n",
       "      <th></th>\n",
       "      <th></th>\n",
       "      <th></th>\n",
       "      <th></th>\n",
       "      <th></th>\n",
       "      <th></th>\n",
       "      <th></th>\n",
       "      <th></th>\n",
       "      <th></th>\n",
       "    </tr>\n",
       "  </thead>\n",
       "  <tbody>\n",
       "    <tr>\n",
       "      <th rowspan=\"3\" valign=\"top\">Female</th>\n",
       "      <th>Dropout</th>\n",
       "      <td>0</td>\n",
       "      <td>121</td>\n",
       "      <td>129</td>\n",
       "      <td>70</td>\n",
       "      <td>53</td>\n",
       "      <td>21</td>\n",
       "      <td>21</td>\n",
       "      <td>25</td>\n",
       "      <td>13</td>\n",
       "      <td>25</td>\n",
       "      <td>26</td>\n",
       "      <td>22</td>\n",
       "      <td>20</td>\n",
       "      <td>14</td>\n",
       "      <td>17</td>\n",
       "      <td>18</td>\n",
       "      <td>8</td>\n",
       "      <td>16</td>\n",
       "      <td>9</td>\n",
       "      <td>9</td>\n",
       "      <td>12</td>\n",
       "      <td>10</td>\n",
       "      <td>13</td>\n",
       "      <td>5</td>\n",
       "      <td>5</td>\n",
       "      <td>2</td>\n",
       "      <td>3</td>\n",
       "      <td>3</td>\n",
       "      <td>6</td>\n",
       "      <td>3</td>\n",
       "      <td>3</td>\n",
       "      <td>4</td>\n",
       "      <td>0</td>\n",
       "      <td>4</td>\n",
       "      <td>2</td>\n",
       "      <td>0</td>\n",
       "      <td>2</td>\n",
       "      <td>3</td>\n",
       "      <td>1</td>\n",
       "      <td>0</td>\n",
       "      <td>1</td>\n",
       "      <td>1</td>\n",
       "      <td>0</td>\n",
       "      <td>0</td>\n",
       "      <td>0</td>\n",
       "      <td>0</td>\n",
       "    </tr>\n",
       "    <tr>\n",
       "      <th>Enrolled</th>\n",
       "      <td>1</td>\n",
       "      <td>117</td>\n",
       "      <td>98</td>\n",
       "      <td>83</td>\n",
       "      <td>42</td>\n",
       "      <td>18</td>\n",
       "      <td>13</td>\n",
       "      <td>14</td>\n",
       "      <td>12</td>\n",
       "      <td>11</td>\n",
       "      <td>6</td>\n",
       "      <td>9</td>\n",
       "      <td>3</td>\n",
       "      <td>4</td>\n",
       "      <td>7</td>\n",
       "      <td>3</td>\n",
       "      <td>4</td>\n",
       "      <td>6</td>\n",
       "      <td>5</td>\n",
       "      <td>3</td>\n",
       "      <td>3</td>\n",
       "      <td>2</td>\n",
       "      <td>3</td>\n",
       "      <td>2</td>\n",
       "      <td>3</td>\n",
       "      <td>1</td>\n",
       "      <td>1</td>\n",
       "      <td>1</td>\n",
       "      <td>4</td>\n",
       "      <td>0</td>\n",
       "      <td>1</td>\n",
       "      <td>3</td>\n",
       "      <td>1</td>\n",
       "      <td>2</td>\n",
       "      <td>0</td>\n",
       "      <td>0</td>\n",
       "      <td>1</td>\n",
       "      <td>0</td>\n",
       "      <td>0</td>\n",
       "      <td>0</td>\n",
       "      <td>0</td>\n",
       "      <td>0</td>\n",
       "      <td>0</td>\n",
       "      <td>0</td>\n",
       "      <td>0</td>\n",
       "      <td>0</td>\n",
       "    </tr>\n",
       "    <tr>\n",
       "      <th>Graduate</th>\n",
       "      <td>2</td>\n",
       "      <td>551</td>\n",
       "      <td>423</td>\n",
       "      <td>250</td>\n",
       "      <td>107</td>\n",
       "      <td>50</td>\n",
       "      <td>26</td>\n",
       "      <td>32</td>\n",
       "      <td>13</td>\n",
       "      <td>18</td>\n",
       "      <td>16</td>\n",
       "      <td>13</td>\n",
       "      <td>12</td>\n",
       "      <td>8</td>\n",
       "      <td>8</td>\n",
       "      <td>16</td>\n",
       "      <td>11</td>\n",
       "      <td>11</td>\n",
       "      <td>10</td>\n",
       "      <td>6</td>\n",
       "      <td>6</td>\n",
       "      <td>4</td>\n",
       "      <td>13</td>\n",
       "      <td>4</td>\n",
       "      <td>11</td>\n",
       "      <td>3</td>\n",
       "      <td>7</td>\n",
       "      <td>6</td>\n",
       "      <td>2</td>\n",
       "      <td>5</td>\n",
       "      <td>3</td>\n",
       "      <td>0</td>\n",
       "      <td>1</td>\n",
       "      <td>4</td>\n",
       "      <td>1</td>\n",
       "      <td>1</td>\n",
       "      <td>1</td>\n",
       "      <td>1</td>\n",
       "      <td>1</td>\n",
       "      <td>0</td>\n",
       "      <td>1</td>\n",
       "      <td>1</td>\n",
       "      <td>1</td>\n",
       "      <td>0</td>\n",
       "      <td>1</td>\n",
       "      <td>0</td>\n",
       "    </tr>\n",
       "    <tr>\n",
       "      <th rowspan=\"3\" valign=\"top\">Male</th>\n",
       "      <th>Dropout</th>\n",
       "      <td>0</td>\n",
       "      <td>81</td>\n",
       "      <td>78</td>\n",
       "      <td>63</td>\n",
       "      <td>40</td>\n",
       "      <td>37</td>\n",
       "      <td>20</td>\n",
       "      <td>31</td>\n",
       "      <td>34</td>\n",
       "      <td>27</td>\n",
       "      <td>29</td>\n",
       "      <td>25</td>\n",
       "      <td>25</td>\n",
       "      <td>16</td>\n",
       "      <td>19</td>\n",
       "      <td>15</td>\n",
       "      <td>12</td>\n",
       "      <td>13</td>\n",
       "      <td>20</td>\n",
       "      <td>12</td>\n",
       "      <td>11</td>\n",
       "      <td>9</td>\n",
       "      <td>5</td>\n",
       "      <td>8</td>\n",
       "      <td>6</td>\n",
       "      <td>5</td>\n",
       "      <td>8</td>\n",
       "      <td>7</td>\n",
       "      <td>7</td>\n",
       "      <td>3</td>\n",
       "      <td>8</td>\n",
       "      <td>3</td>\n",
       "      <td>7</td>\n",
       "      <td>5</td>\n",
       "      <td>3</td>\n",
       "      <td>0</td>\n",
       "      <td>1</td>\n",
       "      <td>1</td>\n",
       "      <td>2</td>\n",
       "      <td>1</td>\n",
       "      <td>1</td>\n",
       "      <td>1</td>\n",
       "      <td>0</td>\n",
       "      <td>1</td>\n",
       "      <td>0</td>\n",
       "      <td>1</td>\n",
       "    </tr>\n",
       "    <tr>\n",
       "      <th>Enrolled</th>\n",
       "      <td>1</td>\n",
       "      <td>55</td>\n",
       "      <td>59</td>\n",
       "      <td>57</td>\n",
       "      <td>28</td>\n",
       "      <td>19</td>\n",
       "      <td>11</td>\n",
       "      <td>16</td>\n",
       "      <td>9</td>\n",
       "      <td>8</td>\n",
       "      <td>6</td>\n",
       "      <td>6</td>\n",
       "      <td>2</td>\n",
       "      <td>2</td>\n",
       "      <td>0</td>\n",
       "      <td>2</td>\n",
       "      <td>4</td>\n",
       "      <td>6</td>\n",
       "      <td>0</td>\n",
       "      <td>0</td>\n",
       "      <td>2</td>\n",
       "      <td>2</td>\n",
       "      <td>2</td>\n",
       "      <td>2</td>\n",
       "      <td>2</td>\n",
       "      <td>1</td>\n",
       "      <td>2</td>\n",
       "      <td>1</td>\n",
       "      <td>0</td>\n",
       "      <td>0</td>\n",
       "      <td>1</td>\n",
       "      <td>0</td>\n",
       "      <td>0</td>\n",
       "      <td>0</td>\n",
       "      <td>0</td>\n",
       "      <td>0</td>\n",
       "      <td>0</td>\n",
       "      <td>1</td>\n",
       "      <td>0</td>\n",
       "      <td>0</td>\n",
       "      <td>0</td>\n",
       "      <td>0</td>\n",
       "      <td>0</td>\n",
       "      <td>0</td>\n",
       "      <td>0</td>\n",
       "      <td>0</td>\n",
       "    </tr>\n",
       "    <tr>\n",
       "      <th>Graduate</th>\n",
       "      <td>1</td>\n",
       "      <td>111</td>\n",
       "      <td>124</td>\n",
       "      <td>76</td>\n",
       "      <td>52</td>\n",
       "      <td>29</td>\n",
       "      <td>17</td>\n",
       "      <td>13</td>\n",
       "      <td>12</td>\n",
       "      <td>5</td>\n",
       "      <td>8</td>\n",
       "      <td>8</td>\n",
       "      <td>4</td>\n",
       "      <td>5</td>\n",
       "      <td>4</td>\n",
       "      <td>7</td>\n",
       "      <td>6</td>\n",
       "      <td>8</td>\n",
       "      <td>5</td>\n",
       "      <td>5</td>\n",
       "      <td>8</td>\n",
       "      <td>2</td>\n",
       "      <td>2</td>\n",
       "      <td>2</td>\n",
       "      <td>4</td>\n",
       "      <td>1</td>\n",
       "      <td>4</td>\n",
       "      <td>3</td>\n",
       "      <td>3</td>\n",
       "      <td>1</td>\n",
       "      <td>2</td>\n",
       "      <td>1</td>\n",
       "      <td>4</td>\n",
       "      <td>1</td>\n",
       "      <td>1</td>\n",
       "      <td>3</td>\n",
       "      <td>2</td>\n",
       "      <td>1</td>\n",
       "      <td>1</td>\n",
       "      <td>1</td>\n",
       "      <td>0</td>\n",
       "      <td>0</td>\n",
       "      <td>1</td>\n",
       "      <td>0</td>\n",
       "      <td>0</td>\n",
       "      <td>0</td>\n",
       "    </tr>\n",
       "  </tbody>\n",
       "</table>\n",
       "</div>"
      ],
      "text/plain": [
       "Age at enrollment  17   18   19   20   21  22  23  24  25  26  27  28  29  30  \\\n",
       "Gender Target                                                                   \n",
       "Female Dropout      0  121  129   70   53  21  21  25  13  25  26  22  20  14   \n",
       "       Enrolled     1  117   98   83   42  18  13  14  12  11   6   9   3   4   \n",
       "       Graduate     2  551  423  250  107  50  26  32  13  18  16  13  12   8   \n",
       "Male   Dropout      0   81   78   63   40  37  20  31  34  27  29  25  25  16   \n",
       "       Enrolled     1   55   59   57   28  19  11  16   9   8   6   6   2   2   \n",
       "       Graduate     1  111  124   76   52  29  17  13  12   5   8   8   4   5   \n",
       "\n",
       "Age at enrollment  31  32  33  34  35  36  37  38  39  40  41  42  43  44  45  \\\n",
       "Gender Target                                                                   \n",
       "Female Dropout     17  18   8  16   9   9  12  10  13   5   5   2   3   3   6   \n",
       "       Enrolled     7   3   4   6   5   3   3   2   3   2   3   1   1   1   4   \n",
       "       Graduate     8  16  11  11  10   6   6   4  13   4  11   3   7   6   2   \n",
       "Male   Dropout     19  15  12  13  20  12  11   9   5   8   6   5   8   7   7   \n",
       "       Enrolled     0   2   4   6   0   0   2   2   2   2   2   1   2   1   0   \n",
       "       Graduate     4   7   6   8   5   5   8   2   2   2   4   1   4   3   3   \n",
       "\n",
       "Age at enrollment  46  47  48  49  50  51  52  53  54  55  57  58  59  60  61  \\\n",
       "Gender Target                                                                   \n",
       "Female Dropout      3   3   4   0   4   2   0   2   3   1   0   1   1   0   0   \n",
       "       Enrolled     0   1   3   1   2   0   0   1   0   0   0   0   0   0   0   \n",
       "       Graduate     5   3   0   1   4   1   1   1   1   1   0   1   1   1   0   \n",
       "Male   Dropout      3   8   3   7   5   3   0   1   1   2   1   1   1   0   1   \n",
       "       Enrolled     0   1   0   0   0   0   0   0   1   0   0   0   0   0   0   \n",
       "       Graduate     1   2   1   4   1   1   3   2   1   1   1   0   0   1   0   \n",
       "\n",
       "Age at enrollment  62  70  \n",
       "Gender Target              \n",
       "Female Dropout      0   0  \n",
       "       Enrolled     0   0  \n",
       "       Graduate     1   0  \n",
       "Male   Dropout      0   1  \n",
       "       Enrolled     0   0  \n",
       "       Graduate     0   0  "
      ]
     },
     "execution_count": 142,
     "metadata": {},
     "output_type": "execute_result"
    }
   ],
   "source": [
    "#Viewing age per gender in each target outcome\n",
    "age_target = pd.crosstab(df[\"Age at enrollment\"], [df[\"Gender\"], df[\"Target\"]], colnames=['Gender', 'Target'])\n",
    "age_target.rename(columns={0: \"Female\", 1: \"Male\"}, inplace=True)\n",
    "age_target.T"
   ]
  },
  {
   "cell_type": "code",
   "execution_count": 396,
   "metadata": {},
   "outputs": [
    {
     "data": {
      "text/html": [
       "<div>\n",
       "<style scoped>\n",
       "    .dataframe tbody tr th:only-of-type {\n",
       "        vertical-align: middle;\n",
       "    }\n",
       "\n",
       "    .dataframe tbody tr th {\n",
       "        vertical-align: top;\n",
       "    }\n",
       "\n",
       "    .dataframe thead th {\n",
       "        text-align: right;\n",
       "    }\n",
       "</style>\n",
       "<table border=\"1\" class=\"dataframe\">\n",
       "  <thead>\n",
       "    <tr style=\"text-align: right;\">\n",
       "      <th></th>\n",
       "      <th>Debtor</th>\n",
       "      <th>No</th>\n",
       "      <th>Yes</th>\n",
       "    </tr>\n",
       "    <tr>\n",
       "      <th>Target</th>\n",
       "      <th>Scholarship Status</th>\n",
       "      <th></th>\n",
       "      <th></th>\n",
       "    </tr>\n",
       "  </thead>\n",
       "  <tbody>\n",
       "    <tr>\n",
       "      <th rowspan=\"2\" valign=\"top\">Dropout</th>\n",
       "      <th>No</th>\n",
       "      <td>1006</td>\n",
       "      <td>281</td>\n",
       "    </tr>\n",
       "    <tr>\n",
       "      <th>Yes</th>\n",
       "      <td>103</td>\n",
       "      <td>31</td>\n",
       "    </tr>\n",
       "    <tr>\n",
       "      <th rowspan=\"2\" valign=\"top\">Enrolled</th>\n",
       "      <th>No</th>\n",
       "      <td>581</td>\n",
       "      <td>83</td>\n",
       "    </tr>\n",
       "    <tr>\n",
       "      <th>Yes</th>\n",
       "      <td>123</td>\n",
       "      <td>7</td>\n",
       "    </tr>\n",
       "    <tr>\n",
       "      <th rowspan=\"2\" valign=\"top\">Graduate</th>\n",
       "      <th>No</th>\n",
       "      <td>1319</td>\n",
       "      <td>55</td>\n",
       "    </tr>\n",
       "    <tr>\n",
       "      <th>Yes</th>\n",
       "      <td>789</td>\n",
       "      <td>46</td>\n",
       "    </tr>\n",
       "  </tbody>\n",
       "</table>\n",
       "</div>"
      ],
      "text/plain": [
       "Debtor                         No  Yes\n",
       "Target   Scholarship Status           \n",
       "Dropout  No                  1006  281\n",
       "         Yes                  103   31\n",
       "Enrolled No                   581   83\n",
       "         Yes                  123    7\n",
       "Graduate No                  1319   55\n",
       "         Yes                  789   46"
      ]
     },
     "execution_count": 396,
     "metadata": {},
     "output_type": "execute_result"
    }
   ],
   "source": [
    "#Debt status and scholarship status for each target outcome\n",
    "df['Scholarship holder'] = df[\"Scholarship holder\"].replace({0:'No', 1:'Yes'})\n",
    "debt2 = pd.crosstab(df[\"Debtor\"], [df[\"Target\"], df['Scholarship holder']], colnames=['Target', 'Scholarship Status'])\n",
    "debt2.rename({0: \"No\", 1: \"Yes\"}, inplace=True)\n",
    "debt2.T"
   ]
  },
  {
   "cell_type": "code",
   "execution_count": 407,
   "metadata": {},
   "outputs": [
    {
     "data": {
      "text/html": [
       "<div>\n",
       "<style scoped>\n",
       "    .dataframe tbody tr th:only-of-type {\n",
       "        vertical-align: middle;\n",
       "    }\n",
       "\n",
       "    .dataframe tbody tr th {\n",
       "        vertical-align: top;\n",
       "    }\n",
       "\n",
       "    .dataframe thead th {\n",
       "        text-align: right;\n",
       "    }\n",
       "</style>\n",
       "<table border=\"1\" class=\"dataframe\">\n",
       "  <thead>\n",
       "    <tr style=\"text-align: right;\">\n",
       "      <th>Debtor</th>\n",
       "      <th>No</th>\n",
       "      <th>Yes</th>\n",
       "    </tr>\n",
       "    <tr>\n",
       "      <th>Target</th>\n",
       "      <th></th>\n",
       "      <th></th>\n",
       "    </tr>\n",
       "  </thead>\n",
       "  <tbody>\n",
       "    <tr>\n",
       "      <th>Dropout</th>\n",
       "      <td>1109</td>\n",
       "      <td>312</td>\n",
       "    </tr>\n",
       "    <tr>\n",
       "      <th>Enrolled</th>\n",
       "      <td>704</td>\n",
       "      <td>90</td>\n",
       "    </tr>\n",
       "    <tr>\n",
       "      <th>Graduate</th>\n",
       "      <td>2108</td>\n",
       "      <td>101</td>\n",
       "    </tr>\n",
       "  </tbody>\n",
       "</table>\n",
       "</div>"
      ],
      "text/plain": [
       "Debtor      No  Yes\n",
       "Target             \n",
       "Dropout   1109  312\n",
       "Enrolled   704   90\n",
       "Graduate  2108  101"
      ]
     },
     "execution_count": 407,
     "metadata": {},
     "output_type": "execute_result"
    }
   ],
   "source": [
    "#Coding for chart below- Debt vs Target\n",
    "#Chart 4\n",
    "debt5 = pd.crosstab(df[\"Debtor\"], [df[\"Target\"]], colnames=['Target'])\n",
    "debt5.rename({0: \"No\", 1: \"Yes\"}, inplace=True)\n",
    "debt5.T"
   ]
  },
  {
   "cell_type": "code",
   "execution_count": 437,
   "metadata": {},
   "outputs": [
    {
     "data": {
      "text/html": [
       "<div>\n",
       "<style scoped>\n",
       "    .dataframe tbody tr th:only-of-type {\n",
       "        vertical-align: middle;\n",
       "    }\n",
       "\n",
       "    .dataframe tbody tr th {\n",
       "        vertical-align: top;\n",
       "    }\n",
       "\n",
       "    .dataframe thead th {\n",
       "        text-align: right;\n",
       "    }\n",
       "</style>\n",
       "<table border=\"1\" class=\"dataframe\">\n",
       "  <thead>\n",
       "    <tr style=\"text-align: right;\">\n",
       "      <th>Mother's occupation</th>\n",
       "      <th>Student</th>\n",
       "      <th>Representatives of the Legislative Power and Executive Bodies, Directors, Directors and Executive Managers</th>\n",
       "      <th>Specialists in Intellectual and Scientific Activities</th>\n",
       "      <th>Intermediate Level Technicians and Professions</th>\n",
       "      <th>Administrative staff</th>\n",
       "      <th>Personal Services, Security and Safety Workers, and Sellers</th>\n",
       "      <th>Farmers and Skilled Workers in Agriculture, Fisheries, and Forestry</th>\n",
       "      <th>Skilled Workers in Industry, Construction, and Craftsmen</th>\n",
       "      <th>Installation and Machine Operators and Assembly Workers</th>\n",
       "      <th>Unskilled Workers</th>\n",
       "      <th>Armed Forces Professions</th>\n",
       "      <th>Other Situation</th>\n",
       "      <th>(blank)</th>\n",
       "      <th>Armed Forces Officers</th>\n",
       "      <th>Armed Forces Sergeants</th>\n",
       "      <th>Other Armed Forces personnel</th>\n",
       "      <th>Directors of administrative and commercial services</th>\n",
       "      <th>Hotel, catering, trade, and other services directors</th>\n",
       "      <th>Specialists in the physical sciences, mathematics, engineering, and related techniques</th>\n",
       "      <th>Health professionals</th>\n",
       "      <th>Teachers</th>\n",
       "      <th>Specialists in finance, accounting, administrative organization, and public and commercial relations</th>\n",
       "      <th>Intermediate level science and engineering technicians and professions</th>\n",
       "      <th>Technicians and professionals of intermediate level of health</th>\n",
       "      <th>Intermediate level technicians from legal, social, sports, cultural, and similar services</th>\n",
       "      <th>Information and communication technology technicians</th>\n",
       "      <th>Office workers, secretaries in general, and data processing operators</th>\n",
       "      <th>Data, accounting, statistical, financial services, and registry-related operators</th>\n",
       "      <th>Other administrative support staff</th>\n",
       "      <th>Personal service workers</th>\n",
       "      <th>Sellers</th>\n",
       "      <th>Personal care workers and the like</th>\n",
       "    </tr>\n",
       "    <tr>\n",
       "      <th>Target</th>\n",
       "      <th></th>\n",
       "      <th></th>\n",
       "      <th></th>\n",
       "      <th></th>\n",
       "      <th></th>\n",
       "      <th></th>\n",
       "      <th></th>\n",
       "      <th></th>\n",
       "      <th></th>\n",
       "      <th></th>\n",
       "      <th></th>\n",
       "      <th></th>\n",
       "      <th></th>\n",
       "      <th></th>\n",
       "      <th></th>\n",
       "      <th></th>\n",
       "      <th></th>\n",
       "      <th></th>\n",
       "      <th></th>\n",
       "      <th></th>\n",
       "      <th></th>\n",
       "      <th></th>\n",
       "      <th></th>\n",
       "      <th></th>\n",
       "      <th></th>\n",
       "      <th></th>\n",
       "      <th></th>\n",
       "      <th></th>\n",
       "      <th></th>\n",
       "      <th></th>\n",
       "      <th></th>\n",
       "      <th></th>\n",
       "    </tr>\n",
       "  </thead>\n",
       "  <tbody>\n",
       "    <tr>\n",
       "      <th>Dropout</th>\n",
       "      <td>99</td>\n",
       "      <td>39</td>\n",
       "      <td>102</td>\n",
       "      <td>95</td>\n",
       "      <td>248</td>\n",
       "      <td>156</td>\n",
       "      <td>26</td>\n",
       "      <td>80</td>\n",
       "      <td>15</td>\n",
       "      <td>490</td>\n",
       "      <td>1</td>\n",
       "      <td>51</td>\n",
       "      <td>13</td>\n",
       "      <td>0</td>\n",
       "      <td>2</td>\n",
       "      <td>0</td>\n",
       "      <td>0</td>\n",
       "      <td>0</td>\n",
       "      <td>1</td>\n",
       "      <td>0</td>\n",
       "      <td>0</td>\n",
       "      <td>0</td>\n",
       "      <td>0</td>\n",
       "      <td>0</td>\n",
       "      <td>0</td>\n",
       "      <td>0</td>\n",
       "      <td>0</td>\n",
       "      <td>1</td>\n",
       "      <td>0</td>\n",
       "      <td>0</td>\n",
       "      <td>1</td>\n",
       "      <td>1</td>\n",
       "    </tr>\n",
       "    <tr>\n",
       "      <th>Enrolled</th>\n",
       "      <td>1</td>\n",
       "      <td>15</td>\n",
       "      <td>78</td>\n",
       "      <td>79</td>\n",
       "      <td>147</td>\n",
       "      <td>94</td>\n",
       "      <td>14</td>\n",
       "      <td>48</td>\n",
       "      <td>7</td>\n",
       "      <td>264</td>\n",
       "      <td>2</td>\n",
       "      <td>0</td>\n",
       "      <td>2</td>\n",
       "      <td>2</td>\n",
       "      <td>2</td>\n",
       "      <td>0</td>\n",
       "      <td>1</td>\n",
       "      <td>2</td>\n",
       "      <td>2</td>\n",
       "      <td>4</td>\n",
       "      <td>2</td>\n",
       "      <td>2</td>\n",
       "      <td>1</td>\n",
       "      <td>1</td>\n",
       "      <td>0</td>\n",
       "      <td>0</td>\n",
       "      <td>1</td>\n",
       "      <td>2</td>\n",
       "      <td>11</td>\n",
       "      <td>3</td>\n",
       "      <td>0</td>\n",
       "      <td>7</td>\n",
       "    </tr>\n",
       "    <tr>\n",
       "      <th>Graduate</th>\n",
       "      <td>44</td>\n",
       "      <td>48</td>\n",
       "      <td>138</td>\n",
       "      <td>177</td>\n",
       "      <td>422</td>\n",
       "      <td>280</td>\n",
       "      <td>51</td>\n",
       "      <td>144</td>\n",
       "      <td>14</td>\n",
       "      <td>823</td>\n",
       "      <td>1</td>\n",
       "      <td>19</td>\n",
       "      <td>2</td>\n",
       "      <td>0</td>\n",
       "      <td>3</td>\n",
       "      <td>1</td>\n",
       "      <td>0</td>\n",
       "      <td>1</td>\n",
       "      <td>1</td>\n",
       "      <td>4</td>\n",
       "      <td>1</td>\n",
       "      <td>4</td>\n",
       "      <td>2</td>\n",
       "      <td>1</td>\n",
       "      <td>2</td>\n",
       "      <td>1</td>\n",
       "      <td>0</td>\n",
       "      <td>2</td>\n",
       "      <td>15</td>\n",
       "      <td>2</td>\n",
       "      <td>3</td>\n",
       "      <td>3</td>\n",
       "    </tr>\n",
       "  </tbody>\n",
       "</table>\n",
       "</div>"
      ],
      "text/plain": [
       "Mother's occupation  Student  \\\n",
       "Target                         \n",
       "Dropout                   99   \n",
       "Enrolled                   1   \n",
       "Graduate                  44   \n",
       "\n",
       "Mother's occupation  Representatives of the Legislative Power and Executive Bodies, Directors, Directors and Executive Managers  \\\n",
       "Target                                                                                                                            \n",
       "Dropout                                                             39                                                            \n",
       "Enrolled                                                            15                                                            \n",
       "Graduate                                                            48                                                            \n",
       "\n",
       "Mother's occupation  Specialists in Intellectual and Scientific Activities  \\\n",
       "Target                                                                       \n",
       "Dropout                                                            102       \n",
       "Enrolled                                                            78       \n",
       "Graduate                                                           138       \n",
       "\n",
       "Mother's occupation  Intermediate Level Technicians and Professions  \\\n",
       "Target                                                                \n",
       "Dropout                                                          95   \n",
       "Enrolled                                                         79   \n",
       "Graduate                                                        177   \n",
       "\n",
       "Mother's occupation  Administrative staff  \\\n",
       "Target                                      \n",
       "Dropout                               248   \n",
       "Enrolled                              147   \n",
       "Graduate                              422   \n",
       "\n",
       "Mother's occupation  Personal Services, Security and Safety Workers, and Sellers  \\\n",
       "Target                                                                             \n",
       "Dropout                                                            156             \n",
       "Enrolled                                                            94             \n",
       "Graduate                                                           280             \n",
       "\n",
       "Mother's occupation  Farmers and Skilled Workers in Agriculture, Fisheries, and Forestry  \\\n",
       "Target                                                                                     \n",
       "Dropout                                                             26                     \n",
       "Enrolled                                                            14                     \n",
       "Graduate                                                            51                     \n",
       "\n",
       "Mother's occupation  Skilled Workers in Industry, Construction, and Craftsmen  \\\n",
       "Target                                                                          \n",
       "Dropout                                                             80          \n",
       "Enrolled                                                            48          \n",
       "Graduate                                                           144          \n",
       "\n",
       "Mother's occupation  Installation and Machine Operators and Assembly Workers  \\\n",
       "Target                                                                         \n",
       "Dropout                                                             15         \n",
       "Enrolled                                                             7         \n",
       "Graduate                                                            14         \n",
       "\n",
       "Mother's occupation  Unskilled Workers  Armed Forces Professions  \\\n",
       "Target                                                             \n",
       "Dropout                            490                         1   \n",
       "Enrolled                           264                         2   \n",
       "Graduate                           823                         1   \n",
       "\n",
       "Mother's occupation  Other Situation  (blank)  Armed Forces Officers  \\\n",
       "Target                                                                 \n",
       "Dropout                           51       13                      0   \n",
       "Enrolled                           0        2                      2   \n",
       "Graduate                          19        2                      0   \n",
       "\n",
       "Mother's occupation  Armed Forces Sergeants  Other Armed Forces personnel  \\\n",
       "Target                                                                      \n",
       "Dropout                                   2                             0   \n",
       "Enrolled                                  2                             0   \n",
       "Graduate                                  3                             1   \n",
       "\n",
       "Mother's occupation  Directors of administrative and commercial services  \\\n",
       "Target                                                                     \n",
       "Dropout                                                              0     \n",
       "Enrolled                                                             1     \n",
       "Graduate                                                             0     \n",
       "\n",
       "Mother's occupation  Hotel, catering, trade, and other services directors  \\\n",
       "Target                                                                      \n",
       "Dropout                                                              0      \n",
       "Enrolled                                                             2      \n",
       "Graduate                                                             1      \n",
       "\n",
       "Mother's occupation  Specialists in the physical sciences, mathematics, engineering, and related techniques  \\\n",
       "Target                                                                                                        \n",
       "Dropout                                                              1                                        \n",
       "Enrolled                                                             2                                        \n",
       "Graduate                                                             1                                        \n",
       "\n",
       "Mother's occupation  Health professionals  Teachers  \\\n",
       "Target                                                \n",
       "Dropout                                 0         0   \n",
       "Enrolled                                4         2   \n",
       "Graduate                                4         1   \n",
       "\n",
       "Mother's occupation  Specialists in finance, accounting, administrative organization, and public and commercial relations  \\\n",
       "Target                                                                                                                      \n",
       "Dropout                                                              0                                                      \n",
       "Enrolled                                                             2                                                      \n",
       "Graduate                                                             4                                                      \n",
       "\n",
       "Mother's occupation  Intermediate level science and engineering technicians and professions  \\\n",
       "Target                                                                                        \n",
       "Dropout                                                              0                        \n",
       "Enrolled                                                             1                        \n",
       "Graduate                                                             2                        \n",
       "\n",
       "Mother's occupation  Technicians and professionals of intermediate level of health  \\\n",
       "Target                                                                               \n",
       "Dropout                                                              0               \n",
       "Enrolled                                                             1               \n",
       "Graduate                                                             1               \n",
       "\n",
       "Mother's occupation  Intermediate level technicians from legal, social, sports, cultural, and similar services  \\\n",
       "Target                                                                                                           \n",
       "Dropout                                                              0                                           \n",
       "Enrolled                                                             0                                           \n",
       "Graduate                                                             2                                           \n",
       "\n",
       "Mother's occupation  Information and communication technology technicians  \\\n",
       "Target                                                                      \n",
       "Dropout                                                              0      \n",
       "Enrolled                                                             0      \n",
       "Graduate                                                             1      \n",
       "\n",
       "Mother's occupation  Office workers, secretaries in general, and data processing operators  \\\n",
       "Target                                                                                       \n",
       "Dropout                                                              0                       \n",
       "Enrolled                                                             1                       \n",
       "Graduate                                                             0                       \n",
       "\n",
       "Mother's occupation  Data, accounting, statistical, financial services, and registry-related operators  \\\n",
       "Target                                                                                                   \n",
       "Dropout                                                              1                                   \n",
       "Enrolled                                                             2                                   \n",
       "Graduate                                                             2                                   \n",
       "\n",
       "Mother's occupation  Other administrative support staff  \\\n",
       "Target                                                    \n",
       "Dropout                                               0   \n",
       "Enrolled                                             11   \n",
       "Graduate                                             15   \n",
       "\n",
       "Mother's occupation  Personal service workers  Sellers  \\\n",
       "Target                                                   \n",
       "Dropout                                     0        1   \n",
       "Enrolled                                    3        0   \n",
       "Graduate                                    2        3   \n",
       "\n",
       "Mother's occupation  Personal care workers and the like  \n",
       "Target                                                   \n",
       "Dropout                                               1  \n",
       "Enrolled                                              7  \n",
       "Graduate                                              3  "
      ]
     },
     "execution_count": 437,
     "metadata": {},
     "output_type": "execute_result"
    }
   ],
   "source": [
    "#Mother's occupation for each target outcome\n",
    "mparent = pd.crosstab(df['Target'], df[\"Mother's occupation\"])\n",
    "mparent.rename(columns={1:'Student', 2:\"Representatives of the Legislative Power and Executive Bodies, Directors, Directors and Executive Managers\", 3:'Specialists in Intellectual and Scientific Activities', 4:\"Intermediate Level Technicians and Professions\", 5:'Administrative staff', 6:'Personal Services, Security and Safety Workers, and Sellers', 7:'Farmers and Skilled Workers in Agriculture, Fisheries, and Forestry', 8:'Skilled Workers in Industry, Construction, and Craftsmen',\n",
    "9:'Installation and Machine Operators and Assembly Workers', 10:'Unskilled Workers', 11:'Armed Forces Professions', 12:'Other Situation', 13:'(blank)', 14:'Armed Forces Officers', 15:'Armed Forces Sergeants', 16:'Other Armed Forces personnel', 17:'Directors of administrative and commercial services', 18:'Hotel, catering, trade, and other services directors', 19:'Specialists in the physical sciences, mathematics, engineering, and related techniques', 20:'Health professionals',\n",
    "21:'Teachers', 22:'Specialists in finance, accounting, administrative organization, and public and commercial relations', 23:'Intermediate level science and engineering technicians and professions', 24:'Technicians and professionals of intermediate level of health', 25:'Intermediate level technicians from legal, social, sports, cultural, and similar services', 26:'Information and communication technology technicians', 27:'Office workers, secretaries in general, and data processing operators',\n",
    "28:'Data, accounting, statistical, financial services, and registry-related operators', 29:'Other administrative support staff', 30:'Personal service workers', 31:'Sellers', 32:'Personal care workers and the like', 33:'Protection and security services personnel', 34:'Market-oriented farmers and skilled agricultural and animal production workers', 35:'Farmers, livestock keepers, fishermen, hunters and gatherers, and subsistence', 36:'Skilled construction workers and the like, except electricians',\n",
    "37:'Skilled workers in metallurgy, metalworking, and similar', 38:'Skilled workers in electricity and electronics', 39:'Workers in food processing, woodworking, and clothing and other industries and crafts', 40:'Fixed plant and machine operators', 41:'Assembly workers', 42:'Vehicle drivers and mobile equipment operators', 43:'Unskilled workers in agriculture, animal production, and fisheries and forestry', 44:'Unskilled workers in extractive industry, construction, manufacturing, and transport',\n",
    "45:'Meal preparation assistants', 46:'Street vendors (except food) and street service providers'}, inplace=True)\n",
    "mparent"
   ]
  },
  {
   "cell_type": "code",
   "execution_count": 438,
   "metadata": {},
   "outputs": [
    {
     "data": {
      "text/html": [
       "<div>\n",
       "<style scoped>\n",
       "    .dataframe tbody tr th:only-of-type {\n",
       "        vertical-align: middle;\n",
       "    }\n",
       "\n",
       "    .dataframe tbody tr th {\n",
       "        vertical-align: top;\n",
       "    }\n",
       "\n",
       "    .dataframe thead th {\n",
       "        text-align: right;\n",
       "    }\n",
       "</style>\n",
       "<table border=\"1\" class=\"dataframe\">\n",
       "  <thead>\n",
       "    <tr style=\"text-align: right;\">\n",
       "      <th>Father's occupation</th>\n",
       "      <th>Student</th>\n",
       "      <th>Representatives of the Legislative Power and Executive Bodies, Directors, Directors and Executive Managers</th>\n",
       "      <th>Specialists in Intellectual and Scientific Activities</th>\n",
       "      <th>Intermediate Level Technicians and Professions</th>\n",
       "      <th>Administrative staff</th>\n",
       "      <th>Personal Services, Security and Safety Workers, and Sellers</th>\n",
       "      <th>Farmers and Skilled Workers in Agriculture, Fisheries, and Forestry</th>\n",
       "      <th>Skilled Workers in Industry, Construction, and Craftsmen</th>\n",
       "      <th>Installation and Machine Operators and Assembly Workers</th>\n",
       "      <th>Unskilled Workers</th>\n",
       "      <th>Armed Forces Professions</th>\n",
       "      <th>Other Situation</th>\n",
       "      <th>(blank)</th>\n",
       "      <th>Armed Forces Officers</th>\n",
       "      <th>Armed Forces Sergeants</th>\n",
       "      <th>Other Armed Forces personnel</th>\n",
       "      <th>Directors of administrative and commercial services</th>\n",
       "      <th>Hotel, catering, trade, and other services directors</th>\n",
       "      <th>Specialists in the physical sciences, mathematics, engineering, and related techniques</th>\n",
       "      <th>Health professionals</th>\n",
       "      <th>Teachers</th>\n",
       "      <th>Specialists in finance, accounting, administrative organization, and public and commercial relations</th>\n",
       "      <th>Intermediate level science and engineering technicians and professions</th>\n",
       "      <th>Technicians and professionals of intermediate level of health</th>\n",
       "      <th>Intermediate level technicians from legal, social, sports, cultural, and similar services</th>\n",
       "      <th>Information and communication technology technicians</th>\n",
       "      <th>Office workers, secretaries in general, and data processing operators</th>\n",
       "      <th>Data, accounting, statistical, financial services, and registry-related operators</th>\n",
       "      <th>Other administrative support staff</th>\n",
       "      <th>Personal service workers</th>\n",
       "      <th>Sellers</th>\n",
       "      <th>Personal care workers and the like</th>\n",
       "      <th>Protection and security services personnel</th>\n",
       "      <th>Market-oriented farmers and skilled agricultural and animal production workers</th>\n",
       "      <th>Farmers, livestock keepers, fishermen, hunters and gatherers, and subsistence</th>\n",
       "      <th>Skilled construction workers and the like, except electricians</th>\n",
       "      <th>Skilled workers in metallurgy, metalworking, and similar</th>\n",
       "      <th>Skilled workers in electricity and electronics</th>\n",
       "      <th>Workers in food processing, woodworking, and clothing and other industries and crafts</th>\n",
       "      <th>Fixed plant and machine operators</th>\n",
       "      <th>Assembly workers</th>\n",
       "      <th>Vehicle drivers and mobile equipment operators</th>\n",
       "      <th>Unskilled workers in agriculture, animal production, and fisheries and forestry</th>\n",
       "      <th>Unskilled workers in extractive industry, construction, manufacturing, and transport</th>\n",
       "      <th>Meal preparation assistants</th>\n",
       "      <th>Street vendors (except food) and street service providers</th>\n",
       "    </tr>\n",
       "    <tr>\n",
       "      <th>Target</th>\n",
       "      <th></th>\n",
       "      <th></th>\n",
       "      <th></th>\n",
       "      <th></th>\n",
       "      <th></th>\n",
       "      <th></th>\n",
       "      <th></th>\n",
       "      <th></th>\n",
       "      <th></th>\n",
       "      <th></th>\n",
       "      <th></th>\n",
       "      <th></th>\n",
       "      <th></th>\n",
       "      <th></th>\n",
       "      <th></th>\n",
       "      <th></th>\n",
       "      <th></th>\n",
       "      <th></th>\n",
       "      <th></th>\n",
       "      <th></th>\n",
       "      <th></th>\n",
       "      <th></th>\n",
       "      <th></th>\n",
       "      <th></th>\n",
       "      <th></th>\n",
       "      <th></th>\n",
       "      <th></th>\n",
       "      <th></th>\n",
       "      <th></th>\n",
       "      <th></th>\n",
       "      <th></th>\n",
       "      <th></th>\n",
       "      <th></th>\n",
       "      <th></th>\n",
       "      <th></th>\n",
       "      <th></th>\n",
       "      <th></th>\n",
       "      <th></th>\n",
       "      <th></th>\n",
       "      <th></th>\n",
       "      <th></th>\n",
       "      <th></th>\n",
       "      <th></th>\n",
       "      <th></th>\n",
       "      <th></th>\n",
       "      <th></th>\n",
       "    </tr>\n",
       "  </thead>\n",
       "  <tbody>\n",
       "    <tr>\n",
       "      <th>Dropout</th>\n",
       "      <td>82</td>\n",
       "      <td>48</td>\n",
       "      <td>70</td>\n",
       "      <td>114</td>\n",
       "      <td>139</td>\n",
       "      <td>148</td>\n",
       "      <td>69</td>\n",
       "      <td>184</td>\n",
       "      <td>94</td>\n",
       "      <td>323</td>\n",
       "      <td>85</td>\n",
       "      <td>46</td>\n",
       "      <td>13</td>\n",
       "      <td>0</td>\n",
       "      <td>0</td>\n",
       "      <td>1</td>\n",
       "      <td>1</td>\n",
       "      <td>0</td>\n",
       "      <td>0</td>\n",
       "      <td>0</td>\n",
       "      <td>0</td>\n",
       "      <td>0</td>\n",
       "      <td>0</td>\n",
       "      <td>0</td>\n",
       "      <td>0</td>\n",
       "      <td>0</td>\n",
       "      <td>0</td>\n",
       "      <td>0</td>\n",
       "      <td>0</td>\n",
       "      <td>0</td>\n",
       "      <td>1</td>\n",
       "      <td>0</td>\n",
       "      <td>0</td>\n",
       "      <td>0</td>\n",
       "      <td>0</td>\n",
       "      <td>0</td>\n",
       "      <td>0</td>\n",
       "      <td>0</td>\n",
       "      <td>0</td>\n",
       "      <td>0</td>\n",
       "      <td>0</td>\n",
       "      <td>0</td>\n",
       "      <td>0</td>\n",
       "      <td>2</td>\n",
       "      <td>1</td>\n",
       "      <td>0</td>\n",
       "    </tr>\n",
       "    <tr>\n",
       "      <th>Enrolled</th>\n",
       "      <td>3</td>\n",
       "      <td>23</td>\n",
       "      <td>50</td>\n",
       "      <td>63</td>\n",
       "      <td>74</td>\n",
       "      <td>107</td>\n",
       "      <td>48</td>\n",
       "      <td>111</td>\n",
       "      <td>55</td>\n",
       "      <td>163</td>\n",
       "      <td>54</td>\n",
       "      <td>0</td>\n",
       "      <td>2</td>\n",
       "      <td>0</td>\n",
       "      <td>1</td>\n",
       "      <td>1</td>\n",
       "      <td>1</td>\n",
       "      <td>0</td>\n",
       "      <td>1</td>\n",
       "      <td>1</td>\n",
       "      <td>2</td>\n",
       "      <td>0</td>\n",
       "      <td>0</td>\n",
       "      <td>1</td>\n",
       "      <td>1</td>\n",
       "      <td>1</td>\n",
       "      <td>0</td>\n",
       "      <td>0</td>\n",
       "      <td>3</td>\n",
       "      <td>0</td>\n",
       "      <td>2</td>\n",
       "      <td>0</td>\n",
       "      <td>0</td>\n",
       "      <td>1</td>\n",
       "      <td>3</td>\n",
       "      <td>5</td>\n",
       "      <td>1</td>\n",
       "      <td>0</td>\n",
       "      <td>2</td>\n",
       "      <td>1</td>\n",
       "      <td>1</td>\n",
       "      <td>2</td>\n",
       "      <td>2</td>\n",
       "      <td>8</td>\n",
       "      <td>0</td>\n",
       "      <td>0</td>\n",
       "    </tr>\n",
       "    <tr>\n",
       "      <th>Graduate</th>\n",
       "      <td>43</td>\n",
       "      <td>63</td>\n",
       "      <td>77</td>\n",
       "      <td>207</td>\n",
       "      <td>173</td>\n",
       "      <td>261</td>\n",
       "      <td>125</td>\n",
       "      <td>371</td>\n",
       "      <td>169</td>\n",
       "      <td>524</td>\n",
       "      <td>127</td>\n",
       "      <td>19</td>\n",
       "      <td>4</td>\n",
       "      <td>1</td>\n",
       "      <td>1</td>\n",
       "      <td>2</td>\n",
       "      <td>0</td>\n",
       "      <td>1</td>\n",
       "      <td>0</td>\n",
       "      <td>1</td>\n",
       "      <td>1</td>\n",
       "      <td>1</td>\n",
       "      <td>1</td>\n",
       "      <td>0</td>\n",
       "      <td>0</td>\n",
       "      <td>2</td>\n",
       "      <td>1</td>\n",
       "      <td>1</td>\n",
       "      <td>5</td>\n",
       "      <td>2</td>\n",
       "      <td>0</td>\n",
       "      <td>1</td>\n",
       "      <td>1</td>\n",
       "      <td>0</td>\n",
       "      <td>2</td>\n",
       "      <td>3</td>\n",
       "      <td>1</td>\n",
       "      <td>1</td>\n",
       "      <td>2</td>\n",
       "      <td>2</td>\n",
       "      <td>1</td>\n",
       "      <td>1</td>\n",
       "      <td>4</td>\n",
       "      <td>5</td>\n",
       "      <td>1</td>\n",
       "      <td>1</td>\n",
       "    </tr>\n",
       "  </tbody>\n",
       "</table>\n",
       "</div>"
      ],
      "text/plain": [
       "Father's occupation  Student  \\\n",
       "Target                         \n",
       "Dropout                   82   \n",
       "Enrolled                   3   \n",
       "Graduate                  43   \n",
       "\n",
       "Father's occupation  Representatives of the Legislative Power and Executive Bodies, Directors, Directors and Executive Managers  \\\n",
       "Target                                                                                                                            \n",
       "Dropout                                                             48                                                            \n",
       "Enrolled                                                            23                                                            \n",
       "Graduate                                                            63                                                            \n",
       "\n",
       "Father's occupation  Specialists in Intellectual and Scientific Activities  \\\n",
       "Target                                                                       \n",
       "Dropout                                                             70       \n",
       "Enrolled                                                            50       \n",
       "Graduate                                                            77       \n",
       "\n",
       "Father's occupation  Intermediate Level Technicians and Professions  \\\n",
       "Target                                                                \n",
       "Dropout                                                         114   \n",
       "Enrolled                                                         63   \n",
       "Graduate                                                        207   \n",
       "\n",
       "Father's occupation  Administrative staff  \\\n",
       "Target                                      \n",
       "Dropout                               139   \n",
       "Enrolled                               74   \n",
       "Graduate                              173   \n",
       "\n",
       "Father's occupation  Personal Services, Security and Safety Workers, and Sellers  \\\n",
       "Target                                                                             \n",
       "Dropout                                                            148             \n",
       "Enrolled                                                           107             \n",
       "Graduate                                                           261             \n",
       "\n",
       "Father's occupation  Farmers and Skilled Workers in Agriculture, Fisheries, and Forestry  \\\n",
       "Target                                                                                     \n",
       "Dropout                                                             69                     \n",
       "Enrolled                                                            48                     \n",
       "Graduate                                                           125                     \n",
       "\n",
       "Father's occupation  Skilled Workers in Industry, Construction, and Craftsmen  \\\n",
       "Target                                                                          \n",
       "Dropout                                                            184          \n",
       "Enrolled                                                           111          \n",
       "Graduate                                                           371          \n",
       "\n",
       "Father's occupation  Installation and Machine Operators and Assembly Workers  \\\n",
       "Target                                                                         \n",
       "Dropout                                                             94         \n",
       "Enrolled                                                            55         \n",
       "Graduate                                                           169         \n",
       "\n",
       "Father's occupation  Unskilled Workers  Armed Forces Professions  \\\n",
       "Target                                                             \n",
       "Dropout                            323                        85   \n",
       "Enrolled                           163                        54   \n",
       "Graduate                           524                       127   \n",
       "\n",
       "Father's occupation  Other Situation  (blank)  Armed Forces Officers  \\\n",
       "Target                                                                 \n",
       "Dropout                           46       13                      0   \n",
       "Enrolled                           0        2                      0   \n",
       "Graduate                          19        4                      1   \n",
       "\n",
       "Father's occupation  Armed Forces Sergeants  Other Armed Forces personnel  \\\n",
       "Target                                                                      \n",
       "Dropout                                   0                             1   \n",
       "Enrolled                                  1                             1   \n",
       "Graduate                                  1                             2   \n",
       "\n",
       "Father's occupation  Directors of administrative and commercial services  \\\n",
       "Target                                                                     \n",
       "Dropout                                                              1     \n",
       "Enrolled                                                             1     \n",
       "Graduate                                                             0     \n",
       "\n",
       "Father's occupation  Hotel, catering, trade, and other services directors  \\\n",
       "Target                                                                      \n",
       "Dropout                                                              0      \n",
       "Enrolled                                                             0      \n",
       "Graduate                                                             1      \n",
       "\n",
       "Father's occupation  Specialists in the physical sciences, mathematics, engineering, and related techniques  \\\n",
       "Target                                                                                                        \n",
       "Dropout                                                              0                                        \n",
       "Enrolled                                                             1                                        \n",
       "Graduate                                                             0                                        \n",
       "\n",
       "Father's occupation  Health professionals  Teachers  \\\n",
       "Target                                                \n",
       "Dropout                                 0         0   \n",
       "Enrolled                                1         2   \n",
       "Graduate                                1         1   \n",
       "\n",
       "Father's occupation  Specialists in finance, accounting, administrative organization, and public and commercial relations  \\\n",
       "Target                                                                                                                      \n",
       "Dropout                                                              0                                                      \n",
       "Enrolled                                                             0                                                      \n",
       "Graduate                                                             1                                                      \n",
       "\n",
       "Father's occupation  Intermediate level science and engineering technicians and professions  \\\n",
       "Target                                                                                        \n",
       "Dropout                                                              0                        \n",
       "Enrolled                                                             0                        \n",
       "Graduate                                                             1                        \n",
       "\n",
       "Father's occupation  Technicians and professionals of intermediate level of health  \\\n",
       "Target                                                                               \n",
       "Dropout                                                              0               \n",
       "Enrolled                                                             1               \n",
       "Graduate                                                             0               \n",
       "\n",
       "Father's occupation  Intermediate level technicians from legal, social, sports, cultural, and similar services  \\\n",
       "Target                                                                                                           \n",
       "Dropout                                                              0                                           \n",
       "Enrolled                                                             1                                           \n",
       "Graduate                                                             0                                           \n",
       "\n",
       "Father's occupation  Information and communication technology technicians  \\\n",
       "Target                                                                      \n",
       "Dropout                                                              0      \n",
       "Enrolled                                                             1      \n",
       "Graduate                                                             2      \n",
       "\n",
       "Father's occupation  Office workers, secretaries in general, and data processing operators  \\\n",
       "Target                                                                                       \n",
       "Dropout                                                              0                       \n",
       "Enrolled                                                             0                       \n",
       "Graduate                                                             1                       \n",
       "\n",
       "Father's occupation  Data, accounting, statistical, financial services, and registry-related operators  \\\n",
       "Target                                                                                                   \n",
       "Dropout                                                              0                                   \n",
       "Enrolled                                                             0                                   \n",
       "Graduate                                                             1                                   \n",
       "\n",
       "Father's occupation  Other administrative support staff  \\\n",
       "Target                                                    \n",
       "Dropout                                               0   \n",
       "Enrolled                                              3   \n",
       "Graduate                                              5   \n",
       "\n",
       "Father's occupation  Personal service workers  Sellers  \\\n",
       "Target                                                   \n",
       "Dropout                                     0        1   \n",
       "Enrolled                                    0        2   \n",
       "Graduate                                    2        0   \n",
       "\n",
       "Father's occupation  Personal care workers and the like  \\\n",
       "Target                                                    \n",
       "Dropout                                               0   \n",
       "Enrolled                                              0   \n",
       "Graduate                                              1   \n",
       "\n",
       "Father's occupation  Protection and security services personnel  \\\n",
       "Target                                                            \n",
       "Dropout                                                       0   \n",
       "Enrolled                                                      0   \n",
       "Graduate                                                      1   \n",
       "\n",
       "Father's occupation  Market-oriented farmers and skilled agricultural and animal production workers  \\\n",
       "Target                                                                                                \n",
       "Dropout                                                              0                                \n",
       "Enrolled                                                             1                                \n",
       "Graduate                                                             0                                \n",
       "\n",
       "Father's occupation  Farmers, livestock keepers, fishermen, hunters and gatherers, and subsistence  \\\n",
       "Target                                                                                               \n",
       "Dropout                                                              0                               \n",
       "Enrolled                                                             3                               \n",
       "Graduate                                                             2                               \n",
       "\n",
       "Father's occupation  Skilled construction workers and the like, except electricians  \\\n",
       "Target                                                                                \n",
       "Dropout                                                              0                \n",
       "Enrolled                                                             5                \n",
       "Graduate                                                             3                \n",
       "\n",
       "Father's occupation  Skilled workers in metallurgy, metalworking, and similar  \\\n",
       "Target                                                                          \n",
       "Dropout                                                              0          \n",
       "Enrolled                                                             1          \n",
       "Graduate                                                             1          \n",
       "\n",
       "Father's occupation  Skilled workers in electricity and electronics  \\\n",
       "Target                                                                \n",
       "Dropout                                                           0   \n",
       "Enrolled                                                          0   \n",
       "Graduate                                                          1   \n",
       "\n",
       "Father's occupation  Workers in food processing, woodworking, and clothing and other industries and crafts  \\\n",
       "Target                                                                                                       \n",
       "Dropout                                                              0                                       \n",
       "Enrolled                                                             2                                       \n",
       "Graduate                                                             2                                       \n",
       "\n",
       "Father's occupation  Fixed plant and machine operators  Assembly workers  \\\n",
       "Target                                                                     \n",
       "Dropout                                              0                 0   \n",
       "Enrolled                                             1                 1   \n",
       "Graduate                                             2                 1   \n",
       "\n",
       "Father's occupation  Vehicle drivers and mobile equipment operators  \\\n",
       "Target                                                                \n",
       "Dropout                                                           0   \n",
       "Enrolled                                                          2   \n",
       "Graduate                                                          1   \n",
       "\n",
       "Father's occupation  Unskilled workers in agriculture, animal production, and fisheries and forestry  \\\n",
       "Target                                                                                                 \n",
       "Dropout                                                              0                                 \n",
       "Enrolled                                                             2                                 \n",
       "Graduate                                                             4                                 \n",
       "\n",
       "Father's occupation  Unskilled workers in extractive industry, construction, manufacturing, and transport  \\\n",
       "Target                                                                                                      \n",
       "Dropout                                                              2                                      \n",
       "Enrolled                                                             8                                      \n",
       "Graduate                                                             5                                      \n",
       "\n",
       "Father's occupation  Meal preparation assistants  \\\n",
       "Target                                             \n",
       "Dropout                                        1   \n",
       "Enrolled                                       0   \n",
       "Graduate                                       1   \n",
       "\n",
       "Father's occupation  Street vendors (except food) and street service providers  \n",
       "Target                                                                          \n",
       "Dropout                                                              0          \n",
       "Enrolled                                                             0          \n",
       "Graduate                                                             1          "
      ]
     },
     "execution_count": 438,
     "metadata": {},
     "output_type": "execute_result"
    }
   ],
   "source": [
    "#Father's occupation for each target outcome\n",
    "dadparent = pd.crosstab(df['Target'], df[\"Father's occupation\"])\n",
    "dadparent.rename(columns={1:'Student', 2:\"Representatives of the Legislative Power and Executive Bodies, Directors, Directors and Executive Managers\", 3:'Specialists in Intellectual and Scientific Activities', 4:\"Intermediate Level Technicians and Professions\", 5:'Administrative staff', 6:'Personal Services, Security and Safety Workers, and Sellers', 7:'Farmers and Skilled Workers in Agriculture, Fisheries, and Forestry', 8:'Skilled Workers in Industry, Construction, and Craftsmen',\n",
    "9:'Installation and Machine Operators and Assembly Workers', 10:'Unskilled Workers', 11:'Armed Forces Professions', 12:'Other Situation', 13:'(blank)', 14:'Armed Forces Officers', 15:'Armed Forces Sergeants', 16:'Other Armed Forces personnel', 17:'Directors of administrative and commercial services', 18:'Hotel, catering, trade, and other services directors', 19:'Specialists in the physical sciences, mathematics, engineering, and related techniques', 20:'Health professionals',\n",
    "21:'Teachers', 22:'Specialists in finance, accounting, administrative organization, and public and commercial relations', 23:'Intermediate level science and engineering technicians and professions', 24:'Technicians and professionals of intermediate level of health', 25:'Intermediate level technicians from legal, social, sports, cultural, and similar services', 26:'Information and communication technology technicians', 27:'Office workers, secretaries in general, and data processing operators',\n",
    "28:'Data, accounting, statistical, financial services, and registry-related operators', 29:'Other administrative support staff', 30:'Personal service workers', 31:'Sellers', 32:'Personal care workers and the like', 33:'Protection and security services personnel', 34:'Market-oriented farmers and skilled agricultural and animal production workers', 35:'Farmers, livestock keepers, fishermen, hunters and gatherers, and subsistence', 36:'Skilled construction workers and the like, except electricians',\n",
    "37:'Skilled workers in metallurgy, metalworking, and similar', 38:'Skilled workers in electricity and electronics', 39:'Workers in food processing, woodworking, and clothing and other industries and crafts', 40:'Fixed plant and machine operators', 41:'Assembly workers', 42:'Vehicle drivers and mobile equipment operators', 43:'Unskilled workers in agriculture, animal production, and fisheries and forestry', 44:'Unskilled workers in extractive industry, construction, manufacturing, and transport',\n",
    "45:'Meal preparation assistants', 46:'Street vendors (except food) and street service providers'}, inplace=True)\n",
    "dadparent"
   ]
  },
  {
   "cell_type": "code",
   "execution_count": 16,
   "metadata": {},
   "outputs": [
    {
     "data": {
      "text/html": [
       "<div>\n",
       "<style scoped>\n",
       "    .dataframe tbody tr th:only-of-type {\n",
       "        vertical-align: middle;\n",
       "    }\n",
       "\n",
       "    .dataframe tbody tr th {\n",
       "        vertical-align: top;\n",
       "    }\n",
       "\n",
       "    .dataframe thead th {\n",
       "        text-align: right;\n",
       "    }\n",
       "</style>\n",
       "<table border=\"1\" class=\"dataframe\">\n",
       "  <thead>\n",
       "    <tr style=\"text-align: right;\">\n",
       "      <th></th>\n",
       "      <th>10.8</th>\n",
       "      <th>7.6</th>\n",
       "      <th>9.4</th>\n",
       "      <th>12.4</th>\n",
       "      <th>11.1</th>\n",
       "      <th>12.7</th>\n",
       "      <th>13.9</th>\n",
       "      <th>8.9</th>\n",
       "      <th>15.5</th>\n",
       "      <th>16.2</th>\n",
       "    </tr>\n",
       "  </thead>\n",
       "  <tbody>\n",
       "    <tr>\n",
       "      <th>Graduate</th>\n",
       "      <td>253</td>\n",
       "      <td>250</td>\n",
       "      <td>250</td>\n",
       "      <td>248</td>\n",
       "      <td>230</td>\n",
       "      <td>215</td>\n",
       "      <td>208</td>\n",
       "      <td>189</td>\n",
       "      <td>189</td>\n",
       "      <td>177</td>\n",
       "    </tr>\n",
       "    <tr>\n",
       "      <th>Dropout</th>\n",
       "      <td>182</td>\n",
       "      <td>202</td>\n",
       "      <td>174</td>\n",
       "      <td>107</td>\n",
       "      <td>117</td>\n",
       "      <td>141</td>\n",
       "      <td>118</td>\n",
       "      <td>102</td>\n",
       "      <td>139</td>\n",
       "      <td>139</td>\n",
       "    </tr>\n",
       "    <tr>\n",
       "      <th>Enrolled</th>\n",
       "      <td>90</td>\n",
       "      <td>119</td>\n",
       "      <td>109</td>\n",
       "      <td>90</td>\n",
       "      <td>67</td>\n",
       "      <td>63</td>\n",
       "      <td>64</td>\n",
       "      <td>77</td>\n",
       "      <td>69</td>\n",
       "      <td>46</td>\n",
       "    </tr>\n",
       "  </tbody>\n",
       "</table>\n",
       "</div>"
      ],
      "text/plain": [
       "          10.8  7.6   9.4   12.4  11.1  12.7  13.9  8.9   15.5  16.2\n",
       "Graduate   253   250   250   248   230   215   208   189   189   177\n",
       "Dropout    182   202   174   107   117   141   118   102   139   139\n",
       "Enrolled    90   119   109    90    67    63    64    77    69    46"
      ]
     },
     "execution_count": 16,
     "metadata": {},
     "output_type": "execute_result"
    }
   ],
   "source": [
    "#Determining common unemployment rate count for each target outcome\n",
    "#Grouping dataframe for necessary columns\n",
    "target_group = df.groupby(\"Target\")\n",
    "employment_counts = target_group[\"Unemployment rate\"].value_counts()\n",
    "_\n",
    "#Creating dictionaries for each category\n",
    "grad = employment_counts[\"Graduate\"].to_dict()\n",
    "drop = employment_counts[\"Dropout\"].to_dict()\n",
    "enroll = employment_counts[\"Enrolled\"].to_dict()\n",
    "\n",
    "#Creating dataframe from dictionary data\n",
    "grad_cts = pd.DataFrame(grad, index=[\"Graduate\"])\n",
    "drop_cts = pd.DataFrame(drop, index=[\"Dropout\"])\n",
    "enroll_cts = pd.DataFrame(enroll, index=[\"Enrolled\"])\n",
    "\n",
    "status_rate_cts = pd.concat([grad_cts, drop_cts, enroll_cts], axis=0)\n",
    "status_rate_cts"
   ]
  },
  {
   "cell_type": "markdown",
   "metadata": {
    "azdata_cell_guid": "d45060f3-97bc-484a-9ef4-66145bbe9427"
   },
   "source": [
    "## Visualize\n",
    "\n",
    "Create any visualizations for your EDA here. Make note in the form of code comments of what your thought process is for your visualizations."
   ]
  },
  {
   "cell_type": "code",
   "execution_count": 48,
   "metadata": {},
   "outputs": [
    {
     "name": "stderr",
     "output_type": "stream",
     "text": [
      "C:\\Users\\kap19\\AppData\\Local\\Temp\\ipykernel_23732\\2223284724.py:2: FutureWarning:\n",
      "\n",
      "The default value of numeric_only in DataFrame.corr is deprecated. In a future version, it will default to False. Select only valid columns or specify the value of numeric_only to silence this warning.\n",
      "\n"
     ]
    },
    {
     "data": {
      "image/png": "[encoded data removed]",
      "text/plain": [
       "<Figure size 640x480 with 2 Axes>"
      ]
     },
     "metadata": {},
     "output_type": "display_data"
    },
    {
     "data": {
      "text/plain": [
       "<Figure size 3000x2000 with 0 Axes>"
      ]
     },
     "metadata": {},
     "output_type": "display_data"
    }
   ],
   "source": [
    "#Looking for correlation of columns\n",
    "sns.heatmap(df.corr(), cmap=\"crest\")\n",
    "plt.figure(figsize=(30, 20))\n",
    "plt.savefig('heatmap.png')"
   ]
  },
  {
   "cell_type": "code",
   "execution_count": 122,
   "metadata": {},
   "outputs": [
    {
     "data": {
      "application/vnd.plotly.v1+json": {
       "config": {
        "plotlyServerURL": "https://plot.ly"
       },
       "data": [
        {
         "domain": {
          "x": [
           0,
           1
          ],
          "y": [
           0,
           1
          ]
         },
         "hovertemplate": "Target=%{label}<extra></extra>",
         "labels": [
          "Dropout",
          "Graduate",
          "Dropout",
          "Graduate",
          "Graduate",
          "Graduate",
          "Graduate",
          "Dropout",
          "Graduate",
          "Dropout",
          "Graduate",
          "Graduate",
          "Dropout",
          "Graduate",
          "Graduate",
          "Dropout",
          "Enrolled",
          "Graduate",
          "Graduate",
          "Enrolled",
          "Graduate",
          "Enrolled",
          "Graduate",
          "Graduate",
          "Graduate",
          "Enrolled",
          "Graduate",
          "Enrolled",
          "Graduate",
          "Enrolled",
          "Enrolled",
          "Graduate",
          "Enrolled",
          "Graduate",
          "Graduate",
          "Dropout",
          "Dropout",
          "Dropout",
          "Graduate",
          "Dropout",
          "Dropout",
          "Graduate",
          "Graduate",
          "Dropout",
          "Dropout",
          "Enrolled",
          "Graduate",
          "Graduate",
          "Graduate",
          "Graduate",
          "Graduate",
          "Enrolled",
          "Enrolled",
          "Graduate",
          "Dropout",
          "Graduate",
          "Dropout",
          "Dropout",
          "Graduate",
          "Enrolled",
          "Graduate",
          "Graduate",
          "Enrolled",
          "Enrolled",
          "Enrolled",
          "Dropout",
          "Graduate",
          "Graduate",
          "Dropout",
          "Enrolled",
          "Enrolled",
          "Graduate",
          "Dropout",
          "Dropout",
          "Graduate",
          "Dropout",
          "Dropout",
          "Graduate",
          "Graduate",
          "Graduate",
          "Dropout",
          "Dropout",
          "Dropout",
          "Enrolled",
          "Graduate",
          "Graduate",
          "Graduate",
          "Graduate",
          "Enrolled",
          "Enrolled",
          "Dropout",
          "Graduate",
          "Dropout",
          "Dropout",
          "Graduate",
          "Enrolled",
          "Graduate",
          "Graduate",
          "Enrolled",
          "Dropout",
          "Dropout",
          "Graduate",
          "Dropout",
          "Graduate",
          "Dropout",
          "Graduate",
          "Dropout",
          "Dropout",
          "Dropout",
          "Enrolled",
          "Graduate",
          "Enrolled",
          "Graduate",
          "Graduate",
          "Dropout",
          "Enrolled",
          "Enrolled",
          "Enrolled",
          "Graduate",
          "Graduate",
          "Dropout",
          "Graduate",
          "Dropout",
          "Graduate",
          "Graduate",
          "Dropout",
          "Graduate",
          "Enrolled",
          "Graduate",
          "Graduate",
          "Dropout",
          "Graduate",
          "Graduate",
          "Dropout",
          "Graduate",
          "Dropout",
          "Graduate",
          "Graduate",
          "Enrolled",
          "Graduate",
          "Graduate",
          "Graduate",
          "Enrolled",
          "Graduate",
          "Graduate",
          "Graduate",
          "Dropout",
          "Dropout",
          "Graduate",
          "Graduate",
          "Enrolled",
          "Graduate",
          "Enrolled",
          "Graduate",
          "Dropout",
          "Dropout",
          "Graduate",
          "Graduate",
          "Graduate",
          "Graduate",
          "Dropout",
          "Graduate",
          "Graduate",
          "Dropout",
          "Graduate",
          "Graduate",
          "Enrolled",
          "Graduate",
          "Graduate",
          "Dropout",
          "Enrolled",
          "Graduate",
          "Graduate",
          "Graduate",
          "Dropout",
          "Enrolled",
          "Graduate",
          "Dropout",
          "Dropout",
          "Dropout",
          "Graduate",
          "Enrolled",
          "Dropout",
          "Dropout",
          "Dropout",
          "Dropout",
          "Enrolled",
          "Graduate",
          "Dropout",
          "Graduate",
          "Graduate",
          "Enrolled",
          "Dropout",
          "Dropout",
          "Graduate",
          "Dropout",
          "Graduate",
          "Dropout",
          "Graduate",
          "Enrolled",
          "Graduate",
          "Graduate",
          "Graduate",
          "Graduate",
          "Graduate",
          "Graduate",
          "Graduate",
          "Graduate",
          "Graduate",
          "Dropout",
          "Graduate",
          "Graduate",
          "Graduate",
          "Dropout",
          "Graduate",
          "Enrolled",
          "Graduate",
          "Dropout",
          "Dropout",
          "Dropout",
          "Graduate",
          "Graduate",
          "Dropout",
          "Graduate",
          "Graduate",
          "Graduate",
          "Graduate",
          "Graduate",
          "Dropout",
          "Graduate",
          "Graduate",
          "Dropout",
          "Graduate",
          "Graduate",
          "Dropout",
          "Graduate",
          "Graduate",
          "Graduate",
          "Dropout",
          "Dropout",
          "Enrolled",
          "Enrolled",
          "Graduate",
          "Dropout",
          "Graduate",
          "Graduate",
          "Graduate",
          "Dropout",
          "Graduate",
          "Graduate",
          "Enrolled",
          "Dropout",
          "Graduate",
          "Enrolled",
          "Graduate",
          "Dropout",
          "Graduate",
          "Enrolled",
          "Graduate",
          "Dropout",
          "Graduate",
          "Dropout",
          "Dropout",
          "Graduate",
          "Graduate",
          "Graduate",
          "Graduate",
          "Graduate",
          "Graduate",
          "Graduate",
          "Graduate",
          "Dropout",
          "Graduate",
          "Graduate",
          "Graduate",
          "Graduate",
          "Dropout",
          "Dropout",
          "Enrolled",
          "Graduate",
          "Graduate",
          "Graduate",
          "Graduate",
          "Graduate",
          "Graduate",
          "Graduate",
          "Enrolled",
          "Graduate",
          "Graduate",
          "Graduate",
          "Graduate",
          "Graduate",
          "Enrolled",
          "Graduate",
          "Dropout",
          "Graduate",
          "Graduate",
          "Graduate",
          "Graduate",
          "Graduate",
          "Graduate",
          "Graduate",
          "Graduate",
          "Dropout",
          "Dropout",
          "Enrolled",
          "Graduate",
          "Dropout",
          "Graduate",
          "Dropout",
          "Graduate",
          "Dropout",
          "Graduate",
          "Graduate",
          "Dropout",
          "Graduate",
          "Graduate",
          "Graduate",
          "Graduate",
          "Enrolled",
          "Dropout",
          "Graduate",
          "Graduate",
          "Graduate",
          "Enrolled",
          "Graduate",
          "Graduate",
          "Graduate",
          "Enrolled",
          "Enrolled",
          "Enrolled",
          "Dropout",
          "Graduate",
          "Graduate",
          "Graduate",
          "Graduate",
          "Graduate",
          "Graduate",
          "Graduate",
          "Graduate",
          "Enrolled",
          "Dropout",
          "Graduate",
          "Graduate",
          "Enrolled",
          "Graduate",
          "Enrolled",
          "Graduate",
          "Graduate",
          "Enrolled",
          "Dropout",
          "Graduate",
          "Dropout",
          "Graduate",
          "Dropout",
          "Graduate",
          "Graduate",
          "Dropout",
          "Enrolled",
          "Dropout",
          "Graduate",
          "Dropout",
          "Enrolled",
          "Graduate",
          "Enrolled",
          "Graduate",
          "Graduate",
          "Enrolled",
          "Graduate",
          "Dropout",
          "Graduate",
          "Enrolled",
          "Graduate",
          "Graduate",
          "Dropout",
          "Enrolled",
          "Dropout",
          "Graduate",
          "Enrolled",
          "Enrolled",
          "Dropout",
          "Enrolled",
          "Enrolled",
          "Graduate",
          "Graduate",
          "Graduate",
          "Graduate",
          "Graduate",
          "Enrolled",
          "Graduate",
          "Enrolled",
          "Enrolled",
          "Dropout",
          "Dropout",
          "Graduate",
          "Graduate",
          "Graduate",
          "Graduate",
          "Dropout",
          "Dropout",
          "Enrolled",
          "Enrolled",
          "Enrolled",
          "Enrolled",
          "Graduate",
          "Graduate",
          "Graduate",
          "Graduate",
          "Graduate",
          "Dropout",
          "Graduate",
          "Graduate",
          "Graduate",
          "Graduate",
          "Graduate",
          "Graduate",
          "Graduate",
          "Dropout",
          "Graduate",
          "Dropout",
          "Graduate",
          "Graduate",
          "Dropout",
          "Graduate",
          "Graduate",
          "Graduate",
          "Graduate",
          "Enrolled",
          "Dropout",
          "Graduate",
          "Graduate",
          "Graduate",
          "Graduate",
          "Dropout",
          "Graduate",
          "Graduate",
          "Enrolled",
          "Graduate",
          "Dropout",
          "Graduate",
          "Enrolled",
          "Enrolled",
          "Graduate",
          "Graduate",
          "Graduate",
          "Graduate",
          "Graduate",
          "Dropout",
          "Graduate",
          "Enrolled",
          "Graduate",
          "Graduate",
          "Graduate",
          "Graduate",
          "Enrolled",
          "Graduate",
          "Dropout",
          "Dropout",
          "Graduate",
          "Graduate",
          "Graduate",
          "Graduate",
          "Graduate",
          "Graduate",
          "Enrolled",
          "Dropout",
          "Enrolled",
          "Graduate",
          "Graduate",
          "Graduate",
          "Graduate",
          "Graduate",
          "Dropout",
          "Graduate",
          "Dropout",
          "Graduate",
          "Dropout",
          "Dropout",
          "Graduate",
          "Enrolled",
          "Graduate",
          "Graduate",
          "Dropout",
          "Enrolled",
          "Graduate",
          "Graduate",
          "Dropout",
          "Dropout",
          "Graduate",
          "Graduate",
          "Graduate",
          "Graduate",
          "Graduate",
          "Enrolled",
          "Enrolled",
          "Dropout",
          "Dropout",
          "Graduate",
          "Graduate",
          "Graduate",
          "Enrolled",
          "Graduate",
          "Enrolled",
          "Dropout",
          "Graduate",
          "Enrolled",
          "Enrolled",
          "Graduate",
          "Dropout",
          "Dropout",
          "Enrolled",
          "Dropout",
          "Graduate",
          "Dropout",
          "Dropout",
          "Dropout",
          "Graduate",
          "Dropout",
          "Dropout",
          "Dropout",
          "Graduate",
          "Graduate",
          "Graduate",
          "Graduate",
          "Dropout",
          "Dropout",
          "Enrolled",
          "Graduate",
          "Dropout",
          "Dropout",
          "Enrolled",
          "Dropout",
          "Graduate",
          "Dropout",
          "Graduate",
          "Graduate",
          "Dropout",
          "Graduate",
          "Graduate",
          "Dropout",
          "Graduate",
          "Enrolled",
          "Graduate",
          "Graduate",
          "Enrolled",
          "Enrolled",
          "Enrolled",
          "Enrolled",
          "Enrolled",
          "Graduate",
          "Dropout",
          "Dropout",
          "Dropout",
          "Dropout",
          "Dropout",
          "Dropout",
          "Enrolled",
          "Graduate",
          "Enrolled",
          "Graduate",
          "Graduate",
          "Enrolled",
          "Dropout",
          "Graduate",
          "Graduate",
          "Graduate",
          "Dropout",
          "Dropout",
          "Graduate",
          "Graduate",
          "Graduate",
          "Dropout",
          "Dropout",
          "Enrolled",
          "Graduate",
          "Dropout",
          "Graduate",
          "Enrolled",
          "Graduate",
          "Graduate",
          "Dropout",
          "Graduate",
          "Enrolled",
          "Graduate",
          "Graduate",
          "Graduate",
          "Graduate",
          "Graduate",
          "Graduate",
          "Graduate",
          "Graduate",
          "Enrolled",
          "Graduate",
          "Enrolled",
          "Enrolled",
          "Dropout",
          "Dropout",
          "Dropout",
          "Graduate",
          "Graduate",
          "Dropout",
          "Dropout",
          "Graduate",
          "Graduate",
          "Graduate",
          "Dropout",
          "Dropout",
          "Graduate",
          "Dropout",
          "Enrolled",
          "Graduate",
          "Graduate",
          "Graduate",
          "Enrolled",
          "Graduate",
          "Graduate",
          "Graduate",
          "Graduate",
          "Graduate",
          "Enrolled",
          "Graduate",
          "Dropout",
          "Dropout",
          "Graduate",
          "Dropout",
          "Dropout",
          "Graduate",
          "Graduate",
          "Graduate",
          "Graduate",
          "Graduate",
          "Enrolled",
          "Graduate",
          "Graduate",
          "Graduate",
          "Graduate",
          "Graduate",
          "Enrolled",
          "Graduate",
          "Dropout",
          "Dropout",
          "Enrolled",
          "Enrolled",
          "Enrolled",
          "Dropout",
          "Enrolled",
          "Enrolled",
          "Graduate",
          "Graduate",
          "Graduate",
          "Graduate",
          "Enrolled",
          "Graduate",
          "Graduate",
          "Graduate",
          "Enrolled",
          "Enrolled",
          "Graduate",
          "Graduate",
          "Dropout",
          "Graduate",
          "Enrolled",
          "Graduate",
          "Graduate",
          "Graduate",
          "Graduate",
          "Dropout",
          "Graduate",
          "Dropout",
          "Graduate",
          "Graduate",
          "Dropout",
          "Graduate",
          "Graduate",
          "Graduate",
          "Dropout",
          "Graduate",
          "Enrolled",
          "Dropout",
          "Graduate",
          "Graduate",
          "Graduate",
          "Dropout",
          "Dropout",
          "Graduate",
          "Graduate",
          "Dropout",
          "Graduate",
          "Graduate",
          "Dropout",
          "Dropout",
          "Graduate",
          "Enrolled",
          "Dropout",
          "Graduate",
          "Dropout",
          "Graduate",
          "Enrolled",
          "Graduate",
          "Dropout",
          "Enrolled",
          "Dropout",
          "Dropout",
          "Dropout",
          "Graduate",
          "Dropout",
          "Graduate",
          "Graduate",
          "Graduate",
          "Dropout",
          "Dropout",
          "Dropout",
          "Graduate",
          "Graduate",
          "Graduate",
          "Graduate",
          "Dropout",
          "Dropout",
          "Enrolled",
          "Enrolled",
          "Dropout",
          "Enrolled",
          "Graduate",
          "Dropout",
          "Dropout",
          "Graduate",
          "Graduate",
          "Dropout",
          "Graduate",
          "Enrolled",
          "Dropout",
          "Graduate",
          "Graduate",
          "Graduate",
          "Dropout",
          "Graduate",
          "Enrolled",
          "Dropout",
          "Enrolled",
          "Dropout",
          "Dropout",
          "Graduate",
          "Dropout",
          "Dropout",
          "Graduate",
          "Dropout",
          "Dropout",
          "Graduate",
          "Dropout",
          "Graduate",
          "Graduate",
          "Graduate",
          "Graduate",
          "Dropout",
          "Graduate",
          "Dropout",
          "Dropout",
          "Dropout",
          "Graduate",
          "Graduate",
          "Graduate",
          "Enrolled",
          "Graduate",
          "Enrolled",
          "Graduate",
          "Enrolled",
          "Enrolled",
          "Graduate",
          "Graduate",
          "Graduate",
          "Graduate",
          "Dropout",
          "Enrolled",
          "Graduate",
          "Enrolled",
          "Dropout",
          "Graduate",
          "Dropout",
          "Enrolled",
          "Graduate",
          "Graduate",
          "Dropout",
          "Graduate",
          "Enrolled",
          "Graduate",
          "Graduate",
          "Graduate",
          "Graduate",
          "Dropout",
          "Graduate",
          "Graduate",
          "Dropout",
          "Graduate",
          "Graduate",
          "Graduate",
          "Graduate",
          "Graduate",
          "Graduate",
          "Graduate",
          "Enrolled",
          "Enrolled",
          "Dropout",
          "Graduate",
          "Graduate",
          "Graduate",
          "Enrolled",
          "Graduate",
          "Enrolled",
          "Dropout",
          "Enrolled",
          "Dropout",
          "Graduate",
          "Graduate",
          "Graduate",
          "Graduate",
          "Enrolled",
          "Enrolled",
          "Graduate",
          "Enrolled",
          "Graduate",
          "Graduate",
          "Graduate",
          "Enrolled",
          "Graduate",
          "Graduate",
          "Graduate",
          "Dropout",
          "Graduate",
          "Graduate",
          "Dropout",
          "Dropout",
          "Dropout",
          "Enrolled",
          "Dropout",
          "Dropout",
          "Enrolled",
          "Dropout",
          "Enrolled",
          "Dropout",
          "Graduate",
          "Dropout",
          "Enrolled",
          "Dropout",
          "Graduate",
          "Graduate",
          "Dropout",
          "Graduate",
          "Graduate",
          "Enrolled",
          "Graduate",
          "Graduate",
          "Enrolled",
          "Graduate",
          "Graduate",
          "Enrolled",
          "Dropout",
          "Dropout",
          "Dropout",
          "Dropout",
          "Dropout",
          "Dropout",
          "Dropout",
          "Dropout",
          "Dropout",
          "Dropout",
          "Graduate",
          "Dropout",
          "Dropout",
          "Graduate",
          "Graduate",
          "Graduate",
          "Dropout",
          "Graduate",
          "Enrolled",
          "Graduate",
          "Graduate",
          "Dropout",
          "Dropout",
          "Graduate",
          "Dropout",
          "Graduate",
          "Graduate",
          "Dropout",
          "Dropout",
          "Graduate",
          "Graduate",
          "Graduate",
          "Graduate",
          "Graduate",
          "Graduate",
          "Graduate",
          "Dropout",
          "Graduate",
          "Dropout",
          "Graduate",
          "Dropout",
          "Graduate",
          "Graduate",
          "Enrolled",
          "Graduate",
          "Dropout",
          "Graduate",
          "Graduate",
          "Graduate",
          "Dropout",
          "Graduate",
          "Dropout",
          "Graduate",
          "Enrolled",
          "Dropout",
          "Graduate",
          "Graduate",
          "Dropout",
          "Graduate",
          "Dropout",
          "Graduate",
          "Dropout",
          "Dropout",
          "Graduate",
          "Graduate",
          "Graduate",
          "Graduate",
          "Dropout",
          "Dropout",
          "Enrolled",
          "Graduate",
          "Dropout",
          "Enrolled",
          "Enrolled",
          "Dropout",
          "Enrolled",
          "Graduate",
          "Graduate",
          "Dropout",
          "Enrolled",
          "Graduate",
          "Dropout",
          "Enrolled",
          "Enrolled",
          "Dropout",
          "Graduate",
          "Graduate",
          "Enrolled",
          "Dropout",
          "Graduate",
          "Graduate",
          "Graduate",
          "Dropout",
          "Graduate",
          "Dropout",
          "Graduate",
          "Dropout",
          "Graduate",
          "Dropout",
          "Dropout",
          "Dropout",
          "Graduate",
          "Graduate",
          "Graduate",
          "Dropout",
          "Dropout",
          "Graduate",
          "Graduate",
          "Enrolled",
          "Graduate",
          "Graduate",
          "Dropout",
          "Dropout",
          "Dropout",
          "Enrolled",
          "Graduate",
          "Dropout",
          "Dropout",
          "Graduate",
          "Graduate",
          "Enrolled",
          "Graduate",
          "Graduate",
          "Dropout",
          "Graduate",
          "Dropout",
          "Enrolled",
          "Graduate",
          "Enrolled",
          "Dropout",
          "Graduate",
          "Graduate",
          "Dropout",
          "Dropout",
          "Dropout",
          "Graduate",
          "Graduate",
          "Dropout",
          "Graduate",
          "Graduate",
          "Graduate",
          "Enrolled",
          "Enrolled",
          "Graduate",
          "Dropout",
          "Dropout",
          "Dropout",
          "Graduate",
          "Graduate",
          "Dropout",
          "Graduate",
          "Graduate",
          "Graduate",
          "Graduate",
          "Graduate",
          "Graduate",
          "Graduate",
          "Graduate",
          "Dropout",
          "Graduate",
          "Graduate",
          "Dropout",
          "Graduate",
          "Dropout",
          "Graduate",
          "Graduate",
          "Graduate",
          "Graduate",
          "Graduate",
          "Graduate",
          "Dropout",
          "Graduate",
          "Graduate",
          "Graduate",
          "Graduate",
          "Graduate",
          "Enrolled",
          "Graduate",
          "Graduate",
          "Dropout",
          "Enrolled",
          "Dropout",
          "Graduate",
          "Graduate",
          "Enrolled",
          "Graduate",
          "Graduate",
          "Graduate",
          "Graduate",
          "Graduate",
          "Dropout",
          "Dropout",
          "Graduate",
          "Graduate",
          "Graduate",
          "Graduate",
          "Graduate",
          "Dropout",
          "Graduate",
          "Graduate",
          "Graduate",
          "Dropout",
          "Graduate",
          "Dropout",
          "Graduate",
          "Dropout",
          "Dropout",
          "Graduate",
          "Graduate",
          "Enrolled",
          "Dropout",
          "Graduate",
          "Graduate",
          "Graduate",
          "Graduate",
          "Graduate",
          "Graduate",
          "Enrolled",
          "Graduate",
          "Graduate",
          "Graduate",
          "Dropout",
          "Dropout",
          "Dropout",
          "Graduate",
          "Graduate",
          "Graduate",
          "Enrolled",
          "Graduate",
          "Graduate",
          "Dropout",
          "Graduate",
          "Graduate",
          "Enrolled",
          "Enrolled",
          "Graduate",
          "Dropout",
          "Graduate",
          "Dropout",
          "Graduate",
          "Dropout",
          "Dropout",
          "Graduate",
          "Graduate",
          "Graduate",
          "Dropout",
          "Dropout",
          "Enrolled",
          "Enrolled",
          "Graduate",
          "Dropout",
          "Dropout",
          "Graduate",
          "Dropout",
          "Graduate",
          "Graduate",
          "Graduate",
          "Enrolled",
          "Enrolled",
          "Graduate",
          "Graduate",
          "Dropout",
          "Graduate",
          "Enrolled",
          "Graduate",
          "Enrolled",
          "Graduate",
          "Graduate",
          "Graduate",
          "Graduate",
          "Graduate",
          "Graduate",
          "Graduate",
          "Graduate",
          "Graduate",
          "Graduate",
          "Graduate",
          "Enrolled",
          "Graduate",
          "Dropout",
          "Dropout",
          "Graduate",
          "Dropout",
          "Graduate",
          "Graduate",
          "Graduate",
          "Enrolled",
          "Dropout",
          "Graduate",
          "Enrolled",
          "Graduate",
          "Enrolled",
          "Graduate",
          "Enrolled",
          "Graduate",
          "Graduate",
          "Dropout",
          "Enrolled",
          "Enrolled",
          "Graduate",
          "Enrolled",
          "Dropout",
          "Graduate",
          "Graduate",
          "Graduate",
          "Graduate",
          "Enrolled",
          "Graduate",
          "Graduate",
          "Dropout",
          "Graduate",
          "Dropout",
          "Graduate",
          "Dropout",
          "Graduate",
          "Graduate",
          "Graduate",
          "Dropout",
          "Enrolled",
          "Graduate",
          "Dropout",
          "Graduate",
          "Graduate",
          "Dropout",
          "Graduate",
          "Dropout",
          "Graduate",
          "Graduate",
          "Dropout",
          "Enrolled",
          "Graduate",
          "Enrolled",
          "Dropout",
          "Graduate",
          "Graduate",
          "Dropout",
          "Graduate",
          "Graduate",
          "Graduate",
          "Graduate",
          "Enrolled",
          "Dropout",
          "Dropout",
          "Graduate",
          "Graduate",
          "Graduate",
          "Graduate",
          "Dropout",
          "Graduate",
          "Dropout",
          "Graduate",
          "Graduate",
          "Enrolled",
          "Dropout",
          "Dropout",
          "Dropout",
          "Enrolled",
          "Graduate",
          "Graduate",
          "Enrolled",
          "Graduate",
          "Graduate",
          "Graduate",
          "Graduate",
          "Graduate",
          "Dropout",
          "Graduate",
          "Dropout",
          "Graduate",
          "Graduate",
          "Graduate",
          "Graduate",
          "Graduate",
          "Graduate",
          "Enrolled",
          "Graduate",
          "Graduate",
          "Graduate",
          "Graduate",
          "Graduate",
          "Dropout",
          "Graduate",
          "Dropout",
          "Graduate",
          "Dropout",
          "Dropout",
          "Dropout",
          "Enrolled",
          "Graduate",
          "Dropout",
          "Dropout",
          "Graduate",
          "Dropout",
          "Enrolled",
          "Dropout",
          "Graduate",
          "Graduate",
          "Graduate",
          "Graduate",
          "Enrolled",
          "Dropout",
          "Graduate",
          "Graduate",
          "Graduate",
          "Graduate",
          "Graduate",
          "Dropout",
          "Dropout",
          "Graduate",
          "Graduate",
          "Graduate",
          "Graduate",
          "Graduate",
          "Enrolled",
          "Dropout",
          "Enrolled",
          "Graduate",
          "Dropout",
          "Dropout",
          "Graduate",
          "Graduate",
          "Graduate",
          "Dropout",
          "Enrolled",
          "Graduate",
          "Graduate",
          "Graduate",
          "Dropout",
          "Graduate",
          "Graduate",
          "Dropout",
          "Enrolled",
          "Graduate",
          "Graduate",
          "Graduate",
          "Enrolled",
          "Graduate",
          "Dropout",
          "Graduate",
          "Dropout",
          "Dropout",
          "Dropout",
          "Dropout",
          "Graduate",
          "Enrolled",
          "Dropout",
          "Dropout",
          "Graduate",
          "Graduate",
          "Graduate",
          "Graduate",
          "Graduate",
          "Graduate",
          "Graduate",
          "Graduate",
          "Graduate",
          "Graduate",
          "Graduate",
          "Dropout",
          "Enrolled",
          "Graduate",
          "Enrolled",
          "Dropout",
          "Dropout",
          "Graduate",
          "Graduate",
          "Enrolled",
          "Graduate",
          "Graduate",
          "Enrolled",
          "Graduate",
          "Enrolled",
          "Dropout",
          "Graduate",
          "Enrolled",
          "Graduate",
          "Graduate",
          "Dropout",
          "Enrolled",
          "Graduate",
          "Enrolled",
          "Enrolled",
          "Enrolled",
          "Dropout",
          "Graduate",
          "Graduate",
          "Graduate",
          "Graduate",
          "Graduate",
          "Dropout",
          "Graduate",
          "Graduate",
          "Enrolled",
          "Enrolled",
          "Graduate",
          "Graduate",
          "Graduate",
          "Graduate",
          "Dropout",
          "Enrolled",
          "Enrolled",
          "Dropout",
          "Dropout",
          "Dropout",
          "Dropout",
          "Dropout",
          "Graduate",
          "Dropout",
          "Graduate",
          "Graduate",
          "Dropout",
          "Dropout",
          "Graduate",
          "Dropout",
          "Graduate",
          "Graduate",
          "Graduate",
          "Graduate",
          "Graduate",
          "Dropout",
          "Dropout",
          "Enrolled",
          "Graduate",
          "Dropout",
          "Dropout",
          "Graduate",
          "Dropout",
          "Graduate",
          "Graduate",
          "Graduate",
          "Dropout",
          "Dropout",
          "Graduate",
          "Dropout",
          "Enrolled",
          "Graduate",
          "Graduate",
          "Dropout",
          "Graduate",
          "Graduate",
          "Graduate",
          "Enrolled",
          "Graduate",
          "Graduate",
          "Graduate",
          "Enrolled",
          "Graduate",
          "Graduate",
          "Graduate",
          "Dropout",
          "Dropout",
          "Graduate",
          "Enrolled",
          "Dropout",
          "Graduate",
          "Dropout",
          "Graduate",
          "Graduate",
          "Enrolled",
          "Graduate",
          "Graduate",
          "Dropout",
          "Graduate",
          "Graduate",
          "Dropout",
          "Dropout",
          "Enrolled",
          "Graduate",
          "Graduate",
          "Enrolled",
          "Graduate",
          "Graduate",
          "Enrolled",
          "Enrolled",
          "Graduate",
          "Graduate",
          "Dropout",
          "Enrolled",
          "Graduate",
          "Enrolled",
          "Dropout",
          "Enrolled",
          "Graduate",
          "Graduate",
          "Graduate",
          "Graduate",
          "Graduate",
          "Graduate",
          "Dropout",
          "Graduate",
          "Dropout",
          "Dropout",
          "Dropout",
          "Dropout",
          "Graduate",
          "Dropout",
          "Graduate",
          "Dropout",
          "Graduate",
          "Enrolled",
          "Dropout",
          "Enrolled",
          "Enrolled",
          "Enrolled",
          "Dropout",
          "Dropout",
          "Graduate",
          "Enrolled",
          "Dropout",
          "Enrolled",
          "Graduate",
          "Dropout",
          "Enrolled",
          "Graduate",
          "Graduate",
          "Enrolled",
          "Enrolled",
          "Graduate",
          "Dropout",
          "Enrolled",
          "Graduate",
          "Dropout",
          "Graduate",
          "Dropout",
          "Dropout",
          "Dropout",
          "Graduate",
          "Graduate",
          "Graduate",
          "Graduate",
          "Graduate",
          "Graduate",
          "Enrolled",
          "Dropout",
          "Graduate",
          "Graduate",
          "Graduate",
          "Dropout",
          "Graduate",
          "Dropout",
          "Graduate",
          "Graduate",
          "Graduate",
          "Enrolled",
          "Graduate",
          "Graduate",
          "Dropout",
          "Graduate",
          "Enrolled",
          "Enrolled",
          "Dropout",
          "Enrolled",
          "Graduate",
          "Graduate",
          "Dropout",
          "Dropout",
          "Enrolled",
          "Graduate",
          "Graduate",
          "Dropout",
          "Graduate",
          "Dropout",
          "Graduate",
          "Enrolled",
          "Dropout",
          "Dropout",
          "Graduate",
          "Dropout",
          "Dropout",
          "Enrolled",
          "Graduate",
          "Dropout",
          "Graduate",
          "Graduate",
          "Dropout",
          "Enrolled",
          "Graduate",
          "Graduate",
          "Enrolled",
          "Graduate",
          "Enrolled",
          "Dropout",
          "Graduate",
          "Dropout",
          "Dropout",
          "Dropout",
          "Dropout",
          "Dropout",
          "Dropout",
          "Dropout",
          "Graduate",
          "Enrolled",
          "Dropout",
          "Dropout",
          "Dropout",
          "Graduate",
          "Graduate",
          "Graduate",
          "Graduate",
          "Graduate",
          "Graduate",
          "Dropout",
          "Enrolled",
          "Dropout",
          "Graduate",
          "Enrolled",
          "Enrolled",
          "Graduate",
          "Enrolled",
          "Enrolled",
          "Graduate",
          "Graduate",
          "Graduate",
          "Enrolled",
          "Dropout",
          "Enrolled",
          "Dropout",
          "Dropout",
          "Dropout",
          "Graduate",
          "Graduate",
          "Dropout",
          "Enrolled",
          "Dropout",
          "Enrolled",
          "Graduate",
          "Enrolled",
          "Dropout",
          "Dropout",
          "Graduate",
          "Graduate",
          "Enrolled",
          "Enrolled",
          "Dropout",
          "Graduate",
          "Dropout",
          "Dropout",
          "Enrolled",
          "Dropout",
          "Enrolled",
          "Enrolled",
          "Enrolled",
          "Graduate",
          "Dropout",
          "Dropout",
          "Graduate",
          "Enrolled",
          "Enrolled",
          "Graduate",
          "Dropout",
          "Enrolled",
          "Graduate",
          "Graduate",
          "Enrolled",
          "Graduate",
          "Dropout",
          "Enrolled",
          "Graduate",
          "Dropout",
          "Graduate",
          "Dropout",
          "Graduate",
          "Dropout",
          "Dropout",
          "Graduate",
          "Graduate",
          "Graduate",
          "Dropout",
          "Dropout",
          "Dropout",
          "Dropout",
          "Graduate",
          "Dropout",
          "Dropout",
          "Dropout",
          "Graduate",
          "Dropout",
          "Graduate",
          "Enrolled",
          "Graduate",
          "Graduate",
          "Graduate",
          "Graduate",
          "Dropout",
          "Graduate",
          "Graduate",
          "Graduate",
          "Graduate",
          "Graduate",
          "Dropout",
          "Dropout",
          "Graduate",
          "Graduate",
          "Dropout",
          "Graduate",
          "Enrolled",
          "Graduate",
          "Enrolled",
          "Graduate",
          "Dropout",
          "Graduate",
          "Graduate",
          "Enrolled",
          "Graduate",
          "Enrolled",
          "Graduate",
          "Graduate",
          "Graduate",
          "Graduate",
          "Graduate",
          "Enrolled",
          "Graduate",
          "Graduate",
          "Dropout",
          "Graduate",
          "Enrolled",
          "Graduate",
          "Dropout",
          "Graduate",
          "Graduate",
          "Dropout",
          "Dropout",
          "Graduate",
          "Graduate",
          "Dropout",
          "Enrolled",
          "Enrolled",
          "Dropout",
          "Dropout",
          "Graduate",
          "Graduate",
          "Graduate",
          "Dropout",
          "Enrolled",
          "Dropout",
          "Dropout",
          "Dropout",
          "Graduate",
          "Enrolled",
          "Dropout",
          "Graduate",
          "Graduate",
          "Dropout",
          "Dropout",
          "Dropout",
          "Graduate",
          "Graduate",
          "Dropout",
          "Graduate",
          "Graduate",
          "Enrolled",
          "Dropout",
          "Enrolled",
          "Dropout",
          "Graduate",
          "Enrolled",
          "Graduate",
          "Dropout",
          "Enrolled",
          "Graduate",
          "Graduate",
          "Graduate",
          "Enrolled",
          "Dropout",
          "Dropout",
          "Graduate",
          "Graduate",
          "Graduate",
          "Graduate",
          "Graduate",
          "Dropout",
          "Graduate",
          "Enrolled",
          "Dropout",
          "Graduate",
          "Graduate",
          "Dropout",
          "Dropout",
          "Enrolled",
          "Dropout",
          "Graduate",
          "Graduate",
          "Enrolled",
          "Graduate",
          "Dropout",
          "Dropout",
          "Enrolled",
          "Dropout",
          "Dropout",
          "Dropout",
          "Dropout",
          "Dropout",
          "Dropout",
          "Dropout",
          "Dropout",
          "Enrolled",
          "Graduate",
          "Enrolled",
          "Enrolled",
          "Dropout",
          "Enrolled",
          "Enrolled",
          "Dropout",
          "Graduate",
          "Graduate",
          "Graduate",
          "Dropout",
          "Graduate",
          "Graduate",
          "Graduate",
          "Dropout",
          "Dropout",
          "Enrolled",
          "Dropout",
          "Enrolled",
          "Enrolled",
          "Enrolled",
          "Graduate",
          "Enrolled",
          "Enrolled",
          "Dropout",
          "Graduate",
          "Dropout",
          "Graduate",
          "Graduate",
          "Enrolled",
          "Graduate",
          "Dropout",
          "Enrolled",
          "Dropout",
          "Enrolled",
          "Dropout",
          "Graduate",
          "Dropout",
          "Graduate",
          "Graduate",
          "Dropout",
          "Dropout",
          "Dropout",
          "Enrolled",
          "Graduate",
          "Graduate",
          "Dropout",
          "Dropout",
          "Dropout",
          "Dropout",
          "Graduate",
          "Graduate",
          "Dropout",
          "Dropout",
          "Dropout",
          "Enrolled",
          "Dropout",
          "Enrolled",
          "Graduate",
          "Graduate",
          "Graduate",
          "Dropout",
          "Graduate",
          "Dropout",
          "Enrolled",
          "Graduate",
          "Graduate",
          "Dropout",
          "Dropout",
          "Enrolled",
          "Enrolled",
          "Enrolled",
          "Dropout",
          "Graduate",
          "Graduate",
          "Graduate",
          "Enrolled",
          "Dropout",
          "Enrolled",
          "Dropout",
          "Graduate",
          "Graduate",
          "Dropout",
          "Graduate",
          "Graduate",
          "Graduate",
          "Enrolled",
          "Graduate",
          "Graduate",
          "Dropout",
          "Dropout",
          "Graduate",
          "Enrolled",
          "Graduate",
          "Dropout",
          "Dropout",
          "Dropout",
          "Graduate",
          "Enrolled",
          "Dropout",
          "Dropout",
          "Graduate",
          "Graduate",
          "Dropout",
          "Dropout",
          "Graduate",
          "Graduate",
          "Graduate",
          "Enrolled",
          "Dropout",
          "Enrolled",
          "Dropout",
          "Graduate",
          "Dropout",
          "Graduate",
          "Dropout",
          "Dropout",
          "Graduate",
          "Graduate",
          "Dropout",
          "Dropout",
          "Graduate",
          "Dropout",
          "Graduate",
          "Graduate",
          "Dropout",
          "Dropout",
          "Dropout",
          "Graduate",
          "Enrolled",
          "Dropout",
          "Dropout",
          "Graduate",
          "Enrolled",
          "Graduate",
          "Dropout",
          "Dropout",
          "Graduate",
          "Graduate",
          "Graduate",
          "Graduate",
          "Dropout",
          "Enrolled",
          "Graduate",
          "Enrolled",
          "Enrolled",
          "Dropout",
          "Graduate",
          "Graduate",
          "Graduate",
          "Graduate",
          "Graduate",
          "Graduate",
          "Graduate",
          "Graduate",
          "Graduate",
          "Graduate",
          "Enrolled",
          "Graduate",
          "Graduate",
          "Graduate",
          "Graduate",
          "Dropout",
          "Graduate",
          "Graduate",
          "Graduate",
          "Graduate",
          "Graduate",
          "Enrolled",
          "Enrolled",
          "Graduate",
          "Enrolled",
          "Graduate",
          "Dropout",
          "Graduate",
          "Graduate",
          "Graduate",
          "Enrolled",
          "Graduate",
          "Graduate",
          "Graduate",
          "Graduate",
          "Graduate",
          "Graduate",
          "Graduate",
          "Graduate",
          "Graduate",
          "Dropout",
          "Graduate",
          "Graduate",
          "Graduate",
          "Graduate",
          "Graduate",
          "Dropout",
          "Graduate",
          "Graduate",
          "Graduate",
          "Graduate",
          "Graduate",
          "Dropout",
          "Dropout",
          "Dropout",
          "Graduate",
          "Enrolled",
          "Graduate",
          "Enrolled",
          "Graduate",
          "Dropout",
          "Enrolled",
          "Graduate",
          "Enrolled",
          "Graduate",
          "Graduate",
          "Graduate",
          "Graduate",
          "Graduate",
          "Enrolled",
          "Enrolled",
          "Graduate",
          "Enrolled",
          "Graduate",
          "Dropout",
          "Graduate",
          "Graduate",
          "Dropout",
          "Enrolled",
          "Graduate",
          "Enrolled",
          "Graduate",
          "Graduate",
          "Graduate",
          "Graduate",
          "Graduate",
          "Graduate",
          "Graduate",
          "Graduate",
          "Enrolled",
          "Graduate",
          "Enrolled",
          "Graduate",
          "Dropout",
          "Enrolled",
          "Graduate",
          "Dropout",
          "Graduate",
          "Graduate",
          "Graduate",
          "Dropout",
          "Graduate",
          "Dropout",
          "Dropout",
          "Graduate",
          "Dropout",
          "Dropout",
          "Graduate",
          "Graduate",
          "Graduate",
          "Graduate",
          "Dropout",
          "Graduate",
          "Graduate",
          "Dropout",
          "Dropout",
          "Dropout",
          "Graduate",
          "Graduate",
          "Graduate",
          "Enrolled",
          "Graduate",
          "Dropout",
          "Dropout",
          "Dropout",
          "Graduate",
          "Enrolled",
          "Graduate",
          "Graduate",
          "Enrolled",
          "Graduate",
          "Graduate",
          "Graduate",
          "Dropout",
          "Graduate",
          "Dropout",
          "Graduate",
          "Enrolled",
          "Dropout",
          "Dropout",
          "Graduate",
          "Graduate",
          "Dropout",
          "Graduate",
          "Graduate",
          "Graduate",
          "Graduate",
          "Graduate",
          "Dropout",
          "Dropout",
          "Graduate",
          "Graduate",
          "Graduate",
          "Graduate",
          "Dropout",
          "Enrolled",
          "Graduate",
          "Graduate",
          "Graduate",
          "Enrolled",
          "Graduate",
          "Dropout",
          "Graduate",
          "Graduate",
          "Graduate",
          "Graduate",
          "Graduate",
          "Graduate",
          "Graduate",
          "Graduate",
          "Enrolled",
          "Dropout",
          "Graduate",
          "Graduate",
          "Graduate",
          "Graduate",
          "Graduate",
          "Graduate",
          "Graduate",
          "Graduate",
          "Graduate",
          "Graduate",
          "Graduate",
          "Graduate",
          "Graduate",
          "Graduate",
          "Graduate",
          "Dropout",
          "Dropout",
          "Dropout",
          "Graduate",
          "Dropout",
          "Graduate",
          "Enrolled",
          "Graduate",
          "Graduate",
          "Dropout",
          "Graduate",
          "Dropout",
          "Graduate",
          "Graduate",
          "Dropout",
          "Enrolled",
          "Graduate",
          "Graduate",
          "Dropout",
          "Graduate",
          "Enrolled",
          "Enrolled",
          "Graduate",
          "Enrolled",
          "Graduate",
          "Enrolled",
          "Graduate",
          "Graduate",
          "Graduate",
          "Dropout",
          "Dropout",
          "Graduate",
          "Dropout",
          "Graduate",
          "Enrolled",
          "Dropout",
          "Graduate",
          "Graduate",
          "Dropout",
          "Graduate",
          "Dropout",
          "Dropout",
          "Dropout",
          "Dropout",
          "Graduate",
          "Enrolled",
          "Graduate",
          "Graduate",
          "Graduate",
          "Graduate",
          "Dropout",
          "Graduate",
          "Graduate",
          "Graduate",
          "Dropout",
          "Enrolled",
          "Graduate",
          "Graduate",
          "Graduate",
          "Graduate",
          "Enrolled",
          "Graduate",
          "Graduate",
          "Graduate",
          "Graduate",
          "Graduate",
          "Enrolled",
          "Graduate",
          "Graduate",
          "Graduate",
          "Graduate",
          "Enrolled",
          "Graduate",
          "Graduate",
          "Dropout",
          "Graduate",
          "Dropout",
          "Dropout",
          "Graduate",
          "Graduate",
          "Graduate",
          "Graduate",
          "Graduate",
          "Graduate",
          "Graduate",
          "Graduate",
          "Graduate",
          "Graduate",
          "Dropout",
          "Graduate",
          "Graduate",
          "Graduate",
          "Dropout",
          "Graduate",
          "Graduate",
          "Dropout",
          "Graduate",
          "Graduate",
          "Dropout",
          "Enrolled",
          "Graduate",
          "Enrolled",
          "Graduate",
          "Graduate",
          "Dropout",
          "Enrolled",
          "Dropout",
          "Dropout",
          "Enrolled",
          "Graduate",
          "Enrolled",
          "Enrolled",
          "Enrolled",
          "Dropout",
          "Dropout",
          "Dropout",
          "Graduate",
          "Graduate",
          "Dropout",
          "Graduate",
          "Enrolled",
          "Dropout",
          "Enrolled",
          "Enrolled",
          "Dropout",
          "Graduate",
          "Graduate",
          "Enrolled",
          "Dropout",
          "Graduate",
          "Enrolled",
          "Graduate",
          "Dropout",
          "Graduate",
          "Graduate",
          "Graduate",
          "Graduate",
          "Enrolled",
          "Dropout",
          "Graduate",
          "Dropout",
          "Graduate",
          "Dropout",
          "Dropout",
          "Graduate",
          "Graduate",
          "Dropout",
          "Dropout",
          "Dropout",
          "Enrolled",
          "Graduate",
          "Enrolled",
          "Dropout",
          "Enrolled",
          "Enrolled",
          "Graduate",
          "Enrolled",
          "Enrolled",
          "Graduate",
          "Dropout",
          "Graduate",
          "Enrolled",
          "Enrolled",
          "Dropout",
          "Graduate",
          "Dropout",
          "Dropout",
          "Dropout",
          "Dropout",
          "Dropout",
          "Dropout",
          "Dropout",
          "Enrolled",
          "Dropout",
          "Graduate",
          "Enrolled",
          "Dropout",
          "Dropout",
          "Dropout",
          "Enrolled",
          "Enrolled",
          "Dropout",
          "Dropout",
          "Dropout",
          "Dropout",
          "Dropout",
          "Graduate",
          "Dropout",
          "Dropout",
          "Dropout",
          "Dropout",
          "Graduate",
          "Graduate",
          "Enrolled",
          "Dropout",
          "Graduate",
          "Enrolled",
          "Dropout",
          "Graduate",
          "Enrolled",
          "Dropout",
          "Graduate",
          "Graduate",
          "Enrolled",
          "Dropout",
          "Dropout",
          "Graduate",
          "Dropout",
          "Graduate",
          "Dropout",
          "Graduate",
          "Dropout",
          "Graduate",
          "Graduate",
          "Dropout",
          "Enrolled",
          "Enrolled",
          "Enrolled",
          "Enrolled",
          "Dropout",
          "Enrolled",
          "Dropout",
          "Dropout",
          "Dropout",
          "Graduate",
          "Graduate",
          "Graduate",
          "Dropout",
          "Graduate",
          "Graduate",
          "Dropout",
          "Dropout",
          "Dropout",
          "Dropout",
          "Graduate",
          "Dropout",
          "Enrolled",
          "Dropout",
          "Enrolled",
          "Graduate",
          "Dropout",
          "Enrolled",
          "Dropout",
          "Graduate",
          "Dropout",
          "Dropout",
          "Dropout",
          "Graduate",
          "Dropout",
          "Graduate",
          "Graduate",
          "Dropout",
          "Dropout",
          "Dropout",
          "Enrolled",
          "Dropout",
          "Enrolled",
          "Graduate",
          "Graduate",
          "Graduate",
          "Graduate",
          "Enrolled",
          "Graduate",
          "Dropout",
          "Graduate",
          "Graduate",
          "Graduate",
          "Graduate",
          "Graduate",
          "Dropout",
          "Graduate",
          "Graduate",
          "Dropout",
          "Graduate",
          "Dropout",
          "Enrolled",
          "Dropout",
          "Graduate",
          "Enrolled",
          "Enrolled",
          "Graduate",
          "Enrolled",
          "Graduate",
          "Enrolled",
          "Dropout",
          "Enrolled",
          "Graduate",
          "Enrolled",
          "Enrolled",
          "Enrolled",
          "Dropout",
          "Graduate",
          "Dropout",
          "Dropout",
          "Graduate",
          "Graduate",
          "Graduate",
          "Dropout",
          "Enrolled",
          "Enrolled",
          "Graduate",
          "Enrolled",
          "Graduate",
          "Dropout",
          "Dropout",
          "Dropout",
          "Dropout",
          "Enrolled",
          "Dropout",
          "Graduate",
          "Enrolled",
          "Dropout",
          "Enrolled",
          "Graduate",
          "Graduate",
          "Dropout",
          "Graduate",
          "Dropout",
          "Graduate",
          "Dropout",
          "Graduate",
          "Graduate",
          "Dropout",
          "Dropout",
          "Dropout",
          "Dropout",
          "Dropout",
          "Enrolled",
          "Graduate",
          "Graduate",
          "Dropout",
          "Dropout",
          "Graduate",
          "Graduate",
          "Enrolled",
          "Dropout",
          "Dropout",
          "Graduate",
          "Dropout",
          "Dropout",
          "Dropout",
          "Dropout",
          "Graduate",
          "Dropout",
          "Dropout",
          "Graduate",
          "Graduate",
          "Dropout",
          "Enrolled",
          "Enrolled",
          "Graduate",
          "Graduate",
          "Dropout",
          "Dropout",
          "Dropout",
          "Dropout",
          "Enrolled",
          "Dropout",
          "Graduate",
          "Dropout",
          "Enrolled",
          "Dropout",
          "Graduate",
          "Dropout",
          "Dropout",
          "Enrolled",
          "Dropout",
          "Graduate",
          "Enrolled",
          "Dropout",
          "Graduate",
          "Graduate",
          "Enrolled",
          "Dropout",
          "Graduate",
          "Dropout",
          "Dropout",
          "Dropout",
          "Dropout",
          "Dropout",
          "Dropout",
          "Enrolled",
          "Enrolled",
          "Dropout",
          "Dropout",
          "Enrolled",
          "Dropout",
          "Dropout",
          "Dropout",
          "Graduate",
          "Dropout",
          "Graduate",
          "Enrolled",
          "Graduate",
          "Dropout",
          "Enrolled",
          "Graduate",
          "Graduate",
          "Graduate",
          "Graduate",
          "Dropout",
          "Dropout",
          "Dropout",
          "Enrolled",
          "Graduate",
          "Enrolled",
          "Enrolled",
          "Dropout",
          "Graduate",
          "Graduate",
          "Graduate",
          "Graduate",
          "Graduate",
          "Dropout",
          "Dropout",
          "Graduate",
          "Graduate",
          "Graduate",
          "Graduate",
          "Dropout",
          "Graduate",
          "Graduate",
          "Graduate",
          "Graduate",
          "Graduate",
          "Dropout",
          "Enrolled",
          "Graduate",
          "Graduate",
          "Dropout",
          "Enrolled",
          "Graduate",
          "Graduate",
          "Graduate",
          "Graduate",
          "Graduate",
          "Graduate",
          "Graduate",
          "Dropout",
          "Dropout",
          "Graduate",
          "Dropout",
          "Graduate",
          "Graduate",
          "Graduate",
          "Graduate",
          "Graduate",
          "Graduate",
          "Enrolled",
          "Graduate",
          "Enrolled",
          "Enrolled",
          "Graduate",
          "Graduate",
          "Graduate",
          "Dropout",
          "Dropout",
          "Graduate",
          "Dropout",
          "Enrolled",
          "Graduate",
          "Graduate",
          "Graduate",
          "Graduate",
          "Dropout",
          "Graduate",
          "Enrolled",
          "Graduate",
          "Dropout",
          "Enrolled",
          "Enrolled",
          "Graduate",
          "Enrolled",
          "Enrolled",
          "Dropout",
          "Graduate",
          "Graduate",
          "Dropout",
          "Enrolled",
          "Graduate",
          "Graduate",
          "Graduate",
          "Enrolled",
          "Enrolled",
          "Graduate",
          "Graduate",
          "Graduate",
          "Graduate",
          "Graduate",
          "Graduate",
          "Graduate",
          "Dropout",
          "Dropout",
          "Graduate",
          "Graduate",
          "Graduate",
          "Dropout",
          "Graduate",
          "Enrolled",
          "Graduate",
          "Graduate",
          "Enrolled",
          "Enrolled",
          "Dropout",
          "Enrolled",
          "Dropout",
          "Enrolled",
          "Graduate",
          "Dropout",
          "Enrolled",
          "Graduate",
          "Dropout",
          "Dropout",
          "Enrolled",
          "Enrolled",
          "Dropout",
          "Enrolled",
          "Graduate",
          "Dropout",
          "Dropout",
          "Graduate",
          "Graduate",
          "Dropout",
          "Graduate",
          "Dropout",
          "Graduate",
          "Graduate",
          "Graduate",
          "Dropout",
          "Dropout",
          "Dropout",
          "Dropout",
          "Graduate",
          "Dropout",
          "Graduate",
          "Enrolled",
          "Graduate",
          "Graduate",
          "Dropout",
          "Graduate",
          "Dropout",
          "Graduate",
          "Enrolled",
          "Enrolled",
          "Enrolled",
          "Dropout",
          "Dropout",
          "Graduate",
          "Graduate",
          "Enrolled",
          "Dropout",
          "Dropout",
          "Graduate",
          "Graduate",
          "Graduate",
          "Dropout",
          "Graduate",
          "Dropout",
          "Dropout",
          "Graduate",
          "Dropout",
          "Enrolled",
          "Dropout",
          "Dropout",
          "Dropout",
          "Enrolled",
          "Dropout",
          "Graduate",
          "Dropout",
          "Graduate",
          "Graduate",
          "Graduate",
          "Enrolled",
          "Dropout",
          "Dropout",
          "Dropout",
          "Graduate",
          "Dropout",
          "Dropout",
          "Graduate",
          "Dropout",
          "Graduate",
          "Dropout",
          "Enrolled",
          "Dropout",
          "Enrolled",
          "Graduate",
          "Dropout",
          "Enrolled",
          "Graduate",
          "Enrolled",
          "Dropout",
          "Graduate",
          "Enrolled",
          "Graduate",
          "Graduate",
          "Dropout",
          "Dropout",
          "Graduate",
          "Dropout",
          "Enrolled",
          "Enrolled",
          "Dropout",
          "Enrolled",
          "Dropout",
          "Dropout",
          "Graduate",
          "Graduate",
          "Graduate",
          "Graduate",
          "Enrolled",
          "Dropout",
          "Enrolled",
          "Dropout",
          "Graduate",
          "Dropout",
          "Dropout",
          "Dropout",
          "Dropout",
          "Enrolled",
          "Dropout",
          "Graduate",
          "Dropout",
          "Graduate",
          "Enrolled",
          "Graduate",
          "Dropout",
          "Dropout",
          "Graduate",
          "Dropout",
          "Graduate",
          "Enrolled",
          "Graduate",
          "Graduate",
          "Graduate",
          "Graduate",
          "Enrolled",
          "Enrolled",
          "Dropout",
          "Graduate",
          "Enrolled",
          "Graduate",
          "Graduate",
          "Enrolled",
          "Graduate",
          "Graduate",
          "Graduate",
          "Enrolled",
          "Enrolled",
          "Graduate",
          "Graduate",
          "Graduate",
          "Dropout",
          "Graduate",
          "Graduate",
          "Graduate",
          "Graduate",
          "Graduate",
          "Graduate",
          "Dropout",
          "Graduate",
          "Enrolled",
          "Dropout",
          "Dropout",
          "Dropout",
          "Dropout",
          "Graduate",
          "Dropout",
          "Graduate",
          "Dropout",
          "Graduate",
          "Dropout",
          "Dropout",
          "Enrolled",
          "Enrolled",
          "Dropout",
          "Enrolled",
          "Enrolled",
          "Graduate",
          "Enrolled",
          "Graduate",
          "Graduate",
          "Dropout",
          "Graduate",
          "Dropout",
          "Graduate",
          "Graduate",
          "Enrolled",
          "Graduate",
          "Enrolled",
          "Graduate",
          "Enrolled",
          "Enrolled",
          "Graduate",
          "Graduate",
          "Graduate",
          "Dropout",
          "Enrolled",
          "Enrolled",
          "Graduate",
          "Graduate",
          "Dropout",
          "Enrolled",
          "Dropout",
          "Dropout",
          "Dropout",
          "Graduate",
          "Graduate",
          "Graduate",
          "Enrolled",
          "Graduate",
          "Dropout",
          "Graduate",
          "Graduate",
          "Dropout",
          "Graduate",
          "Dropout",
          "Graduate",
          "Graduate",
          "Graduate",
          "Graduate",
          "Graduate",
          "Enrolled",
          "Graduate",
          "Enrolled",
          "Graduate",
          "Dropout",
          "Graduate",
          "Graduate",
          "Graduate",
          "Graduate",
          "Graduate",
          "Enrolled",
          "Graduate",
          "Enrolled",
          "Graduate",
          "Dropout",
          "Graduate",
          "Enrolled",
          "Enrolled",
          "Dropout",
          "Graduate",
          "Graduate",
          "Enrolled",
          "Dropout",
          "Graduate",
          "Enrolled",
          "Enrolled",
          "Enrolled",
          "Graduate",
          "Graduate",
          "Dropout",
          "Enrolled",
          "Dropout",
          "Graduate",
          "Enrolled",
          "Graduate",
          "Graduate",
          "Dropout",
          "Enrolled",
          "Graduate",
          "Dropout",
          "Dropout",
          "Dropout",
          "Graduate",
          "Dropout",
          "Graduate",
          "Graduate",
          "Graduate",
          "Dropout",
          "Dropout",
          "Graduate",
          "Dropout",
          "Graduate",
          "Enrolled",
          "Graduate",
          "Graduate",
          "Graduate",
          "Graduate",
          "Dropout",
          "Graduate",
          "Dropout",
          "Graduate",
          "Enrolled",
          "Graduate",
          "Graduate",
          "Dropout",
          "Enrolled",
          "Graduate",
          "Dropout",
          "Enrolled",
          "Dropout",
          "Enrolled",
          "Dropout",
          "Dropout",
          "Graduate",
          "Enrolled",
          "Dropout",
          "Graduate",
          "Graduate",
          "Graduate",
          "Graduate",
          "Graduate",
          "Graduate",
          "Graduate",
          "Graduate",
          "Dropout",
          "Graduate",
          "Dropout",
          "Graduate",
          "Graduate",
          "Enrolled",
          "Graduate",
          "Graduate",
          "Graduate",
          "Enrolled",
          "Dropout",
          "Graduate",
          "Graduate",
          "Dropout",
          "Graduate",
          "Graduate",
          "Graduate",
          "Graduate",
          "Dropout",
          "Dropout",
          "Graduate",
          "Dropout",
          "Graduate",
          "Dropout",
          "Enrolled",
          "Graduate",
          "Graduate",
          "Dropout",
          "Dropout",
          "Graduate",
          "Enrolled",
          "Dropout",
          "Dropout",
          "Graduate",
          "Graduate",
          "Graduate",
          "Graduate",
          "Dropout",
          "Enrolled",
          "Dropout",
          "Dropout",
          "Dropout",
          "Graduate",
          "Dropout",
          "Dropout",
          "Dropout",
          "Dropout",
          "Enrolled",
          "Dropout",
          "Graduate",
          "Enrolled",
          "Graduate",
          "Graduate",
          "Graduate",
          "Dropout",
          "Dropout",
          "Graduate",
          "Graduate",
          "Dropout",
          "Graduate",
          "Graduate",
          "Enrolled",
          "Dropout",
          "Graduate",
          "Graduate",
          "Dropout",
          "Graduate",
          "Dropout",
          "Graduate",
          "Graduate",
          "Graduate",
          "Dropout",
          "Graduate",
          "Dropout",
          "Graduate",
          "Graduate",
          "Enrolled",
          "Graduate",
          "Graduate",
          "Graduate",
          "Dropout",
          "Enrolled",
          "Graduate",
          "Dropout",
          "Graduate",
          "Graduate",
          "Dropout",
          "Graduate",
          "Dropout",
          "Graduate",
          "Graduate",
          "Graduate",
          "Graduate",
          "Graduate",
          "Graduate",
          "Enrolled",
          "Graduate",
          "Graduate",
          "Enrolled",
          "Graduate",
          "Graduate",
          "Dropout",
          "Graduate",
          "Graduate",
          "Graduate",
          "Graduate",
          "Enrolled",
          "Graduate",
          "Dropout",
          "Enrolled",
          "Graduate",
          "Dropout",
          "Dropout",
          "Graduate",
          "Graduate",
          "Graduate",
          "Enrolled",
          "Dropout",
          "Graduate",
          "Graduate",
          "Dropout",
          "Graduate",
          "Graduate",
          "Dropout",
          "Graduate",
          "Graduate",
          "Graduate",
          "Graduate",
          "Graduate",
          "Graduate",
          "Graduate",
          "Dropout",
          "Graduate",
          "Graduate",
          "Graduate",
          "Enrolled",
          "Dropout",
          "Graduate",
          "Graduate",
          "Dropout",
          "Graduate",
          "Graduate",
          "Graduate",
          "Graduate",
          "Graduate",
          "Dropout",
          "Graduate",
          "Graduate",
          "Dropout",
          "Dropout",
          "Enrolled",
          "Graduate",
          "Graduate",
          "Graduate",
          "Graduate",
          "Enrolled",
          "Dropout",
          "Graduate",
          "Graduate",
          "Dropout",
          "Enrolled",
          "Graduate",
          "Dropout",
          "Graduate",
          "Dropout",
          "Graduate",
          "Dropout",
          "Graduate",
          "Graduate",
          "Enrolled",
          "Dropout",
          "Dropout",
          "Graduate",
          "Graduate",
          "Dropout",
          "Graduate",
          "Enrolled",
          "Graduate",
          "Dropout",
          "Enrolled",
          "Dropout",
          "Dropout",
          "Enrolled",
          "Dropout",
          "Enrolled",
          "Dropout",
          "Enrolled",
          "Graduate",
          "Dropout",
          "Graduate",
          "Graduate",
          "Graduate",
          "Dropout",
          "Graduate",
          "Enrolled",
          "Graduate",
          "Graduate",
          "Graduate",
          "Dropout",
          "Graduate",
          "Enrolled",
          "Graduate",
          "Graduate",
          "Dropout",
          "Graduate",
          "Graduate",
          "Dropout",
          "Enrolled",
          "Dropout",
          "Graduate",
          "Graduate",
          "Dropout",
          "Dropout",
          "Graduate",
          "Dropout",
          "Graduate",
          "Graduate",
          "Enrolled",
          "Graduate",
          "Dropout",
          "Graduate",
          "Dropout",
          "Enrolled",
          "Graduate",
          "Graduate",
          "Dropout",
          "Graduate",
          "Graduate",
          "Enrolled",
          "Dropout",
          "Graduate",
          "Enrolled",
          "Graduate",
          "Graduate",
          "Graduate",
          "Enrolled",
          "Graduate",
          "Graduate",
          "Graduate",
          "Graduate",
          "Graduate",
          "Graduate",
          "Enrolled",
          "Enrolled",
          "Graduate",
          "Graduate",
          "Graduate",
          "Graduate",
          "Enrolled",
          "Graduate",
          "Graduate",
          "Dropout",
          "Graduate",
          "Graduate",
          "Graduate",
          "Graduate",
          "Enrolled",
          "Enrolled",
          "Graduate",
          "Enrolled",
          "Dropout",
          "Graduate",
          "Graduate",
          "Enrolled",
          "Enrolled",
          "Graduate",
          "Dropout",
          "Enrolled",
          "Enrolled",
          "Graduate",
          "Graduate",
          "Graduate",
          "Graduate",
          "Graduate",
          "Graduate",
          "Dropout",
          "Dropout",
          "Dropout",
          "Graduate",
          "Graduate",
          "Dropout",
          "Dropout",
          "Graduate",
          "Enrolled",
          "Dropout",
          "Graduate",
          "Dropout",
          "Graduate",
          "Enrolled",
          "Graduate",
          "Dropout",
          "Graduate",
          "Enrolled",
          "Graduate",
          "Dropout",
          "Dropout",
          "Dropout",
          "Dropout",
          "Dropout",
          "Dropout",
          "Dropout",
          "Enrolled",
          "Dropout",
          "Enrolled",
          "Dropout",
          "Enrolled",
          "Graduate",
          "Dropout",
          "Graduate",
          "Dropout",
          "Graduate",
          "Enrolled",
          "Dropout",
          "Dropout",
          "Dropout",
          "Graduate",
          "Dropout",
          "Dropout",
          "Graduate",
          "Graduate",
          "Enrolled",
          "Graduate",
          "Dropout",
          "Graduate",
          "Graduate",
          "Dropout",
          "Graduate",
          "Enrolled",
          "Dropout",
          "Dropout",
          "Dropout",
          "Graduate",
          "Dropout",
          "Dropout",
          "Graduate",
          "Graduate",
          "Enrolled",
          "Graduate",
          "Graduate",
          "Graduate",
          "Enrolled",
          "Graduate",
          "Dropout",
          "Graduate",
          "Graduate",
          "Graduate",
          "Enrolled",
          "Graduate",
          "Graduate",
          "Enrolled",
          "Graduate",
          "Dropout",
          "Graduate",
          "Dropout",
          "Dropout",
          "Graduate",
          "Graduate",
          "Graduate",
          "Graduate",
          "Dropout",
          "Graduate",
          "Dropout",
          "Dropout",
          "Graduate",
          "Graduate",
          "Graduate",
          "Graduate",
          "Graduate",
          "Graduate",
          "Graduate",
          "Graduate",
          "Dropout",
          "Graduate",
          "Dropout",
          "Graduate",
          "Graduate",
          "Enrolled",
          "Dropout",
          "Dropout",
          "Dropout",
          "Graduate",
          "Graduate",
          "Enrolled",
          "Dropout",
          "Graduate",
          "Dropout",
          "Graduate",
          "Dropout",
          "Graduate",
          "Graduate",
          "Dropout",
          "Enrolled",
          "Graduate",
          "Enrolled",
          "Graduate",
          "Dropout",
          "Dropout",
          "Graduate",
          "Graduate",
          "Dropout",
          "Dropout",
          "Dropout",
          "Enrolled",
          "Enrolled",
          "Graduate",
          "Enrolled",
          "Dropout",
          "Graduate",
          "Dropout",
          "Dropout",
          "Graduate",
          "Graduate",
          "Graduate",
          "Graduate",
          "Graduate",
          "Graduate",
          "Graduate",
          "Graduate",
          "Dropout",
          "Graduate",
          "Dropout",
          "Enrolled",
          "Enrolled",
          "Dropout",
          "Graduate",
          "Dropout",
          "Graduate",
          "Dropout",
          "Graduate",
          "Graduate",
          "Dropout",
          "Dropout",
          "Dropout",
          "Dropout",
          "Enrolled",
          "Graduate",
          "Dropout",
          "Enrolled",
          "Enrolled",
          "Graduate",
          "Dropout",
          "Dropout",
          "Dropout",
          "Graduate",
          "Enrolled",
          "Dropout",
          "Dropout",
          "Dropout",
          "Enrolled",
          "Dropout",
          "Enrolled",
          "Graduate",
          "Enrolled",
          "Dropout",
          "Dropout",
          "Dropout",
          "Dropout",
          "Graduate",
          "Dropout",
          "Enrolled",
          "Dropout",
          "Dropout",
          "Graduate",
          "Graduate",
          "Dropout",
          "Enrolled",
          "Dropout",
          "Dropout",
          "Enrolled",
          "Dropout",
          "Graduate",
          "Graduate",
          "Dropout",
          "Dropout",
          "Dropout",
          "Enrolled",
          "Graduate",
          "Enrolled",
          "Dropout",
          "Dropout",
          "Graduate",
          "Graduate",
          "Graduate",
          "Graduate",
          "Graduate",
          "Graduate",
          "Graduate",
          "Enrolled",
          "Graduate",
          "Dropout",
          "Dropout",
          "Graduate",
          "Dropout",
          "Enrolled",
          "Graduate",
          "Graduate",
          "Graduate",
          "Graduate",
          "Enrolled",
          "Graduate",
          "Graduate",
          "Graduate",
          "Graduate",
          "Enrolled",
          "Graduate",
          "Enrolled",
          "Graduate",
          "Graduate",
          "Graduate",
          "Graduate",
          "Enrolled",
          "Graduate",
          "Graduate",
          "Enrolled",
          "Graduate",
          "Enrolled",
          "Graduate",
          "Dropout",
          "Graduate",
          "Enrolled",
          "Graduate",
          "Enrolled",
          "Dropout",
          "Graduate",
          "Enrolled",
          "Enrolled",
          "Dropout",
          "Graduate",
          "Graduate",
          "Graduate",
          "Dropout",
          "Dropout",
          "Dropout",
          "Dropout",
          "Dropout",
          "Enrolled",
          "Graduate",
          "Dropout",
          "Dropout",
          "Graduate",
          "Graduate",
          "Graduate",
          "Dropout",
          "Dropout",
          "Graduate",
          "Graduate",
          "Enrolled",
          "Graduate",
          "Dropout",
          "Enrolled",
          "Enrolled",
          "Graduate",
          "Graduate",
          "Dropout",
          "Graduate",
          "Dropout",
          "Graduate",
          "Graduate",
          "Graduate",
          "Enrolled",
          "Enrolled",
          "Graduate",
          "Graduate",
          "Dropout",
          "Graduate",
          "Graduate",
          "Graduate",
          "Graduate",
          "Dropout",
          "Graduate",
          "Enrolled",
          "Dropout",
          "Enrolled",
          "Graduate",
          "Dropout",
          "Enrolled",
          "Graduate",
          "Enrolled",
          "Enrolled",
          "Graduate",
          "Graduate",
          "Dropout",
          "Dropout",
          "Dropout",
          "Graduate",
          "Graduate",
          "Dropout",
          "Enrolled",
          "Graduate",
          "Graduate",
          "Graduate",
          "Dropout",
          "Dropout",
          "Dropout",
          "Dropout",
          "Graduate",
          "Dropout",
          "Dropout",
          "Graduate",
          "Dropout",
          "Dropout",
          "Dropout",
          "Dropout",
          "Graduate",
          "Graduate",
          "Dropout",
          "Dropout",
          "Graduate",
          "Enrolled",
          "Dropout",
          "Dropout",
          "Graduate",
          "Graduate",
          "Graduate",
          "Dropout",
          "Dropout",
          "Graduate",
          "Enrolled",
          "Graduate",
          "Dropout",
          "Enrolled",
          "Dropout",
          "Dropout",
          "Dropout",
          "Enrolled",
          "Dropout",
          "Dropout",
          "Dropout",
          "Dropout",
          "Graduate",
          "Dropout",
          "Graduate",
          "Enrolled",
          "Enrolled",
          "Graduate",
          "Dropout",
          "Dropout",
          "Dropout",
          "Enrolled",
          "Graduate",
          "Enrolled",
          "Graduate",
          "Dropout",
          "Dropout",
          "Dropout",
          "Dropout",
          "Dropout",
          "Dropout",
          "Graduate",
          "Dropout",
          "Dropout",
          "Enrolled",
          "Enrolled",
          "Enrolled",
          "Graduate",
          "Graduate",
          "Dropout",
          "Dropout",
          "Graduate",
          "Enrolled",
          "Dropout",
          "Dropout",
          "Dropout",
          "Enrolled",
          "Graduate",
          "Enrolled",
          "Dropout",
          "Enrolled",
          "Graduate",
          "Enrolled",
          "Graduate",
          "Dropout",
          "Dropout",
          "Dropout",
          "Dropout",
          "Graduate",
          "Graduate",
          "Graduate",
          "Dropout",
          "Graduate",
          "Graduate",
          "Dropout",
          "Enrolled",
          "Graduate",
          "Graduate",
          "Graduate",
          "Dropout",
          "Dropout",
          "Graduate",
          "Graduate",
          "Graduate",
          "Dropout",
          "Enrolled",
          "Graduate",
          "Dropout",
          "Dropout",
          "Graduate",
          "Graduate",
          "Dropout",
          "Enrolled",
          "Enrolled",
          "Dropout",
          "Dropout",
          "Enrolled",
          "Dropout",
          "Enrolled",
          "Graduate",
          "Graduate",
          "Dropout",
          "Dropout",
          "Graduate",
          "Graduate",
          "Enrolled",
          "Graduate",
          "Graduate",
          "Dropout",
          "Enrolled",
          "Dropout",
          "Enrolled",
          "Enrolled",
          "Graduate",
          "Dropout",
          "Dropout",
          "Enrolled",
          "Dropout",
          "Enrolled",
          "Dropout",
          "Graduate",
          "Graduate",
          "Dropout",
          "Graduate",
          "Graduate",
          "Dropout",
          "Graduate",
          "Enrolled",
          "Dropout",
          "Enrolled",
          "Dropout",
          "Graduate",
          "Graduate",
          "Dropout",
          "Enrolled",
          "Graduate",
          "Graduate",
          "Graduate",
          "Graduate",
          "Enrolled",
          "Graduate",
          "Graduate",
          "Graduate",
          "Dropout",
          "Graduate",
          "Graduate",
          "Graduate",
          "Graduate",
          "Enrolled",
          "Dropout",
          "Graduate",
          "Dropout",
          "Graduate",
          "Enrolled",
          "Graduate",
          "Enrolled",
          "Graduate",
          "Graduate",
          "Graduate",
          "Graduate",
          "Graduate",
          "Enrolled",
          "Dropout",
          "Graduate",
          "Graduate",
          "Graduate",
          "Dropout",
          "Enrolled",
          "Dropout",
          "Dropout",
          "Graduate",
          "Graduate",
          "Graduate",
          "Graduate",
          "Graduate",
          "Graduate",
          "Graduate",
          "Graduate",
          "Graduate",
          "Dropout",
          "Graduate",
          "Graduate",
          "Dropout",
          "Enrolled",
          "Dropout",
          "Graduate",
          "Dropout",
          "Dropout",
          "Dropout",
          "Dropout",
          "Graduate",
          "Enrolled",
          "Graduate",
          "Dropout",
          "Dropout",
          "Dropout",
          "Dropout",
          "Dropout",
          "Graduate",
          "Enrolled",
          "Graduate",
          "Dropout",
          "Enrolled",
          "Enrolled",
          "Dropout",
          "Dropout",
          "Graduate",
          "Dropout",
          "Graduate",
          "Graduate",
          "Dropout",
          "Dropout",
          "Graduate",
          "Dropout",
          "Dropout",
          "Dropout",
          "Dropout",
          "Enrolled",
          "Dropout",
          "Graduate",
          "Dropout",
          "Dropout",
          "Enrolled",
          "Dropout",
          "Dropout",
          "Dropout",
          "Dropout",
          "Dropout",
          "Dropout",
          "Graduate",
          "Graduate",
          "Graduate",
          "Graduate",
          "Dropout",
          "Graduate",
          "Dropout",
          "Dropout",
          "Graduate",
          "Enrolled",
          "Enrolled",
          "Graduate",
          "Dropout",
          "Dropout",
          "Enrolled",
          "Graduate",
          "Enrolled",
          "Dropout",
          "Graduate",
          "Graduate",
          "Graduate",
          "Dropout",
          "Graduate",
          "Graduate",
          "Graduate",
          "Graduate",
          "Graduate",
          "Dropout",
          "Dropout",
          "Graduate",
          "Graduate",
          "Enrolled",
          "Dropout",
          "Graduate",
          "Dropout",
          "Graduate",
          "Graduate",
          "Graduate",
          "Graduate",
          "Graduate",
          "Dropout",
          "Enrolled",
          "Dropout",
          "Dropout",
          "Graduate",
          "Graduate",
          "Dropout",
          "Graduate",
          "Dropout",
          "Graduate",
          "Graduate",
          "Enrolled",
          "Enrolled",
          "Graduate",
          "Graduate",
          "Graduate",
          "Enrolled",
          "Dropout",
          "Enrolled",
          "Dropout",
          "Dropout",
          "Enrolled",
          "Dropout",
          "Graduate",
          "Dropout",
          "Dropout",
          "Dropout",
          "Dropout",
          "Graduate",
          "Graduate",
          "Dropout",
          "Graduate",
          "Dropout",
          "Dropout",
          "Graduate",
          "Graduate",
          "Graduate",
          "Dropout",
          "Dropout",
          "Graduate",
          "Graduate",
          "Dropout",
          "Dropout",
          "Enrolled",
          "Dropout",
          "Graduate",
          "Graduate",
          "Graduate",
          "Enrolled",
          "Dropout",
          "Graduate",
          "Dropout",
          "Dropout",
          "Enrolled",
          "Dropout",
          "Graduate",
          "Dropout",
          "Enrolled",
          "Dropout",
          "Dropout",
          "Graduate",
          "Dropout",
          "Dropout",
          "Graduate",
          "Enrolled",
          "Enrolled",
          "Dropout",
          "Graduate",
          "Dropout",
          "Dropout",
          "Dropout",
          "Dropout",
          "Dropout",
          "Enrolled",
          "Enrolled",
          "Dropout",
          "Dropout",
          "Graduate",
          "Dropout",
          "Dropout",
          "Dropout",
          "Dropout",
          "Graduate",
          "Dropout",
          "Dropout",
          "Dropout",
          "Dropout",
          "Dropout",
          "Graduate",
          "Graduate",
          "Graduate",
          "Dropout",
          "Dropout",
          "Dropout",
          "Dropout",
          "Graduate",
          "Graduate",
          "Dropout",
          "Dropout",
          "Dropout",
          "Graduate",
          "Graduate",
          "Dropout",
          "Graduate",
          "Graduate",
          "Graduate",
          "Dropout",
          "Dropout",
          "Dropout",
          "Dropout",
          "Graduate",
          "Graduate",
          "Graduate",
          "Graduate",
          "Graduate",
          "Dropout",
          "Graduate",
          "Graduate",
          "Graduate",
          "Enrolled",
          "Enrolled",
          "Graduate",
          "Graduate",
          "Enrolled",
          "Enrolled",
          "Graduate",
          "Dropout",
          "Enrolled",
          "Graduate",
          "Enrolled",
          "Graduate",
          "Graduate",
          "Enrolled",
          "Graduate",
          "Enrolled",
          "Enrolled",
          "Dropout",
          "Dropout",
          "Graduate",
          "Graduate",
          "Enrolled",
          "Graduate",
          "Dropout",
          "Enrolled",
          "Graduate",
          "Graduate",
          "Graduate",
          "Dropout",
          "Graduate",
          "Graduate",
          "Graduate",
          "Enrolled",
          "Graduate",
          "Graduate",
          "Graduate",
          "Graduate",
          "Graduate",
          "Enrolled",
          "Enrolled",
          "Graduate",
          "Dropout",
          "Graduate",
          "Enrolled",
          "Graduate",
          "Graduate",
          "Graduate",
          "Enrolled",
          "Dropout",
          "Enrolled",
          "Dropout",
          "Enrolled",
          "Graduate",
          "Graduate",
          "Enrolled",
          "Dropout",
          "Graduate",
          "Dropout",
          "Dropout",
          "Graduate",
          "Graduate",
          "Dropout",
          "Graduate",
          "Graduate",
          "Dropout",
          "Dropout",
          "Graduate",
          "Graduate",
          "Dropout",
          "Dropout",
          "Graduate",
          "Graduate",
          "Graduate",
          "Graduate",
          "Dropout",
          "Graduate",
          "Graduate",
          "Graduate",
          "Dropout",
          "Graduate",
          "Dropout",
          "Enrolled",
          "Graduate",
          "Graduate",
          "Graduate",
          "Graduate",
          "Graduate",
          "Graduate",
          "Graduate",
          "Graduate",
          "Graduate",
          "Graduate",
          "Graduate",
          "Enrolled",
          "Graduate",
          "Graduate",
          "Graduate",
          "Graduate",
          "Dropout",
          "Graduate",
          "Graduate",
          "Graduate",
          "Graduate",
          "Graduate",
          "Graduate",
          "Dropout",
          "Graduate",
          "Graduate",
          "Graduate",
          "Dropout",
          "Dropout",
          "Graduate",
          "Dropout",
          "Dropout",
          "Dropout",
          "Dropout",
          "Graduate",
          "Graduate",
          "Graduate",
          "Dropout",
          "Graduate",
          "Dropout",
          "Dropout",
          "Dropout",
          "Dropout",
          "Enrolled",
          "Dropout",
          "Graduate",
          "Graduate",
          "Dropout",
          "Dropout",
          "Dropout",
          "Graduate",
          "Graduate",
          "Dropout",
          "Graduate",
          "Graduate",
          "Dropout",
          "Enrolled",
          "Enrolled",
          "Graduate",
          "Dropout",
          "Graduate",
          "Dropout",
          "Graduate",
          "Enrolled",
          "Graduate",
          "Dropout",
          "Dropout",
          "Dropout",
          "Graduate",
          "Enrolled",
          "Graduate",
          "Graduate",
          "Graduate",
          "Graduate",
          "Graduate",
          "Enrolled",
          "Graduate",
          "Dropout",
          "Graduate",
          "Graduate",
          "Graduate",
          "Graduate",
          "Dropout",
          "Graduate",
          "Dropout",
          "Enrolled",
          "Graduate",
          "Dropout",
          "Graduate",
          "Enrolled",
          "Graduate",
          "Dropout",
          "Graduate",
          "Graduate",
          "Graduate",
          "Graduate",
          "Enrolled",
          "Enrolled",
          "Graduate",
          "Dropout",
          "Graduate",
          "Graduate",
          "Graduate",
          "Dropout",
          "Enrolled",
          "Graduate",
          "Graduate",
          "Dropout",
          "Graduate",
          "Dropout",
          "Graduate",
          "Enrolled",
          "Dropout",
          "Enrolled",
          "Enrolled",
          "Graduate",
          "Dropout",
          "Dropout",
          "Graduate",
          "Enrolled",
          "Enrolled",
          "Dropout",
          "Graduate",
          "Dropout",
          "Dropout",
          "Graduate",
          "Graduate",
          "Graduate",
          "Graduate",
          "Graduate",
          "Dropout",
          "Dropout",
          "Enrolled",
          "Graduate",
          "Graduate",
          "Enrolled",
          "Graduate",
          "Graduate",
          "Graduate",
          "Dropout",
          "Graduate",
          "Graduate",
          "Graduate",
          "Graduate",
          "Graduate",
          "Dropout",
          "Graduate",
          "Enrolled",
          "Enrolled",
          "Graduate",
          "Graduate",
          "Graduate",
          "Graduate",
          "Graduate",
          "Graduate",
          "Graduate",
          "Enrolled",
          "Enrolled",
          "Enrolled",
          "Graduate",
          "Graduate",
          "Graduate",
          "Graduate",
          "Graduate",
          "Enrolled",
          "Enrolled",
          "Graduate",
          "Graduate",
          "Graduate",
          "Graduate",
          "Dropout",
          "Graduate",
          "Dropout",
          "Dropout",
          "Graduate",
          "Enrolled",
          "Enrolled",
          "Dropout",
          "Dropout",
          "Enrolled",
          "Enrolled",
          "Graduate",
          "Graduate",
          "Graduate",
          "Graduate",
          "Enrolled",
          "Dropout",
          "Graduate",
          "Enrolled",
          "Dropout",
          "Graduate",
          "Graduate",
          "Graduate",
          "Enrolled",
          "Dropout",
          "Graduate",
          "Dropout",
          "Graduate",
          "Enrolled",
          "Graduate",
          "Graduate",
          "Dropout",
          "Enrolled",
          "Enrolled",
          "Enrolled",
          "Graduate",
          "Graduate",
          "Graduate",
          "Graduate",
          "Enrolled",
          "Graduate",
          "Graduate",
          "Enrolled",
          "Dropout",
          "Dropout",
          "Graduate",
          "Graduate",
          "Enrolled",
          "Enrolled",
          "Graduate",
          "Graduate",
          "Graduate",
          "Dropout",
          "Enrolled",
          "Enrolled",
          "Graduate",
          "Dropout",
          "Graduate",
          "Graduate",
          "Graduate",
          "Enrolled",
          "Graduate",
          "Graduate",
          "Graduate",
          "Enrolled",
          "Graduate",
          "Dropout",
          "Graduate",
          "Graduate",
          "Graduate",
          "Dropout",
          "Graduate",
          "Graduate",
          "Graduate",
          "Graduate",
          "Graduate",
          "Graduate",
          "Dropout",
          "Dropout",
          "Graduate",
          "Enrolled",
          "Graduate",
          "Dropout",
          "Graduate",
          "Graduate",
          "Graduate",
          "Graduate",
          "Graduate",
          "Dropout",
          "Graduate",
          "Enrolled",
          "Dropout",
          "Graduate",
          "Enrolled",
          "Dropout",
          "Graduate",
          "Enrolled",
          "Enrolled",
          "Graduate",
          "Enrolled",
          "Dropout",
          "Graduate",
          "Graduate",
          "Dropout",
          "Dropout",
          "Enrolled",
          "Dropout",
          "Dropout",
          "Dropout",
          "Graduate",
          "Dropout",
          "Graduate",
          "Dropout",
          "Dropout",
          "Graduate",
          "Dropout",
          "Dropout",
          "Dropout",
          "Graduate",
          "Enrolled",
          "Graduate",
          "Dropout",
          "Dropout",
          "Dropout",
          "Graduate",
          "Dropout",
          "Graduate",
          "Graduate",
          "Enrolled",
          "Graduate",
          "Dropout",
          "Enrolled",
          "Graduate",
          "Dropout",
          "Graduate",
          "Enrolled",
          "Enrolled",
          "Enrolled",
          "Dropout",
          "Dropout",
          "Graduate",
          "Dropout",
          "Dropout",
          "Enrolled",
          "Dropout",
          "Dropout",
          "Enrolled",
          "Enrolled",
          "Graduate",
          "Graduate",
          "Dropout",
          "Graduate",
          "Graduate",
          "Graduate",
          "Graduate",
          "Dropout",
          "Graduate",
          "Enrolled",
          "Graduate",
          "Graduate",
          "Dropout",
          "Dropout",
          "Graduate",
          "Dropout",
          "Dropout",
          "Dropout",
          "Dropout",
          "Dropout",
          "Dropout",
          "Dropout",
          "Dropout",
          "Graduate",
          "Graduate",
          "Enrolled",
          "Dropout",
          "Graduate",
          "Dropout",
          "Dropout",
          "Graduate",
          "Graduate",
          "Graduate",
          "Graduate",
          "Enrolled",
          "Enrolled",
          "Dropout",
          "Dropout",
          "Graduate",
          "Graduate",
          "Dropout",
          "Dropout",
          "Dropout",
          "Graduate",
          "Dropout",
          "Dropout",
          "Graduate",
          "Dropout",
          "Graduate",
          "Enrolled",
          "Enrolled",
          "Graduate",
          "Enrolled",
          "Graduate",
          "Graduate",
          "Graduate",
          "Dropout",
          "Enrolled",
          "Dropout",
          "Graduate",
          "Dropout",
          "Dropout",
          "Graduate",
          "Graduate",
          "Graduate",
          "Graduate",
          "Dropout",
          "Graduate",
          "Enrolled",
          "Graduate",
          "Dropout",
          "Dropout",
          "Dropout",
          "Graduate",
          "Graduate",
          "Graduate",
          "Graduate",
          "Dropout",
          "Enrolled",
          "Graduate",
          "Graduate",
          "Graduate",
          "Dropout",
          "Enrolled",
          "Graduate",
          "Graduate",
          "Dropout",
          "Enrolled",
          "Graduate",
          "Dropout",
          "Graduate",
          "Dropout",
          "Graduate",
          "Dropout",
          "Dropout",
          "Enrolled",
          "Graduate",
          "Graduate",
          "Dropout",
          "Dropout",
          "Dropout",
          "Dropout",
          "Dropout",
          "Graduate",
          "Graduate",
          "Enrolled",
          "Enrolled",
          "Graduate",
          "Graduate",
          "Dropout",
          "Graduate",
          "Enrolled",
          "Graduate",
          "Graduate",
          "Dropout",
          "Dropout",
          "Enrolled",
          "Graduate",
          "Dropout",
          "Graduate",
          "Enrolled",
          "Graduate",
          "Dropout",
          "Graduate",
          "Graduate",
          "Dropout",
          "Enrolled",
          "Enrolled",
          "Graduate",
          "Dropout",
          "Graduate",
          "Graduate",
          "Graduate",
          "Graduate",
          "Dropout",
          "Dropout",
          "Graduate",
          "Graduate"
         ],
         "legendgroup": "",
         "name": "",
         "showlegend": true,
         "type": "pie"
        }
       ],
       "layout": {
        "legend": {
         "tracegroupgap": 0
        },
        "piecolorway": [
         "rgb(95, 70, 144)",
         "rgb(29, 105, 150)",
         "rgb(56, 166, 165)",
         "rgb(15, 133, 84)",
         "rgb(115, 175, 72)",
         "rgb(237, 173, 8)",
         "rgb(225, 124, 5)",
         "rgb(204, 80, 62)",
         "rgb(148, 52, 110)",
         "rgb(111, 64, 112)",
         "rgb(102, 102, 102)"
        ],
        "template": {
         "data": {
          "bar": [
           {
            "error_x": {
             "color": "#2a3f5f"
            },
            "error_y": {
             "color": "#2a3f5f"
            },
            "marker": {
             "line": {
              "color": "#E5ECF6",
              "width": 0.5
             },
             "pattern": {
              "fillmode": "overlay",
              "size": 10,
              "solidity": 0.2
             }
            },
            "type": "bar"
           }
          ],
          "barpolar": [
           {
            "marker": {
             "line": {
              "color": "#E5ECF6",
              "width": 0.5
             },
             "pattern": {
              "fillmode": "overlay",
              "size": 10,
              "solidity": 0.2
             }
            },
            "type": "barpolar"
           }
          ],
          "carpet": [
           {
            "aaxis": {
             "endlinecolor": "#2a3f5f",
             "gridcolor": "white",
             "linecolor": "white",
             "minorgridcolor": "white",
             "startlinecolor": "#2a3f5f"
            },
            "baxis": {
             "endlinecolor": "#2a3f5f",
             "gridcolor": "white",
             "linecolor": "white",
             "minorgridcolor": "white",
             "startlinecolor": "#2a3f5f"
            },
            "type": "carpet"
           }
          ],
          "choropleth": [
           {
            "colorbar": {
             "outlinewidth": 0,
             "ticks": ""
            },
            "type": "choropleth"
           }
          ],
          "contour": [
           {
            "colorbar": {
             "outlinewidth": 0,
             "ticks": ""
            },
            "colorscale": [
             [
              0,
              "#0d0887"
             ],
             [
              0.1111111111111111,
              "#46039f"
             ],
             [
              0.2222222222222222,
              "#7201a8"
             ],
             [
              0.3333333333333333,
              "#9c179e"
             ],
             [
              0.4444444444444444,
              "#bd3786"
             ],
             [
              0.5555555555555556,
              "#d8576b"
             ],
             [
              0.6666666666666666,
              "#ed7953"
             ],
             [
              0.7777777777777778,
              "#fb9f3a"
             ],
             [
              0.8888888888888888,
              "#fdca26"
             ],
             [
              1,
              "#f0f921"
             ]
            ],
            "type": "contour"
           }
          ],
          "contourcarpet": [
           {
            "colorbar": {
             "outlinewidth": 0,
             "ticks": ""
            },
            "type": "contourcarpet"
           }
          ],
          "heatmap": [
           {
            "colorbar": {
             "outlinewidth": 0,
             "ticks": ""
            },
            "colorscale": [
             [
              0,
              "#0d0887"
             ],
             [
              0.1111111111111111,
              "#46039f"
             ],
             [
              0.2222222222222222,
              "#7201a8"
             ],
             [
              0.3333333333333333,
              "#9c179e"
             ],
             [
              0.4444444444444444,
              "#bd3786"
             ],
             [
              0.5555555555555556,
              "#d8576b"
             ],
             [
              0.6666666666666666,
              "#ed7953"
             ],
             [
              0.7777777777777778,
              "#fb9f3a"
             ],
             [
              0.8888888888888888,
              "#fdca26"
             ],
             [
              1,
              "#f0f921"
             ]
            ],
            "type": "heatmap"
           }
          ],
          "heatmapgl": [
           {
            "colorbar": {
             "outlinewidth": 0,
             "ticks": ""
            },
            "colorscale": [
             [
              0,
              "#0d0887"
             ],
             [
              0.1111111111111111,
              "#46039f"
             ],
             [
              0.2222222222222222,
              "#7201a8"
             ],
             [
              0.3333333333333333,
              "#9c179e"
             ],
             [
              0.4444444444444444,
              "#bd3786"
             ],
             [
              0.5555555555555556,
              "#d8576b"
             ],
             [
              0.6666666666666666,
              "#ed7953"
             ],
             [
              0.7777777777777778,
              "#fb9f3a"
             ],
             [
              0.8888888888888888,
              "#fdca26"
             ],
             [
              1,
              "#f0f921"
             ]
            ],
            "type": "heatmapgl"
           }
          ],
          "histogram": [
           {
            "marker": {
             "pattern": {
              "fillmode": "overlay",
              "size": 10,
              "solidity": 0.2
             }
            },
            "type": "histogram"
           }
          ],
          "histogram2d": [
           {
            "colorbar": {
             "outlinewidth": 0,
             "ticks": ""
            },
            "colorscale": [
             [
              0,
              "#0d0887"
             ],
             [
              0.1111111111111111,
              "#46039f"
             ],
             [
              0.2222222222222222,
              "#7201a8"
             ],
             [
              0.3333333333333333,
              "#9c179e"
             ],
             [
              0.4444444444444444,
              "#bd3786"
             ],
             [
              0.5555555555555556,
              "#d8576b"
             ],
             [
              0.6666666666666666,
              "#ed7953"
             ],
             [
              0.7777777777777778,
              "#fb9f3a"
             ],
             [
              0.8888888888888888,
              "#fdca26"
             ],
             [
              1,
              "#f0f921"
             ]
            ],
            "type": "histogram2d"
           }
          ],
          "histogram2dcontour": [
           {
            "colorbar": {
             "outlinewidth": 0,
             "ticks": ""
            },
            "colorscale": [
             [
              0,
              "#0d0887"
             ],
             [
              0.1111111111111111,
              "#46039f"
             ],
             [
              0.2222222222222222,
              "#7201a8"
             ],
             [
              0.3333333333333333,
              "#9c179e"
             ],
             [
              0.4444444444444444,
              "#bd3786"
             ],
             [
              0.5555555555555556,
              "#d8576b"
             ],
             [
              0.6666666666666666,
              "#ed7953"
             ],
             [
              0.7777777777777778,
              "#fb9f3a"
             ],
             [
              0.8888888888888888,
              "#fdca26"
             ],
             [
              1,
              "#f0f921"
             ]
            ],
            "type": "histogram2dcontour"
           }
          ],
          "mesh3d": [
           {
            "colorbar": {
             "outlinewidth": 0,
             "ticks": ""
            },
            "type": "mesh3d"
           }
          ],
          "parcoords": [
           {
            "line": {
             "colorbar": {
              "outlinewidth": 0,
              "ticks": ""
             }
            },
            "type": "parcoords"
           }
          ],
          "pie": [
           {
            "automargin": true,
            "type": "pie"
           }
          ],
          "scatter": [
           {
            "fillpattern": {
             "fillmode": "overlay",
             "size": 10,
             "solidity": 0.2
            },
            "type": "scatter"
           }
          ],
          "scatter3d": [
           {
            "line": {
             "colorbar": {
              "outlinewidth": 0,
              "ticks": ""
             }
            },
            "marker": {
             "colorbar": {
              "outlinewidth": 0,
              "ticks": ""
             }
            },
            "type": "scatter3d"
           }
          ],
          "scattercarpet": [
           {
            "marker": {
             "colorbar": {
              "outlinewidth": 0,
              "ticks": ""
             }
            },
            "type": "scattercarpet"
           }
          ],
          "scattergeo": [
           {
            "marker": {
             "colorbar": {
              "outlinewidth": 0,
              "ticks": ""
             }
            },
            "type": "scattergeo"
           }
          ],
          "scattergl": [
           {
            "marker": {
             "colorbar": {
              "outlinewidth": 0,
              "ticks": ""
             }
            },
            "type": "scattergl"
           }
          ],
          "scattermapbox": [
           {
            "marker": {
             "colorbar": {
              "outlinewidth": 0,
              "ticks": ""
             }
            },
            "type": "scattermapbox"
           }
          ],
          "scatterpolar": [
           {
            "marker": {
             "colorbar": {
              "outlinewidth": 0,
              "ticks": ""
             }
            },
            "type": "scatterpolar"
           }
          ],
          "scatterpolargl": [
           {
            "marker": {
             "colorbar": {
              "outlinewidth": 0,
              "ticks": ""
             }
            },
            "type": "scatterpolargl"
           }
          ],
          "scatterternary": [
           {
            "marker": {
             "colorbar": {
              "outlinewidth": 0,
              "ticks": ""
             }
            },
            "type": "scatterternary"
           }
          ],
          "surface": [
           {
            "colorbar": {
             "outlinewidth": 0,
             "ticks": ""
            },
            "colorscale": [
             [
              0,
              "#0d0887"
             ],
             [
              0.1111111111111111,
              "#46039f"
             ],
             [
              0.2222222222222222,
              "#7201a8"
             ],
             [
              0.3333333333333333,
              "#9c179e"
             ],
             [
              0.4444444444444444,
              "#bd3786"
             ],
             [
              0.5555555555555556,
              "#d8576b"
             ],
             [
              0.6666666666666666,
              "#ed7953"
             ],
             [
              0.7777777777777778,
              "#fb9f3a"
             ],
             [
              0.8888888888888888,
              "#fdca26"
             ],
             [
              1,
              "#f0f921"
             ]
            ],
            "type": "surface"
           }
          ],
          "table": [
           {
            "cells": {
             "fill": {
              "color": "#EBF0F8"
             },
             "line": {
              "color": "white"
             }
            },
            "header": {
             "fill": {
              "color": "#C8D4E3"
             },
             "line": {
              "color": "white"
             }
            },
            "type": "table"
           }
          ]
         },
         "layout": {
          "annotationdefaults": {
           "arrowcolor": "#2a3f5f",
           "arrowhead": 0,
           "arrowwidth": 1
          },
          "autotypenumbers": "strict",
          "coloraxis": {
           "colorbar": {
            "outlinewidth": 0,
            "ticks": ""
           }
          },
          "colorscale": {
           "diverging": [
            [
             0,
             "#8e0152"
            ],
            [
             0.1,
             "#c51b7d"
            ],
            [
             0.2,
             "#de77ae"
            ],
            [
             0.3,
             "#f1b6da"
            ],
            [
             0.4,
             "#fde0ef"
            ],
            [
             0.5,
             "#f7f7f7"
            ],
            [
             0.6,
             "#e6f5d0"
            ],
            [
             0.7,
             "#b8e186"
            ],
            [
             0.8,
             "#7fbc41"
            ],
            [
             0.9,
             "#4d9221"
            ],
            [
             1,
             "#276419"
            ]
           ],
           "sequential": [
            [
             0,
             "#0d0887"
            ],
            [
             0.1111111111111111,
             "#46039f"
            ],
            [
             0.2222222222222222,
             "#7201a8"
            ],
            [
             0.3333333333333333,
             "#9c179e"
            ],
            [
             0.4444444444444444,
             "#bd3786"
            ],
            [
             0.5555555555555556,
             "#d8576b"
            ],
            [
             0.6666666666666666,
             "#ed7953"
            ],
            [
             0.7777777777777778,
             "#fb9f3a"
            ],
            [
             0.8888888888888888,
             "#fdca26"
            ],
            [
             1,
             "#f0f921"
            ]
           ],
           "sequentialminus": [
            [
             0,
             "#0d0887"
            ],
            [
             0.1111111111111111,
             "#46039f"
            ],
            [
             0.2222222222222222,
             "#7201a8"
            ],
            [
             0.3333333333333333,
             "#9c179e"
            ],
            [
             0.4444444444444444,
             "#bd3786"
            ],
            [
             0.5555555555555556,
             "#d8576b"
            ],
            [
             0.6666666666666666,
             "#ed7953"
            ],
            [
             0.7777777777777778,
             "#fb9f3a"
            ],
            [
             0.8888888888888888,
             "#fdca26"
            ],
            [
             1,
             "#f0f921"
            ]
           ]
          },
          "colorway": [
           "#636efa",
           "#EF553B",
           "#00cc96",
           "#ab63fa",
           "#FFA15A",
           "#19d3f3",
           "#FF6692",
           "#B6E880",
           "#FF97FF",
           "#FECB52"
          ],
          "font": {
           "color": "#2a3f5f"
          },
          "geo": {
           "bgcolor": "white",
           "lakecolor": "white",
           "landcolor": "#E5ECF6",
           "showlakes": true,
           "showland": true,
           "subunitcolor": "white"
          },
          "hoverlabel": {
           "align": "left"
          },
          "hovermode": "closest",
          "mapbox": {
           "style": "light"
          },
          "paper_bgcolor": "white",
          "plot_bgcolor": "#E5ECF6",
          "polar": {
           "angularaxis": {
            "gridcolor": "white",
            "linecolor": "white",
            "ticks": ""
           },
           "bgcolor": "#E5ECF6",
           "radialaxis": {
            "gridcolor": "white",
            "linecolor": "white",
            "ticks": ""
           }
          },
          "scene": {
           "xaxis": {
            "backgroundcolor": "#E5ECF6",
            "gridcolor": "white",
            "gridwidth": 2,
            "linecolor": "white",
            "showbackground": true,
            "ticks": "",
            "zerolinecolor": "white"
           },
           "yaxis": {
            "backgroundcolor": "#E5ECF6",
            "gridcolor": "white",
            "gridwidth": 2,
            "linecolor": "white",
            "showbackground": true,
            "ticks": "",
            "zerolinecolor": "white"
           },
           "zaxis": {
            "backgroundcolor": "#E5ECF6",
            "gridcolor": "white",
            "gridwidth": 2,
            "linecolor": "white",
            "showbackground": true,
            "ticks": "",
            "zerolinecolor": "white"
           }
          },
          "shapedefaults": {
           "line": {
            "color": "#2a3f5f"
           }
          },
          "ternary": {
           "aaxis": {
            "gridcolor": "white",
            "linecolor": "white",
            "ticks": ""
           },
           "baxis": {
            "gridcolor": "white",
            "linecolor": "white",
            "ticks": ""
           },
           "bgcolor": "#E5ECF6",
           "caxis": {
            "gridcolor": "white",
            "linecolor": "white",
            "ticks": ""
           }
          },
          "title": {
           "x": 0.05
          },
          "xaxis": {
           "automargin": true,
           "gridcolor": "white",
           "linecolor": "white",
           "ticks": "",
           "title": {
            "standoff": 15
           },
           "zerolinecolor": "white",
           "zerolinewidth": 2
          },
          "yaxis": {
           "automargin": true,
           "gridcolor": "white",
           "linecolor": "white",
           "ticks": "",
           "title": {
            "standoff": 15
           },
           "zerolinecolor": "white",
           "zerolinewidth": 2
          }
         }
        },
        "title": {
         "text": "School Targets"
        }
       }
      },
      "text/html": [
       "<div>                            <div id=\"36236baa-afa0-4521-a1a2-37ce101fe6a4\" class=\"plotly-graph-div\" style=\"height:525px; width:100%;\"></div>            <script type=\"text/javascript\">                require([\"plotly\"], function(Plotly) {                    window.PLOTLYENV=window.PLOTLYENV || {};                                    if (document.getElementById(\"36236baa-afa0-4521-a1a2-37ce101fe6a4\")) {                    Plotly.newPlot(                        \"36236baa-afa0-4521-a1a2-37ce101fe6a4\",                        [{\"domain\":{\"x\":[0.0,1.0],\"y\":[0.0,1.0]},\"hovertemplate\":\"Target=%{label}<extra></extra>\",\"labels\":[\"Dropout\",\"Graduate\",\"Dropout\",\"Graduate\",\"Graduate\",\"Graduate\",\"Graduate\",\"Dropout\",\"Graduate\",\"Dropout\",\"Graduate\",\"Graduate\",\"Dropout\",\"Graduate\",\"Graduate\",\"Dropout\",\"Enrolled\",\"Graduate\",\"Graduate\",\"Enrolled\",\"Graduate\",\"Enrolled\",\"Graduate\",\"Graduate\",\"Graduate\",\"Enrolled\",\"Graduate\",\"Enrolled\",\"Graduate\",\"Enrolled\",\"Enrolled\",\"Graduate\",\"Enrolled\",\"Graduate\",\"Graduate\",\"Dropout\",\"Dropout\",\"Dropout\",\"Graduate\",\"Dropout\",\"Dropout\",\"Graduate\",\"Graduate\",\"Dropout\",\"Dropout\",\"Enrolled\",\"Graduate\",\"Graduate\",\"Graduate\",\"Graduate\",\"Graduate\",\"Enrolled\",\"Enrolled\",\"Graduate\",\"Dropout\",\"Graduate\",\"Dropout\",\"Dropout\",\"Graduate\",\"Enrolled\",\"Graduate\",\"Graduate\",\"Enrolled\",\"Enrolled\",\"Enrolled\",\"Dropout\",\"Graduate\",\"Graduate\",\"Dropout\",\"Enrolled\",\"Enrolled\",\"Graduate\",\"Dropout\",\"Dropout\",\"Graduate\",\"Dropout\",\"Dropout\",\"Graduate\",\"Graduate\",\"Graduate\",\"Dropout\",\"Dropout\",\"Dropout\",\"Enrolled\",\"Graduate\",\"Graduate\",\"Graduate\",\"Graduate\",\"Enrolled\",\"Enrolled\",\"Dropout\",\"Graduate\",\"Dropout\",\"Dropout\",\"Graduate\",\"Enrolled\",\"Graduate\",\"Graduate\",\"Enrolled\",\"Dropout\",\"Dropout\",\"Graduate\",\"Dropout\",\"Graduate\",\"Dropout\",\"Graduate\",\"Dropout\",\"Dropout\",\"Dropout\",\"Enrolled\",\"Graduate\",\"Enrolled\",\"Graduate\",\"Graduate\",\"Dropout\",\"Enrolled\",\"Enrolled\",\"Enrolled\",\"Graduate\",\"Graduate\",\"Dropout\",\"Graduate\",\"Dropout\",\"Graduate\",\"Graduate\",\"Dropout\",\"Graduate\",\"Enrolled\",\"Graduate\",\"Graduate\",\"Dropout\",\"Graduate\",\"Graduate\",\"Dropout\",\"Graduate\",\"Dropout\",\"Graduate\",\"Graduate\",\"Enrolled\",\"Graduate\",\"Graduate\",\"Graduate\",\"Enrolled\",\"Graduate\",\"Graduate\",\"Graduate\",\"Dropout\",\"Dropout\",\"Graduate\",\"Graduate\",\"Enrolled\",\"Graduate\",\"Enrolled\",\"Graduate\",\"Dropout\",\"Dropout\",\"Graduate\",\"Graduate\",\"Graduate\",\"Graduate\",\"Dropout\",\"Graduate\",\"Graduate\",\"Dropout\",\"Graduate\",\"Graduate\",\"Enrolled\",\"Graduate\",\"Graduate\",\"Dropout\",\"Enrolled\",\"Graduate\",\"Graduate\",\"Graduate\",\"Dropout\",\"Enrolled\",\"Graduate\",\"Dropout\",\"Dropout\",\"Dropout\",\"Graduate\",\"Enrolled\",\"Dropout\",\"Dropout\",\"Dropout\",\"Dropout\",\"Enrolled\",\"Graduate\",\"Dropout\",\"Graduate\",\"Graduate\",\"Enrolled\",\"Dropout\",\"Dropout\",\"Graduate\",\"Dropout\",\"Graduate\",\"Dropout\",\"Graduate\",\"Enrolled\",\"Graduate\",\"Graduate\",\"Graduate\",\"Graduate\",\"Graduate\",\"Graduate\",\"Graduate\",\"Graduate\",\"Graduate\",\"Dropout\",\"Graduate\",\"Graduate\",\"Graduate\",\"Dropout\",\"Graduate\",\"Enrolled\",\"Graduate\",\"Dropout\",\"Dropout\",\"Dropout\",\"Graduate\",\"Graduate\",\"Dropout\",\"Graduate\",\"Graduate\",\"Graduate\",\"Graduate\",\"Graduate\",\"Dropout\",\"Graduate\",\"Graduate\",\"Dropout\",\"Graduate\",\"Graduate\",\"Dropout\",\"Graduate\",\"Graduate\",\"Graduate\",\"Dropout\",\"Dropout\",\"Enrolled\",\"Enrolled\",\"Graduate\",\"Dropout\",\"Graduate\",\"Graduate\",\"Graduate\",\"Dropout\",\"Graduate\",\"Graduate\",\"Enrolled\",\"Dropout\",\"Graduate\",\"Enrolled\",\"Graduate\",\"Dropout\",\"Graduate\",\"Enrolled\",\"Graduate\",\"Dropout\",\"Graduate\",\"Dropout\",\"Dropout\",\"Graduate\",\"Graduate\",\"Graduate\",\"Graduate\",\"Graduate\",\"Graduate\",\"Graduate\",\"Graduate\",\"Dropout\",\"Graduate\",\"Graduate\",\"Graduate\",\"Graduate\",\"Dropout\",\"Dropout\",\"Enrolled\",\"Graduate\",\"Graduate\",\"Graduate\",\"Graduate\",\"Graduate\",\"Graduate\",\"Graduate\",\"Enrolled\",\"Graduate\",\"Graduate\",\"Graduate\",\"Graduate\",\"Graduate\",\"Enrolled\",\"Graduate\",\"Dropout\",\"Graduate\",\"Graduate\",\"Graduate\",\"Graduate\",\"Graduate\",\"Graduate\",\"Graduate\",\"Graduate\",\"Dropout\",\"Dropout\",\"Enrolled\",\"Graduate\",\"Dropout\",\"Graduate\",\"Dropout\",\"Graduate\",\"Dropout\",\"Graduate\",\"Graduate\",\"Dropout\",\"Graduate\",\"Graduate\",\"Graduate\",\"Graduate\",\"Enrolled\",\"Dropout\",\"Graduate\",\"Graduate\",\"Graduate\",\"Enrolled\",\"Graduate\",\"Graduate\",\"Graduate\",\"Enrolled\",\"Enrolled\",\"Enrolled\",\"Dropout\",\"Graduate\",\"Graduate\",\"Graduate\",\"Graduate\",\"Graduate\",\"Graduate\",\"Graduate\",\"Graduate\",\"Enrolled\",\"Dropout\",\"Graduate\",\"Graduate\",\"Enrolled\",\"Graduate\",\"Enrolled\",\"Graduate\",\"Graduate\",\"Enrolled\",\"Dropout\",\"Graduate\",\"Dropout\",\"Graduate\",\"Dropout\",\"Graduate\",\"Graduate\",\"Dropout\",\"Enrolled\",\"Dropout\",\"Graduate\",\"Dropout\",\"Enrolled\",\"Graduate\",\"Enrolled\",\"Graduate\",\"Graduate\",\"Enrolled\",\"Graduate\",\"Dropout\",\"Graduate\",\"Enrolled\",\"Graduate\",\"Graduate\",\"Dropout\",\"Enrolled\",\"Dropout\",\"Graduate\",\"Enrolled\",\"Enrolled\",\"Dropout\",\"Enrolled\",\"Enrolled\",\"Graduate\",\"Graduate\",\"Graduate\",\"Graduate\",\"Graduate\",\"Enrolled\",\"Graduate\",\"Enrolled\",\"Enrolled\",\"Dropout\",\"Dropout\",\"Graduate\",\"Graduate\",\"Graduate\",\"Graduate\",\"Dropout\",\"Dropout\",\"Enrolled\",\"Enrolled\",\"Enrolled\",\"Enrolled\",\"Graduate\",\"Graduate\",\"Graduate\",\"Graduate\",\"Graduate\",\"Dropout\",\"Graduate\",\"Graduate\",\"Graduate\",\"Graduate\",\"Graduate\",\"Graduate\",\"Graduate\",\"Dropout\",\"Graduate\",\"Dropout\",\"Graduate\",\"Graduate\",\"Dropout\",\"Graduate\",\"Graduate\",\"Graduate\",\"Graduate\",\"Enrolled\",\"Dropout\",\"Graduate\",\"Graduate\",\"Graduate\",\"Graduate\",\"Dropout\",\"Graduate\",\"Graduate\",\"Enrolled\",\"Graduate\",\"Dropout\",\"Graduate\",\"Enrolled\",\"Enrolled\",\"Graduate\",\"Graduate\",\"Graduate\",\"Graduate\",\"Graduate\",\"Dropout\",\"Graduate\",\"Enrolled\",\"Graduate\",\"Graduate\",\"Graduate\",\"Graduate\",\"Enrolled\",\"Graduate\",\"Dropout\",\"Dropout\",\"Graduate\",\"Graduate\",\"Graduate\",\"Graduate\",\"Graduate\",\"Graduate\",\"Enrolled\",\"Dropout\",\"Enrolled\",\"Graduate\",\"Graduate\",\"Graduate\",\"Graduate\",\"Graduate\",\"Dropout\",\"Graduate\",\"Dropout\",\"Graduate\",\"Dropout\",\"Dropout\",\"Graduate\",\"Enrolled\",\"Graduate\",\"Graduate\",\"Dropout\",\"Enrolled\",\"Graduate\",\"Graduate\",\"Dropout\",\"Dropout\",\"Graduate\",\"Graduate\",\"Graduate\",\"Graduate\",\"Graduate\",\"Enrolled\",\"Enrolled\",\"Dropout\",\"Dropout\",\"Graduate\",\"Graduate\",\"Graduate\",\"Enrolled\",\"Graduate\",\"Enrolled\",\"Dropout\",\"Graduate\",\"Enrolled\",\"Enrolled\",\"Graduate\",\"Dropout\",\"Dropout\",\"Enrolled\",\"Dropout\",\"Graduate\",\"Dropout\",\"Dropout\",\"Dropout\",\"Graduate\",\"Dropout\",\"Dropout\",\"Dropout\",\"Graduate\",\"Graduate\",\"Graduate\",\"Graduate\",\"Dropout\",\"Dropout\",\"Enrolled\",\"Graduate\",\"Dropout\",\"Dropout\",\"Enrolled\",\"Dropout\",\"Graduate\",\"Dropout\",\"Graduate\",\"Graduate\",\"Dropout\",\"Graduate\",\"Graduate\",\"Dropout\",\"Graduate\",\"Enrolled\",\"Graduate\",\"Graduate\",\"Enrolled\",\"Enrolled\",\"Enrolled\",\"Enrolled\",\"Enrolled\",\"Graduate\",\"Dropout\",\"Dropout\",\"Dropout\",\"Dropout\",\"Dropout\",\"Dropout\",\"Enrolled\",\"Graduate\",\"Enrolled\",\"Graduate\",\"Graduate\",\"Enrolled\",\"Dropout\",\"Graduate\",\"Graduate\",\"Graduate\",\"Dropout\",\"Dropout\",\"Graduate\",\"Graduate\",\"Graduate\",\"Dropout\",\"Dropout\",\"Enrolled\",\"Graduate\",\"Dropout\",\"Graduate\",\"Enrolled\",\"Graduate\",\"Graduate\",\"Dropout\",\"Graduate\",\"Enrolled\",\"Graduate\",\"Graduate\",\"Graduate\",\"Graduate\",\"Graduate\",\"Graduate\",\"Graduate\",\"Graduate\",\"Enrolled\",\"Graduate\",\"Enrolled\",\"Enrolled\",\"Dropout\",\"Dropout\",\"Dropout\",\"Graduate\",\"Graduate\",\"Dropout\",\"Dropout\",\"Graduate\",\"Graduate\",\"Graduate\",\"Dropout\",\"Dropout\",\"Graduate\",\"Dropout\",\"Enrolled\",\"Graduate\",\"Graduate\",\"Graduate\",\"Enrolled\",\"Graduate\",\"Graduate\",\"Graduate\",\"Graduate\",\"Graduate\",\"Enrolled\",\"Graduate\",\"Dropout\",\"Dropout\",\"Graduate\",\"Dropout\",\"Dropout\",\"Graduate\",\"Graduate\",\"Graduate\",\"Graduate\",\"Graduate\",\"Enrolled\",\"Graduate\",\"Graduate\",\"Graduate\",\"Graduate\",\"Graduate\",\"Enrolled\",\"Graduate\",\"Dropout\",\"Dropout\",\"Enrolled\",\"Enrolled\",\"Enrolled\",\"Dropout\",\"Enrolled\",\"Enrolled\",\"Graduate\",\"Graduate\",\"Graduate\",\"Graduate\",\"Enrolled\",\"Graduate\",\"Graduate\",\"Graduate\",\"Enrolled\",\"Enrolled\",\"Graduate\",\"Graduate\",\"Dropout\",\"Graduate\",\"Enrolled\",\"Graduate\",\"Graduate\",\"Graduate\",\"Graduate\",\"Dropout\",\"Graduate\",\"Dropout\",\"Graduate\",\"Graduate\",\"Dropout\",\"Graduate\",\"Graduate\",\"Graduate\",\"Dropout\",\"Graduate\",\"Enrolled\",\"Dropout\",\"Graduate\",\"Graduate\",\"Graduate\",\"Dropout\",\"Dropout\",\"Graduate\",\"Graduate\",\"Dropout\",\"Graduate\",\"Graduate\",\"Dropout\",\"Dropout\",\"Graduate\",\"Enrolled\",\"Dropout\",\"Graduate\",\"Dropout\",\"Graduate\",\"Enrolled\",\"Graduate\",\"Dropout\",\"Enrolled\",\"Dropout\",\"Dropout\",\"Dropout\",\"Graduate\",\"Dropout\",\"Graduate\",\"Graduate\",\"Graduate\",\"Dropout\",\"Dropout\",\"Dropout\",\"Graduate\",\"Graduate\",\"Graduate\",\"Graduate\",\"Dropout\",\"Dropout\",\"Enrolled\",\"Enrolled\",\"Dropout\",\"Enrolled\",\"Graduate\",\"Dropout\",\"Dropout\",\"Graduate\",\"Graduate\",\"Dropout\",\"Graduate\",\"Enrolled\",\"Dropout\",\"Graduate\",\"Graduate\",\"Graduate\",\"Dropout\",\"Graduate\",\"Enrolled\",\"Dropout\",\"Enrolled\",\"Dropout\",\"Dropout\",\"Graduate\",\"Dropout\",\"Dropout\",\"Graduate\",\"Dropout\",\"Dropout\",\"Graduate\",\"Dropout\",\"Graduate\",\"Graduate\",\"Graduate\",\"Graduate\",\"Dropout\",\"Graduate\",\"Dropout\",\"Dropout\",\"Dropout\",\"Graduate\",\"Graduate\",\"Graduate\",\"Enrolled\",\"Graduate\",\"Enrolled\",\"Graduate\",\"Enrolled\",\"Enrolled\",\"Graduate\",\"Graduate\",\"Graduate\",\"Graduate\",\"Dropout\",\"Enrolled\",\"Graduate\",\"Enrolled\",\"Dropout\",\"Graduate\",\"Dropout\",\"Enrolled\",\"Graduate\",\"Graduate\",\"Dropout\",\"Graduate\",\"Enrolled\",\"Graduate\",\"Graduate\",\"Graduate\",\"Graduate\",\"Dropout\",\"Graduate\",\"Graduate\",\"Dropout\",\"Graduate\",\"Graduate\",\"Graduate\",\"Graduate\",\"Graduate\",\"Graduate\",\"Graduate\",\"Enrolled\",\"Enrolled\",\"Dropout\",\"Graduate\",\"Graduate\",\"Graduate\",\"Enrolled\",\"Graduate\",\"Enrolled\",\"Dropout\",\"Enrolled\",\"Dropout\",\"Graduate\",\"Graduate\",\"Graduate\",\"Graduate\",\"Enrolled\",\"Enrolled\",\"Graduate\",\"Enrolled\",\"Graduate\",\"Graduate\",\"Graduate\",\"Enrolled\",\"Graduate\",\"Graduate\",\"Graduate\",\"Dropout\",\"Graduate\",\"Graduate\",\"Dropout\",\"Dropout\",\"Dropout\",\"Enrolled\",\"Dropout\",\"Dropout\",\"Enrolled\",\"Dropout\",\"Enrolled\",\"Dropout\",\"Graduate\",\"Dropout\",\"Enrolled\",\"Dropout\",\"Graduate\",\"Graduate\",\"Dropout\",\"Graduate\",\"Graduate\",\"Enrolled\",\"Graduate\",\"Graduate\",\"Enrolled\",\"Graduate\",\"Graduate\",\"Enrolled\",\"Dropout\",\"Dropout\",\"Dropout\",\"Dropout\",\"Dropout\",\"Dropout\",\"Dropout\",\"Dropout\",\"Dropout\",\"Dropout\",\"Graduate\",\"Dropout\",\"Dropout\",\"Graduate\",\"Graduate\",\"Graduate\",\"Dropout\",\"Graduate\",\"Enrolled\",\"Graduate\",\"Graduate\",\"Dropout\",\"Dropout\",\"Graduate\",\"Dropout\",\"Graduate\",\"Graduate\",\"Dropout\",\"Dropout\",\"Graduate\",\"Graduate\",\"Graduate\",\"Graduate\",\"Graduate\",\"Graduate\",\"Graduate\",\"Dropout\",\"Graduate\",\"Dropout\",\"Graduate\",\"Dropout\",\"Graduate\",\"Graduate\",\"Enrolled\",\"Graduate\",\"Dropout\",\"Graduate\",\"Graduate\",\"Graduate\",\"Dropout\",\"Graduate\",\"Dropout\",\"Graduate\",\"Enrolled\",\"Dropout\",\"Graduate\",\"Graduate\",\"Dropout\",\"Graduate\",\"Dropout\",\"Graduate\",\"Dropout\",\"Dropout\",\"Graduate\",\"Graduate\",\"Graduate\",\"Graduate\",\"Dropout\",\"Dropout\",\"Enrolled\",\"Graduate\",\"Dropout\",\"Enrolled\",\"Enrolled\",\"Dropout\",\"Enrolled\",\"Graduate\",\"Graduate\",\"Dropout\",\"Enrolled\",\"Graduate\",\"Dropout\",\"Enrolled\",\"Enrolled\",\"Dropout\",\"Graduate\",\"Graduate\",\"Enrolled\",\"Dropout\",\"Graduate\",\"Graduate\",\"Graduate\",\"Dropout\",\"Graduate\",\"Dropout\",\"Graduate\",\"Dropout\",\"Graduate\",\"Dropout\",\"Dropout\",\"Dropout\",\"Graduate\",\"Graduate\",\"Graduate\",\"Dropout\",\"Dropout\",\"Graduate\",\"Graduate\",\"Enrolled\",\"Graduate\",\"Graduate\",\"Dropout\",\"Dropout\",\"Dropout\",\"Enrolled\",\"Graduate\",\"Dropout\",\"Dropout\",\"Graduate\",\"Graduate\",\"Enrolled\",\"Graduate\",\"Graduate\",\"Dropout\",\"Graduate\",\"Dropout\",\"Enrolled\",\"Graduate\",\"Enrolled\",\"Dropout\",\"Graduate\",\"Graduate\",\"Dropout\",\"Dropout\",\"Dropout\",\"Graduate\",\"Graduate\",\"Dropout\",\"Graduate\",\"Graduate\",\"Graduate\",\"Enrolled\",\"Enrolled\",\"Graduate\",\"Dropout\",\"Dropout\",\"Dropout\",\"Graduate\",\"Graduate\",\"Dropout\",\"Graduate\",\"Graduate\",\"Graduate\",\"Graduate\",\"Graduate\",\"Graduate\",\"Graduate\",\"Graduate\",\"Dropout\",\"Graduate\",\"Graduate\",\"Dropout\",\"Graduate\",\"Dropout\",\"Graduate\",\"Graduate\",\"Graduate\",\"Graduate\",\"Graduate\",\"Graduate\",\"Dropout\",\"Graduate\",\"Graduate\",\"Graduate\",\"Graduate\",\"Graduate\",\"Enrolled\",\"Graduate\",\"Graduate\",\"Dropout\",\"Enrolled\",\"Dropout\",\"Graduate\",\"Graduate\",\"Enrolled\",\"Graduate\",\"Graduate\",\"Graduate\",\"Graduate\",\"Graduate\",\"Dropout\",\"Dropout\",\"Graduate\",\"Graduate\",\"Graduate\",\"Graduate\",\"Graduate\",\"Dropout\",\"Graduate\",\"Graduate\",\"Graduate\",\"Dropout\",\"Graduate\",\"Dropout\",\"Graduate\",\"Dropout\",\"Dropout\",\"Graduate\",\"Graduate\",\"Enrolled\",\"Dropout\",\"Graduate\",\"Graduate\",\"Graduate\",\"Graduate\",\"Graduate\",\"Graduate\",\"Enrolled\",\"Graduate\",\"Graduate\",\"Graduate\",\"Dropout\",\"Dropout\",\"Dropout\",\"Graduate\",\"Graduate\",\"Graduate\",\"Enrolled\",\"Graduate\",\"Graduate\",\"Dropout\",\"Graduate\",\"Graduate\",\"Enrolled\",\"Enrolled\",\"Graduate\",\"Dropout\",\"Graduate\",\"Dropout\",\"Graduate\",\"Dropout\",\"Dropout\",\"Graduate\",\"Graduate\",\"Graduate\",\"Dropout\",\"Dropout\",\"Enrolled\",\"Enrolled\",\"Graduate\",\"Dropout\",\"Dropout\",\"Graduate\",\"Dropout\",\"Graduate\",\"Graduate\",\"Graduate\",\"Enrolled\",\"Enrolled\",\"Graduate\",\"Graduate\",\"Dropout\",\"Graduate\",\"Enrolled\",\"Graduate\",\"Enrolled\",\"Graduate\",\"Graduate\",\"Graduate\",\"Graduate\",\"Graduate\",\"Graduate\",\"Graduate\",\"Graduate\",\"Graduate\",\"Graduate\",\"Graduate\",\"Enrolled\",\"Graduate\",\"Dropout\",\"Dropout\",\"Graduate\",\"Dropout\",\"Graduate\",\"Graduate\",\"Graduate\",\"Enrolled\",\"Dropout\",\"Graduate\",\"Enrolled\",\"Graduate\",\"Enrolled\",\"Graduate\",\"Enrolled\",\"Graduate\",\"Graduate\",\"Dropout\",\"Enrolled\",\"Enrolled\",\"Graduate\",\"Enrolled\",\"Dropout\",\"Graduate\",\"Graduate\",\"Graduate\",\"Graduate\",\"Enrolled\",\"Graduate\",\"Graduate\",\"Dropout\",\"Graduate\",\"Dropout\",\"Graduate\",\"Dropout\",\"Graduate\",\"Graduate\",\"Graduate\",\"Dropout\",\"Enrolled\",\"Graduate\",\"Dropout\",\"Graduate\",\"Graduate\",\"Dropout\",\"Graduate\",\"Dropout\",\"Graduate\",\"Graduate\",\"Dropout\",\"Enrolled\",\"Graduate\",\"Enrolled\",\"Dropout\",\"Graduate\",\"Graduate\",\"Dropout\",\"Graduate\",\"Graduate\",\"Graduate\",\"Graduate\",\"Enrolled\",\"Dropout\",\"Dropout\",\"Graduate\",\"Graduate\",\"Graduate\",\"Graduate\",\"Dropout\",\"Graduate\",\"Dropout\",\"Graduate\",\"Graduate\",\"Enrolled\",\"Dropout\",\"Dropout\",\"Dropout\",\"Enrolled\",\"Graduate\",\"Graduate\",\"Enrolled\",\"Graduate\",\"Graduate\",\"Graduate\",\"Graduate\",\"Graduate\",\"Dropout\",\"Graduate\",\"Dropout\",\"Graduate\",\"Graduate\",\"Graduate\",\"Graduate\",\"Graduate\",\"Graduate\",\"Enrolled\",\"Graduate\",\"Graduate\",\"Graduate\",\"Graduate\",\"Graduate\",\"Dropout\",\"Graduate\",\"Dropout\",\"Graduate\",\"Dropout\",\"Dropout\",\"Dropout\",\"Enrolled\",\"Graduate\",\"Dropout\",\"Dropout\",\"Graduate\",\"Dropout\",\"Enrolled\",\"Dropout\",\"Graduate\",\"Graduate\",\"Graduate\",\"Graduate\",\"Enrolled\",\"Dropout\",\"Graduate\",\"Graduate\",\"Graduate\",\"Graduate\",\"Graduate\",\"Dropout\",\"Dropout\",\"Graduate\",\"Graduate\",\"Graduate\",\"Graduate\",\"Graduate\",\"Enrolled\",\"Dropout\",\"Enrolled\",\"Graduate\",\"Dropout\",\"Dropout\",\"Graduate\",\"Graduate\",\"Graduate\",\"Dropout\",\"Enrolled\",\"Graduate\",\"Graduate\",\"Graduate\",\"Dropout\",\"Graduate\",\"Graduate\",\"Dropout\",\"Enrolled\",\"Graduate\",\"Graduate\",\"Graduate\",\"Enrolled\",\"Graduate\",\"Dropout\",\"Graduate\",\"Dropout\",\"Dropout\",\"Dropout\",\"Dropout\",\"Graduate\",\"Enrolled\",\"Dropout\",\"Dropout\",\"Graduate\",\"Graduate\",\"Graduate\",\"Graduate\",\"Graduate\",\"Graduate\",\"Graduate\",\"Graduate\",\"Graduate\",\"Graduate\",\"Graduate\",\"Dropout\",\"Enrolled\",\"Graduate\",\"Enrolled\",\"Dropout\",\"Dropout\",\"Graduate\",\"Graduate\",\"Enrolled\",\"Graduate\",\"Graduate\",\"Enrolled\",\"Graduate\",\"Enrolled\",\"Dropout\",\"Graduate\",\"Enrolled\",\"Graduate\",\"Graduate\",\"Dropout\",\"Enrolled\",\"Graduate\",\"Enrolled\",\"Enrolled\",\"Enrolled\",\"Dropout\",\"Graduate\",\"Graduate\",\"Graduate\",\"Graduate\",\"Graduate\",\"Dropout\",\"Graduate\",\"Graduate\",\"Enrolled\",\"Enrolled\",\"Graduate\",\"Graduate\",\"Graduate\",\"Graduate\",\"Dropout\",\"Enrolled\",\"Enrolled\",\"Dropout\",\"Dropout\",\"Dropout\",\"Dropout\",\"Dropout\",\"Graduate\",\"Dropout\",\"Graduate\",\"Graduate\",\"Dropout\",\"Dropout\",\"Graduate\",\"Dropout\",\"Graduate\",\"Graduate\",\"Graduate\",\"Graduate\",\"Graduate\",\"Dropout\",\"Dropout\",\"Enrolled\",\"Graduate\",\"Dropout\",\"Dropout\",\"Graduate\",\"Dropout\",\"Graduate\",\"Graduate\",\"Graduate\",\"Dropout\",\"Dropout\",\"Graduate\",\"Dropout\",\"Enrolled\",\"Graduate\",\"Graduate\",\"Dropout\",\"Graduate\",\"Graduate\",\"Graduate\",\"Enrolled\",\"Graduate\",\"Graduate\",\"Graduate\",\"Enrolled\",\"Graduate\",\"Graduate\",\"Graduate\",\"Dropout\",\"Dropout\",\"Graduate\",\"Enrolled\",\"Dropout\",\"Graduate\",\"Dropout\",\"Graduate\",\"Graduate\",\"Enrolled\",\"Graduate\",\"Graduate\",\"Dropout\",\"Graduate\",\"Graduate\",\"Dropout\",\"Dropout\",\"Enrolled\",\"Graduate\",\"Graduate\",\"Enrolled\",\"Graduate\",\"Graduate\",\"Enrolled\",\"Enrolled\",\"Graduate\",\"Graduate\",\"Dropout\",\"Enrolled\",\"Graduate\",\"Enrolled\",\"Dropout\",\"Enrolled\",\"Graduate\",\"Graduate\",\"Graduate\",\"Graduate\",\"Graduate\",\"Graduate\",\"Dropout\",\"Graduate\",\"Dropout\",\"Dropout\",\"Dropout\",\"Dropout\",\"Graduate\",\"Dropout\",\"Graduate\",\"Dropout\",\"Graduate\",\"Enrolled\",\"Dropout\",\"Enrolled\",\"Enrolled\",\"Enrolled\",\"Dropout\",\"Dropout\",\"Graduate\",\"Enrolled\",\"Dropout\",\"Enrolled\",\"Graduate\",\"Dropout\",\"Enrolled\",\"Graduate\",\"Graduate\",\"Enrolled\",\"Enrolled\",\"Graduate\",\"Dropout\",\"Enrolled\",\"Graduate\",\"Dropout\",\"Graduate\",\"Dropout\",\"Dropout\",\"Dropout\",\"Graduate\",\"Graduate\",\"Graduate\",\"Graduate\",\"Graduate\",\"Graduate\",\"Enrolled\",\"Dropout\",\"Graduate\",\"Graduate\",\"Graduate\",\"Dropout\",\"Graduate\",\"Dropout\",\"Graduate\",\"Graduate\",\"Graduate\",\"Enrolled\",\"Graduate\",\"Graduate\",\"Dropout\",\"Graduate\",\"Enrolled\",\"Enrolled\",\"Dropout\",\"Enrolled\",\"Graduate\",\"Graduate\",\"Dropout\",\"Dropout\",\"Enrolled\",\"Graduate\",\"Graduate\",\"Dropout\",\"Graduate\",\"Dropout\",\"Graduate\",\"Enrolled\",\"Dropout\",\"Dropout\",\"Graduate\",\"Dropout\",\"Dropout\",\"Enrolled\",\"Graduate\",\"Dropout\",\"Graduate\",\"Graduate\",\"Dropout\",\"Enrolled\",\"Graduate\",\"Graduate\",\"Enrolled\",\"Graduate\",\"Enrolled\",\"Dropout\",\"Graduate\",\"Dropout\",\"Dropout\",\"Dropout\",\"Dropout\",\"Dropout\",\"Dropout\",\"Dropout\",\"Graduate\",\"Enrolled\",\"Dropout\",\"Dropout\",\"Dropout\",\"Graduate\",\"Graduate\",\"Graduate\",\"Graduate\",\"Graduate\",\"Graduate\",\"Dropout\",\"Enrolled\",\"Dropout\",\"Graduate\",\"Enrolled\",\"Enrolled\",\"Graduate\",\"Enrolled\",\"Enrolled\",\"Graduate\",\"Graduate\",\"Graduate\",\"Enrolled\",\"Dropout\",\"Enrolled\",\"Dropout\",\"Dropout\",\"Dropout\",\"Graduate\",\"Graduate\",\"Dropout\",\"Enrolled\",\"Dropout\",\"Enrolled\",\"Graduate\",\"Enrolled\",\"Dropout\",\"Dropout\",\"Graduate\",\"Graduate\",\"Enrolled\",\"Enrolled\",\"Dropout\",\"Graduate\",\"Dropout\",\"Dropout\",\"Enrolled\",\"Dropout\",\"Enrolled\",\"Enrolled\",\"Enrolled\",\"Graduate\",\"Dropout\",\"Dropout\",\"Graduate\",\"Enrolled\",\"Enrolled\",\"Graduate\",\"Dropout\",\"Enrolled\",\"Graduate\",\"Graduate\",\"Enrolled\",\"Graduate\",\"Dropout\",\"Enrolled\",\"Graduate\",\"Dropout\",\"Graduate\",\"Dropout\",\"Graduate\",\"Dropout\",\"Dropout\",\"Graduate\",\"Graduate\",\"Graduate\",\"Dropout\",\"Dropout\",\"Dropout\",\"Dropout\",\"Graduate\",\"Dropout\",\"Dropout\",\"Dropout\",\"Graduate\",\"Dropout\",\"Graduate\",\"Enrolled\",\"Graduate\",\"Graduate\",\"Graduate\",\"Graduate\",\"Dropout\",\"Graduate\",\"Graduate\",\"Graduate\",\"Graduate\",\"Graduate\",\"Dropout\",\"Dropout\",\"Graduate\",\"Graduate\",\"Dropout\",\"Graduate\",\"Enrolled\",\"Graduate\",\"Enrolled\",\"Graduate\",\"Dropout\",\"Graduate\",\"Graduate\",\"Enrolled\",\"Graduate\",\"Enrolled\",\"Graduate\",\"Graduate\",\"Graduate\",\"Graduate\",\"Graduate\",\"Enrolled\",\"Graduate\",\"Graduate\",\"Dropout\",\"Graduate\",\"Enrolled\",\"Graduate\",\"Dropout\",\"Graduate\",\"Graduate\",\"Dropout\",\"Dropout\",\"Graduate\",\"Graduate\",\"Dropout\",\"Enrolled\",\"Enrolled\",\"Dropout\",\"Dropout\",\"Graduate\",\"Graduate\",\"Graduate\",\"Dropout\",\"Enrolled\",\"Dropout\",\"Dropout\",\"Dropout\",\"Graduate\",\"Enrolled\",\"Dropout\",\"Graduate\",\"Graduate\",\"Dropout\",\"Dropout\",\"Dropout\",\"Graduate\",\"Graduate\",\"Dropout\",\"Graduate\",\"Graduate\",\"Enrolled\",\"Dropout\",\"Enrolled\",\"Dropout\",\"Graduate\",\"Enrolled\",\"Graduate\",\"Dropout\",\"Enrolled\",\"Graduate\",\"Graduate\",\"Graduate\",\"Enrolled\",\"Dropout\",\"Dropout\",\"Graduate\",\"Graduate\",\"Graduate\",\"Graduate\",\"Graduate\",\"Dropout\",\"Graduate\",\"Enrolled\",\"Dropout\",\"Graduate\",\"Graduate\",\"Dropout\",\"Dropout\",\"Enrolled\",\"Dropout\",\"Graduate\",\"Graduate\",\"Enrolled\",\"Graduate\",\"Dropout\",\"Dropout\",\"Enrolled\",\"Dropout\",\"Dropout\",\"Dropout\",\"Dropout\",\"Dropout\",\"Dropout\",\"Dropout\",\"Dropout\",\"Enrolled\",\"Graduate\",\"Enrolled\",\"Enrolled\",\"Dropout\",\"Enrolled\",\"Enrolled\",\"Dropout\",\"Graduate\",\"Graduate\",\"Graduate\",\"Dropout\",\"Graduate\",\"Graduate\",\"Graduate\",\"Dropout\",\"Dropout\",\"Enrolled\",\"Dropout\",\"Enrolled\",\"Enrolled\",\"Enrolled\",\"Graduate\",\"Enrolled\",\"Enrolled\",\"Dropout\",\"Graduate\",\"Dropout\",\"Graduate\",\"Graduate\",\"Enrolled\",\"Graduate\",\"Dropout\",\"Enrolled\",\"Dropout\",\"Enrolled\",\"Dropout\",\"Graduate\",\"Dropout\",\"Graduate\",\"Graduate\",\"Dropout\",\"Dropout\",\"Dropout\",\"Enrolled\",\"Graduate\",\"Graduate\",\"Dropout\",\"Dropout\",\"Dropout\",\"Dropout\",\"Graduate\",\"Graduate\",\"Dropout\",\"Dropout\",\"Dropout\",\"Enrolled\",\"Dropout\",\"Enrolled\",\"Graduate\",\"Graduate\",\"Graduate\",\"Dropout\",\"Graduate\",\"Dropout\",\"Enrolled\",\"Graduate\",\"Graduate\",\"Dropout\",\"Dropout\",\"Enrolled\",\"Enrolled\",\"Enrolled\",\"Dropout\",\"Graduate\",\"Graduate\",\"Graduate\",\"Enrolled\",\"Dropout\",\"Enrolled\",\"Dropout\",\"Graduate\",\"Graduate\",\"Dropout\",\"Graduate\",\"Graduate\",\"Graduate\",\"Enrolled\",\"Graduate\",\"Graduate\",\"Dropout\",\"Dropout\",\"Graduate\",\"Enrolled\",\"Graduate\",\"Dropout\",\"Dropout\",\"Dropout\",\"Graduate\",\"Enrolled\",\"Dropout\",\"Dropout\",\"Graduate\",\"Graduate\",\"Dropout\",\"Dropout\",\"Graduate\",\"Graduate\",\"Graduate\",\"Enrolled\",\"Dropout\",\"Enrolled\",\"Dropout\",\"Graduate\",\"Dropout\",\"Graduate\",\"Dropout\",\"Dropout\",\"Graduate\",\"Graduate\",\"Dropout\",\"Dropout\",\"Graduate\",\"Dropout\",\"Graduate\",\"Graduate\",\"Dropout\",\"Dropout\",\"Dropout\",\"Graduate\",\"Enrolled\",\"Dropout\",\"Dropout\",\"Graduate\",\"Enrolled\",\"Graduate\",\"Dropout\",\"Dropout\",\"Graduate\",\"Graduate\",\"Graduate\",\"Graduate\",\"Dropout\",\"Enrolled\",\"Graduate\",\"Enrolled\",\"Enrolled\",\"Dropout\",\"Graduate\",\"Graduate\",\"Graduate\",\"Graduate\",\"Graduate\",\"Graduate\",\"Graduate\",\"Graduate\",\"Graduate\",\"Graduate\",\"Enrolled\",\"Graduate\",\"Graduate\",\"Graduate\",\"Graduate\",\"Dropout\",\"Graduate\",\"Graduate\",\"Graduate\",\"Graduate\",\"Graduate\",\"Enrolled\",\"Enrolled\",\"Graduate\",\"Enrolled\",\"Graduate\",\"Dropout\",\"Graduate\",\"Graduate\",\"Graduate\",\"Enrolled\",\"Graduate\",\"Graduate\",\"Graduate\",\"Graduate\",\"Graduate\",\"Graduate\",\"Graduate\",\"Graduate\",\"Graduate\",\"Dropout\",\"Graduate\",\"Graduate\",\"Graduate\",\"Graduate\",\"Graduate\",\"Dropout\",\"Graduate\",\"Graduate\",\"Graduate\",\"Graduate\",\"Graduate\",\"Dropout\",\"Dropout\",\"Dropout\",\"Graduate\",\"Enrolled\",\"Graduate\",\"Enrolled\",\"Graduate\",\"Dropout\",\"Enrolled\",\"Graduate\",\"Enrolled\",\"Graduate\",\"Graduate\",\"Graduate\",\"Graduate\",\"Graduate\",\"Enrolled\",\"Enrolled\",\"Graduate\",\"Enrolled\",\"Graduate\",\"Dropout\",\"Graduate\",\"Graduate\",\"Dropout\",\"Enrolled\",\"Graduate\",\"Enrolled\",\"Graduate\",\"Graduate\",\"Graduate\",\"Graduate\",\"Graduate\",\"Graduate\",\"Graduate\",\"Graduate\",\"Enrolled\",\"Graduate\",\"Enrolled\",\"Graduate\",\"Dropout\",\"Enrolled\",\"Graduate\",\"Dropout\",\"Graduate\",\"Graduate\",\"Graduate\",\"Dropout\",\"Graduate\",\"Dropout\",\"Dropout\",\"Graduate\",\"Dropout\",\"Dropout\",\"Graduate\",\"Graduate\",\"Graduate\",\"Graduate\",\"Dropout\",\"Graduate\",\"Graduate\",\"Dropout\",\"Dropout\",\"Dropout\",\"Graduate\",\"Graduate\",\"Graduate\",\"Enrolled\",\"Graduate\",\"Dropout\",\"Dropout\",\"Dropout\",\"Graduate\",\"Enrolled\",\"Graduate\",\"Graduate\",\"Enrolled\",\"Graduate\",\"Graduate\",\"Graduate\",\"Dropout\",\"Graduate\",\"Dropout\",\"Graduate\",\"Enrolled\",\"Dropout\",\"Dropout\",\"Graduate\",\"Graduate\",\"Dropout\",\"Graduate\",\"Graduate\",\"Graduate\",\"Graduate\",\"Graduate\",\"Dropout\",\"Dropout\",\"Graduate\",\"Graduate\",\"Graduate\",\"Graduate\",\"Dropout\",\"Enrolled\",\"Graduate\",\"Graduate\",\"Graduate\",\"Enrolled\",\"Graduate\",\"Dropout\",\"Graduate\",\"Graduate\",\"Graduate\",\"Graduate\",\"Graduate\",\"Graduate\",\"Graduate\",\"Graduate\",\"Enrolled\",\"Dropout\",\"Graduate\",\"Graduate\",\"Graduate\",\"Graduate\",\"Graduate\",\"Graduate\",\"Graduate\",\"Graduate\",\"Graduate\",\"Graduate\",\"Graduate\",\"Graduate\",\"Graduate\",\"Graduate\",\"Graduate\",\"Dropout\",\"Dropout\",\"Dropout\",\"Graduate\",\"Dropout\",\"Graduate\",\"Enrolled\",\"Graduate\",\"Graduate\",\"Dropout\",\"Graduate\",\"Dropout\",\"Graduate\",\"Graduate\",\"Dropout\",\"Enrolled\",\"Graduate\",\"Graduate\",\"Dropout\",\"Graduate\",\"Enrolled\",\"Enrolled\",\"Graduate\",\"Enrolled\",\"Graduate\",\"Enrolled\",\"Graduate\",\"Graduate\",\"Graduate\",\"Dropout\",\"Dropout\",\"Graduate\",\"Dropout\",\"Graduate\",\"Enrolled\",\"Dropout\",\"Graduate\",\"Graduate\",\"Dropout\",\"Graduate\",\"Dropout\",\"Dropout\",\"Dropout\",\"Dropout\",\"Graduate\",\"Enrolled\",\"Graduate\",\"Graduate\",\"Graduate\",\"Graduate\",\"Dropout\",\"Graduate\",\"Graduate\",\"Graduate\",\"Dropout\",\"Enrolled\",\"Graduate\",\"Graduate\",\"Graduate\",\"Graduate\",\"Enrolled\",\"Graduate\",\"Graduate\",\"Graduate\",\"Graduate\",\"Graduate\",\"Enrolled\",\"Graduate\",\"Graduate\",\"Graduate\",\"Graduate\",\"Enrolled\",\"Graduate\",\"Graduate\",\"Dropout\",\"Graduate\",\"Dropout\",\"Dropout\",\"Graduate\",\"Graduate\",\"Graduate\",\"Graduate\",\"Graduate\",\"Graduate\",\"Graduate\",\"Graduate\",\"Graduate\",\"Graduate\",\"Dropout\",\"Graduate\",\"Graduate\",\"Graduate\",\"Dropout\",\"Graduate\",\"Graduate\",\"Dropout\",\"Graduate\",\"Graduate\",\"Dropout\",\"Enrolled\",\"Graduate\",\"Enrolled\",\"Graduate\",\"Graduate\",\"Dropout\",\"Enrolled\",\"Dropout\",\"Dropout\",\"Enrolled\",\"Graduate\",\"Enrolled\",\"Enrolled\",\"Enrolled\",\"Dropout\",\"Dropout\",\"Dropout\",\"Graduate\",\"Graduate\",\"Dropout\",\"Graduate\",\"Enrolled\",\"Dropout\",\"Enrolled\",\"Enrolled\",\"Dropout\",\"Graduate\",\"Graduate\",\"Enrolled\",\"Dropout\",\"Graduate\",\"Enrolled\",\"Graduate\",\"Dropout\",\"Graduate\",\"Graduate\",\"Graduate\",\"Graduate\",\"Enrolled\",\"Dropout\",\"Graduate\",\"Dropout\",\"Graduate\",\"Dropout\",\"Dropout\",\"Graduate\",\"Graduate\",\"Dropout\",\"Dropout\",\"Dropout\",\"Enrolled\",\"Graduate\",\"Enrolled\",\"Dropout\",\"Enrolled\",\"Enrolled\",\"Graduate\",\"Enrolled\",\"Enrolled\",\"Graduate\",\"Dropout\",\"Graduate\",\"Enrolled\",\"Enrolled\",\"Dropout\",\"Graduate\",\"Dropout\",\"Dropout\",\"Dropout\",\"Dropout\",\"Dropout\",\"Dropout\",\"Dropout\",\"Enrolled\",\"Dropout\",\"Graduate\",\"Enrolled\",\"Dropout\",\"Dropout\",\"Dropout\",\"Enrolled\",\"Enrolled\",\"Dropout\",\"Dropout\",\"Dropout\",\"Dropout\",\"Dropout\",\"Graduate\",\"Dropout\",\"Dropout\",\"Dropout\",\"Dropout\",\"Graduate\",\"Graduate\",\"Enrolled\",\"Dropout\",\"Graduate\",\"Enrolled\",\"Dropout\",\"Graduate\",\"Enrolled\",\"Dropout\",\"Graduate\",\"Graduate\",\"Enrolled\",\"Dropout\",\"Dropout\",\"Graduate\",\"Dropout\",\"Graduate\",\"Dropout\",\"Graduate\",\"Dropout\",\"Graduate\",\"Graduate\",\"Dropout\",\"Enrolled\",\"Enrolled\",\"Enrolled\",\"Enrolled\",\"Dropout\",\"Enrolled\",\"Dropout\",\"Dropout\",\"Dropout\",\"Graduate\",\"Graduate\",\"Graduate\",\"Dropout\",\"Graduate\",\"Graduate\",\"Dropout\",\"Dropout\",\"Dropout\",\"Dropout\",\"Graduate\",\"Dropout\",\"Enrolled\",\"Dropout\",\"Enrolled\",\"Graduate\",\"Dropout\",\"Enrolled\",\"Dropout\",\"Graduate\",\"Dropout\",\"Dropout\",\"Dropout\",\"Graduate\",\"Dropout\",\"Graduate\",\"Graduate\",\"Dropout\",\"Dropout\",\"Dropout\",\"Enrolled\",\"Dropout\",\"Enrolled\",\"Graduate\",\"Graduate\",\"Graduate\",\"Graduate\",\"Enrolled\",\"Graduate\",\"Dropout\",\"Graduate\",\"Graduate\",\"Graduate\",\"Graduate\",\"Graduate\",\"Dropout\",\"Graduate\",\"Graduate\",\"Dropout\",\"Graduate\",\"Dropout\",\"Enrolled\",\"Dropout\",\"Graduate\",\"Enrolled\",\"Enrolled\",\"Graduate\",\"Enrolled\",\"Graduate\",\"Enrolled\",\"Dropout\",\"Enrolled\",\"Graduate\",\"Enrolled\",\"Enrolled\",\"Enrolled\",\"Dropout\",\"Graduate\",\"Dropout\",\"Dropout\",\"Graduate\",\"Graduate\",\"Graduate\",\"Dropout\",\"Enrolled\",\"Enrolled\",\"Graduate\",\"Enrolled\",\"Graduate\",\"Dropout\",\"Dropout\",\"Dropout\",\"Dropout\",\"Enrolled\",\"Dropout\",\"Graduate\",\"Enrolled\",\"Dropout\",\"Enrolled\",\"Graduate\",\"Graduate\",\"Dropout\",\"Graduate\",\"Dropout\",\"Graduate\",\"Dropout\",\"Graduate\",\"Graduate\",\"Dropout\",\"Dropout\",\"Dropout\",\"Dropout\",\"Dropout\",\"Enrolled\",\"Graduate\",\"Graduate\",\"Dropout\",\"Dropout\",\"Graduate\",\"Graduate\",\"Enrolled\",\"Dropout\",\"Dropout\",\"Graduate\",\"Dropout\",\"Dropout\",\"Dropout\",\"Dropout\",\"Graduate\",\"Dropout\",\"Dropout\",\"Graduate\",\"Graduate\",\"Dropout\",\"Enrolled\",\"Enrolled\",\"Graduate\",\"Graduate\",\"Dropout\",\"Dropout\",\"Dropout\",\"Dropout\",\"Enrolled\",\"Dropout\",\"Graduate\",\"Dropout\",\"Enrolled\",\"Dropout\",\"Graduate\",\"Dropout\",\"Dropout\",\"Enrolled\",\"Dropout\",\"Graduate\",\"Enrolled\",\"Dropout\",\"Graduate\",\"Graduate\",\"Enrolled\",\"Dropout\",\"Graduate\",\"Dropout\",\"Dropout\",\"Dropout\",\"Dropout\",\"Dropout\",\"Dropout\",\"Enrolled\",\"Enrolled\",\"Dropout\",\"Dropout\",\"Enrolled\",\"Dropout\",\"Dropout\",\"Dropout\",\"Graduate\",\"Dropout\",\"Graduate\",\"Enrolled\",\"Graduate\",\"Dropout\",\"Enrolled\",\"Graduate\",\"Graduate\",\"Graduate\",\"Graduate\",\"Dropout\",\"Dropout\",\"Dropout\",\"Enrolled\",\"Graduate\",\"Enrolled\",\"Enrolled\",\"Dropout\",\"Graduate\",\"Graduate\",\"Graduate\",\"Graduate\",\"Graduate\",\"Dropout\",\"Dropout\",\"Graduate\",\"Graduate\",\"Graduate\",\"Graduate\",\"Dropout\",\"Graduate\",\"Graduate\",\"Graduate\",\"Graduate\",\"Graduate\",\"Dropout\",\"Enrolled\",\"Graduate\",\"Graduate\",\"Dropout\",\"Enrolled\",\"Graduate\",\"Graduate\",\"Graduate\",\"Graduate\",\"Graduate\",\"Graduate\",\"Graduate\",\"Dropout\",\"Dropout\",\"Graduate\",\"Dropout\",\"Graduate\",\"Graduate\",\"Graduate\",\"Graduate\",\"Graduate\",\"Graduate\",\"Enrolled\",\"Graduate\",\"Enrolled\",\"Enrolled\",\"Graduate\",\"Graduate\",\"Graduate\",\"Dropout\",\"Dropout\",\"Graduate\",\"Dropout\",\"Enrolled\",\"Graduate\",\"Graduate\",\"Graduate\",\"Graduate\",\"Dropout\",\"Graduate\",\"Enrolled\",\"Graduate\",\"Dropout\",\"Enrolled\",\"Enrolled\",\"Graduate\",\"Enrolled\",\"Enrolled\",\"Dropout\",\"Graduate\",\"Graduate\",\"Dropout\",\"Enrolled\",\"Graduate\",\"Graduate\",\"Graduate\",\"Enrolled\",\"Enrolled\",\"Graduate\",\"Graduate\",\"Graduate\",\"Graduate\",\"Graduate\",\"Graduate\",\"Graduate\",\"Dropout\",\"Dropout\",\"Graduate\",\"Graduate\",\"Graduate\",\"Dropout\",\"Graduate\",\"Enrolled\",\"Graduate\",\"Graduate\",\"Enrolled\",\"Enrolled\",\"Dropout\",\"Enrolled\",\"Dropout\",\"Enrolled\",\"Graduate\",\"Dropout\",\"Enrolled\",\"Graduate\",\"Dropout\",\"Dropout\",\"Enrolled\",\"Enrolled\",\"Dropout\",\"Enrolled\",\"Graduate\",\"Dropout\",\"Dropout\",\"Graduate\",\"Graduate\",\"Dropout\",\"Graduate\",\"Dropout\",\"Graduate\",\"Graduate\",\"Graduate\",\"Dropout\",\"Dropout\",\"Dropout\",\"Dropout\",\"Graduate\",\"Dropout\",\"Graduate\",\"Enrolled\",\"Graduate\",\"Graduate\",\"Dropout\",\"Graduate\",\"Dropout\",\"Graduate\",\"Enrolled\",\"Enrolled\",\"Enrolled\",\"Dropout\",\"Dropout\",\"Graduate\",\"Graduate\",\"Enrolled\",\"Dropout\",\"Dropout\",\"Graduate\",\"Graduate\",\"Graduate\",\"Dropout\",\"Graduate\",\"Dropout\",\"Dropout\",\"Graduate\",\"Dropout\",\"Enrolled\",\"Dropout\",\"Dropout\",\"Dropout\",\"Enrolled\",\"Dropout\",\"Graduate\",\"Dropout\",\"Graduate\",\"Graduate\",\"Graduate\",\"Enrolled\",\"Dropout\",\"Dropout\",\"Dropout\",\"Graduate\",\"Dropout\",\"Dropout\",\"Graduate\",\"Dropout\",\"Graduate\",\"Dropout\",\"Enrolled\",\"Dropout\",\"Enrolled\",\"Graduate\",\"Dropout\",\"Enrolled\",\"Graduate\",\"Enrolled\",\"Dropout\",\"Graduate\",\"Enrolled\",\"Graduate\",\"Graduate\",\"Dropout\",\"Dropout\",\"Graduate\",\"Dropout\",\"Enrolled\",\"Enrolled\",\"Dropout\",\"Enrolled\",\"Dropout\",\"Dropout\",\"Graduate\",\"Graduate\",\"Graduate\",\"Graduate\",\"Enrolled\",\"Dropout\",\"Enrolled\",\"Dropout\",\"Graduate\",\"Dropout\",\"Dropout\",\"Dropout\",\"Dropout\",\"Enrolled\",\"Dropout\",\"Graduate\",\"Dropout\",\"Graduate\",\"Enrolled\",\"Graduate\",\"Dropout\",\"Dropout\",\"Graduate\",\"Dropout\",\"Graduate\",\"Enrolled\",\"Graduate\",\"Graduate\",\"Graduate\",\"Graduate\",\"Enrolled\",\"Enrolled\",\"Dropout\",\"Graduate\",\"Enrolled\",\"Graduate\",\"Graduate\",\"Enrolled\",\"Graduate\",\"Graduate\",\"Graduate\",\"Enrolled\",\"Enrolled\",\"Graduate\",\"Graduate\",\"Graduate\",\"Dropout\",\"Graduate\",\"Graduate\",\"Graduate\",\"Graduate\",\"Graduate\",\"Graduate\",\"Dropout\",\"Graduate\",\"Enrolled\",\"Dropout\",\"Dropout\",\"Dropout\",\"Dropout\",\"Graduate\",\"Dropout\",\"Graduate\",\"Dropout\",\"Graduate\",\"Dropout\",\"Dropout\",\"Enrolled\",\"Enrolled\",\"Dropout\",\"Enrolled\",\"Enrolled\",\"Graduate\",\"Enrolled\",\"Graduate\",\"Graduate\",\"Dropout\",\"Graduate\",\"Dropout\",\"Graduate\",\"Graduate\",\"Enrolled\",\"Graduate\",\"Enrolled\",\"Graduate\",\"Enrolled\",\"Enrolled\",\"Graduate\",\"Graduate\",\"Graduate\",\"Dropout\",\"Enrolled\",\"Enrolled\",\"Graduate\",\"Graduate\",\"Dropout\",\"Enrolled\",\"Dropout\",\"Dropout\",\"Dropout\",\"Graduate\",\"Graduate\",\"Graduate\",\"Enrolled\",\"Graduate\",\"Dropout\",\"Graduate\",\"Graduate\",\"Dropout\",\"Graduate\",\"Dropout\",\"Graduate\",\"Graduate\",\"Graduate\",\"Graduate\",\"Graduate\",\"Enrolled\",\"Graduate\",\"Enrolled\",\"Graduate\",\"Dropout\",\"Graduate\",\"Graduate\",\"Graduate\",\"Graduate\",\"Graduate\",\"Enrolled\",\"Graduate\",\"Enrolled\",\"Graduate\",\"Dropout\",\"Graduate\",\"Enrolled\",\"Enrolled\",\"Dropout\",\"Graduate\",\"Graduate\",\"Enrolled\",\"Dropout\",\"Graduate\",\"Enrolled\",\"Enrolled\",\"Enrolled\",\"Graduate\",\"Graduate\",\"Dropout\",\"Enrolled\",\"Dropout\",\"Graduate\",\"Enrolled\",\"Graduate\",\"Graduate\",\"Dropout\",\"Enrolled\",\"Graduate\",\"Dropout\",\"Dropout\",\"Dropout\",\"Graduate\",\"Dropout\",\"Graduate\",\"Graduate\",\"Graduate\",\"Dropout\",\"Dropout\",\"Graduate\",\"Dropout\",\"Graduate\",\"Enrolled\",\"Graduate\",\"Graduate\",\"Graduate\",\"Graduate\",\"Dropout\",\"Graduate\",\"Dropout\",\"Graduate\",\"Enrolled\",\"Graduate\",\"Graduate\",\"Dropout\",\"Enrolled\",\"Graduate\",\"Dropout\",\"Enrolled\",\"Dropout\",\"Enrolled\",\"Dropout\",\"Dropout\",\"Graduate\",\"Enrolled\",\"Dropout\",\"Graduate\",\"Graduate\",\"Graduate\",\"Graduate\",\"Graduate\",\"Graduate\",\"Graduate\",\"Graduate\",\"Dropout\",\"Graduate\",\"Dropout\",\"Graduate\",\"Graduate\",\"Enrolled\",\"Graduate\",\"Graduate\",\"Graduate\",\"Enrolled\",\"Dropout\",\"Graduate\",\"Graduate\",\"Dropout\",\"Graduate\",\"Graduate\",\"Graduate\",\"Graduate\",\"Dropout\",\"Dropout\",\"Graduate\",\"Dropout\",\"Graduate\",\"Dropout\",\"Enrolled\",\"Graduate\",\"Graduate\",\"Dropout\",\"Dropout\",\"Graduate\",\"Enrolled\",\"Dropout\",\"Dropout\",\"Graduate\",\"Graduate\",\"Graduate\",\"Graduate\",\"Dropout\",\"Enrolled\",\"Dropout\",\"Dropout\",\"Dropout\",\"Graduate\",\"Dropout\",\"Dropout\",\"Dropout\",\"Dropout\",\"Enrolled\",\"Dropout\",\"Graduate\",\"Enrolled\",\"Graduate\",\"Graduate\",\"Graduate\",\"Dropout\",\"Dropout\",\"Graduate\",\"Graduate\",\"Dropout\",\"Graduate\",\"Graduate\",\"Enrolled\",\"Dropout\",\"Graduate\",\"Graduate\",\"Dropout\",\"Graduate\",\"Dropout\",\"Graduate\",\"Graduate\",\"Graduate\",\"Dropout\",\"Graduate\",\"Dropout\",\"Graduate\",\"Graduate\",\"Enrolled\",\"Graduate\",\"Graduate\",\"Graduate\",\"Dropout\",\"Enrolled\",\"Graduate\",\"Dropout\",\"Graduate\",\"Graduate\",\"Dropout\",\"Graduate\",\"Dropout\",\"Graduate\",\"Graduate\",\"Graduate\",\"Graduate\",\"Graduate\",\"Graduate\",\"Enrolled\",\"Graduate\",\"Graduate\",\"Enrolled\",\"Graduate\",\"Graduate\",\"Dropout\",\"Graduate\",\"Graduate\",\"Graduate\",\"Graduate\",\"Enrolled\",\"Graduate\",\"Dropout\",\"Enrolled\",\"Graduate\",\"Dropout\",\"Dropout\",\"Graduate\",\"Graduate\",\"Graduate\",\"Enrolled\",\"Dropout\",\"Graduate\",\"Graduate\",\"Dropout\",\"Graduate\",\"Graduate\",\"Dropout\",\"Graduate\",\"Graduate\",\"Graduate\",\"Graduate\",\"Graduate\",\"Graduate\",\"Graduate\",\"Dropout\",\"Graduate\",\"Graduate\",\"Graduate\",\"Enrolled\",\"Dropout\",\"Graduate\",\"Graduate\",\"Dropout\",\"Graduate\",\"Graduate\",\"Graduate\",\"Graduate\",\"Graduate\",\"Dropout\",\"Graduate\",\"Graduate\",\"Dropout\",\"Dropout\",\"Enrolled\",\"Graduate\",\"Graduate\",\"Graduate\",\"Graduate\",\"Enrolled\",\"Dropout\",\"Graduate\",\"Graduate\",\"Dropout\",\"Enrolled\",\"Graduate\",\"Dropout\",\"Graduate\",\"Dropout\",\"Graduate\",\"Dropout\",\"Graduate\",\"Graduate\",\"Enrolled\",\"Dropout\",\"Dropout\",\"Graduate\",\"Graduate\",\"Dropout\",\"Graduate\",\"Enrolled\",\"Graduate\",\"Dropout\",\"Enrolled\",\"Dropout\",\"Dropout\",\"Enrolled\",\"Dropout\",\"Enrolled\",\"Dropout\",\"Enrolled\",\"Graduate\",\"Dropout\",\"Graduate\",\"Graduate\",\"Graduate\",\"Dropout\",\"Graduate\",\"Enrolled\",\"Graduate\",\"Graduate\",\"Graduate\",\"Dropout\",\"Graduate\",\"Enrolled\",\"Graduate\",\"Graduate\",\"Dropout\",\"Graduate\",\"Graduate\",\"Dropout\",\"Enrolled\",\"Dropout\",\"Graduate\",\"Graduate\",\"Dropout\",\"Dropout\",\"Graduate\",\"Dropout\",\"Graduate\",\"Graduate\",\"Enrolled\",\"Graduate\",\"Dropout\",\"Graduate\",\"Dropout\",\"Enrolled\",\"Graduate\",\"Graduate\",\"Dropout\",\"Graduate\",\"Graduate\",\"Enrolled\",\"Dropout\",\"Graduate\",\"Enrolled\",\"Graduate\",\"Graduate\",\"Graduate\",\"Enrolled\",\"Graduate\",\"Graduate\",\"Graduate\",\"Graduate\",\"Graduate\",\"Graduate\",\"Enrolled\",\"Enrolled\",\"Graduate\",\"Graduate\",\"Graduate\",\"Graduate\",\"Enrolled\",\"Graduate\",\"Graduate\",\"Dropout\",\"Graduate\",\"Graduate\",\"Graduate\",\"Graduate\",\"Enrolled\",\"Enrolled\",\"Graduate\",\"Enrolled\",\"Dropout\",\"Graduate\",\"Graduate\",\"Enrolled\",\"Enrolled\",\"Graduate\",\"Dropout\",\"Enrolled\",\"Enrolled\",\"Graduate\",\"Graduate\",\"Graduate\",\"Graduate\",\"Graduate\",\"Graduate\",\"Dropout\",\"Dropout\",\"Dropout\",\"Graduate\",\"Graduate\",\"Dropout\",\"Dropout\",\"Graduate\",\"Enrolled\",\"Dropout\",\"Graduate\",\"Dropout\",\"Graduate\",\"Enrolled\",\"Graduate\",\"Dropout\",\"Graduate\",\"Enrolled\",\"Graduate\",\"Dropout\",\"Dropout\",\"Dropout\",\"Dropout\",\"Dropout\",\"Dropout\",\"Dropout\",\"Enrolled\",\"Dropout\",\"Enrolled\",\"Dropout\",\"Enrolled\",\"Graduate\",\"Dropout\",\"Graduate\",\"Dropout\",\"Graduate\",\"Enrolled\",\"Dropout\",\"Dropout\",\"Dropout\",\"Graduate\",\"Dropout\",\"Dropout\",\"Graduate\",\"Graduate\",\"Enrolled\",\"Graduate\",\"Dropout\",\"Graduate\",\"Graduate\",\"Dropout\",\"Graduate\",\"Enrolled\",\"Dropout\",\"Dropout\",\"Dropout\",\"Graduate\",\"Dropout\",\"Dropout\",\"Graduate\",\"Graduate\",\"Enrolled\",\"Graduate\",\"Graduate\",\"Graduate\",\"Enrolled\",\"Graduate\",\"Dropout\",\"Graduate\",\"Graduate\",\"Graduate\",\"Enrolled\",\"Graduate\",\"Graduate\",\"Enrolled\",\"Graduate\",\"Dropout\",\"Graduate\",\"Dropout\",\"Dropout\",\"Graduate\",\"Graduate\",\"Graduate\",\"Graduate\",\"Dropout\",\"Graduate\",\"Dropout\",\"Dropout\",\"Graduate\",\"Graduate\",\"Graduate\",\"Graduate\",\"Graduate\",\"Graduate\",\"Graduate\",\"Graduate\",\"Dropout\",\"Graduate\",\"Dropout\",\"Graduate\",\"Graduate\",\"Enrolled\",\"Dropout\",\"Dropout\",\"Dropout\",\"Graduate\",\"Graduate\",\"Enrolled\",\"Dropout\",\"Graduate\",\"Dropout\",\"Graduate\",\"Dropout\",\"Graduate\",\"Graduate\",\"Dropout\",\"Enrolled\",\"Graduate\",\"Enrolled\",\"Graduate\",\"Dropout\",\"Dropout\",\"Graduate\",\"Graduate\",\"Dropout\",\"Dropout\",\"Dropout\",\"Enrolled\",\"Enrolled\",\"Graduate\",\"Enrolled\",\"Dropout\",\"Graduate\",\"Dropout\",\"Dropout\",\"Graduate\",\"Graduate\",\"Graduate\",\"Graduate\",\"Graduate\",\"Graduate\",\"Graduate\",\"Graduate\",\"Dropout\",\"Graduate\",\"Dropout\",\"Enrolled\",\"Enrolled\",\"Dropout\",\"Graduate\",\"Dropout\",\"Graduate\",\"Dropout\",\"Graduate\",\"Graduate\",\"Dropout\",\"Dropout\",\"Dropout\",\"Dropout\",\"Enrolled\",\"Graduate\",\"Dropout\",\"Enrolled\",\"Enrolled\",\"Graduate\",\"Dropout\",\"Dropout\",\"Dropout\",\"Graduate\",\"Enrolled\",\"Dropout\",\"Dropout\",\"Dropout\",\"Enrolled\",\"Dropout\",\"Enrolled\",\"Graduate\",\"Enrolled\",\"Dropout\",\"Dropout\",\"Dropout\",\"Dropout\",\"Graduate\",\"Dropout\",\"Enrolled\",\"Dropout\",\"Dropout\",\"Graduate\",\"Graduate\",\"Dropout\",\"Enrolled\",\"Dropout\",\"Dropout\",\"Enrolled\",\"Dropout\",\"Graduate\",\"Graduate\",\"Dropout\",\"Dropout\",\"Dropout\",\"Enrolled\",\"Graduate\",\"Enrolled\",\"Dropout\",\"Dropout\",\"Graduate\",\"Graduate\",\"Graduate\",\"Graduate\",\"Graduate\",\"Graduate\",\"Graduate\",\"Enrolled\",\"Graduate\",\"Dropout\",\"Dropout\",\"Graduate\",\"Dropout\",\"Enrolled\",\"Graduate\",\"Graduate\",\"Graduate\",\"Graduate\",\"Enrolled\",\"Graduate\",\"Graduate\",\"Graduate\",\"Graduate\",\"Enrolled\",\"Graduate\",\"Enrolled\",\"Graduate\",\"Graduate\",\"Graduate\",\"Graduate\",\"Enrolled\",\"Graduate\",\"Graduate\",\"Enrolled\",\"Graduate\",\"Enrolled\",\"Graduate\",\"Dropout\",\"Graduate\",\"Enrolled\",\"Graduate\",\"Enrolled\",\"Dropout\",\"Graduate\",\"Enrolled\",\"Enrolled\",\"Dropout\",\"Graduate\",\"Graduate\",\"Graduate\",\"Dropout\",\"Dropout\",\"Dropout\",\"Dropout\",\"Dropout\",\"Enrolled\",\"Graduate\",\"Dropout\",\"Dropout\",\"Graduate\",\"Graduate\",\"Graduate\",\"Dropout\",\"Dropout\",\"Graduate\",\"Graduate\",\"Enrolled\",\"Graduate\",\"Dropout\",\"Enrolled\",\"Enrolled\",\"Graduate\",\"Graduate\",\"Dropout\",\"Graduate\",\"Dropout\",\"Graduate\",\"Graduate\",\"Graduate\",\"Enrolled\",\"Enrolled\",\"Graduate\",\"Graduate\",\"Dropout\",\"Graduate\",\"Graduate\",\"Graduate\",\"Graduate\",\"Dropout\",\"Graduate\",\"Enrolled\",\"Dropout\",\"Enrolled\",\"Graduate\",\"Dropout\",\"Enrolled\",\"Graduate\",\"Enrolled\",\"Enrolled\",\"Graduate\",\"Graduate\",\"Dropout\",\"Dropout\",\"Dropout\",\"Graduate\",\"Graduate\",\"Dropout\",\"Enrolled\",\"Graduate\",\"Graduate\",\"Graduate\",\"Dropout\",\"Dropout\",\"Dropout\",\"Dropout\",\"Graduate\",\"Dropout\",\"Dropout\",\"Graduate\",\"Dropout\",\"Dropout\",\"Dropout\",\"Dropout\",\"Graduate\",\"Graduate\",\"Dropout\",\"Dropout\",\"Graduate\",\"Enrolled\",\"Dropout\",\"Dropout\",\"Graduate\",\"Graduate\",\"Graduate\",\"Dropout\",\"Dropout\",\"Graduate\",\"Enrolled\",\"Graduate\",\"Dropout\",\"Enrolled\",\"Dropout\",\"Dropout\",\"Dropout\",\"Enrolled\",\"Dropout\",\"Dropout\",\"Dropout\",\"Dropout\",\"Graduate\",\"Dropout\",\"Graduate\",\"Enrolled\",\"Enrolled\",\"Graduate\",\"Dropout\",\"Dropout\",\"Dropout\",\"Enrolled\",\"Graduate\",\"Enrolled\",\"Graduate\",\"Dropout\",\"Dropout\",\"Dropout\",\"Dropout\",\"Dropout\",\"Dropout\",\"Graduate\",\"Dropout\",\"Dropout\",\"Enrolled\",\"Enrolled\",\"Enrolled\",\"Graduate\",\"Graduate\",\"Dropout\",\"Dropout\",\"Graduate\",\"Enrolled\",\"Dropout\",\"Dropout\",\"Dropout\",\"Enrolled\",\"Graduate\",\"Enrolled\",\"Dropout\",\"Enrolled\",\"Graduate\",\"Enrolled\",\"Graduate\",\"Dropout\",\"Dropout\",\"Dropout\",\"Dropout\",\"Graduate\",\"Graduate\",\"Graduate\",\"Dropout\",\"Graduate\",\"Graduate\",\"Dropout\",\"Enrolled\",\"Graduate\",\"Graduate\",\"Graduate\",\"Dropout\",\"Dropout\",\"Graduate\",\"Graduate\",\"Graduate\",\"Dropout\",\"Enrolled\",\"Graduate\",\"Dropout\",\"Dropout\",\"Graduate\",\"Graduate\",\"Dropout\",\"Enrolled\",\"Enrolled\",\"Dropout\",\"Dropout\",\"Enrolled\",\"Dropout\",\"Enrolled\",\"Graduate\",\"Graduate\",\"Dropout\",\"Dropout\",\"Graduate\",\"Graduate\",\"Enrolled\",\"Graduate\",\"Graduate\",\"Dropout\",\"Enrolled\",\"Dropout\",\"Enrolled\",\"Enrolled\",\"Graduate\",\"Dropout\",\"Dropout\",\"Enrolled\",\"Dropout\",\"Enrolled\",\"Dropout\",\"Graduate\",\"Graduate\",\"Dropout\",\"Graduate\",\"Graduate\",\"Dropout\",\"Graduate\",\"Enrolled\",\"Dropout\",\"Enrolled\",\"Dropout\",\"Graduate\",\"Graduate\",\"Dropout\",\"Enrolled\",\"Graduate\",\"Graduate\",\"Graduate\",\"Graduate\",\"Enrolled\",\"Graduate\",\"Graduate\",\"Graduate\",\"Dropout\",\"Graduate\",\"Graduate\",\"Graduate\",\"Graduate\",\"Enrolled\",\"Dropout\",\"Graduate\",\"Dropout\",\"Graduate\",\"Enrolled\",\"Graduate\",\"Enrolled\",\"Graduate\",\"Graduate\",\"Graduate\",\"Graduate\",\"Graduate\",\"Enrolled\",\"Dropout\",\"Graduate\",\"Graduate\",\"Graduate\",\"Dropout\",\"Enrolled\",\"Dropout\",\"Dropout\",\"Graduate\",\"Graduate\",\"Graduate\",\"Graduate\",\"Graduate\",\"Graduate\",\"Graduate\",\"Graduate\",\"Graduate\",\"Dropout\",\"Graduate\",\"Graduate\",\"Dropout\",\"Enrolled\",\"Dropout\",\"Graduate\",\"Dropout\",\"Dropout\",\"Dropout\",\"Dropout\",\"Graduate\",\"Enrolled\",\"Graduate\",\"Dropout\",\"Dropout\",\"Dropout\",\"Dropout\",\"Dropout\",\"Graduate\",\"Enrolled\",\"Graduate\",\"Dropout\",\"Enrolled\",\"Enrolled\",\"Dropout\",\"Dropout\",\"Graduate\",\"Dropout\",\"Graduate\",\"Graduate\",\"Dropout\",\"Dropout\",\"Graduate\",\"Dropout\",\"Dropout\",\"Dropout\",\"Dropout\",\"Enrolled\",\"Dropout\",\"Graduate\",\"Dropout\",\"Dropout\",\"Enrolled\",\"Dropout\",\"Dropout\",\"Dropout\",\"Dropout\",\"Dropout\",\"Dropout\",\"Graduate\",\"Graduate\",\"Graduate\",\"Graduate\",\"Dropout\",\"Graduate\",\"Dropout\",\"Dropout\",\"Graduate\",\"Enrolled\",\"Enrolled\",\"Graduate\",\"Dropout\",\"Dropout\",\"Enrolled\",\"Graduate\",\"Enrolled\",\"Dropout\",\"Graduate\",\"Graduate\",\"Graduate\",\"Dropout\",\"Graduate\",\"Graduate\",\"Graduate\",\"Graduate\",\"Graduate\",\"Dropout\",\"Dropout\",\"Graduate\",\"Graduate\",\"Enrolled\",\"Dropout\",\"Graduate\",\"Dropout\",\"Graduate\",\"Graduate\",\"Graduate\",\"Graduate\",\"Graduate\",\"Dropout\",\"Enrolled\",\"Dropout\",\"Dropout\",\"Graduate\",\"Graduate\",\"Dropout\",\"Graduate\",\"Dropout\",\"Graduate\",\"Graduate\",\"Enrolled\",\"Enrolled\",\"Graduate\",\"Graduate\",\"Graduate\",\"Enrolled\",\"Dropout\",\"Enrolled\",\"Dropout\",\"Dropout\",\"Enrolled\",\"Dropout\",\"Graduate\",\"Dropout\",\"Dropout\",\"Dropout\",\"Dropout\",\"Graduate\",\"Graduate\",\"Dropout\",\"Graduate\",\"Dropout\",\"Dropout\",\"Graduate\",\"Graduate\",\"Graduate\",\"Dropout\",\"Dropout\",\"Graduate\",\"Graduate\",\"Dropout\",\"Dropout\",\"Enrolled\",\"Dropout\",\"Graduate\",\"Graduate\",\"Graduate\",\"Enrolled\",\"Dropout\",\"Graduate\",\"Dropout\",\"Dropout\",\"Enrolled\",\"Dropout\",\"Graduate\",\"Dropout\",\"Enrolled\",\"Dropout\",\"Dropout\",\"Graduate\",\"Dropout\",\"Dropout\",\"Graduate\",\"Enrolled\",\"Enrolled\",\"Dropout\",\"Graduate\",\"Dropout\",\"Dropout\",\"Dropout\",\"Dropout\",\"Dropout\",\"Enrolled\",\"Enrolled\",\"Dropout\",\"Dropout\",\"Graduate\",\"Dropout\",\"Dropout\",\"Dropout\",\"Dropout\",\"Graduate\",\"Dropout\",\"Dropout\",\"Dropout\",\"Dropout\",\"Dropout\",\"Graduate\",\"Graduate\",\"Graduate\",\"Dropout\",\"Dropout\",\"Dropout\",\"Dropout\",\"Graduate\",\"Graduate\",\"Dropout\",\"Dropout\",\"Dropout\",\"Graduate\",\"Graduate\",\"Dropout\",\"Graduate\",\"Graduate\",\"Graduate\",\"Dropout\",\"Dropout\",\"Dropout\",\"Dropout\",\"Graduate\",\"Graduate\",\"Graduate\",\"Graduate\",\"Graduate\",\"Dropout\",\"Graduate\",\"Graduate\",\"Graduate\",\"Enrolled\",\"Enrolled\",\"Graduate\",\"Graduate\",\"Enrolled\",\"Enrolled\",\"Graduate\",\"Dropout\",\"Enrolled\",\"Graduate\",\"Enrolled\",\"Graduate\",\"Graduate\",\"Enrolled\",\"Graduate\",\"Enrolled\",\"Enrolled\",\"Dropout\",\"Dropout\",\"Graduate\",\"Graduate\",\"Enrolled\",\"Graduate\",\"Dropout\",\"Enrolled\",\"Graduate\",\"Graduate\",\"Graduate\",\"Dropout\",\"Graduate\",\"Graduate\",\"Graduate\",\"Enrolled\",\"Graduate\",\"Graduate\",\"Graduate\",\"Graduate\",\"Graduate\",\"Enrolled\",\"Enrolled\",\"Graduate\",\"Dropout\",\"Graduate\",\"Enrolled\",\"Graduate\",\"Graduate\",\"Graduate\",\"Enrolled\",\"Dropout\",\"Enrolled\",\"Dropout\",\"Enrolled\",\"Graduate\",\"Graduate\",\"Enrolled\",\"Dropout\",\"Graduate\",\"Dropout\",\"Dropout\",\"Graduate\",\"Graduate\",\"Dropout\",\"Graduate\",\"Graduate\",\"Dropout\",\"Dropout\",\"Graduate\",\"Graduate\",\"Dropout\",\"Dropout\",\"Graduate\",\"Graduate\",\"Graduate\",\"Graduate\",\"Dropout\",\"Graduate\",\"Graduate\",\"Graduate\",\"Dropout\",\"Graduate\",\"Dropout\",\"Enrolled\",\"Graduate\",\"Graduate\",\"Graduate\",\"Graduate\",\"Graduate\",\"Graduate\",\"Graduate\",\"Graduate\",\"Graduate\",\"Graduate\",\"Graduate\",\"Enrolled\",\"Graduate\",\"Graduate\",\"Graduate\",\"Graduate\",\"Dropout\",\"Graduate\",\"Graduate\",\"Graduate\",\"Graduate\",\"Graduate\",\"Graduate\",\"Dropout\",\"Graduate\",\"Graduate\",\"Graduate\",\"Dropout\",\"Dropout\",\"Graduate\",\"Dropout\",\"Dropout\",\"Dropout\",\"Dropout\",\"Graduate\",\"Graduate\",\"Graduate\",\"Dropout\",\"Graduate\",\"Dropout\",\"Dropout\",\"Dropout\",\"Dropout\",\"Enrolled\",\"Dropout\",\"Graduate\",\"Graduate\",\"Dropout\",\"Dropout\",\"Dropout\",\"Graduate\",\"Graduate\",\"Dropout\",\"Graduate\",\"Graduate\",\"Dropout\",\"Enrolled\",\"Enrolled\",\"Graduate\",\"Dropout\",\"Graduate\",\"Dropout\",\"Graduate\",\"Enrolled\",\"Graduate\",\"Dropout\",\"Dropout\",\"Dropout\",\"Graduate\",\"Enrolled\",\"Graduate\",\"Graduate\",\"Graduate\",\"Graduate\",\"Graduate\",\"Enrolled\",\"Graduate\",\"Dropout\",\"Graduate\",\"Graduate\",\"Graduate\",\"Graduate\",\"Dropout\",\"Graduate\",\"Dropout\",\"Enrolled\",\"Graduate\",\"Dropout\",\"Graduate\",\"Enrolled\",\"Graduate\",\"Dropout\",\"Graduate\",\"Graduate\",\"Graduate\",\"Graduate\",\"Enrolled\",\"Enrolled\",\"Graduate\",\"Dropout\",\"Graduate\",\"Graduate\",\"Graduate\",\"Dropout\",\"Enrolled\",\"Graduate\",\"Graduate\",\"Dropout\",\"Graduate\",\"Dropout\",\"Graduate\",\"Enrolled\",\"Dropout\",\"Enrolled\",\"Enrolled\",\"Graduate\",\"Dropout\",\"Dropout\",\"Graduate\",\"Enrolled\",\"Enrolled\",\"Dropout\",\"Graduate\",\"Dropout\",\"Dropout\",\"Graduate\",\"Graduate\",\"Graduate\",\"Graduate\",\"Graduate\",\"Dropout\",\"Dropout\",\"Enrolled\",\"Graduate\",\"Graduate\",\"Enrolled\",\"Graduate\",\"Graduate\",\"Graduate\",\"Dropout\",\"Graduate\",\"Graduate\",\"Graduate\",\"Graduate\",\"Graduate\",\"Dropout\",\"Graduate\",\"Enrolled\",\"Enrolled\",\"Graduate\",\"Graduate\",\"Graduate\",\"Graduate\",\"Graduate\",\"Graduate\",\"Graduate\",\"Enrolled\",\"Enrolled\",\"Enrolled\",\"Graduate\",\"Graduate\",\"Graduate\",\"Graduate\",\"Graduate\",\"Enrolled\",\"Enrolled\",\"Graduate\",\"Graduate\",\"Graduate\",\"Graduate\",\"Dropout\",\"Graduate\",\"Dropout\",\"Dropout\",\"Graduate\",\"Enrolled\",\"Enrolled\",\"Dropout\",\"Dropout\",\"Enrolled\",\"Enrolled\",\"Graduate\",\"Graduate\",\"Graduate\",\"Graduate\",\"Enrolled\",\"Dropout\",\"Graduate\",\"Enrolled\",\"Dropout\",\"Graduate\",\"Graduate\",\"Graduate\",\"Enrolled\",\"Dropout\",\"Graduate\",\"Dropout\",\"Graduate\",\"Enrolled\",\"Graduate\",\"Graduate\",\"Dropout\",\"Enrolled\",\"Enrolled\",\"Enrolled\",\"Graduate\",\"Graduate\",\"Graduate\",\"Graduate\",\"Enrolled\",\"Graduate\",\"Graduate\",\"Enrolled\",\"Dropout\",\"Dropout\",\"Graduate\",\"Graduate\",\"Enrolled\",\"Enrolled\",\"Graduate\",\"Graduate\",\"Graduate\",\"Dropout\",\"Enrolled\",\"Enrolled\",\"Graduate\",\"Dropout\",\"Graduate\",\"Graduate\",\"Graduate\",\"Enrolled\",\"Graduate\",\"Graduate\",\"Graduate\",\"Enrolled\",\"Graduate\",\"Dropout\",\"Graduate\",\"Graduate\",\"Graduate\",\"Dropout\",\"Graduate\",\"Graduate\",\"Graduate\",\"Graduate\",\"Graduate\",\"Graduate\",\"Dropout\",\"Dropout\",\"Graduate\",\"Enrolled\",\"Graduate\",\"Dropout\",\"Graduate\",\"Graduate\",\"Graduate\",\"Graduate\",\"Graduate\",\"Dropout\",\"Graduate\",\"Enrolled\",\"Dropout\",\"Graduate\",\"Enrolled\",\"Dropout\",\"Graduate\",\"Enrolled\",\"Enrolled\",\"Graduate\",\"Enrolled\",\"Dropout\",\"Graduate\",\"Graduate\",\"Dropout\",\"Dropout\",\"Enrolled\",\"Dropout\",\"Dropout\",\"Dropout\",\"Graduate\",\"Dropout\",\"Graduate\",\"Dropout\",\"Dropout\",\"Graduate\",\"Dropout\",\"Dropout\",\"Dropout\",\"Graduate\",\"Enrolled\",\"Graduate\",\"Dropout\",\"Dropout\",\"Dropout\",\"Graduate\",\"Dropout\",\"Graduate\",\"Graduate\",\"Enrolled\",\"Graduate\",\"Dropout\",\"Enrolled\",\"Graduate\",\"Dropout\",\"Graduate\",\"Enrolled\",\"Enrolled\",\"Enrolled\",\"Dropout\",\"Dropout\",\"Graduate\",\"Dropout\",\"Dropout\",\"Enrolled\",\"Dropout\",\"Dropout\",\"Enrolled\",\"Enrolled\",\"Graduate\",\"Graduate\",\"Dropout\",\"Graduate\",\"Graduate\",\"Graduate\",\"Graduate\",\"Dropout\",\"Graduate\",\"Enrolled\",\"Graduate\",\"Graduate\",\"Dropout\",\"Dropout\",\"Graduate\",\"Dropout\",\"Dropout\",\"Dropout\",\"Dropout\",\"Dropout\",\"Dropout\",\"Dropout\",\"Dropout\",\"Graduate\",\"Graduate\",\"Enrolled\",\"Dropout\",\"Graduate\",\"Dropout\",\"Dropout\",\"Graduate\",\"Graduate\",\"Graduate\",\"Graduate\",\"Enrolled\",\"Enrolled\",\"Dropout\",\"Dropout\",\"Graduate\",\"Graduate\",\"Dropout\",\"Dropout\",\"Dropout\",\"Graduate\",\"Dropout\",\"Dropout\",\"Graduate\",\"Dropout\",\"Graduate\",\"Enrolled\",\"Enrolled\",\"Graduate\",\"Enrolled\",\"Graduate\",\"Graduate\",\"Graduate\",\"Dropout\",\"Enrolled\",\"Dropout\",\"Graduate\",\"Dropout\",\"Dropout\",\"Graduate\",\"Graduate\",\"Graduate\",\"Graduate\",\"Dropout\",\"Graduate\",\"Enrolled\",\"Graduate\",\"Dropout\",\"Dropout\",\"Dropout\",\"Graduate\",\"Graduate\",\"Graduate\",\"Graduate\",\"Dropout\",\"Enrolled\",\"Graduate\",\"Graduate\",\"Graduate\",\"Dropout\",\"Enrolled\",\"Graduate\",\"Graduate\",\"Dropout\",\"Enrolled\",\"Graduate\",\"Dropout\",\"Graduate\",\"Dropout\",\"Graduate\",\"Dropout\",\"Dropout\",\"Enrolled\",\"Graduate\",\"Graduate\",\"Dropout\",\"Dropout\",\"Dropout\",\"Dropout\",\"Dropout\",\"Graduate\",\"Graduate\",\"Enrolled\",\"Enrolled\",\"Graduate\",\"Graduate\",\"Dropout\",\"Graduate\",\"Enrolled\",\"Graduate\",\"Graduate\",\"Dropout\",\"Dropout\",\"Enrolled\",\"Graduate\",\"Dropout\",\"Graduate\",\"Enrolled\",\"Graduate\",\"Dropout\",\"Graduate\",\"Graduate\",\"Dropout\",\"Enrolled\",\"Enrolled\",\"Graduate\",\"Dropout\",\"Graduate\",\"Graduate\",\"Graduate\",\"Graduate\",\"Dropout\",\"Dropout\",\"Graduate\",\"Graduate\"],\"legendgroup\":\"\",\"name\":\"\",\"showlegend\":true,\"type\":\"pie\"}],                        {\"template\":{\"data\":{\"histogram2dcontour\":[{\"type\":\"histogram2dcontour\",\"colorbar\":{\"outlinewidth\":0,\"ticks\":\"\"},\"colorscale\":[[0.0,\"#0d0887\"],[0.1111111111111111,\"#46039f\"],[0.2222222222222222,\"#7201a8\"],[0.3333333333333333,\"#9c179e\"],[0.4444444444444444,\"#bd3786\"],[0.5555555555555556,\"#d8576b\"],[0.6666666666666666,\"#ed7953\"],[0.7777777777777778,\"#fb9f3a\"],[0.8888888888888888,\"#fdca26\"],[1.0,\"#f0f921\"]]}],\"choropleth\":[{\"type\":\"choropleth\",\"colorbar\":{\"outlinewidth\":0,\"ticks\":\"\"}}],\"histogram2d\":[{\"type\":\"histogram2d\",\"colorbar\":{\"outlinewidth\":0,\"ticks\":\"\"},\"colorscale\":[[0.0,\"#0d0887\"],[0.1111111111111111,\"#46039f\"],[0.2222222222222222,\"#7201a8\"],[0.3333333333333333,\"#9c179e\"],[0.4444444444444444,\"#bd3786\"],[0.5555555555555556,\"#d8576b\"],[0.6666666666666666,\"#ed7953\"],[0.7777777777777778,\"#fb9f3a\"],[0.8888888888888888,\"#fdca26\"],[1.0,\"#f0f921\"]]}],\"heatmap\":[{\"type\":\"heatmap\",\"colorbar\":{\"outlinewidth\":0,\"ticks\":\"\"},\"colorscale\":[[0.0,\"#0d0887\"],[0.1111111111111111,\"#46039f\"],[0.2222222222222222,\"#7201a8\"],[0.3333333333333333,\"#9c179e\"],[0.4444444444444444,\"#bd3786\"],[0.5555555555555556,\"#d8576b\"],[0.6666666666666666,\"#ed7953\"],[0.7777777777777778,\"#fb9f3a\"],[0.8888888888888888,\"#fdca26\"],[1.0,\"#f0f921\"]]}],\"heatmapgl\":[{\"type\":\"heatmapgl\",\"colorbar\":{\"outlinewidth\":0,\"ticks\":\"\"},\"colorscale\":[[0.0,\"#0d0887\"],[0.1111111111111111,\"#46039f\"],[0.2222222222222222,\"#7201a8\"],[0.3333333333333333,\"#9c179e\"],[0.4444444444444444,\"#bd3786\"],[0.5555555555555556,\"#d8576b\"],[0.6666666666666666,\"#ed7953\"],[0.7777777777777778,\"#fb9f3a\"],[0.8888888888888888,\"#fdca26\"],[1.0,\"#f0f921\"]]}],\"contourcarpet\":[{\"type\":\"contourcarpet\",\"colorbar\":{\"outlinewidth\":0,\"ticks\":\"\"}}],\"contour\":[{\"type\":\"contour\",\"colorbar\":{\"outlinewidth\":0,\"ticks\":\"\"},\"colorscale\":[[0.0,\"#0d0887\"],[0.1111111111111111,\"#46039f\"],[0.2222222222222222,\"#7201a8\"],[0.3333333333333333,\"#9c179e\"],[0.4444444444444444,\"#bd3786\"],[0.5555555555555556,\"#d8576b\"],[0.6666666666666666,\"#ed7953\"],[0.7777777777777778,\"#fb9f3a\"],[0.8888888888888888,\"#fdca26\"],[1.0,\"#f0f921\"]]}],\"surface\":[{\"type\":\"surface\",\"colorbar\":{\"outlinewidth\":0,\"ticks\":\"\"},\"colorscale\":[[0.0,\"#0d0887\"],[0.1111111111111111,\"#46039f\"],[0.2222222222222222,\"#7201a8\"],[0.3333333333333333,\"#9c179e\"],[0.4444444444444444,\"#bd3786\"],[0.5555555555555556,\"#d8576b\"],[0.6666666666666666,\"#ed7953\"],[0.7777777777777778,\"#fb9f3a\"],[0.8888888888888888,\"#fdca26\"],[1.0,\"#f0f921\"]]}],\"mesh3d\":[{\"type\":\"mesh3d\",\"colorbar\":{\"outlinewidth\":0,\"ticks\":\"\"}}],\"scatter\":[{\"fillpattern\":{\"fillmode\":\"overlay\",\"size\":10,\"solidity\":0.2},\"type\":\"scatter\"}],\"parcoords\":[{\"type\":\"parcoords\",\"line\":{\"colorbar\":{\"outlinewidth\":0,\"ticks\":\"\"}}}],\"scatterpolargl\":[{\"type\":\"scatterpolargl\",\"marker\":{\"colorbar\":{\"outlinewidth\":0,\"ticks\":\"\"}}}],\"bar\":[{\"error_x\":{\"color\":\"#2a3f5f\"},\"error_y\":{\"color\":\"#2a3f5f\"},\"marker\":{\"line\":{\"color\":\"#E5ECF6\",\"width\":0.5},\"pattern\":{\"fillmode\":\"overlay\",\"size\":10,\"solidity\":0.2}},\"type\":\"bar\"}],\"scattergeo\":[{\"type\":\"scattergeo\",\"marker\":{\"colorbar\":{\"outlinewidth\":0,\"ticks\":\"\"}}}],\"scatterpolar\":[{\"type\":\"scatterpolar\",\"marker\":{\"colorbar\":{\"outlinewidth\":0,\"ticks\":\"\"}}}],\"histogram\":[{\"marker\":{\"pattern\":{\"fillmode\":\"overlay\",\"size\":10,\"solidity\":0.2}},\"type\":\"histogram\"}],\"scattergl\":[{\"type\":\"scattergl\",\"marker\":{\"colorbar\":{\"outlinewidth\":0,\"ticks\":\"\"}}}],\"scatter3d\":[{\"type\":\"scatter3d\",\"line\":{\"colorbar\":{\"outlinewidth\":0,\"ticks\":\"\"}},\"marker\":{\"colorbar\":{\"outlinewidth\":0,\"ticks\":\"\"}}}],\"scattermapbox\":[{\"type\":\"scattermapbox\",\"marker\":{\"colorbar\":{\"outlinewidth\":0,\"ticks\":\"\"}}}],\"scatterternary\":[{\"type\":\"scatterternary\",\"marker\":{\"colorbar\":{\"outlinewidth\":0,\"ticks\":\"\"}}}],\"scattercarpet\":[{\"type\":\"scattercarpet\",\"marker\":{\"colorbar\":{\"outlinewidth\":0,\"ticks\":\"\"}}}],\"carpet\":[{\"aaxis\":{\"endlinecolor\":\"#2a3f5f\",\"gridcolor\":\"white\",\"linecolor\":\"white\",\"minorgridcolor\":\"white\",\"startlinecolor\":\"#2a3f5f\"},\"baxis\":{\"endlinecolor\":\"#2a3f5f\",\"gridcolor\":\"white\",\"linecolor\":\"white\",\"minorgridcolor\":\"white\",\"startlinecolor\":\"#2a3f5f\"},\"type\":\"carpet\"}],\"table\":[{\"cells\":{\"fill\":{\"color\":\"#EBF0F8\"},\"line\":{\"color\":\"white\"}},\"header\":{\"fill\":{\"color\":\"#C8D4E3\"},\"line\":{\"color\":\"white\"}},\"type\":\"table\"}],\"barpolar\":[{\"marker\":{\"line\":{\"color\":\"#E5ECF6\",\"width\":0.5},\"pattern\":{\"fillmode\":\"overlay\",\"size\":10,\"solidity\":0.2}},\"type\":\"barpolar\"}],\"pie\":[{\"automargin\":true,\"type\":\"pie\"}]},\"layout\":{\"autotypenumbers\":\"strict\",\"colorway\":[\"#636efa\",\"#EF553B\",\"#00cc96\",\"#ab63fa\",\"#FFA15A\",\"#19d3f3\",\"#FF6692\",\"#B6E880\",\"#FF97FF\",\"#FECB52\"],\"font\":{\"color\":\"#2a3f5f\"},\"hovermode\":\"closest\",\"hoverlabel\":{\"align\":\"left\"},\"paper_bgcolor\":\"white\",\"plot_bgcolor\":\"#E5ECF6\",\"polar\":{\"bgcolor\":\"#E5ECF6\",\"angularaxis\":{\"gridcolor\":\"white\",\"linecolor\":\"white\",\"ticks\":\"\"},\"radialaxis\":{\"gridcolor\":\"white\",\"linecolor\":\"white\",\"ticks\":\"\"}},\"ternary\":{\"bgcolor\":\"#E5ECF6\",\"aaxis\":{\"gridcolor\":\"white\",\"linecolor\":\"white\",\"ticks\":\"\"},\"baxis\":{\"gridcolor\":\"white\",\"linecolor\":\"white\",\"ticks\":\"\"},\"caxis\":{\"gridcolor\":\"white\",\"linecolor\":\"white\",\"ticks\":\"\"}},\"coloraxis\":{\"colorbar\":{\"outlinewidth\":0,\"ticks\":\"\"}},\"colorscale\":{\"sequential\":[[0.0,\"#0d0887\"],[0.1111111111111111,\"#46039f\"],[0.2222222222222222,\"#7201a8\"],[0.3333333333333333,\"#9c179e\"],[0.4444444444444444,\"#bd3786\"],[0.5555555555555556,\"#d8576b\"],[0.6666666666666666,\"#ed7953\"],[0.7777777777777778,\"#fb9f3a\"],[0.8888888888888888,\"#fdca26\"],[1.0,\"#f0f921\"]],\"sequentialminus\":[[0.0,\"#0d0887\"],[0.1111111111111111,\"#46039f\"],[0.2222222222222222,\"#7201a8\"],[0.3333333333333333,\"#9c179e\"],[0.4444444444444444,\"#bd3786\"],[0.5555555555555556,\"#d8576b\"],[0.6666666666666666,\"#ed7953\"],[0.7777777777777778,\"#fb9f3a\"],[0.8888888888888888,\"#fdca26\"],[1.0,\"#f0f921\"]],\"diverging\":[[0,\"#8e0152\"],[0.1,\"#c51b7d\"],[0.2,\"#de77ae\"],[0.3,\"#f1b6da\"],[0.4,\"#fde0ef\"],[0.5,\"#f7f7f7\"],[0.6,\"#e6f5d0\"],[0.7,\"#b8e186\"],[0.8,\"#7fbc41\"],[0.9,\"#4d9221\"],[1,\"#276419\"]]},\"xaxis\":{\"gridcolor\":\"white\",\"linecolor\":\"white\",\"ticks\":\"\",\"title\":{\"standoff\":15},\"zerolinecolor\":\"white\",\"automargin\":true,\"zerolinewidth\":2},\"yaxis\":{\"gridcolor\":\"white\",\"linecolor\":\"white\",\"ticks\":\"\",\"title\":{\"standoff\":15},\"zerolinecolor\":\"white\",\"automargin\":true,\"zerolinewidth\":2},\"scene\":{\"xaxis\":{\"backgroundcolor\":\"#E5ECF6\",\"gridcolor\":\"white\",\"linecolor\":\"white\",\"showbackground\":true,\"ticks\":\"\",\"zerolinecolor\":\"white\",\"gridwidth\":2},\"yaxis\":{\"backgroundcolor\":\"#E5ECF6\",\"gridcolor\":\"white\",\"linecolor\":\"white\",\"showbackground\":true,\"ticks\":\"\",\"zerolinecolor\":\"white\",\"gridwidth\":2},\"zaxis\":{\"backgroundcolor\":\"#E5ECF6\",\"gridcolor\":\"white\",\"linecolor\":\"white\",\"showbackground\":true,\"ticks\":\"\",\"zerolinecolor\":\"white\",\"gridwidth\":2}},\"shapedefaults\":{\"line\":{\"color\":\"#2a3f5f\"}},\"annotationdefaults\":{\"arrowcolor\":\"#2a3f5f\",\"arrowhead\":0,\"arrowwidth\":1},\"geo\":{\"bgcolor\":\"white\",\"landcolor\":\"#E5ECF6\",\"subunitcolor\":\"white\",\"showland\":true,\"showlakes\":true,\"lakecolor\":\"white\"},\"title\":{\"x\":0.05},\"mapbox\":{\"style\":\"light\"}}},\"legend\":{\"tracegroupgap\":0},\"title\":{\"text\":\"School Targets\"},\"piecolorway\":[\"rgb(95, 70, 144)\",\"rgb(29, 105, 150)\",\"rgb(56, 166, 165)\",\"rgb(15, 133, 84)\",\"rgb(115, 175, 72)\",\"rgb(237, 173, 8)\",\"rgb(225, 124, 5)\",\"rgb(204, 80, 62)\",\"rgb(148, 52, 110)\",\"rgb(111, 64, 112)\",\"rgb(102, 102, 102)\"]},                        {\"responsive\": true}                    ).then(function(){\n",
       "                            \n",
       "var gd = document.getElementById('36236baa-afa0-4521-a1a2-37ce101fe6a4');\n",
       "var x = new MutationObserver(function (mutations, observer) {{\n",
       "        var display = window.getComputedStyle(gd).display;\n",
       "        if (!display || display === 'none') {{\n",
       "            console.log([gd, 'removed!']);\n",
       "            Plotly.purge(gd);\n",
       "            observer.disconnect();\n",
       "        }}\n",
       "}});\n",
       "\n",
       "// Listen for the removal of the full notebook cells\n",
       "var notebookContainer = gd.closest('#notebook-container');\n",
       "if (notebookContainer) {{\n",
       "    x.observe(notebookContainer, {childList: true});\n",
       "}}\n",
       "\n",
       "// Listen for the clearing of the current output cell\n",
       "var outputEl = gd.closest('.output');\n",
       "if (outputEl) {{\n",
       "    x.observe(outputEl, {childList: true});\n",
       "}}\n",
       "\n",
       "                        })                };                });            </script>        </div>"
      ]
     },
     "metadata": {},
     "output_type": "display_data"
    },
    {
     "data": {
      "text/plain": [
       "<Figure size 640x480 with 0 Axes>"
      ]
     },
     "metadata": {},
     "output_type": "display_data"
    }
   ],
   "source": [
    "#Determining percentage for each target outcome\n",
    "#Chart 1\n",
    "pie_fig = px.pie(df, names='Target', title='School Targets', color_discrete_sequence=px.colors.qualitative.Prism)\n",
    "pie_fig.show()\n",
    "plt.savefig('piechart.png')"
   ]
  },
  {
   "cell_type": "code",
   "execution_count": 140,
   "metadata": {},
   "outputs": [
    {
     "data": {
      "application/vnd.plotly.v1+json": {
       "config": {
        "plotlyServerURL": "https://plot.ly"
       },
       "data": [
        {
         "alignmentgroup": "True",
         "hovertemplate": "variable=Scholarship<br>Target=%{x}<br>Counts=%{y}<extra></extra>",
         "legendgroup": "Scholarship",
         "marker": {
          "color": "rgb(127, 60, 141)",
          "pattern": {
           "shape": ""
          }
         },
         "name": "Scholarship",
         "offsetgroup": "Scholarship",
         "orientation": "v",
         "showlegend": true,
         "textposition": "auto",
         "type": "bar",
         "x": [
          "Gradate",
          "Dropout",
          "Enrolled"
         ],
         "xaxis": "x",
         "y": [
          134,
          130,
          835
         ],
         "yaxis": "y"
        },
        {
         "alignmentgroup": "True",
         "hovertemplate": "variable=No Scholarship<br>Target=%{x}<br>Counts=%{y}<extra></extra>",
         "legendgroup": "No Scholarship",
         "marker": {
          "color": "rgb(17, 165, 121)",
          "pattern": {
           "shape": ""
          }
         },
         "name": "No Scholarship",
         "offsetgroup": "No Scholarship",
         "orientation": "v",
         "showlegend": true,
         "textposition": "auto",
         "type": "bar",
         "x": [
          "Gradate",
          "Dropout",
          "Enrolled"
         ],
         "xaxis": "x",
         "y": [
          1287,
          664,
          1374
         ],
         "yaxis": "y"
        }
       ],
       "layout": {
        "barmode": "relative",
        "legend": {
         "title": {
          "text": "variable"
         },
         "tracegroupgap": 0
        },
        "template": {
         "data": {
          "bar": [
           {
            "error_x": {
             "color": "#2a3f5f"
            },
            "error_y": {
             "color": "#2a3f5f"
            },
            "marker": {
             "line": {
              "color": "#E5ECF6",
              "width": 0.5
             },
             "pattern": {
              "fillmode": "overlay",
              "size": 10,
              "solidity": 0.2
             }
            },
            "type": "bar"
           }
          ],
          "barpolar": [
           {
            "marker": {
             "line": {
              "color": "#E5ECF6",
              "width": 0.5
             },
             "pattern": {
              "fillmode": "overlay",
              "size": 10,
              "solidity": 0.2
             }
            },
            "type": "barpolar"
           }
          ],
          "carpet": [
           {
            "aaxis": {
             "endlinecolor": "#2a3f5f",
             "gridcolor": "white",
             "linecolor": "white",
             "minorgridcolor": "white",
             "startlinecolor": "#2a3f5f"
            },
            "baxis": {
             "endlinecolor": "#2a3f5f",
             "gridcolor": "white",
             "linecolor": "white",
             "minorgridcolor": "white",
             "startlinecolor": "#2a3f5f"
            },
            "type": "carpet"
           }
          ],
          "choropleth": [
           {
            "colorbar": {
             "outlinewidth": 0,
             "ticks": ""
            },
            "type": "choropleth"
           }
          ],
          "contour": [
           {
            "colorbar": {
             "outlinewidth": 0,
             "ticks": ""
            },
            "colorscale": [
             [
              0,
              "#0d0887"
             ],
             [
              0.1111111111111111,
              "#46039f"
             ],
             [
              0.2222222222222222,
              "#7201a8"
             ],
             [
              0.3333333333333333,
              "#9c179e"
             ],
             [
              0.4444444444444444,
              "#bd3786"
             ],
             [
              0.5555555555555556,
              "#d8576b"
             ],
             [
              0.6666666666666666,
              "#ed7953"
             ],
             [
              0.7777777777777778,
              "#fb9f3a"
             ],
             [
              0.8888888888888888,
              "#fdca26"
             ],
             [
              1,
              "#f0f921"
             ]
            ],
            "type": "contour"
           }
          ],
          "contourcarpet": [
           {
            "colorbar": {
             "outlinewidth": 0,
             "ticks": ""
            },
            "type": "contourcarpet"
           }
          ],
          "heatmap": [
           {
            "colorbar": {
             "outlinewidth": 0,
             "ticks": ""
            },
            "colorscale": [
             [
              0,
              "#0d0887"
             ],
             [
              0.1111111111111111,
              "#46039f"
             ],
             [
              0.2222222222222222,
              "#7201a8"
             ],
             [
              0.3333333333333333,
              "#9c179e"
             ],
             [
              0.4444444444444444,
              "#bd3786"
             ],
             [
              0.5555555555555556,
              "#d8576b"
             ],
             [
              0.6666666666666666,
              "#ed7953"
             ],
             [
              0.7777777777777778,
              "#fb9f3a"
             ],
             [
              0.8888888888888888,
              "#fdca26"
             ],
             [
              1,
              "#f0f921"
             ]
            ],
            "type": "heatmap"
           }
          ],
          "heatmapgl": [
           {
            "colorbar": {
             "outlinewidth": 0,
             "ticks": ""
            },
            "colorscale": [
             [
              0,
              "#0d0887"
             ],
             [
              0.1111111111111111,
              "#46039f"
             ],
             [
              0.2222222222222222,
              "#7201a8"
             ],
             [
              0.3333333333333333,
              "#9c179e"
             ],
             [
              0.4444444444444444,
              "#bd3786"
             ],
             [
              0.5555555555555556,
              "#d8576b"
             ],
             [
              0.6666666666666666,
              "#ed7953"
             ],
             [
              0.7777777777777778,
              "#fb9f3a"
             ],
             [
              0.8888888888888888,
              "#fdca26"
             ],
             [
              1,
              "#f0f921"
             ]
            ],
            "type": "heatmapgl"
           }
          ],
          "histogram": [
           {
            "marker": {
             "pattern": {
              "fillmode": "overlay",
              "size": 10,
              "solidity": 0.2
             }
            },
            "type": "histogram"
           }
          ],
          "histogram2d": [
           {
            "colorbar": {
             "outlinewidth": 0,
             "ticks": ""
            },
            "colorscale": [
             [
              0,
              "#0d0887"
             ],
             [
              0.1111111111111111,
              "#46039f"
             ],
             [
              0.2222222222222222,
              "#7201a8"
             ],
             [
              0.3333333333333333,
              "#9c179e"
             ],
             [
              0.4444444444444444,
              "#bd3786"
             ],
             [
              0.5555555555555556,
              "#d8576b"
             ],
             [
              0.6666666666666666,
              "#ed7953"
             ],
             [
              0.7777777777777778,
              "#fb9f3a"
             ],
             [
              0.8888888888888888,
              "#fdca26"
             ],
             [
              1,
              "#f0f921"
             ]
            ],
            "type": "histogram2d"
           }
          ],
          "histogram2dcontour": [
           {
            "colorbar": {
             "outlinewidth": 0,
             "ticks": ""
            },
            "colorscale": [
             [
              0,
              "#0d0887"
             ],
             [
              0.1111111111111111,
              "#46039f"
             ],
             [
              0.2222222222222222,
              "#7201a8"
             ],
             [
              0.3333333333333333,
              "#9c179e"
             ],
             [
              0.4444444444444444,
              "#bd3786"
             ],
             [
              0.5555555555555556,
              "#d8576b"
             ],
             [
              0.6666666666666666,
              "#ed7953"
             ],
             [
              0.7777777777777778,
              "#fb9f3a"
             ],
             [
              0.8888888888888888,
              "#fdca26"
             ],
             [
              1,
              "#f0f921"
             ]
            ],
            "type": "histogram2dcontour"
           }
          ],
          "mesh3d": [
           {
            "colorbar": {
             "outlinewidth": 0,
             "ticks": ""
            },
            "type": "mesh3d"
           }
          ],
          "parcoords": [
           {
            "line": {
             "colorbar": {
              "outlinewidth": 0,
              "ticks": ""
             }
            },
            "type": "parcoords"
           }
          ],
          "pie": [
           {
            "automargin": true,
            "type": "pie"
           }
          ],
          "scatter": [
           {
            "fillpattern": {
             "fillmode": "overlay",
             "size": 10,
             "solidity": 0.2
            },
            "type": "scatter"
           }
          ],
          "scatter3d": [
           {
            "line": {
             "colorbar": {
              "outlinewidth": 0,
              "ticks": ""
             }
            },
            "marker": {
             "colorbar": {
              "outlinewidth": 0,
              "ticks": ""
             }
            },
            "type": "scatter3d"
           }
          ],
          "scattercarpet": [
           {
            "marker": {
             "colorbar": {
              "outlinewidth": 0,
              "ticks": ""
             }
            },
            "type": "scattercarpet"
           }
          ],
          "scattergeo": [
           {
            "marker": {
             "colorbar": {
              "outlinewidth": 0,
              "ticks": ""
             }
            },
            "type": "scattergeo"
           }
          ],
          "scattergl": [
           {
            "marker": {
             "colorbar": {
              "outlinewidth": 0,
              "ticks": ""
             }
            },
            "type": "scattergl"
           }
          ],
          "scattermapbox": [
           {
            "marker": {
             "colorbar": {
              "outlinewidth": 0,
              "ticks": ""
             }
            },
            "type": "scattermapbox"
           }
          ],
          "scatterpolar": [
           {
            "marker": {
             "colorbar": {
              "outlinewidth": 0,
              "ticks": ""
             }
            },
            "type": "scatterpolar"
           }
          ],
          "scatterpolargl": [
           {
            "marker": {
             "colorbar": {
              "outlinewidth": 0,
              "ticks": ""
             }
            },
            "type": "scatterpolargl"
           }
          ],
          "scatterternary": [
           {
            "marker": {
             "colorbar": {
              "outlinewidth": 0,
              "ticks": ""
             }
            },
            "type": "scatterternary"
           }
          ],
          "surface": [
           {
            "colorbar": {
             "outlinewidth": 0,
             "ticks": ""
            },
            "colorscale": [
             [
              0,
              "#0d0887"
             ],
             [
              0.1111111111111111,
              "#46039f"
             ],
             [
              0.2222222222222222,
              "#7201a8"
             ],
             [
              0.3333333333333333,
              "#9c179e"
             ],
             [
              0.4444444444444444,
              "#bd3786"
             ],
             [
              0.5555555555555556,
              "#d8576b"
             ],
             [
              0.6666666666666666,
              "#ed7953"
             ],
             [
              0.7777777777777778,
              "#fb9f3a"
             ],
             [
              0.8888888888888888,
              "#fdca26"
             ],
             [
              1,
              "#f0f921"
             ]
            ],
            "type": "surface"
           }
          ],
          "table": [
           {
            "cells": {
             "fill": {
              "color": "#EBF0F8"
             },
             "line": {
              "color": "white"
             }
            },
            "header": {
             "fill": {
              "color": "#C8D4E3"
             },
             "line": {
              "color": "white"
             }
            },
            "type": "table"
           }
          ]
         },
         "layout": {
          "annotationdefaults": {
           "arrowcolor": "#2a3f5f",
           "arrowhead": 0,
           "arrowwidth": 1
          },
          "autotypenumbers": "strict",
          "coloraxis": {
           "colorbar": {
            "outlinewidth": 0,
            "ticks": ""
           }
          },
          "colorscale": {
           "diverging": [
            [
             0,
             "#8e0152"
            ],
            [
             0.1,
             "#c51b7d"
            ],
            [
             0.2,
             "#de77ae"
            ],
            [
             0.3,
             "#f1b6da"
            ],
            [
             0.4,
             "#fde0ef"
            ],
            [
             0.5,
             "#f7f7f7"
            ],
            [
             0.6,
             "#e6f5d0"
            ],
            [
             0.7,
             "#b8e186"
            ],
            [
             0.8,
             "#7fbc41"
            ],
            [
             0.9,
             "#4d9221"
            ],
            [
             1,
             "#276419"
            ]
           ],
           "sequential": [
            [
             0,
             "#0d0887"
            ],
            [
             0.1111111111111111,
             "#46039f"
            ],
            [
             0.2222222222222222,
             "#7201a8"
            ],
            [
             0.3333333333333333,
             "#9c179e"
            ],
            [
             0.4444444444444444,
             "#bd3786"
            ],
            [
             0.5555555555555556,
             "#d8576b"
            ],
            [
             0.6666666666666666,
             "#ed7953"
            ],
            [
             0.7777777777777778,
             "#fb9f3a"
            ],
            [
             0.8888888888888888,
             "#fdca26"
            ],
            [
             1,
             "#f0f921"
            ]
           ],
           "sequentialminus": [
            [
             0,
             "#0d0887"
            ],
            [
             0.1111111111111111,
             "#46039f"
            ],
            [
             0.2222222222222222,
             "#7201a8"
            ],
            [
             0.3333333333333333,
             "#9c179e"
            ],
            [
             0.4444444444444444,
             "#bd3786"
            ],
            [
             0.5555555555555556,
             "#d8576b"
            ],
            [
             0.6666666666666666,
             "#ed7953"
            ],
            [
             0.7777777777777778,
             "#fb9f3a"
            ],
            [
             0.8888888888888888,
             "#fdca26"
            ],
            [
             1,
             "#f0f921"
            ]
           ]
          },
          "colorway": [
           "#636efa",
           "#EF553B",
           "#00cc96",
           "#ab63fa",
           "#FFA15A",
           "#19d3f3",
           "#FF6692",
           "#B6E880",
           "#FF97FF",
           "#FECB52"
          ],
          "font": {
           "color": "#2a3f5f"
          },
          "geo": {
           "bgcolor": "white",
           "lakecolor": "white",
           "landcolor": "#E5ECF6",
           "showlakes": true,
           "showland": true,
           "subunitcolor": "white"
          },
          "hoverlabel": {
           "align": "left"
          },
          "hovermode": "closest",
          "mapbox": {
           "style": "light"
          },
          "paper_bgcolor": "white",
          "plot_bgcolor": "#E5ECF6",
          "polar": {
           "angularaxis": {
            "gridcolor": "white",
            "linecolor": "white",
            "ticks": ""
           },
           "bgcolor": "#E5ECF6",
           "radialaxis": {
            "gridcolor": "white",
            "linecolor": "white",
            "ticks": ""
           }
          },
          "scene": {
           "xaxis": {
            "backgroundcolor": "#E5ECF6",
            "gridcolor": "white",
            "gridwidth": 2,
            "linecolor": "white",
            "showbackground": true,
            "ticks": "",
            "zerolinecolor": "white"
           },
           "yaxis": {
            "backgroundcolor": "#E5ECF6",
            "gridcolor": "white",
            "gridwidth": 2,
            "linecolor": "white",
            "showbackground": true,
            "ticks": "",
            "zerolinecolor": "white"
           },
           "zaxis": {
            "backgroundcolor": "#E5ECF6",
            "gridcolor": "white",
            "gridwidth": 2,
            "linecolor": "white",
            "showbackground": true,
            "ticks": "",
            "zerolinecolor": "white"
           }
          },
          "shapedefaults": {
           "line": {
            "color": "#2a3f5f"
           }
          },
          "ternary": {
           "aaxis": {
            "gridcolor": "white",
            "linecolor": "white",
            "ticks": ""
           },
           "baxis": {
            "gridcolor": "white",
            "linecolor": "white",
            "ticks": ""
           },
           "bgcolor": "#E5ECF6",
           "caxis": {
            "gridcolor": "white",
            "linecolor": "white",
            "ticks": ""
           }
          },
          "title": {
           "x": 0.05
          },
          "xaxis": {
           "automargin": true,
           "gridcolor": "white",
           "linecolor": "white",
           "ticks": "",
           "title": {
            "standoff": 15
           },
           "zerolinecolor": "white",
           "zerolinewidth": 2
          },
          "yaxis": {
           "automargin": true,
           "gridcolor": "white",
           "linecolor": "white",
           "ticks": "",
           "title": {
            "standoff": 15
           },
           "zerolinecolor": "white",
           "zerolinewidth": 2
          }
         }
        },
        "title": {
         "text": "Scholarship Status for Each School Outcome"
        },
        "xaxis": {
         "anchor": "y",
         "domain": [
          0,
          1
         ],
         "title": {
          "text": "Target"
         }
        },
        "yaxis": {
         "anchor": "x",
         "domain": [
          0,
          1
         ],
         "title": {
          "text": "Counts"
         }
        }
       }
      },
      "text/html": [
       "<div>                            <div id=\"cfd9ce20-b42f-4eca-af42-80ff1ec180c1\" class=\"plotly-graph-div\" style=\"height:525px; width:100%;\"></div>            <script type=\"text/javascript\">                require([\"plotly\"], function(Plotly) {                    window.PLOTLYENV=window.PLOTLYENV || {};                                    if (document.getElementById(\"cfd9ce20-b42f-4eca-af42-80ff1ec180c1\")) {                    Plotly.newPlot(                        \"cfd9ce20-b42f-4eca-af42-80ff1ec180c1\",                        [{\"alignmentgroup\":\"True\",\"hovertemplate\":\"variable=Scholarship<br>Target=%{x}<br>Counts=%{y}<extra></extra>\",\"legendgroup\":\"Scholarship\",\"marker\":{\"color\":\"rgb(127, 60, 141)\",\"pattern\":{\"shape\":\"\"}},\"name\":\"Scholarship\",\"offsetgroup\":\"Scholarship\",\"orientation\":\"v\",\"showlegend\":true,\"textposition\":\"auto\",\"x\":[\"Gradate\",\"Dropout\",\"Enrolled\"],\"xaxis\":\"x\",\"y\":[134,130,835],\"yaxis\":\"y\",\"type\":\"bar\"},{\"alignmentgroup\":\"True\",\"hovertemplate\":\"variable=No Scholarship<br>Target=%{x}<br>Counts=%{y}<extra></extra>\",\"legendgroup\":\"No Scholarship\",\"marker\":{\"color\":\"rgb(17, 165, 121)\",\"pattern\":{\"shape\":\"\"}},\"name\":\"No Scholarship\",\"offsetgroup\":\"No Scholarship\",\"orientation\":\"v\",\"showlegend\":true,\"textposition\":\"auto\",\"x\":[\"Gradate\",\"Dropout\",\"Enrolled\"],\"xaxis\":\"x\",\"y\":[1287,664,1374],\"yaxis\":\"y\",\"type\":\"bar\"}],                        {\"template\":{\"data\":{\"histogram2dcontour\":[{\"type\":\"histogram2dcontour\",\"colorbar\":{\"outlinewidth\":0,\"ticks\":\"\"},\"colorscale\":[[0.0,\"#0d0887\"],[0.1111111111111111,\"#46039f\"],[0.2222222222222222,\"#7201a8\"],[0.3333333333333333,\"#9c179e\"],[0.4444444444444444,\"#bd3786\"],[0.5555555555555556,\"#d8576b\"],[0.6666666666666666,\"#ed7953\"],[0.7777777777777778,\"#fb9f3a\"],[0.8888888888888888,\"#fdca26\"],[1.0,\"#f0f921\"]]}],\"choropleth\":[{\"type\":\"choropleth\",\"colorbar\":{\"outlinewidth\":0,\"ticks\":\"\"}}],\"histogram2d\":[{\"type\":\"histogram2d\",\"colorbar\":{\"outlinewidth\":0,\"ticks\":\"\"},\"colorscale\":[[0.0,\"#0d0887\"],[0.1111111111111111,\"#46039f\"],[0.2222222222222222,\"#7201a8\"],[0.3333333333333333,\"#9c179e\"],[0.4444444444444444,\"#bd3786\"],[0.5555555555555556,\"#d8576b\"],[0.6666666666666666,\"#ed7953\"],[0.7777777777777778,\"#fb9f3a\"],[0.8888888888888888,\"#fdca26\"],[1.0,\"#f0f921\"]]}],\"heatmap\":[{\"type\":\"heatmap\",\"colorbar\":{\"outlinewidth\":0,\"ticks\":\"\"},\"colorscale\":[[0.0,\"#0d0887\"],[0.1111111111111111,\"#46039f\"],[0.2222222222222222,\"#7201a8\"],[0.3333333333333333,\"#9c179e\"],[0.4444444444444444,\"#bd3786\"],[0.5555555555555556,\"#d8576b\"],[0.6666666666666666,\"#ed7953\"],[0.7777777777777778,\"#fb9f3a\"],[0.8888888888888888,\"#fdca26\"],[1.0,\"#f0f921\"]]}],\"heatmapgl\":[{\"type\":\"heatmapgl\",\"colorbar\":{\"outlinewidth\":0,\"ticks\":\"\"},\"colorscale\":[[0.0,\"#0d0887\"],[0.1111111111111111,\"#46039f\"],[0.2222222222222222,\"#7201a8\"],[0.3333333333333333,\"#9c179e\"],[0.4444444444444444,\"#bd3786\"],[0.5555555555555556,\"#d8576b\"],[0.6666666666666666,\"#ed7953\"],[0.7777777777777778,\"#fb9f3a\"],[0.8888888888888888,\"#fdca26\"],[1.0,\"#f0f921\"]]}],\"contourcarpet\":[{\"type\":\"contourcarpet\",\"colorbar\":{\"outlinewidth\":0,\"ticks\":\"\"}}],\"contour\":[{\"type\":\"contour\",\"colorbar\":{\"outlinewidth\":0,\"ticks\":\"\"},\"colorscale\":[[0.0,\"#0d0887\"],[0.1111111111111111,\"#46039f\"],[0.2222222222222222,\"#7201a8\"],[0.3333333333333333,\"#9c179e\"],[0.4444444444444444,\"#bd3786\"],[0.5555555555555556,\"#d8576b\"],[0.6666666666666666,\"#ed7953\"],[0.7777777777777778,\"#fb9f3a\"],[0.8888888888888888,\"#fdca26\"],[1.0,\"#f0f921\"]]}],\"surface\":[{\"type\":\"surface\",\"colorbar\":{\"outlinewidth\":0,\"ticks\":\"\"},\"colorscale\":[[0.0,\"#0d0887\"],[0.1111111111111111,\"#46039f\"],[0.2222222222222222,\"#7201a8\"],[0.3333333333333333,\"#9c179e\"],[0.4444444444444444,\"#bd3786\"],[0.5555555555555556,\"#d8576b\"],[0.6666666666666666,\"#ed7953\"],[0.7777777777777778,\"#fb9f3a\"],[0.8888888888888888,\"#fdca26\"],[1.0,\"#f0f921\"]]}],\"mesh3d\":[{\"type\":\"mesh3d\",\"colorbar\":{\"outlinewidth\":0,\"ticks\":\"\"}}],\"scatter\":[{\"fillpattern\":{\"fillmode\":\"overlay\",\"size\":10,\"solidity\":0.2},\"type\":\"scatter\"}],\"parcoords\":[{\"type\":\"parcoords\",\"line\":{\"colorbar\":{\"outlinewidth\":0,\"ticks\":\"\"}}}],\"scatterpolargl\":[{\"type\":\"scatterpolargl\",\"marker\":{\"colorbar\":{\"outlinewidth\":0,\"ticks\":\"\"}}}],\"bar\":[{\"error_x\":{\"color\":\"#2a3f5f\"},\"error_y\":{\"color\":\"#2a3f5f\"},\"marker\":{\"line\":{\"color\":\"#E5ECF6\",\"width\":0.5},\"pattern\":{\"fillmode\":\"overlay\",\"size\":10,\"solidity\":0.2}},\"type\":\"bar\"}],\"scattergeo\":[{\"type\":\"scattergeo\",\"marker\":{\"colorbar\":{\"outlinewidth\":0,\"ticks\":\"\"}}}],\"scatterpolar\":[{\"type\":\"scatterpolar\",\"marker\":{\"colorbar\":{\"outlinewidth\":0,\"ticks\":\"\"}}}],\"histogram\":[{\"marker\":{\"pattern\":{\"fillmode\":\"overlay\",\"size\":10,\"solidity\":0.2}},\"type\":\"histogram\"}],\"scattergl\":[{\"type\":\"scattergl\",\"marker\":{\"colorbar\":{\"outlinewidth\":0,\"ticks\":\"\"}}}],\"scatter3d\":[{\"type\":\"scatter3d\",\"line\":{\"colorbar\":{\"outlinewidth\":0,\"ticks\":\"\"}},\"marker\":{\"colorbar\":{\"outlinewidth\":0,\"ticks\":\"\"}}}],\"scattermapbox\":[{\"type\":\"scattermapbox\",\"marker\":{\"colorbar\":{\"outlinewidth\":0,\"ticks\":\"\"}}}],\"scatterternary\":[{\"type\":\"scatterternary\",\"marker\":{\"colorbar\":{\"outlinewidth\":0,\"ticks\":\"\"}}}],\"scattercarpet\":[{\"type\":\"scattercarpet\",\"marker\":{\"colorbar\":{\"outlinewidth\":0,\"ticks\":\"\"}}}],\"carpet\":[{\"aaxis\":{\"endlinecolor\":\"#2a3f5f\",\"gridcolor\":\"white\",\"linecolor\":\"white\",\"minorgridcolor\":\"white\",\"startlinecolor\":\"#2a3f5f\"},\"baxis\":{\"endlinecolor\":\"#2a3f5f\",\"gridcolor\":\"white\",\"linecolor\":\"white\",\"minorgridcolor\":\"white\",\"startlinecolor\":\"#2a3f5f\"},\"type\":\"carpet\"}],\"table\":[{\"cells\":{\"fill\":{\"color\":\"#EBF0F8\"},\"line\":{\"color\":\"white\"}},\"header\":{\"fill\":{\"color\":\"#C8D4E3\"},\"line\":{\"color\":\"white\"}},\"type\":\"table\"}],\"barpolar\":[{\"marker\":{\"line\":{\"color\":\"#E5ECF6\",\"width\":0.5},\"pattern\":{\"fillmode\":\"overlay\",\"size\":10,\"solidity\":0.2}},\"type\":\"barpolar\"}],\"pie\":[{\"automargin\":true,\"type\":\"pie\"}]},\"layout\":{\"autotypenumbers\":\"strict\",\"colorway\":[\"#636efa\",\"#EF553B\",\"#00cc96\",\"#ab63fa\",\"#FFA15A\",\"#19d3f3\",\"#FF6692\",\"#B6E880\",\"#FF97FF\",\"#FECB52\"],\"font\":{\"color\":\"#2a3f5f\"},\"hovermode\":\"closest\",\"hoverlabel\":{\"align\":\"left\"},\"paper_bgcolor\":\"white\",\"plot_bgcolor\":\"#E5ECF6\",\"polar\":{\"bgcolor\":\"#E5ECF6\",\"angularaxis\":{\"gridcolor\":\"white\",\"linecolor\":\"white\",\"ticks\":\"\"},\"radialaxis\":{\"gridcolor\":\"white\",\"linecolor\":\"white\",\"ticks\":\"\"}},\"ternary\":{\"bgcolor\":\"#E5ECF6\",\"aaxis\":{\"gridcolor\":\"white\",\"linecolor\":\"white\",\"ticks\":\"\"},\"baxis\":{\"gridcolor\":\"white\",\"linecolor\":\"white\",\"ticks\":\"\"},\"caxis\":{\"gridcolor\":\"white\",\"linecolor\":\"white\",\"ticks\":\"\"}},\"coloraxis\":{\"colorbar\":{\"outlinewidth\":0,\"ticks\":\"\"}},\"colorscale\":{\"sequential\":[[0.0,\"#0d0887\"],[0.1111111111111111,\"#46039f\"],[0.2222222222222222,\"#7201a8\"],[0.3333333333333333,\"#9c179e\"],[0.4444444444444444,\"#bd3786\"],[0.5555555555555556,\"#d8576b\"],[0.6666666666666666,\"#ed7953\"],[0.7777777777777778,\"#fb9f3a\"],[0.8888888888888888,\"#fdca26\"],[1.0,\"#f0f921\"]],\"sequentialminus\":[[0.0,\"#0d0887\"],[0.1111111111111111,\"#46039f\"],[0.2222222222222222,\"#7201a8\"],[0.3333333333333333,\"#9c179e\"],[0.4444444444444444,\"#bd3786\"],[0.5555555555555556,\"#d8576b\"],[0.6666666666666666,\"#ed7953\"],[0.7777777777777778,\"#fb9f3a\"],[0.8888888888888888,\"#fdca26\"],[1.0,\"#f0f921\"]],\"diverging\":[[0,\"#8e0152\"],[0.1,\"#c51b7d\"],[0.2,\"#de77ae\"],[0.3,\"#f1b6da\"],[0.4,\"#fde0ef\"],[0.5,\"#f7f7f7\"],[0.6,\"#e6f5d0\"],[0.7,\"#b8e186\"],[0.8,\"#7fbc41\"],[0.9,\"#4d9221\"],[1,\"#276419\"]]},\"xaxis\":{\"gridcolor\":\"white\",\"linecolor\":\"white\",\"ticks\":\"\",\"title\":{\"standoff\":15},\"zerolinecolor\":\"white\",\"automargin\":true,\"zerolinewidth\":2},\"yaxis\":{\"gridcolor\":\"white\",\"linecolor\":\"white\",\"ticks\":\"\",\"title\":{\"standoff\":15},\"zerolinecolor\":\"white\",\"automargin\":true,\"zerolinewidth\":2},\"scene\":{\"xaxis\":{\"backgroundcolor\":\"#E5ECF6\",\"gridcolor\":\"white\",\"linecolor\":\"white\",\"showbackground\":true,\"ticks\":\"\",\"zerolinecolor\":\"white\",\"gridwidth\":2},\"yaxis\":{\"backgroundcolor\":\"#E5ECF6\",\"gridcolor\":\"white\",\"linecolor\":\"white\",\"showbackground\":true,\"ticks\":\"\",\"zerolinecolor\":\"white\",\"gridwidth\":2},\"zaxis\":{\"backgroundcolor\":\"#E5ECF6\",\"gridcolor\":\"white\",\"linecolor\":\"white\",\"showbackground\":true,\"ticks\":\"\",\"zerolinecolor\":\"white\",\"gridwidth\":2}},\"shapedefaults\":{\"line\":{\"color\":\"#2a3f5f\"}},\"annotationdefaults\":{\"arrowcolor\":\"#2a3f5f\",\"arrowhead\":0,\"arrowwidth\":1},\"geo\":{\"bgcolor\":\"white\",\"landcolor\":\"#E5ECF6\",\"subunitcolor\":\"white\",\"showland\":true,\"showlakes\":true,\"lakecolor\":\"white\"},\"title\":{\"x\":0.05},\"mapbox\":{\"style\":\"light\"}}},\"xaxis\":{\"anchor\":\"y\",\"domain\":[0.0,1.0],\"title\":{\"text\":\"Target\"}},\"yaxis\":{\"anchor\":\"x\",\"domain\":[0.0,1.0],\"title\":{\"text\":\"Counts\"}},\"legend\":{\"title\":{\"text\":\"variable\"},\"tracegroupgap\":0},\"title\":{\"text\":\"Scholarship Status for Each School Outcome\"},\"barmode\":\"relative\"},                        {\"responsive\": true}                    ).then(function(){\n",
       "                            \n",
       "var gd = document.getElementById('cfd9ce20-b42f-4eca-af42-80ff1ec180c1');\n",
       "var x = new MutationObserver(function (mutations, observer) {{\n",
       "        var display = window.getComputedStyle(gd).display;\n",
       "        if (!display || display === 'none') {{\n",
       "            console.log([gd, 'removed!']);\n",
       "            Plotly.purge(gd);\n",
       "            observer.disconnect();\n",
       "        }}\n",
       "}});\n",
       "\n",
       "// Listen for the removal of the full notebook cells\n",
       "var notebookContainer = gd.closest('#notebook-container');\n",
       "if (notebookContainer) {{\n",
       "    x.observe(notebookContainer, {childList: true});\n",
       "}}\n",
       "\n",
       "// Listen for the clearing of the current output cell\n",
       "var outputEl = gd.closest('.output');\n",
       "if (outputEl) {{\n",
       "    x.observe(outputEl, {childList: true});\n",
       "}}\n",
       "\n",
       "                        })                };                });            </script>        </div>"
      ]
     },
     "metadata": {},
     "output_type": "display_data"
    },
    {
     "data": {
      "text/plain": [
       "<Figure size 640x480 with 0 Axes>"
      ]
     },
     "metadata": {},
     "output_type": "display_data"
    }
   ],
   "source": [
    "#Creating chart for scholarship data for each college status\n",
    "#Chart 2\n",
    "scholar_chart = px.bar(scholar30, y=[\"Scholarship\", \"No Scholarship\"], x=[\"Gradate\", \"Dropout\", \"Enrolled\"], labels={'x':\"Target\", 'value': 'Counts'}, title=\"Scholarship Status for Each School Outcome\", color_discrete_sequence=px.colors.qualitative.Bold)\n",
    "scholar_chart.show()\n",
    "plt.savefig('stackedbar.png')"
   ]
  },
  {
   "cell_type": "code",
   "execution_count": 476,
   "metadata": {},
   "outputs": [
    {
     "data": {
      "application/vnd.plotly.v1+json": {
       "config": {
        "plotlyServerURL": "https://plot.ly"
       },
       "data": [
        {
         "alignmentgroup": "True",
         "hovertemplate": "variable=Female<br>Target=%{x}<br>Counts=%{y}<extra></extra>",
         "legendgroup": "Female",
         "marker": {
          "color": "rgb(136, 204, 238)",
          "pattern": {
           "shape": ""
          }
         },
         "name": "Female",
         "offsetgroup": "Female",
         "orientation": "v",
         "showlegend": true,
         "textposition": "auto",
         "type": "bar",
         "x": [
          "Graduate",
          "Dropout",
          "Enrolled"
         ],
         "xaxis": "x",
         "y": [
          720,
          487,
          1661
         ],
         "yaxis": "y"
        },
        {
         "alignmentgroup": "True",
         "hovertemplate": "variable=Male<br>Target=%{x}<br>Counts=%{y}<extra></extra>",
         "legendgroup": "Male",
         "marker": {
          "color": "rgb(204, 102, 119)",
          "pattern": {
           "shape": ""
          }
         },
         "name": "Male",
         "offsetgroup": "Male",
         "orientation": "v",
         "showlegend": true,
         "textposition": "auto",
         "type": "bar",
         "x": [
          "Graduate",
          "Dropout",
          "Enrolled"
         ],
         "xaxis": "x",
         "y": [
          701,
          307,
          548
         ],
         "yaxis": "y"
        }
       ],
       "layout": {
        "barmode": "group",
        "height": 400,
        "legend": {
         "title": {
          "text": "variable"
         },
         "tracegroupgap": 0
        },
        "template": {
         "data": {
          "bar": [
           {
            "error_x": {
             "color": "#2a3f5f"
            },
            "error_y": {
             "color": "#2a3f5f"
            },
            "marker": {
             "line": {
              "color": "#E5ECF6",
              "width": 0.5
             },
             "pattern": {
              "fillmode": "overlay",
              "size": 10,
              "solidity": 0.2
             }
            },
            "type": "bar"
           }
          ],
          "barpolar": [
           {
            "marker": {
             "line": {
              "color": "#E5ECF6",
              "width": 0.5
             },
             "pattern": {
              "fillmode": "overlay",
              "size": 10,
              "solidity": 0.2
             }
            },
            "type": "barpolar"
           }
          ],
          "carpet": [
           {
            "aaxis": {
             "endlinecolor": "#2a3f5f",
             "gridcolor": "white",
             "linecolor": "white",
             "minorgridcolor": "white",
             "startlinecolor": "#2a3f5f"
            },
            "baxis": {
             "endlinecolor": "#2a3f5f",
             "gridcolor": "white",
             "linecolor": "white",
             "minorgridcolor": "white",
             "startlinecolor": "#2a3f5f"
            },
            "type": "carpet"
           }
          ],
          "choropleth": [
           {
            "colorbar": {
             "outlinewidth": 0,
             "ticks": ""
            },
            "type": "choropleth"
           }
          ],
          "contour": [
           {
            "colorbar": {
             "outlinewidth": 0,
             "ticks": ""
            },
            "colorscale": [
             [
              0,
              "#0d0887"
             ],
             [
              0.1111111111111111,
              "#46039f"
             ],
             [
              0.2222222222222222,
              "#7201a8"
             ],
             [
              0.3333333333333333,
              "#9c179e"
             ],
             [
              0.4444444444444444,
              "#bd3786"
             ],
             [
              0.5555555555555556,
              "#d8576b"
             ],
             [
              0.6666666666666666,
              "#ed7953"
             ],
             [
              0.7777777777777778,
              "#fb9f3a"
             ],
             [
              0.8888888888888888,
              "#fdca26"
             ],
             [
              1,
              "#f0f921"
             ]
            ],
            "type": "contour"
           }
          ],
          "contourcarpet": [
           {
            "colorbar": {
             "outlinewidth": 0,
             "ticks": ""
            },
            "type": "contourcarpet"
           }
          ],
          "heatmap": [
           {
            "colorbar": {
             "outlinewidth": 0,
             "ticks": ""
            },
            "colorscale": [
             [
              0,
              "#0d0887"
             ],
             [
              0.1111111111111111,
              "#46039f"
             ],
             [
              0.2222222222222222,
              "#7201a8"
             ],
             [
              0.3333333333333333,
              "#9c179e"
             ],
             [
              0.4444444444444444,
              "#bd3786"
             ],
             [
              0.5555555555555556,
              "#d8576b"
             ],
             [
              0.6666666666666666,
              "#ed7953"
             ],
             [
              0.7777777777777778,
              "#fb9f3a"
             ],
             [
              0.8888888888888888,
              "#fdca26"
             ],
             [
              1,
              "#f0f921"
             ]
            ],
            "type": "heatmap"
           }
          ],
          "heatmapgl": [
           {
            "colorbar": {
             "outlinewidth": 0,
             "ticks": ""
            },
            "colorscale": [
             [
              0,
              "#0d0887"
             ],
             [
              0.1111111111111111,
              "#46039f"
             ],
             [
              0.2222222222222222,
              "#7201a8"
             ],
             [
              0.3333333333333333,
              "#9c179e"
             ],
             [
              0.4444444444444444,
              "#bd3786"
             ],
             [
              0.5555555555555556,
              "#d8576b"
             ],
             [
              0.6666666666666666,
              "#ed7953"
             ],
             [
              0.7777777777777778,
              "#fb9f3a"
             ],
             [
              0.8888888888888888,
              "#fdca26"
             ],
             [
              1,
              "#f0f921"
             ]
            ],
            "type": "heatmapgl"
           }
          ],
          "histogram": [
           {
            "marker": {
             "pattern": {
              "fillmode": "overlay",
              "size": 10,
              "solidity": 0.2
             }
            },
            "type": "histogram"
           }
          ],
          "histogram2d": [
           {
            "colorbar": {
             "outlinewidth": 0,
             "ticks": ""
            },
            "colorscale": [
             [
              0,
              "#0d0887"
             ],
             [
              0.1111111111111111,
              "#46039f"
             ],
             [
              0.2222222222222222,
              "#7201a8"
             ],
             [
              0.3333333333333333,
              "#9c179e"
             ],
             [
              0.4444444444444444,
              "#bd3786"
             ],
             [
              0.5555555555555556,
              "#d8576b"
             ],
             [
              0.6666666666666666,
              "#ed7953"
             ],
             [
              0.7777777777777778,
              "#fb9f3a"
             ],
             [
              0.8888888888888888,
              "#fdca26"
             ],
             [
              1,
              "#f0f921"
             ]
            ],
            "type": "histogram2d"
           }
          ],
          "histogram2dcontour": [
           {
            "colorbar": {
             "outlinewidth": 0,
             "ticks": ""
            },
            "colorscale": [
             [
              0,
              "#0d0887"
             ],
             [
              0.1111111111111111,
              "#46039f"
             ],
             [
              0.2222222222222222,
              "#7201a8"
             ],
             [
              0.3333333333333333,
              "#9c179e"
             ],
             [
              0.4444444444444444,
              "#bd3786"
             ],
             [
              0.5555555555555556,
              "#d8576b"
             ],
             [
              0.6666666666666666,
              "#ed7953"
             ],
             [
              0.7777777777777778,
              "#fb9f3a"
             ],
             [
              0.8888888888888888,
              "#fdca26"
             ],
             [
              1,
              "#f0f921"
             ]
            ],
            "type": "histogram2dcontour"
           }
          ],
          "mesh3d": [
           {
            "colorbar": {
             "outlinewidth": 0,
             "ticks": ""
            },
            "type": "mesh3d"
           }
          ],
          "parcoords": [
           {
            "line": {
             "colorbar": {
              "outlinewidth": 0,
              "ticks": ""
             }
            },
            "type": "parcoords"
           }
          ],
          "pie": [
           {
            "automargin": true,
            "type": "pie"
           }
          ],
          "scatter": [
           {
            "fillpattern": {
             "fillmode": "overlay",
             "size": 10,
             "solidity": 0.2
            },
            "type": "scatter"
           }
          ],
          "scatter3d": [
           {
            "line": {
             "colorbar": {
              "outlinewidth": 0,
              "ticks": ""
             }
            },
            "marker": {
             "colorbar": {
              "outlinewidth": 0,
              "ticks": ""
             }
            },
            "type": "scatter3d"
           }
          ],
          "scattercarpet": [
           {
            "marker": {
             "colorbar": {
              "outlinewidth": 0,
              "ticks": ""
             }
            },
            "type": "scattercarpet"
           }
          ],
          "scattergeo": [
           {
            "marker": {
             "colorbar": {
              "outlinewidth": 0,
              "ticks": ""
             }
            },
            "type": "scattergeo"
           }
          ],
          "scattergl": [
           {
            "marker": {
             "colorbar": {
              "outlinewidth": 0,
              "ticks": ""
             }
            },
            "type": "scattergl"
           }
          ],
          "scattermapbox": [
           {
            "marker": {
             "colorbar": {
              "outlinewidth": 0,
              "ticks": ""
             }
            },
            "type": "scattermapbox"
           }
          ],
          "scatterpolar": [
           {
            "marker": {
             "colorbar": {
              "outlinewidth": 0,
              "ticks": ""
             }
            },
            "type": "scatterpolar"
           }
          ],
          "scatterpolargl": [
           {
            "marker": {
             "colorbar": {
              "outlinewidth": 0,
              "ticks": ""
             }
            },
            "type": "scatterpolargl"
           }
          ],
          "scatterternary": [
           {
            "marker": {
             "colorbar": {
              "outlinewidth": 0,
              "ticks": ""
             }
            },
            "type": "scatterternary"
           }
          ],
          "surface": [
           {
            "colorbar": {
             "outlinewidth": 0,
             "ticks": ""
            },
            "colorscale": [
             [
              0,
              "#0d0887"
             ],
             [
              0.1111111111111111,
              "#46039f"
             ],
             [
              0.2222222222222222,
              "#7201a8"
             ],
             [
              0.3333333333333333,
              "#9c179e"
             ],
             [
              0.4444444444444444,
              "#bd3786"
             ],
             [
              0.5555555555555556,
              "#d8576b"
             ],
             [
              0.6666666666666666,
              "#ed7953"
             ],
             [
              0.7777777777777778,
              "#fb9f3a"
             ],
             [
              0.8888888888888888,
              "#fdca26"
             ],
             [
              1,
              "#f0f921"
             ]
            ],
            "type": "surface"
           }
          ],
          "table": [
           {
            "cells": {
             "fill": {
              "color": "#EBF0F8"
             },
             "line": {
              "color": "white"
             }
            },
            "header": {
             "fill": {
              "color": "#C8D4E3"
             },
             "line": {
              "color": "white"
             }
            },
            "type": "table"
           }
          ]
         },
         "layout": {
          "annotationdefaults": {
           "arrowcolor": "#2a3f5f",
           "arrowhead": 0,
           "arrowwidth": 1
          },
          "autotypenumbers": "strict",
          "coloraxis": {
           "colorbar": {
            "outlinewidth": 0,
            "ticks": ""
           }
          },
          "colorscale": {
           "diverging": [
            [
             0,
             "#8e0152"
            ],
            [
             0.1,
             "#c51b7d"
            ],
            [
             0.2,
             "#de77ae"
            ],
            [
             0.3,
             "#f1b6da"
            ],
            [
             0.4,
             "#fde0ef"
            ],
            [
             0.5,
             "#f7f7f7"
            ],
            [
             0.6,
             "#e6f5d0"
            ],
            [
             0.7,
             "#b8e186"
            ],
            [
             0.8,
             "#7fbc41"
            ],
            [
             0.9,
             "#4d9221"
            ],
            [
             1,
             "#276419"
            ]
           ],
           "sequential": [
            [
             0,
             "#0d0887"
            ],
            [
             0.1111111111111111,
             "#46039f"
            ],
            [
             0.2222222222222222,
             "#7201a8"
            ],
            [
             0.3333333333333333,
             "#9c179e"
            ],
            [
             0.4444444444444444,
             "#bd3786"
            ],
            [
             0.5555555555555556,
             "#d8576b"
            ],
            [
             0.6666666666666666,
             "#ed7953"
            ],
            [
             0.7777777777777778,
             "#fb9f3a"
            ],
            [
             0.8888888888888888,
             "#fdca26"
            ],
            [
             1,
             "#f0f921"
            ]
           ],
           "sequentialminus": [
            [
             0,
             "#0d0887"
            ],
            [
             0.1111111111111111,
             "#46039f"
            ],
            [
             0.2222222222222222,
             "#7201a8"
            ],
            [
             0.3333333333333333,
             "#9c179e"
            ],
            [
             0.4444444444444444,
             "#bd3786"
            ],
            [
             0.5555555555555556,
             "#d8576b"
            ],
            [
             0.6666666666666666,
             "#ed7953"
            ],
            [
             0.7777777777777778,
             "#fb9f3a"
            ],
            [
             0.8888888888888888,
             "#fdca26"
            ],
            [
             1,
             "#f0f921"
            ]
           ]
          },
          "colorway": [
           "#636efa",
           "#EF553B",
           "#00cc96",
           "#ab63fa",
           "#FFA15A",
           "#19d3f3",
           "#FF6692",
           "#B6E880",
           "#FF97FF",
           "#FECB52"
          ],
          "font": {
           "color": "#2a3f5f"
          },
          "geo": {
           "bgcolor": "white",
           "lakecolor": "white",
           "landcolor": "#E5ECF6",
           "showlakes": true,
           "showland": true,
           "subunitcolor": "white"
          },
          "hoverlabel": {
           "align": "left"
          },
          "hovermode": "closest",
          "mapbox": {
           "style": "light"
          },
          "paper_bgcolor": "white",
          "plot_bgcolor": "#E5ECF6",
          "polar": {
           "angularaxis": {
            "gridcolor": "white",
            "linecolor": "white",
            "ticks": ""
           },
           "bgcolor": "#E5ECF6",
           "radialaxis": {
            "gridcolor": "white",
            "linecolor": "white",
            "ticks": ""
           }
          },
          "scene": {
           "xaxis": {
            "backgroundcolor": "#E5ECF6",
            "gridcolor": "white",
            "gridwidth": 2,
            "linecolor": "white",
            "showbackground": true,
            "ticks": "",
            "zerolinecolor": "white"
           },
           "yaxis": {
            "backgroundcolor": "#E5ECF6",
            "gridcolor": "white",
            "gridwidth": 2,
            "linecolor": "white",
            "showbackground": true,
            "ticks": "",
            "zerolinecolor": "white"
           },
           "zaxis": {
            "backgroundcolor": "#E5ECF6",
            "gridcolor": "white",
            "gridwidth": 2,
            "linecolor": "white",
            "showbackground": true,
            "ticks": "",
            "zerolinecolor": "white"
           }
          },
          "shapedefaults": {
           "line": {
            "color": "#2a3f5f"
           }
          },
          "ternary": {
           "aaxis": {
            "gridcolor": "white",
            "linecolor": "white",
            "ticks": ""
           },
           "baxis": {
            "gridcolor": "white",
            "linecolor": "white",
            "ticks": ""
           },
           "bgcolor": "#E5ECF6",
           "caxis": {
            "gridcolor": "white",
            "linecolor": "white",
            "ticks": ""
           }
          },
          "title": {
           "x": 0.05
          },
          "xaxis": {
           "automargin": true,
           "gridcolor": "white",
           "linecolor": "white",
           "ticks": "",
           "title": {
            "standoff": 15
           },
           "zerolinecolor": "white",
           "zerolinewidth": 2
          },
          "yaxis": {
           "automargin": true,
           "gridcolor": "white",
           "linecolor": "white",
           "ticks": "",
           "title": {
            "standoff": 15
           },
           "zerolinecolor": "white",
           "zerolinewidth": 2
          }
         }
        },
        "title": {
         "text": "Gender Count Per School Outcome"
        },
        "xaxis": {
         "anchor": "y",
         "domain": [
          0,
          1
         ],
         "title": {
          "text": "Target"
         }
        },
        "yaxis": {
         "anchor": "x",
         "domain": [
          0,
          1
         ],
         "title": {
          "text": "Counts"
         }
        }
       }
      },
      "text/html": [
       "<div>                            <div id=\"11867532-5f2c-49fc-a2c3-553c05cd200b\" class=\"plotly-graph-div\" style=\"height:400px; width:100%;\"></div>            <script type=\"text/javascript\">                require([\"plotly\"], function(Plotly) {                    window.PLOTLYENV=window.PLOTLYENV || {};                                    if (document.getElementById(\"11867532-5f2c-49fc-a2c3-553c05cd200b\")) {                    Plotly.newPlot(                        \"11867532-5f2c-49fc-a2c3-553c05cd200b\",                        [{\"alignmentgroup\":\"True\",\"hovertemplate\":\"variable=Female<br>Target=%{x}<br>Counts=%{y}<extra></extra>\",\"legendgroup\":\"Female\",\"marker\":{\"color\":\"rgb(136, 204, 238)\",\"pattern\":{\"shape\":\"\"}},\"name\":\"Female\",\"offsetgroup\":\"Female\",\"orientation\":\"v\",\"showlegend\":true,\"textposition\":\"auto\",\"x\":[\"Graduate\",\"Dropout\",\"Enrolled\"],\"xaxis\":\"x\",\"y\":[720,487,1661],\"yaxis\":\"y\",\"type\":\"bar\"},{\"alignmentgroup\":\"True\",\"hovertemplate\":\"variable=Male<br>Target=%{x}<br>Counts=%{y}<extra></extra>\",\"legendgroup\":\"Male\",\"marker\":{\"color\":\"rgb(204, 102, 119)\",\"pattern\":{\"shape\":\"\"}},\"name\":\"Male\",\"offsetgroup\":\"Male\",\"orientation\":\"v\",\"showlegend\":true,\"textposition\":\"auto\",\"x\":[\"Graduate\",\"Dropout\",\"Enrolled\"],\"xaxis\":\"x\",\"y\":[701,307,548],\"yaxis\":\"y\",\"type\":\"bar\"}],                        {\"template\":{\"data\":{\"histogram2dcontour\":[{\"type\":\"histogram2dcontour\",\"colorbar\":{\"outlinewidth\":0,\"ticks\":\"\"},\"colorscale\":[[0.0,\"#0d0887\"],[0.1111111111111111,\"#46039f\"],[0.2222222222222222,\"#7201a8\"],[0.3333333333333333,\"#9c179e\"],[0.4444444444444444,\"#bd3786\"],[0.5555555555555556,\"#d8576b\"],[0.6666666666666666,\"#ed7953\"],[0.7777777777777778,\"#fb9f3a\"],[0.8888888888888888,\"#fdca26\"],[1.0,\"#f0f921\"]]}],\"choropleth\":[{\"type\":\"choropleth\",\"colorbar\":{\"outlinewidth\":0,\"ticks\":\"\"}}],\"histogram2d\":[{\"type\":\"histogram2d\",\"colorbar\":{\"outlinewidth\":0,\"ticks\":\"\"},\"colorscale\":[[0.0,\"#0d0887\"],[0.1111111111111111,\"#46039f\"],[0.2222222222222222,\"#7201a8\"],[0.3333333333333333,\"#9c179e\"],[0.4444444444444444,\"#bd3786\"],[0.5555555555555556,\"#d8576b\"],[0.6666666666666666,\"#ed7953\"],[0.7777777777777778,\"#fb9f3a\"],[0.8888888888888888,\"#fdca26\"],[1.0,\"#f0f921\"]]}],\"heatmap\":[{\"type\":\"heatmap\",\"colorbar\":{\"outlinewidth\":0,\"ticks\":\"\"},\"colorscale\":[[0.0,\"#0d0887\"],[0.1111111111111111,\"#46039f\"],[0.2222222222222222,\"#7201a8\"],[0.3333333333333333,\"#9c179e\"],[0.4444444444444444,\"#bd3786\"],[0.5555555555555556,\"#d8576b\"],[0.6666666666666666,\"#ed7953\"],[0.7777777777777778,\"#fb9f3a\"],[0.8888888888888888,\"#fdca26\"],[1.0,\"#f0f921\"]]}],\"heatmapgl\":[{\"type\":\"heatmapgl\",\"colorbar\":{\"outlinewidth\":0,\"ticks\":\"\"},\"colorscale\":[[0.0,\"#0d0887\"],[0.1111111111111111,\"#46039f\"],[0.2222222222222222,\"#7201a8\"],[0.3333333333333333,\"#9c179e\"],[0.4444444444444444,\"#bd3786\"],[0.5555555555555556,\"#d8576b\"],[0.6666666666666666,\"#ed7953\"],[0.7777777777777778,\"#fb9f3a\"],[0.8888888888888888,\"#fdca26\"],[1.0,\"#f0f921\"]]}],\"contourcarpet\":[{\"type\":\"contourcarpet\",\"colorbar\":{\"outlinewidth\":0,\"ticks\":\"\"}}],\"contour\":[{\"type\":\"contour\",\"colorbar\":{\"outlinewidth\":0,\"ticks\":\"\"},\"colorscale\":[[0.0,\"#0d0887\"],[0.1111111111111111,\"#46039f\"],[0.2222222222222222,\"#7201a8\"],[0.3333333333333333,\"#9c179e\"],[0.4444444444444444,\"#bd3786\"],[0.5555555555555556,\"#d8576b\"],[0.6666666666666666,\"#ed7953\"],[0.7777777777777778,\"#fb9f3a\"],[0.8888888888888888,\"#fdca26\"],[1.0,\"#f0f921\"]]}],\"surface\":[{\"type\":\"surface\",\"colorbar\":{\"outlinewidth\":0,\"ticks\":\"\"},\"colorscale\":[[0.0,\"#0d0887\"],[0.1111111111111111,\"#46039f\"],[0.2222222222222222,\"#7201a8\"],[0.3333333333333333,\"#9c179e\"],[0.4444444444444444,\"#bd3786\"],[0.5555555555555556,\"#d8576b\"],[0.6666666666666666,\"#ed7953\"],[0.7777777777777778,\"#fb9f3a\"],[0.8888888888888888,\"#fdca26\"],[1.0,\"#f0f921\"]]}],\"mesh3d\":[{\"type\":\"mesh3d\",\"colorbar\":{\"outlinewidth\":0,\"ticks\":\"\"}}],\"scatter\":[{\"fillpattern\":{\"fillmode\":\"overlay\",\"size\":10,\"solidity\":0.2},\"type\":\"scatter\"}],\"parcoords\":[{\"type\":\"parcoords\",\"line\":{\"colorbar\":{\"outlinewidth\":0,\"ticks\":\"\"}}}],\"scatterpolargl\":[{\"type\":\"scatterpolargl\",\"marker\":{\"colorbar\":{\"outlinewidth\":0,\"ticks\":\"\"}}}],\"bar\":[{\"error_x\":{\"color\":\"#2a3f5f\"},\"error_y\":{\"color\":\"#2a3f5f\"},\"marker\":{\"line\":{\"color\":\"#E5ECF6\",\"width\":0.5},\"pattern\":{\"fillmode\":\"overlay\",\"size\":10,\"solidity\":0.2}},\"type\":\"bar\"}],\"scattergeo\":[{\"type\":\"scattergeo\",\"marker\":{\"colorbar\":{\"outlinewidth\":0,\"ticks\":\"\"}}}],\"scatterpolar\":[{\"type\":\"scatterpolar\",\"marker\":{\"colorbar\":{\"outlinewidth\":0,\"ticks\":\"\"}}}],\"histogram\":[{\"marker\":{\"pattern\":{\"fillmode\":\"overlay\",\"size\":10,\"solidity\":0.2}},\"type\":\"histogram\"}],\"scattergl\":[{\"type\":\"scattergl\",\"marker\":{\"colorbar\":{\"outlinewidth\":0,\"ticks\":\"\"}}}],\"scatter3d\":[{\"type\":\"scatter3d\",\"line\":{\"colorbar\":{\"outlinewidth\":0,\"ticks\":\"\"}},\"marker\":{\"colorbar\":{\"outlinewidth\":0,\"ticks\":\"\"}}}],\"scattermapbox\":[{\"type\":\"scattermapbox\",\"marker\":{\"colorbar\":{\"outlinewidth\":0,\"ticks\":\"\"}}}],\"scatterternary\":[{\"type\":\"scatterternary\",\"marker\":{\"colorbar\":{\"outlinewidth\":0,\"ticks\":\"\"}}}],\"scattercarpet\":[{\"type\":\"scattercarpet\",\"marker\":{\"colorbar\":{\"outlinewidth\":0,\"ticks\":\"\"}}}],\"carpet\":[{\"aaxis\":{\"endlinecolor\":\"#2a3f5f\",\"gridcolor\":\"white\",\"linecolor\":\"white\",\"minorgridcolor\":\"white\",\"startlinecolor\":\"#2a3f5f\"},\"baxis\":{\"endlinecolor\":\"#2a3f5f\",\"gridcolor\":\"white\",\"linecolor\":\"white\",\"minorgridcolor\":\"white\",\"startlinecolor\":\"#2a3f5f\"},\"type\":\"carpet\"}],\"table\":[{\"cells\":{\"fill\":{\"color\":\"#EBF0F8\"},\"line\":{\"color\":\"white\"}},\"header\":{\"fill\":{\"color\":\"#C8D4E3\"},\"line\":{\"color\":\"white\"}},\"type\":\"table\"}],\"barpolar\":[{\"marker\":{\"line\":{\"color\":\"#E5ECF6\",\"width\":0.5},\"pattern\":{\"fillmode\":\"overlay\",\"size\":10,\"solidity\":0.2}},\"type\":\"barpolar\"}],\"pie\":[{\"automargin\":true,\"type\":\"pie\"}]},\"layout\":{\"autotypenumbers\":\"strict\",\"colorway\":[\"#636efa\",\"#EF553B\",\"#00cc96\",\"#ab63fa\",\"#FFA15A\",\"#19d3f3\",\"#FF6692\",\"#B6E880\",\"#FF97FF\",\"#FECB52\"],\"font\":{\"color\":\"#2a3f5f\"},\"hovermode\":\"closest\",\"hoverlabel\":{\"align\":\"left\"},\"paper_bgcolor\":\"white\",\"plot_bgcolor\":\"#E5ECF6\",\"polar\":{\"bgcolor\":\"#E5ECF6\",\"angularaxis\":{\"gridcolor\":\"white\",\"linecolor\":\"white\",\"ticks\":\"\"},\"radialaxis\":{\"gridcolor\":\"white\",\"linecolor\":\"white\",\"ticks\":\"\"}},\"ternary\":{\"bgcolor\":\"#E5ECF6\",\"aaxis\":{\"gridcolor\":\"white\",\"linecolor\":\"white\",\"ticks\":\"\"},\"baxis\":{\"gridcolor\":\"white\",\"linecolor\":\"white\",\"ticks\":\"\"},\"caxis\":{\"gridcolor\":\"white\",\"linecolor\":\"white\",\"ticks\":\"\"}},\"coloraxis\":{\"colorbar\":{\"outlinewidth\":0,\"ticks\":\"\"}},\"colorscale\":{\"sequential\":[[0.0,\"#0d0887\"],[0.1111111111111111,\"#46039f\"],[0.2222222222222222,\"#7201a8\"],[0.3333333333333333,\"#9c179e\"],[0.4444444444444444,\"#bd3786\"],[0.5555555555555556,\"#d8576b\"],[0.6666666666666666,\"#ed7953\"],[0.7777777777777778,\"#fb9f3a\"],[0.8888888888888888,\"#fdca26\"],[1.0,\"#f0f921\"]],\"sequentialminus\":[[0.0,\"#0d0887\"],[0.1111111111111111,\"#46039f\"],[0.2222222222222222,\"#7201a8\"],[0.3333333333333333,\"#9c179e\"],[0.4444444444444444,\"#bd3786\"],[0.5555555555555556,\"#d8576b\"],[0.6666666666666666,\"#ed7953\"],[0.7777777777777778,\"#fb9f3a\"],[0.8888888888888888,\"#fdca26\"],[1.0,\"#f0f921\"]],\"diverging\":[[0,\"#8e0152\"],[0.1,\"#c51b7d\"],[0.2,\"#de77ae\"],[0.3,\"#f1b6da\"],[0.4,\"#fde0ef\"],[0.5,\"#f7f7f7\"],[0.6,\"#e6f5d0\"],[0.7,\"#b8e186\"],[0.8,\"#7fbc41\"],[0.9,\"#4d9221\"],[1,\"#276419\"]]},\"xaxis\":{\"gridcolor\":\"white\",\"linecolor\":\"white\",\"ticks\":\"\",\"title\":{\"standoff\":15},\"zerolinecolor\":\"white\",\"automargin\":true,\"zerolinewidth\":2},\"yaxis\":{\"gridcolor\":\"white\",\"linecolor\":\"white\",\"ticks\":\"\",\"title\":{\"standoff\":15},\"zerolinecolor\":\"white\",\"automargin\":true,\"zerolinewidth\":2},\"scene\":{\"xaxis\":{\"backgroundcolor\":\"#E5ECF6\",\"gridcolor\":\"white\",\"linecolor\":\"white\",\"showbackground\":true,\"ticks\":\"\",\"zerolinecolor\":\"white\",\"gridwidth\":2},\"yaxis\":{\"backgroundcolor\":\"#E5ECF6\",\"gridcolor\":\"white\",\"linecolor\":\"white\",\"showbackground\":true,\"ticks\":\"\",\"zerolinecolor\":\"white\",\"gridwidth\":2},\"zaxis\":{\"backgroundcolor\":\"#E5ECF6\",\"gridcolor\":\"white\",\"linecolor\":\"white\",\"showbackground\":true,\"ticks\":\"\",\"zerolinecolor\":\"white\",\"gridwidth\":2}},\"shapedefaults\":{\"line\":{\"color\":\"#2a3f5f\"}},\"annotationdefaults\":{\"arrowcolor\":\"#2a3f5f\",\"arrowhead\":0,\"arrowwidth\":1},\"geo\":{\"bgcolor\":\"white\",\"landcolor\":\"#E5ECF6\",\"subunitcolor\":\"white\",\"showland\":true,\"showlakes\":true,\"lakecolor\":\"white\"},\"title\":{\"x\":0.05},\"mapbox\":{\"style\":\"light\"}}},\"xaxis\":{\"anchor\":\"y\",\"domain\":[0.0,1.0],\"title\":{\"text\":\"Target\"}},\"yaxis\":{\"anchor\":\"x\",\"domain\":[0.0,1.0],\"title\":{\"text\":\"Counts\"}},\"legend\":{\"title\":{\"text\":\"variable\"},\"tracegroupgap\":0},\"title\":{\"text\":\"Gender Count Per School Outcome\"},\"barmode\":\"group\",\"height\":400},                        {\"responsive\": true}                    ).then(function(){\n",
       "                            \n",
       "var gd = document.getElementById('11867532-5f2c-49fc-a2c3-553c05cd200b');\n",
       "var x = new MutationObserver(function (mutations, observer) {{\n",
       "        var display = window.getComputedStyle(gd).display;\n",
       "        if (!display || display === 'none') {{\n",
       "            console.log([gd, 'removed!']);\n",
       "            Plotly.purge(gd);\n",
       "            observer.disconnect();\n",
       "        }}\n",
       "}});\n",
       "\n",
       "// Listen for the removal of the full notebook cells\n",
       "var notebookContainer = gd.closest('#notebook-container');\n",
       "if (notebookContainer) {{\n",
       "    x.observe(notebookContainer, {childList: true});\n",
       "}}\n",
       "\n",
       "// Listen for the clearing of the current output cell\n",
       "var outputEl = gd.closest('.output');\n",
       "if (outputEl) {{\n",
       "    x.observe(outputEl, {childList: true});\n",
       "}}\n",
       "\n",
       "                        })                };                });            </script>        </div>"
      ]
     },
     "metadata": {},
     "output_type": "display_data"
    }
   ],
   "source": [
    "#Creating chart to see which number of each gender for each outcome\n",
    "#Chart 3\n",
    "gr_chart_fig = px.bar(gender_target.T, x=[\"Graduate\", \"Dropout\", \"Enrolled\"], y=[\"Female\", \"Male\"], labels={'x':\"Target\", 'value': 'Counts'}, color_discrete_sequence=px.colors.qualitative.Safe , title=\"Gender Count Per School Outcome\", barmode='group',\n",
    "             height=400)\n",
    "gr_chart_fig.show()"
   ]
  },
  {
   "cell_type": "code",
   "execution_count": 470,
   "metadata": {},
   "outputs": [
    {
     "data": {
      "application/vnd.plotly.v1+json": {
       "config": {
        "plotlyServerURL": "https://plot.ly"
       },
       "data": [
        {
         "alignmentgroup": "True",
         "hovertemplate": "Target=Dropout<br>Debtor=%{x}<br>Counts=%{y}<extra></extra>",
         "legendgroup": "Dropout",
         "marker": {
          "color": "#636efa",
          "pattern": {
           "shape": ""
          }
         },
         "name": "Dropout",
         "offsetgroup": "Dropout",
         "orientation": "v",
         "showlegend": true,
         "textposition": "auto",
         "type": "bar",
         "x": [
          "No",
          "Yes"
         ],
         "xaxis": "x",
         "y": [
          1109,
          312
         ],
         "yaxis": "y"
        },
        {
         "alignmentgroup": "True",
         "hovertemplate": "Target=Enrolled<br>Debtor=%{x}<br>Counts=%{y}<extra></extra>",
         "legendgroup": "Enrolled",
         "marker": {
          "color": "#EF553B",
          "pattern": {
           "shape": ""
          }
         },
         "name": "Enrolled",
         "offsetgroup": "Enrolled",
         "orientation": "v",
         "showlegend": true,
         "textposition": "auto",
         "type": "bar",
         "x": [
          "No",
          "Yes"
         ],
         "xaxis": "x",
         "y": [
          704,
          90
         ],
         "yaxis": "y"
        },
        {
         "alignmentgroup": "True",
         "hovertemplate": "Target=Graduate<br>Debtor=%{x}<br>Counts=%{y}<extra></extra>",
         "legendgroup": "Graduate",
         "marker": {
          "color": "#00cc96",
          "pattern": {
           "shape": ""
          }
         },
         "name": "Graduate",
         "offsetgroup": "Graduate",
         "orientation": "v",
         "showlegend": true,
         "textposition": "auto",
         "type": "bar",
         "x": [
          "No",
          "Yes"
         ],
         "xaxis": "x",
         "y": [
          2108,
          101
         ],
         "yaxis": "y"
        }
       ],
       "layout": {
        "barmode": "relative",
        "legend": {
         "title": {
          "text": "Target"
         },
         "tracegroupgap": 0
        },
        "template": {
         "data": {
          "bar": [
           {
            "error_x": {
             "color": "#2a3f5f"
            },
            "error_y": {
             "color": "#2a3f5f"
            },
            "marker": {
             "line": {
              "color": "#E5ECF6",
              "width": 0.5
             },
             "pattern": {
              "fillmode": "overlay",
              "size": 10,
              "solidity": 0.2
             }
            },
            "type": "bar"
           }
          ],
          "barpolar": [
           {
            "marker": {
             "line": {
              "color": "#E5ECF6",
              "width": 0.5
             },
             "pattern": {
              "fillmode": "overlay",
              "size": 10,
              "solidity": 0.2
             }
            },
            "type": "barpolar"
           }
          ],
          "carpet": [
           {
            "aaxis": {
             "endlinecolor": "#2a3f5f",
             "gridcolor": "white",
             "linecolor": "white",
             "minorgridcolor": "white",
             "startlinecolor": "#2a3f5f"
            },
            "baxis": {
             "endlinecolor": "#2a3f5f",
             "gridcolor": "white",
             "linecolor": "white",
             "minorgridcolor": "white",
             "startlinecolor": "#2a3f5f"
            },
            "type": "carpet"
           }
          ],
          "choropleth": [
           {
            "colorbar": {
             "outlinewidth": 0,
             "ticks": ""
            },
            "type": "choropleth"
           }
          ],
          "contour": [
           {
            "colorbar": {
             "outlinewidth": 0,
             "ticks": ""
            },
            "colorscale": [
             [
              0,
              "#0d0887"
             ],
             [
              0.1111111111111111,
              "#46039f"
             ],
             [
              0.2222222222222222,
              "#7201a8"
             ],
             [
              0.3333333333333333,
              "#9c179e"
             ],
             [
              0.4444444444444444,
              "#bd3786"
             ],
             [
              0.5555555555555556,
              "#d8576b"
             ],
             [
              0.6666666666666666,
              "#ed7953"
             ],
             [
              0.7777777777777778,
              "#fb9f3a"
             ],
             [
              0.8888888888888888,
              "#fdca26"
             ],
             [
              1,
              "#f0f921"
             ]
            ],
            "type": "contour"
           }
          ],
          "contourcarpet": [
           {
            "colorbar": {
             "outlinewidth": 0,
             "ticks": ""
            },
            "type": "contourcarpet"
           }
          ],
          "heatmap": [
           {
            "colorbar": {
             "outlinewidth": 0,
             "ticks": ""
            },
            "colorscale": [
             [
              0,
              "#0d0887"
             ],
             [
              0.1111111111111111,
              "#46039f"
             ],
             [
              0.2222222222222222,
              "#7201a8"
             ],
             [
              0.3333333333333333,
              "#9c179e"
             ],
             [
              0.4444444444444444,
              "#bd3786"
             ],
             [
              0.5555555555555556,
              "#d8576b"
             ],
             [
              0.6666666666666666,
              "#ed7953"
             ],
             [
              0.7777777777777778,
              "#fb9f3a"
             ],
             [
              0.8888888888888888,
              "#fdca26"
             ],
             [
              1,
              "#f0f921"
             ]
            ],
            "type": "heatmap"
           }
          ],
          "heatmapgl": [
           {
            "colorbar": {
             "outlinewidth": 0,
             "ticks": ""
            },
            "colorscale": [
             [
              0,
              "#0d0887"
             ],
             [
              0.1111111111111111,
              "#46039f"
             ],
             [
              0.2222222222222222,
              "#7201a8"
             ],
             [
              0.3333333333333333,
              "#9c179e"
             ],
             [
              0.4444444444444444,
              "#bd3786"
             ],
             [
              0.5555555555555556,
              "#d8576b"
             ],
             [
              0.6666666666666666,
              "#ed7953"
             ],
             [
              0.7777777777777778,
              "#fb9f3a"
             ],
             [
              0.8888888888888888,
              "#fdca26"
             ],
             [
              1,
              "#f0f921"
             ]
            ],
            "type": "heatmapgl"
           }
          ],
          "histogram": [
           {
            "marker": {
             "pattern": {
              "fillmode": "overlay",
              "size": 10,
              "solidity": 0.2
             }
            },
            "type": "histogram"
           }
          ],
          "histogram2d": [
           {
            "colorbar": {
             "outlinewidth": 0,
             "ticks": ""
            },
            "colorscale": [
             [
              0,
              "#0d0887"
             ],
             [
              0.1111111111111111,
              "#46039f"
             ],
             [
              0.2222222222222222,
              "#7201a8"
             ],
             [
              0.3333333333333333,
              "#9c179e"
             ],
             [
              0.4444444444444444,
              "#bd3786"
             ],
             [
              0.5555555555555556,
              "#d8576b"
             ],
             [
              0.6666666666666666,
              "#ed7953"
             ],
             [
              0.7777777777777778,
              "#fb9f3a"
             ],
             [
              0.8888888888888888,
              "#fdca26"
             ],
             [
              1,
              "#f0f921"
             ]
            ],
            "type": "histogram2d"
           }
          ],
          "histogram2dcontour": [
           {
            "colorbar": {
             "outlinewidth": 0,
             "ticks": ""
            },
            "colorscale": [
             [
              0,
              "#0d0887"
             ],
             [
              0.1111111111111111,
              "#46039f"
             ],
             [
              0.2222222222222222,
              "#7201a8"
             ],
             [
              0.3333333333333333,
              "#9c179e"
             ],
             [
              0.4444444444444444,
              "#bd3786"
             ],
             [
              0.5555555555555556,
              "#d8576b"
             ],
             [
              0.6666666666666666,
              "#ed7953"
             ],
             [
              0.7777777777777778,
              "#fb9f3a"
             ],
             [
              0.8888888888888888,
              "#fdca26"
             ],
             [
              1,
              "#f0f921"
             ]
            ],
            "type": "histogram2dcontour"
           }
          ],
          "mesh3d": [
           {
            "colorbar": {
             "outlinewidth": 0,
             "ticks": ""
            },
            "type": "mesh3d"
           }
          ],
          "parcoords": [
           {
            "line": {
             "colorbar": {
              "outlinewidth": 0,
              "ticks": ""
             }
            },
            "type": "parcoords"
           }
          ],
          "pie": [
           {
            "automargin": true,
            "type": "pie"
           }
          ],
          "scatter": [
           {
            "fillpattern": {
             "fillmode": "overlay",
             "size": 10,
             "solidity": 0.2
            },
            "type": "scatter"
           }
          ],
          "scatter3d": [
           {
            "line": {
             "colorbar": {
              "outlinewidth": 0,
              "ticks": ""
             }
            },
            "marker": {
             "colorbar": {
              "outlinewidth": 0,
              "ticks": ""
             }
            },
            "type": "scatter3d"
           }
          ],
          "scattercarpet": [
           {
            "marker": {
             "colorbar": {
              "outlinewidth": 0,
              "ticks": ""
             }
            },
            "type": "scattercarpet"
           }
          ],
          "scattergeo": [
           {
            "marker": {
             "colorbar": {
              "outlinewidth": 0,
              "ticks": ""
             }
            },
            "type": "scattergeo"
           }
          ],
          "scattergl": [
           {
            "marker": {
             "colorbar": {
              "outlinewidth": 0,
              "ticks": ""
             }
            },
            "type": "scattergl"
           }
          ],
          "scattermapbox": [
           {
            "marker": {
             "colorbar": {
              "outlinewidth": 0,
              "ticks": ""
             }
            },
            "type": "scattermapbox"
           }
          ],
          "scatterpolar": [
           {
            "marker": {
             "colorbar": {
              "outlinewidth": 0,
              "ticks": ""
             }
            },
            "type": "scatterpolar"
           }
          ],
          "scatterpolargl": [
           {
            "marker": {
             "colorbar": {
              "outlinewidth": 0,
              "ticks": ""
             }
            },
            "type": "scatterpolargl"
           }
          ],
          "scatterternary": [
           {
            "marker": {
             "colorbar": {
              "outlinewidth": 0,
              "ticks": ""
             }
            },
            "type": "scatterternary"
           }
          ],
          "surface": [
           {
            "colorbar": {
             "outlinewidth": 0,
             "ticks": ""
            },
            "colorscale": [
             [
              0,
              "#0d0887"
             ],
             [
              0.1111111111111111,
              "#46039f"
             ],
             [
              0.2222222222222222,
              "#7201a8"
             ],
             [
              0.3333333333333333,
              "#9c179e"
             ],
             [
              0.4444444444444444,
              "#bd3786"
             ],
             [
              0.5555555555555556,
              "#d8576b"
             ],
             [
              0.6666666666666666,
              "#ed7953"
             ],
             [
              0.7777777777777778,
              "#fb9f3a"
             ],
             [
              0.8888888888888888,
              "#fdca26"
             ],
             [
              1,
              "#f0f921"
             ]
            ],
            "type": "surface"
           }
          ],
          "table": [
           {
            "cells": {
             "fill": {
              "color": "#EBF0F8"
             },
             "line": {
              "color": "white"
             }
            },
            "header": {
             "fill": {
              "color": "#C8D4E3"
             },
             "line": {
              "color": "white"
             }
            },
            "type": "table"
           }
          ]
         },
         "layout": {
          "annotationdefaults": {
           "arrowcolor": "#2a3f5f",
           "arrowhead": 0,
           "arrowwidth": 1
          },
          "autotypenumbers": "strict",
          "coloraxis": {
           "colorbar": {
            "outlinewidth": 0,
            "ticks": ""
           }
          },
          "colorscale": {
           "diverging": [
            [
             0,
             "#8e0152"
            ],
            [
             0.1,
             "#c51b7d"
            ],
            [
             0.2,
             "#de77ae"
            ],
            [
             0.3,
             "#f1b6da"
            ],
            [
             0.4,
             "#fde0ef"
            ],
            [
             0.5,
             "#f7f7f7"
            ],
            [
             0.6,
             "#e6f5d0"
            ],
            [
             0.7,
             "#b8e186"
            ],
            [
             0.8,
             "#7fbc41"
            ],
            [
             0.9,
             "#4d9221"
            ],
            [
             1,
             "#276419"
            ]
           ],
           "sequential": [
            [
             0,
             "#0d0887"
            ],
            [
             0.1111111111111111,
             "#46039f"
            ],
            [
             0.2222222222222222,
             "#7201a8"
            ],
            [
             0.3333333333333333,
             "#9c179e"
            ],
            [
             0.4444444444444444,
             "#bd3786"
            ],
            [
             0.5555555555555556,
             "#d8576b"
            ],
            [
             0.6666666666666666,
             "#ed7953"
            ],
            [
             0.7777777777777778,
             "#fb9f3a"
            ],
            [
             0.8888888888888888,
             "#fdca26"
            ],
            [
             1,
             "#f0f921"
            ]
           ],
           "sequentialminus": [
            [
             0,
             "#0d0887"
            ],
            [
             0.1111111111111111,
             "#46039f"
            ],
            [
             0.2222222222222222,
             "#7201a8"
            ],
            [
             0.3333333333333333,
             "#9c179e"
            ],
            [
             0.4444444444444444,
             "#bd3786"
            ],
            [
             0.5555555555555556,
             "#d8576b"
            ],
            [
             0.6666666666666666,
             "#ed7953"
            ],
            [
             0.7777777777777778,
             "#fb9f3a"
            ],
            [
             0.8888888888888888,
             "#fdca26"
            ],
            [
             1,
             "#f0f921"
            ]
           ]
          },
          "colorway": [
           "#636efa",
           "#EF553B",
           "#00cc96",
           "#ab63fa",
           "#FFA15A",
           "#19d3f3",
           "#FF6692",
           "#B6E880",
           "#FF97FF",
           "#FECB52"
          ],
          "font": {
           "color": "#2a3f5f"
          },
          "geo": {
           "bgcolor": "white",
           "lakecolor": "white",
           "landcolor": "#E5ECF6",
           "showlakes": true,
           "showland": true,
           "subunitcolor": "white"
          },
          "hoverlabel": {
           "align": "left"
          },
          "hovermode": "closest",
          "mapbox": {
           "style": "light"
          },
          "paper_bgcolor": "white",
          "plot_bgcolor": "#E5ECF6",
          "polar": {
           "angularaxis": {
            "gridcolor": "white",
            "linecolor": "white",
            "ticks": ""
           },
           "bgcolor": "#E5ECF6",
           "radialaxis": {
            "gridcolor": "white",
            "linecolor": "white",
            "ticks": ""
           }
          },
          "scene": {
           "xaxis": {
            "backgroundcolor": "#E5ECF6",
            "gridcolor": "white",
            "gridwidth": 2,
            "linecolor": "white",
            "showbackground": true,
            "ticks": "",
            "zerolinecolor": "white"
           },
           "yaxis": {
            "backgroundcolor": "#E5ECF6",
            "gridcolor": "white",
            "gridwidth": 2,
            "linecolor": "white",
            "showbackground": true,
            "ticks": "",
            "zerolinecolor": "white"
           },
           "zaxis": {
            "backgroundcolor": "#E5ECF6",
            "gridcolor": "white",
            "gridwidth": 2,
            "linecolor": "white",
            "showbackground": true,
            "ticks": "",
            "zerolinecolor": "white"
           }
          },
          "shapedefaults": {
           "line": {
            "color": "#2a3f5f"
           }
          },
          "ternary": {
           "aaxis": {
            "gridcolor": "white",
            "linecolor": "white",
            "ticks": ""
           },
           "baxis": {
            "gridcolor": "white",
            "linecolor": "white",
            "ticks": ""
           },
           "bgcolor": "#E5ECF6",
           "caxis": {
            "gridcolor": "white",
            "linecolor": "white",
            "ticks": ""
           }
          },
          "title": {
           "x": 0.05
          },
          "xaxis": {
           "automargin": true,
           "gridcolor": "white",
           "linecolor": "white",
           "ticks": "",
           "title": {
            "standoff": 15
           },
           "zerolinecolor": "white",
           "zerolinewidth": 2
          },
          "yaxis": {
           "automargin": true,
           "gridcolor": "white",
           "linecolor": "white",
           "ticks": "",
           "title": {
            "standoff": 15
           },
           "zerolinecolor": "white",
           "zerolinewidth": 2
          }
         }
        },
        "title": {
         "text": "Debt for Each School Outcome"
        },
        "xaxis": {
         "anchor": "y",
         "domain": [
          0,
          1
         ],
         "title": {
          "text": "Debtor"
         }
        },
        "yaxis": {
         "anchor": "x",
         "domain": [
          0,
          1
         ],
         "title": {
          "text": "Counts"
         }
        }
       }
      },
      "text/html": [
       "<div>                            <div id=\"54fc74c4-a1ce-41ee-9950-690179672cf9\" class=\"plotly-graph-div\" style=\"height:525px; width:100%;\"></div>            <script type=\"text/javascript\">                require([\"plotly\"], function(Plotly) {                    window.PLOTLYENV=window.PLOTLYENV || {};                                    if (document.getElementById(\"54fc74c4-a1ce-41ee-9950-690179672cf9\")) {                    Plotly.newPlot(                        \"54fc74c4-a1ce-41ee-9950-690179672cf9\",                        [{\"alignmentgroup\":\"True\",\"hovertemplate\":\"Target=Dropout<br>Debtor=%{x}<br>Counts=%{y}<extra></extra>\",\"legendgroup\":\"Dropout\",\"marker\":{\"color\":\"#636efa\",\"pattern\":{\"shape\":\"\"}},\"name\":\"Dropout\",\"offsetgroup\":\"Dropout\",\"orientation\":\"v\",\"showlegend\":true,\"textposition\":\"auto\",\"x\":[\"No\",\"Yes\"],\"xaxis\":\"x\",\"y\":[1109,312],\"yaxis\":\"y\",\"type\":\"bar\"},{\"alignmentgroup\":\"True\",\"hovertemplate\":\"Target=Enrolled<br>Debtor=%{x}<br>Counts=%{y}<extra></extra>\",\"legendgroup\":\"Enrolled\",\"marker\":{\"color\":\"#EF553B\",\"pattern\":{\"shape\":\"\"}},\"name\":\"Enrolled\",\"offsetgroup\":\"Enrolled\",\"orientation\":\"v\",\"showlegend\":true,\"textposition\":\"auto\",\"x\":[\"No\",\"Yes\"],\"xaxis\":\"x\",\"y\":[704,90],\"yaxis\":\"y\",\"type\":\"bar\"},{\"alignmentgroup\":\"True\",\"hovertemplate\":\"Target=Graduate<br>Debtor=%{x}<br>Counts=%{y}<extra></extra>\",\"legendgroup\":\"Graduate\",\"marker\":{\"color\":\"#00cc96\",\"pattern\":{\"shape\":\"\"}},\"name\":\"Graduate\",\"offsetgroup\":\"Graduate\",\"orientation\":\"v\",\"showlegend\":true,\"textposition\":\"auto\",\"x\":[\"No\",\"Yes\"],\"xaxis\":\"x\",\"y\":[2108,101],\"yaxis\":\"y\",\"type\":\"bar\"}],                        {\"template\":{\"data\":{\"histogram2dcontour\":[{\"type\":\"histogram2dcontour\",\"colorbar\":{\"outlinewidth\":0,\"ticks\":\"\"},\"colorscale\":[[0.0,\"#0d0887\"],[0.1111111111111111,\"#46039f\"],[0.2222222222222222,\"#7201a8\"],[0.3333333333333333,\"#9c179e\"],[0.4444444444444444,\"#bd3786\"],[0.5555555555555556,\"#d8576b\"],[0.6666666666666666,\"#ed7953\"],[0.7777777777777778,\"#fb9f3a\"],[0.8888888888888888,\"#fdca26\"],[1.0,\"#f0f921\"]]}],\"choropleth\":[{\"type\":\"choropleth\",\"colorbar\":{\"outlinewidth\":0,\"ticks\":\"\"}}],\"histogram2d\":[{\"type\":\"histogram2d\",\"colorbar\":{\"outlinewidth\":0,\"ticks\":\"\"},\"colorscale\":[[0.0,\"#0d0887\"],[0.1111111111111111,\"#46039f\"],[0.2222222222222222,\"#7201a8\"],[0.3333333333333333,\"#9c179e\"],[0.4444444444444444,\"#bd3786\"],[0.5555555555555556,\"#d8576b\"],[0.6666666666666666,\"#ed7953\"],[0.7777777777777778,\"#fb9f3a\"],[0.8888888888888888,\"#fdca26\"],[1.0,\"#f0f921\"]]}],\"heatmap\":[{\"type\":\"heatmap\",\"colorbar\":{\"outlinewidth\":0,\"ticks\":\"\"},\"colorscale\":[[0.0,\"#0d0887\"],[0.1111111111111111,\"#46039f\"],[0.2222222222222222,\"#7201a8\"],[0.3333333333333333,\"#9c179e\"],[0.4444444444444444,\"#bd3786\"],[0.5555555555555556,\"#d8576b\"],[0.6666666666666666,\"#ed7953\"],[0.7777777777777778,\"#fb9f3a\"],[0.8888888888888888,\"#fdca26\"],[1.0,\"#f0f921\"]]}],\"heatmapgl\":[{\"type\":\"heatmapgl\",\"colorbar\":{\"outlinewidth\":0,\"ticks\":\"\"},\"colorscale\":[[0.0,\"#0d0887\"],[0.1111111111111111,\"#46039f\"],[0.2222222222222222,\"#7201a8\"],[0.3333333333333333,\"#9c179e\"],[0.4444444444444444,\"#bd3786\"],[0.5555555555555556,\"#d8576b\"],[0.6666666666666666,\"#ed7953\"],[0.7777777777777778,\"#fb9f3a\"],[0.8888888888888888,\"#fdca26\"],[1.0,\"#f0f921\"]]}],\"contourcarpet\":[{\"type\":\"contourcarpet\",\"colorbar\":{\"outlinewidth\":0,\"ticks\":\"\"}}],\"contour\":[{\"type\":\"contour\",\"colorbar\":{\"outlinewidth\":0,\"ticks\":\"\"},\"colorscale\":[[0.0,\"#0d0887\"],[0.1111111111111111,\"#46039f\"],[0.2222222222222222,\"#7201a8\"],[0.3333333333333333,\"#9c179e\"],[0.4444444444444444,\"#bd3786\"],[0.5555555555555556,\"#d8576b\"],[0.6666666666666666,\"#ed7953\"],[0.7777777777777778,\"#fb9f3a\"],[0.8888888888888888,\"#fdca26\"],[1.0,\"#f0f921\"]]}],\"surface\":[{\"type\":\"surface\",\"colorbar\":{\"outlinewidth\":0,\"ticks\":\"\"},\"colorscale\":[[0.0,\"#0d0887\"],[0.1111111111111111,\"#46039f\"],[0.2222222222222222,\"#7201a8\"],[0.3333333333333333,\"#9c179e\"],[0.4444444444444444,\"#bd3786\"],[0.5555555555555556,\"#d8576b\"],[0.6666666666666666,\"#ed7953\"],[0.7777777777777778,\"#fb9f3a\"],[0.8888888888888888,\"#fdca26\"],[1.0,\"#f0f921\"]]}],\"mesh3d\":[{\"type\":\"mesh3d\",\"colorbar\":{\"outlinewidth\":0,\"ticks\":\"\"}}],\"scatter\":[{\"fillpattern\":{\"fillmode\":\"overlay\",\"size\":10,\"solidity\":0.2},\"type\":\"scatter\"}],\"parcoords\":[{\"type\":\"parcoords\",\"line\":{\"colorbar\":{\"outlinewidth\":0,\"ticks\":\"\"}}}],\"scatterpolargl\":[{\"type\":\"scatterpolargl\",\"marker\":{\"colorbar\":{\"outlinewidth\":0,\"ticks\":\"\"}}}],\"bar\":[{\"error_x\":{\"color\":\"#2a3f5f\"},\"error_y\":{\"color\":\"#2a3f5f\"},\"marker\":{\"line\":{\"color\":\"#E5ECF6\",\"width\":0.5},\"pattern\":{\"fillmode\":\"overlay\",\"size\":10,\"solidity\":0.2}},\"type\":\"bar\"}],\"scattergeo\":[{\"type\":\"scattergeo\",\"marker\":{\"colorbar\":{\"outlinewidth\":0,\"ticks\":\"\"}}}],\"scatterpolar\":[{\"type\":\"scatterpolar\",\"marker\":{\"colorbar\":{\"outlinewidth\":0,\"ticks\":\"\"}}}],\"histogram\":[{\"marker\":{\"pattern\":{\"fillmode\":\"overlay\",\"size\":10,\"solidity\":0.2}},\"type\":\"histogram\"}],\"scattergl\":[{\"type\":\"scattergl\",\"marker\":{\"colorbar\":{\"outlinewidth\":0,\"ticks\":\"\"}}}],\"scatter3d\":[{\"type\":\"scatter3d\",\"line\":{\"colorbar\":{\"outlinewidth\":0,\"ticks\":\"\"}},\"marker\":{\"colorbar\":{\"outlinewidth\":0,\"ticks\":\"\"}}}],\"scattermapbox\":[{\"type\":\"scattermapbox\",\"marker\":{\"colorbar\":{\"outlinewidth\":0,\"ticks\":\"\"}}}],\"scatterternary\":[{\"type\":\"scatterternary\",\"marker\":{\"colorbar\":{\"outlinewidth\":0,\"ticks\":\"\"}}}],\"scattercarpet\":[{\"type\":\"scattercarpet\",\"marker\":{\"colorbar\":{\"outlinewidth\":0,\"ticks\":\"\"}}}],\"carpet\":[{\"aaxis\":{\"endlinecolor\":\"#2a3f5f\",\"gridcolor\":\"white\",\"linecolor\":\"white\",\"minorgridcolor\":\"white\",\"startlinecolor\":\"#2a3f5f\"},\"baxis\":{\"endlinecolor\":\"#2a3f5f\",\"gridcolor\":\"white\",\"linecolor\":\"white\",\"minorgridcolor\":\"white\",\"startlinecolor\":\"#2a3f5f\"},\"type\":\"carpet\"}],\"table\":[{\"cells\":{\"fill\":{\"color\":\"#EBF0F8\"},\"line\":{\"color\":\"white\"}},\"header\":{\"fill\":{\"color\":\"#C8D4E3\"},\"line\":{\"color\":\"white\"}},\"type\":\"table\"}],\"barpolar\":[{\"marker\":{\"line\":{\"color\":\"#E5ECF6\",\"width\":0.5},\"pattern\":{\"fillmode\":\"overlay\",\"size\":10,\"solidity\":0.2}},\"type\":\"barpolar\"}],\"pie\":[{\"automargin\":true,\"type\":\"pie\"}]},\"layout\":{\"autotypenumbers\":\"strict\",\"colorway\":[\"#636efa\",\"#EF553B\",\"#00cc96\",\"#ab63fa\",\"#FFA15A\",\"#19d3f3\",\"#FF6692\",\"#B6E880\",\"#FF97FF\",\"#FECB52\"],\"font\":{\"color\":\"#2a3f5f\"},\"hovermode\":\"closest\",\"hoverlabel\":{\"align\":\"left\"},\"paper_bgcolor\":\"white\",\"plot_bgcolor\":\"#E5ECF6\",\"polar\":{\"bgcolor\":\"#E5ECF6\",\"angularaxis\":{\"gridcolor\":\"white\",\"linecolor\":\"white\",\"ticks\":\"\"},\"radialaxis\":{\"gridcolor\":\"white\",\"linecolor\":\"white\",\"ticks\":\"\"}},\"ternary\":{\"bgcolor\":\"#E5ECF6\",\"aaxis\":{\"gridcolor\":\"white\",\"linecolor\":\"white\",\"ticks\":\"\"},\"baxis\":{\"gridcolor\":\"white\",\"linecolor\":\"white\",\"ticks\":\"\"},\"caxis\":{\"gridcolor\":\"white\",\"linecolor\":\"white\",\"ticks\":\"\"}},\"coloraxis\":{\"colorbar\":{\"outlinewidth\":0,\"ticks\":\"\"}},\"colorscale\":{\"sequential\":[[0.0,\"#0d0887\"],[0.1111111111111111,\"#46039f\"],[0.2222222222222222,\"#7201a8\"],[0.3333333333333333,\"#9c179e\"],[0.4444444444444444,\"#bd3786\"],[0.5555555555555556,\"#d8576b\"],[0.6666666666666666,\"#ed7953\"],[0.7777777777777778,\"#fb9f3a\"],[0.8888888888888888,\"#fdca26\"],[1.0,\"#f0f921\"]],\"sequentialminus\":[[0.0,\"#0d0887\"],[0.1111111111111111,\"#46039f\"],[0.2222222222222222,\"#7201a8\"],[0.3333333333333333,\"#9c179e\"],[0.4444444444444444,\"#bd3786\"],[0.5555555555555556,\"#d8576b\"],[0.6666666666666666,\"#ed7953\"],[0.7777777777777778,\"#fb9f3a\"],[0.8888888888888888,\"#fdca26\"],[1.0,\"#f0f921\"]],\"diverging\":[[0,\"#8e0152\"],[0.1,\"#c51b7d\"],[0.2,\"#de77ae\"],[0.3,\"#f1b6da\"],[0.4,\"#fde0ef\"],[0.5,\"#f7f7f7\"],[0.6,\"#e6f5d0\"],[0.7,\"#b8e186\"],[0.8,\"#7fbc41\"],[0.9,\"#4d9221\"],[1,\"#276419\"]]},\"xaxis\":{\"gridcolor\":\"white\",\"linecolor\":\"white\",\"ticks\":\"\",\"title\":{\"standoff\":15},\"zerolinecolor\":\"white\",\"automargin\":true,\"zerolinewidth\":2},\"yaxis\":{\"gridcolor\":\"white\",\"linecolor\":\"white\",\"ticks\":\"\",\"title\":{\"standoff\":15},\"zerolinecolor\":\"white\",\"automargin\":true,\"zerolinewidth\":2},\"scene\":{\"xaxis\":{\"backgroundcolor\":\"#E5ECF6\",\"gridcolor\":\"white\",\"linecolor\":\"white\",\"showbackground\":true,\"ticks\":\"\",\"zerolinecolor\":\"white\",\"gridwidth\":2},\"yaxis\":{\"backgroundcolor\":\"#E5ECF6\",\"gridcolor\":\"white\",\"linecolor\":\"white\",\"showbackground\":true,\"ticks\":\"\",\"zerolinecolor\":\"white\",\"gridwidth\":2},\"zaxis\":{\"backgroundcolor\":\"#E5ECF6\",\"gridcolor\":\"white\",\"linecolor\":\"white\",\"showbackground\":true,\"ticks\":\"\",\"zerolinecolor\":\"white\",\"gridwidth\":2}},\"shapedefaults\":{\"line\":{\"color\":\"#2a3f5f\"}},\"annotationdefaults\":{\"arrowcolor\":\"#2a3f5f\",\"arrowhead\":0,\"arrowwidth\":1},\"geo\":{\"bgcolor\":\"white\",\"landcolor\":\"#E5ECF6\",\"subunitcolor\":\"white\",\"showland\":true,\"showlakes\":true,\"lakecolor\":\"white\"},\"title\":{\"x\":0.05},\"mapbox\":{\"style\":\"light\"}}},\"xaxis\":{\"anchor\":\"y\",\"domain\":[0.0,1.0],\"title\":{\"text\":\"Debtor\"}},\"yaxis\":{\"anchor\":\"x\",\"domain\":[0.0,1.0],\"title\":{\"text\":\"Counts\"}},\"legend\":{\"title\":{\"text\":\"Target\"},\"tracegroupgap\":0},\"title\":{\"text\":\"Debt for Each School Outcome\"},\"barmode\":\"relative\"},                        {\"responsive\": true}                    ).then(function(){\n",
       "                            \n",
       "var gd = document.getElementById('54fc74c4-a1ce-41ee-9950-690179672cf9');\n",
       "var x = new MutationObserver(function (mutations, observer) {{\n",
       "        var display = window.getComputedStyle(gd).display;\n",
       "        if (!display || display === 'none') {{\n",
       "            console.log([gd, 'removed!']);\n",
       "            Plotly.purge(gd);\n",
       "            observer.disconnect();\n",
       "        }}\n",
       "}});\n",
       "\n",
       "// Listen for the removal of the full notebook cells\n",
       "var notebookContainer = gd.closest('#notebook-container');\n",
       "if (notebookContainer) {{\n",
       "    x.observe(notebookContainer, {childList: true});\n",
       "}}\n",
       "\n",
       "// Listen for the clearing of the current output cell\n",
       "var outputEl = gd.closest('.output');\n",
       "if (outputEl) {{\n",
       "    x.observe(outputEl, {childList: true});\n",
       "}}\n",
       "\n",
       "                        })                };                });            </script>        </div>"
      ]
     },
     "metadata": {},
     "output_type": "display_data"
    },
    {
     "data": {
      "text/plain": [
       "<Figure size 640x480 with 0 Axes>"
      ]
     },
     "metadata": {},
     "output_type": "display_data"
    }
   ],
   "source": [
    "#Debt status for each target outcome\n",
    "#Chart 4\n",
    "debt = px.bar(debt5, labels={'x':\"Target\", 'value': 'Counts'}, title=\"Debt for Each School Outcome\", color_continuous_scale='bluered')\n",
    "debt.show()\n",
    "plt.savefig('stackedbar30.png')"
   ]
  },
  {
   "cell_type": "code",
   "execution_count": 455,
   "metadata": {},
   "outputs": [
    {
     "data": {
      "application/vnd.plotly.v1+json": {
       "config": {
        "plotlyServerURL": "https://plot.ly"
       },
       "data": [
        {
         "alignmentgroup": "True",
         "hovertemplate": "Marital status=Single<br>Target=%{x}<br>Counts=%{y}<extra></extra>",
         "legendgroup": "Single",
         "marker": {
          "color": "rgb(95, 70, 144)",
          "pattern": {
           "shape": ""
          }
         },
         "name": "Single",
         "offsetgroup": "Single",
         "orientation": "v",
         "showlegend": true,
         "textposition": "auto",
         "type": "bar",
         "x": [
          "Dropout",
          "Enrolled",
          "Graduate"
         ],
         "xaxis": "x",
         "y": [
          1184,
          720,
          2015
         ],
         "yaxis": "y"
        },
        {
         "alignmentgroup": "True",
         "hovertemplate": "Marital status=Married<br>Target=%{x}<br>Counts=%{y}<extra></extra>",
         "legendgroup": "Married",
         "marker": {
          "color": "rgb(29, 105, 150)",
          "pattern": {
           "shape": ""
          }
         },
         "name": "Married",
         "offsetgroup": "Married",
         "orientation": "v",
         "showlegend": true,
         "textposition": "auto",
         "type": "bar",
         "x": [
          "Dropout",
          "Enrolled",
          "Graduate"
         ],
         "xaxis": "x",
         "y": [
          179,
          52,
          148
         ],
         "yaxis": "y"
        },
        {
         "alignmentgroup": "True",
         "hovertemplate": "Marital status=Widower<br>Target=%{x}<br>Counts=%{y}<extra></extra>",
         "legendgroup": "Widower",
         "marker": {
          "color": "rgb(56, 166, 165)",
          "pattern": {
           "shape": ""
          }
         },
         "name": "Widower",
         "offsetgroup": "Widower",
         "orientation": "v",
         "showlegend": true,
         "textposition": "auto",
         "type": "bar",
         "x": [
          "Dropout",
          "Enrolled",
          "Graduate"
         ],
         "xaxis": "x",
         "y": [
          1,
          2,
          1
         ],
         "yaxis": "y"
        },
        {
         "alignmentgroup": "True",
         "hovertemplate": "Marital status=Divorced<br>Target=%{x}<br>Counts=%{y}<extra></extra>",
         "legendgroup": "Divorced",
         "marker": {
          "color": "rgb(15, 133, 84)",
          "pattern": {
           "shape": ""
          }
         },
         "name": "Divorced",
         "offsetgroup": "Divorced",
         "orientation": "v",
         "showlegend": true,
         "textposition": "auto",
         "type": "bar",
         "x": [
          "Dropout",
          "Enrolled",
          "Graduate"
         ],
         "xaxis": "x",
         "y": [
          42,
          16,
          33
         ],
         "yaxis": "y"
        },
        {
         "alignmentgroup": "True",
         "hovertemplate": "Marital status=Facto union<br>Target=%{x}<br>Counts=%{y}<extra></extra>",
         "legendgroup": "Facto union",
         "marker": {
          "color": "rgb(115, 175, 72)",
          "pattern": {
           "shape": ""
          }
         },
         "name": "Facto union",
         "offsetgroup": "Facto union",
         "orientation": "v",
         "showlegend": true,
         "textposition": "auto",
         "type": "bar",
         "x": [
          "Dropout",
          "Enrolled",
          "Graduate"
         ],
         "xaxis": "x",
         "y": [
          11,
          3,
          11
         ],
         "yaxis": "y"
        },
        {
         "alignmentgroup": "True",
         "hovertemplate": "Marital status=Legally separated<br>Target=%{x}<br>Counts=%{y}<extra></extra>",
         "legendgroup": "Legally separated",
         "marker": {
          "color": "rgb(237, 173, 8)",
          "pattern": {
           "shape": ""
          }
         },
         "name": "Legally separated",
         "offsetgroup": "Legally separated",
         "orientation": "v",
         "showlegend": true,
         "textposition": "auto",
         "type": "bar",
         "x": [
          "Dropout",
          "Enrolled",
          "Graduate"
         ],
         "xaxis": "x",
         "y": [
          4,
          1,
          1
         ],
         "yaxis": "y"
        }
       ],
       "layout": {
        "barmode": "relative",
        "legend": {
         "title": {
          "text": "Marital status"
         },
         "tracegroupgap": 0
        },
        "template": {
         "data": {
          "bar": [
           {
            "error_x": {
             "color": "#2a3f5f"
            },
            "error_y": {
             "color": "#2a3f5f"
            },
            "marker": {
             "line": {
              "color": "#E5ECF6",
              "width": 0.5
             },
             "pattern": {
              "fillmode": "overlay",
              "size": 10,
              "solidity": 0.2
             }
            },
            "type": "bar"
           }
          ],
          "barpolar": [
           {
            "marker": {
             "line": {
              "color": "#E5ECF6",
              "width": 0.5
             },
             "pattern": {
              "fillmode": "overlay",
              "size": 10,
              "solidity": 0.2
             }
            },
            "type": "barpolar"
           }
          ],
          "carpet": [
           {
            "aaxis": {
             "endlinecolor": "#2a3f5f",
             "gridcolor": "white",
             "linecolor": "white",
             "minorgridcolor": "white",
             "startlinecolor": "#2a3f5f"
            },
            "baxis": {
             "endlinecolor": "#2a3f5f",
             "gridcolor": "white",
             "linecolor": "white",
             "minorgridcolor": "white",
             "startlinecolor": "#2a3f5f"
            },
            "type": "carpet"
           }
          ],
          "choropleth": [
           {
            "colorbar": {
             "outlinewidth": 0,
             "ticks": ""
            },
            "type": "choropleth"
           }
          ],
          "contour": [
           {
            "colorbar": {
             "outlinewidth": 0,
             "ticks": ""
            },
            "colorscale": [
             [
              0,
              "#0d0887"
             ],
             [
              0.1111111111111111,
              "#46039f"
             ],
             [
              0.2222222222222222,
              "#7201a8"
             ],
             [
              0.3333333333333333,
              "#9c179e"
             ],
             [
              0.4444444444444444,
              "#bd3786"
             ],
             [
              0.5555555555555556,
              "#d8576b"
             ],
             [
              0.6666666666666666,
              "#ed7953"
             ],
             [
              0.7777777777777778,
              "#fb9f3a"
             ],
             [
              0.8888888888888888,
              "#fdca26"
             ],
             [
              1,
              "#f0f921"
             ]
            ],
            "type": "contour"
           }
          ],
          "contourcarpet": [
           {
            "colorbar": {
             "outlinewidth": 0,
             "ticks": ""
            },
            "type": "contourcarpet"
           }
          ],
          "heatmap": [
           {
            "colorbar": {
             "outlinewidth": 0,
             "ticks": ""
            },
            "colorscale": [
             [
              0,
              "#0d0887"
             ],
             [
              0.1111111111111111,
              "#46039f"
             ],
             [
              0.2222222222222222,
              "#7201a8"
             ],
             [
              0.3333333333333333,
              "#9c179e"
             ],
             [
              0.4444444444444444,
              "#bd3786"
             ],
             [
              0.5555555555555556,
              "#d8576b"
             ],
             [
              0.6666666666666666,
              "#ed7953"
             ],
             [
              0.7777777777777778,
              "#fb9f3a"
             ],
             [
              0.8888888888888888,
              "#fdca26"
             ],
             [
              1,
              "#f0f921"
             ]
            ],
            "type": "heatmap"
           }
          ],
          "heatmapgl": [
           {
            "colorbar": {
             "outlinewidth": 0,
             "ticks": ""
            },
            "colorscale": [
             [
              0,
              "#0d0887"
             ],
             [
              0.1111111111111111,
              "#46039f"
             ],
             [
              0.2222222222222222,
              "#7201a8"
             ],
             [
              0.3333333333333333,
              "#9c179e"
             ],
             [
              0.4444444444444444,
              "#bd3786"
             ],
             [
              0.5555555555555556,
              "#d8576b"
             ],
             [
              0.6666666666666666,
              "#ed7953"
             ],
             [
              0.7777777777777778,
              "#fb9f3a"
             ],
             [
              0.8888888888888888,
              "#fdca26"
             ],
             [
              1,
              "#f0f921"
             ]
            ],
            "type": "heatmapgl"
           }
          ],
          "histogram": [
           {
            "marker": {
             "pattern": {
              "fillmode": "overlay",
              "size": 10,
              "solidity": 0.2
             }
            },
            "type": "histogram"
           }
          ],
          "histogram2d": [
           {
            "colorbar": {
             "outlinewidth": 0,
             "ticks": ""
            },
            "colorscale": [
             [
              0,
              "#0d0887"
             ],
             [
              0.1111111111111111,
              "#46039f"
             ],
             [
              0.2222222222222222,
              "#7201a8"
             ],
             [
              0.3333333333333333,
              "#9c179e"
             ],
             [
              0.4444444444444444,
              "#bd3786"
             ],
             [
              0.5555555555555556,
              "#d8576b"
             ],
             [
              0.6666666666666666,
              "#ed7953"
             ],
             [
              0.7777777777777778,
              "#fb9f3a"
             ],
             [
              0.8888888888888888,
              "#fdca26"
             ],
             [
              1,
              "#f0f921"
             ]
            ],
            "type": "histogram2d"
           }
          ],
          "histogram2dcontour": [
           {
            "colorbar": {
             "outlinewidth": 0,
             "ticks": ""
            },
            "colorscale": [
             [
              0,
              "#0d0887"
             ],
             [
              0.1111111111111111,
              "#46039f"
             ],
             [
              0.2222222222222222,
              "#7201a8"
             ],
             [
              0.3333333333333333,
              "#9c179e"
             ],
             [
              0.4444444444444444,
              "#bd3786"
             ],
             [
              0.5555555555555556,
              "#d8576b"
             ],
             [
              0.6666666666666666,
              "#ed7953"
             ],
             [
              0.7777777777777778,
              "#fb9f3a"
             ],
             [
              0.8888888888888888,
              "#fdca26"
             ],
             [
              1,
              "#f0f921"
             ]
            ],
            "type": "histogram2dcontour"
           }
          ],
          "mesh3d": [
           {
            "colorbar": {
             "outlinewidth": 0,
             "ticks": ""
            },
            "type": "mesh3d"
           }
          ],
          "parcoords": [
           {
            "line": {
             "colorbar": {
              "outlinewidth": 0,
              "ticks": ""
             }
            },
            "type": "parcoords"
           }
          ],
          "pie": [
           {
            "automargin": true,
            "type": "pie"
           }
          ],
          "scatter": [
           {
            "fillpattern": {
             "fillmode": "overlay",
             "size": 10,
             "solidity": 0.2
            },
            "type": "scatter"
           }
          ],
          "scatter3d": [
           {
            "line": {
             "colorbar": {
              "outlinewidth": 0,
              "ticks": ""
             }
            },
            "marker": {
             "colorbar": {
              "outlinewidth": 0,
              "ticks": ""
             }
            },
            "type": "scatter3d"
           }
          ],
          "scattercarpet": [
           {
            "marker": {
             "colorbar": {
              "outlinewidth": 0,
              "ticks": ""
             }
            },
            "type": "scattercarpet"
           }
          ],
          "scattergeo": [
           {
            "marker": {
             "colorbar": {
              "outlinewidth": 0,
              "ticks": ""
             }
            },
            "type": "scattergeo"
           }
          ],
          "scattergl": [
           {
            "marker": {
             "colorbar": {
              "outlinewidth": 0,
              "ticks": ""
             }
            },
            "type": "scattergl"
           }
          ],
          "scattermapbox": [
           {
            "marker": {
             "colorbar": {
              "outlinewidth": 0,
              "ticks": ""
             }
            },
            "type": "scattermapbox"
           }
          ],
          "scatterpolar": [
           {
            "marker": {
             "colorbar": {
              "outlinewidth": 0,
              "ticks": ""
             }
            },
            "type": "scatterpolar"
           }
          ],
          "scatterpolargl": [
           {
            "marker": {
             "colorbar": {
              "outlinewidth": 0,
              "ticks": ""
             }
            },
            "type": "scatterpolargl"
           }
          ],
          "scatterternary": [
           {
            "marker": {
             "colorbar": {
              "outlinewidth": 0,
              "ticks": ""
             }
            },
            "type": "scatterternary"
           }
          ],
          "surface": [
           {
            "colorbar": {
             "outlinewidth": 0,
             "ticks": ""
            },
            "colorscale": [
             [
              0,
              "#0d0887"
             ],
             [
              0.1111111111111111,
              "#46039f"
             ],
             [
              0.2222222222222222,
              "#7201a8"
             ],
             [
              0.3333333333333333,
              "#9c179e"
             ],
             [
              0.4444444444444444,
              "#bd3786"
             ],
             [
              0.5555555555555556,
              "#d8576b"
             ],
             [
              0.6666666666666666,
              "#ed7953"
             ],
             [
              0.7777777777777778,
              "#fb9f3a"
             ],
             [
              0.8888888888888888,
              "#fdca26"
             ],
             [
              1,
              "#f0f921"
             ]
            ],
            "type": "surface"
           }
          ],
          "table": [
           {
            "cells": {
             "fill": {
              "color": "#EBF0F8"
             },
             "line": {
              "color": "white"
             }
            },
            "header": {
             "fill": {
              "color": "#C8D4E3"
             },
             "line": {
              "color": "white"
             }
            },
            "type": "table"
           }
          ]
         },
         "layout": {
          "annotationdefaults": {
           "arrowcolor": "#2a3f5f",
           "arrowhead": 0,
           "arrowwidth": 1
          },
          "autotypenumbers": "strict",
          "coloraxis": {
           "colorbar": {
            "outlinewidth": 0,
            "ticks": ""
           }
          },
          "colorscale": {
           "diverging": [
            [
             0,
             "#8e0152"
            ],
            [
             0.1,
             "#c51b7d"
            ],
            [
             0.2,
             "#de77ae"
            ],
            [
             0.3,
             "#f1b6da"
            ],
            [
             0.4,
             "#fde0ef"
            ],
            [
             0.5,
             "#f7f7f7"
            ],
            [
             0.6,
             "#e6f5d0"
            ],
            [
             0.7,
             "#b8e186"
            ],
            [
             0.8,
             "#7fbc41"
            ],
            [
             0.9,
             "#4d9221"
            ],
            [
             1,
             "#276419"
            ]
           ],
           "sequential": [
            [
             0,
             "#0d0887"
            ],
            [
             0.1111111111111111,
             "#46039f"
            ],
            [
             0.2222222222222222,
             "#7201a8"
            ],
            [
             0.3333333333333333,
             "#9c179e"
            ],
            [
             0.4444444444444444,
             "#bd3786"
            ],
            [
             0.5555555555555556,
             "#d8576b"
            ],
            [
             0.6666666666666666,
             "#ed7953"
            ],
            [
             0.7777777777777778,
             "#fb9f3a"
            ],
            [
             0.8888888888888888,
             "#fdca26"
            ],
            [
             1,
             "#f0f921"
            ]
           ],
           "sequentialminus": [
            [
             0,
             "#0d0887"
            ],
            [
             0.1111111111111111,
             "#46039f"
            ],
            [
             0.2222222222222222,
             "#7201a8"
            ],
            [
             0.3333333333333333,
             "#9c179e"
            ],
            [
             0.4444444444444444,
             "#bd3786"
            ],
            [
             0.5555555555555556,
             "#d8576b"
            ],
            [
             0.6666666666666666,
             "#ed7953"
            ],
            [
             0.7777777777777778,
             "#fb9f3a"
            ],
            [
             0.8888888888888888,
             "#fdca26"
            ],
            [
             1,
             "#f0f921"
            ]
           ]
          },
          "colorway": [
           "#636efa",
           "#EF553B",
           "#00cc96",
           "#ab63fa",
           "#FFA15A",
           "#19d3f3",
           "#FF6692",
           "#B6E880",
           "#FF97FF",
           "#FECB52"
          ],
          "font": {
           "color": "#2a3f5f"
          },
          "geo": {
           "bgcolor": "white",
           "lakecolor": "white",
           "landcolor": "#E5ECF6",
           "showlakes": true,
           "showland": true,
           "subunitcolor": "white"
          },
          "hoverlabel": {
           "align": "left"
          },
          "hovermode": "closest",
          "mapbox": {
           "style": "light"
          },
          "paper_bgcolor": "white",
          "plot_bgcolor": "#E5ECF6",
          "polar": {
           "angularaxis": {
            "gridcolor": "white",
            "linecolor": "white",
            "ticks": ""
           },
           "bgcolor": "#E5ECF6",
           "radialaxis": {
            "gridcolor": "white",
            "linecolor": "white",
            "ticks": ""
           }
          },
          "scene": {
           "xaxis": {
            "backgroundcolor": "#E5ECF6",
            "gridcolor": "white",
            "gridwidth": 2,
            "linecolor": "white",
            "showbackground": true,
            "ticks": "",
            "zerolinecolor": "white"
           },
           "yaxis": {
            "backgroundcolor": "#E5ECF6",
            "gridcolor": "white",
            "gridwidth": 2,
            "linecolor": "white",
            "showbackground": true,
            "ticks": "",
            "zerolinecolor": "white"
           },
           "zaxis": {
            "backgroundcolor": "#E5ECF6",
            "gridcolor": "white",
            "gridwidth": 2,
            "linecolor": "white",
            "showbackground": true,
            "ticks": "",
            "zerolinecolor": "white"
           }
          },
          "shapedefaults": {
           "line": {
            "color": "#2a3f5f"
           }
          },
          "ternary": {
           "aaxis": {
            "gridcolor": "white",
            "linecolor": "white",
            "ticks": ""
           },
           "baxis": {
            "gridcolor": "white",
            "linecolor": "white",
            "ticks": ""
           },
           "bgcolor": "#E5ECF6",
           "caxis": {
            "gridcolor": "white",
            "linecolor": "white",
            "ticks": ""
           }
          },
          "title": {
           "x": 0.05
          },
          "xaxis": {
           "automargin": true,
           "gridcolor": "white",
           "linecolor": "white",
           "ticks": "",
           "title": {
            "standoff": 15
           },
           "zerolinecolor": "white",
           "zerolinewidth": 2
          },
          "yaxis": {
           "automargin": true,
           "gridcolor": "white",
           "linecolor": "white",
           "ticks": "",
           "title": {
            "standoff": 15
           },
           "zerolinecolor": "white",
           "zerolinewidth": 2
          }
         }
        },
        "title": {
         "text": "Marital Status for Each School Outcome"
        },
        "xaxis": {
         "anchor": "y",
         "domain": [
          0,
          1
         ],
         "title": {
          "text": "Target"
         }
        },
        "yaxis": {
         "anchor": "x",
         "domain": [
          0,
          1
         ],
         "title": {
          "text": "Counts"
         }
        }
       }
      },
      "text/html": [
       "<div>                            <div id=\"09c59cbe-ed7c-4b09-9a81-c10f4798b633\" class=\"plotly-graph-div\" style=\"height:525px; width:100%;\"></div>            <script type=\"text/javascript\">                require([\"plotly\"], function(Plotly) {                    window.PLOTLYENV=window.PLOTLYENV || {};                                    if (document.getElementById(\"09c59cbe-ed7c-4b09-9a81-c10f4798b633\")) {                    Plotly.newPlot(                        \"09c59cbe-ed7c-4b09-9a81-c10f4798b633\",                        [{\"alignmentgroup\":\"True\",\"hovertemplate\":\"Marital status=Single<br>Target=%{x}<br>Counts=%{y}<extra></extra>\",\"legendgroup\":\"Single\",\"marker\":{\"color\":\"rgb(95, 70, 144)\",\"pattern\":{\"shape\":\"\"}},\"name\":\"Single\",\"offsetgroup\":\"Single\",\"orientation\":\"v\",\"showlegend\":true,\"textposition\":\"auto\",\"x\":[\"Dropout\",\"Enrolled\",\"Graduate\"],\"xaxis\":\"x\",\"y\":[1184,720,2015],\"yaxis\":\"y\",\"type\":\"bar\"},{\"alignmentgroup\":\"True\",\"hovertemplate\":\"Marital status=Married<br>Target=%{x}<br>Counts=%{y}<extra></extra>\",\"legendgroup\":\"Married\",\"marker\":{\"color\":\"rgb(29, 105, 150)\",\"pattern\":{\"shape\":\"\"}},\"name\":\"Married\",\"offsetgroup\":\"Married\",\"orientation\":\"v\",\"showlegend\":true,\"textposition\":\"auto\",\"x\":[\"Dropout\",\"Enrolled\",\"Graduate\"],\"xaxis\":\"x\",\"y\":[179,52,148],\"yaxis\":\"y\",\"type\":\"bar\"},{\"alignmentgroup\":\"True\",\"hovertemplate\":\"Marital status=Widower<br>Target=%{x}<br>Counts=%{y}<extra></extra>\",\"legendgroup\":\"Widower\",\"marker\":{\"color\":\"rgb(56, 166, 165)\",\"pattern\":{\"shape\":\"\"}},\"name\":\"Widower\",\"offsetgroup\":\"Widower\",\"orientation\":\"v\",\"showlegend\":true,\"textposition\":\"auto\",\"x\":[\"Dropout\",\"Enrolled\",\"Graduate\"],\"xaxis\":\"x\",\"y\":[1,2,1],\"yaxis\":\"y\",\"type\":\"bar\"},{\"alignmentgroup\":\"True\",\"hovertemplate\":\"Marital status=Divorced<br>Target=%{x}<br>Counts=%{y}<extra></extra>\",\"legendgroup\":\"Divorced\",\"marker\":{\"color\":\"rgb(15, 133, 84)\",\"pattern\":{\"shape\":\"\"}},\"name\":\"Divorced\",\"offsetgroup\":\"Divorced\",\"orientation\":\"v\",\"showlegend\":true,\"textposition\":\"auto\",\"x\":[\"Dropout\",\"Enrolled\",\"Graduate\"],\"xaxis\":\"x\",\"y\":[42,16,33],\"yaxis\":\"y\",\"type\":\"bar\"},{\"alignmentgroup\":\"True\",\"hovertemplate\":\"Marital status=Facto union<br>Target=%{x}<br>Counts=%{y}<extra></extra>\",\"legendgroup\":\"Facto union\",\"marker\":{\"color\":\"rgb(115, 175, 72)\",\"pattern\":{\"shape\":\"\"}},\"name\":\"Facto union\",\"offsetgroup\":\"Facto union\",\"orientation\":\"v\",\"showlegend\":true,\"textposition\":\"auto\",\"x\":[\"Dropout\",\"Enrolled\",\"Graduate\"],\"xaxis\":\"x\",\"y\":[11,3,11],\"yaxis\":\"y\",\"type\":\"bar\"},{\"alignmentgroup\":\"True\",\"hovertemplate\":\"Marital status=Legally separated<br>Target=%{x}<br>Counts=%{y}<extra></extra>\",\"legendgroup\":\"Legally separated\",\"marker\":{\"color\":\"rgb(237, 173, 8)\",\"pattern\":{\"shape\":\"\"}},\"name\":\"Legally separated\",\"offsetgroup\":\"Legally separated\",\"orientation\":\"v\",\"showlegend\":true,\"textposition\":\"auto\",\"x\":[\"Dropout\",\"Enrolled\",\"Graduate\"],\"xaxis\":\"x\",\"y\":[4,1,1],\"yaxis\":\"y\",\"type\":\"bar\"}],                        {\"template\":{\"data\":{\"histogram2dcontour\":[{\"type\":\"histogram2dcontour\",\"colorbar\":{\"outlinewidth\":0,\"ticks\":\"\"},\"colorscale\":[[0.0,\"#0d0887\"],[0.1111111111111111,\"#46039f\"],[0.2222222222222222,\"#7201a8\"],[0.3333333333333333,\"#9c179e\"],[0.4444444444444444,\"#bd3786\"],[0.5555555555555556,\"#d8576b\"],[0.6666666666666666,\"#ed7953\"],[0.7777777777777778,\"#fb9f3a\"],[0.8888888888888888,\"#fdca26\"],[1.0,\"#f0f921\"]]}],\"choropleth\":[{\"type\":\"choropleth\",\"colorbar\":{\"outlinewidth\":0,\"ticks\":\"\"}}],\"histogram2d\":[{\"type\":\"histogram2d\",\"colorbar\":{\"outlinewidth\":0,\"ticks\":\"\"},\"colorscale\":[[0.0,\"#0d0887\"],[0.1111111111111111,\"#46039f\"],[0.2222222222222222,\"#7201a8\"],[0.3333333333333333,\"#9c179e\"],[0.4444444444444444,\"#bd3786\"],[0.5555555555555556,\"#d8576b\"],[0.6666666666666666,\"#ed7953\"],[0.7777777777777778,\"#fb9f3a\"],[0.8888888888888888,\"#fdca26\"],[1.0,\"#f0f921\"]]}],\"heatmap\":[{\"type\":\"heatmap\",\"colorbar\":{\"outlinewidth\":0,\"ticks\":\"\"},\"colorscale\":[[0.0,\"#0d0887\"],[0.1111111111111111,\"#46039f\"],[0.2222222222222222,\"#7201a8\"],[0.3333333333333333,\"#9c179e\"],[0.4444444444444444,\"#bd3786\"],[0.5555555555555556,\"#d8576b\"],[0.6666666666666666,\"#ed7953\"],[0.7777777777777778,\"#fb9f3a\"],[0.8888888888888888,\"#fdca26\"],[1.0,\"#f0f921\"]]}],\"heatmapgl\":[{\"type\":\"heatmapgl\",\"colorbar\":{\"outlinewidth\":0,\"ticks\":\"\"},\"colorscale\":[[0.0,\"#0d0887\"],[0.1111111111111111,\"#46039f\"],[0.2222222222222222,\"#7201a8\"],[0.3333333333333333,\"#9c179e\"],[0.4444444444444444,\"#bd3786\"],[0.5555555555555556,\"#d8576b\"],[0.6666666666666666,\"#ed7953\"],[0.7777777777777778,\"#fb9f3a\"],[0.8888888888888888,\"#fdca26\"],[1.0,\"#f0f921\"]]}],\"contourcarpet\":[{\"type\":\"contourcarpet\",\"colorbar\":{\"outlinewidth\":0,\"ticks\":\"\"}}],\"contour\":[{\"type\":\"contour\",\"colorbar\":{\"outlinewidth\":0,\"ticks\":\"\"},\"colorscale\":[[0.0,\"#0d0887\"],[0.1111111111111111,\"#46039f\"],[0.2222222222222222,\"#7201a8\"],[0.3333333333333333,\"#9c179e\"],[0.4444444444444444,\"#bd3786\"],[0.5555555555555556,\"#d8576b\"],[0.6666666666666666,\"#ed7953\"],[0.7777777777777778,\"#fb9f3a\"],[0.8888888888888888,\"#fdca26\"],[1.0,\"#f0f921\"]]}],\"surface\":[{\"type\":\"surface\",\"colorbar\":{\"outlinewidth\":0,\"ticks\":\"\"},\"colorscale\":[[0.0,\"#0d0887\"],[0.1111111111111111,\"#46039f\"],[0.2222222222222222,\"#7201a8\"],[0.3333333333333333,\"#9c179e\"],[0.4444444444444444,\"#bd3786\"],[0.5555555555555556,\"#d8576b\"],[0.6666666666666666,\"#ed7953\"],[0.7777777777777778,\"#fb9f3a\"],[0.8888888888888888,\"#fdca26\"],[1.0,\"#f0f921\"]]}],\"mesh3d\":[{\"type\":\"mesh3d\",\"colorbar\":{\"outlinewidth\":0,\"ticks\":\"\"}}],\"scatter\":[{\"fillpattern\":{\"fillmode\":\"overlay\",\"size\":10,\"solidity\":0.2},\"type\":\"scatter\"}],\"parcoords\":[{\"type\":\"parcoords\",\"line\":{\"colorbar\":{\"outlinewidth\":0,\"ticks\":\"\"}}}],\"scatterpolargl\":[{\"type\":\"scatterpolargl\",\"marker\":{\"colorbar\":{\"outlinewidth\":0,\"ticks\":\"\"}}}],\"bar\":[{\"error_x\":{\"color\":\"#2a3f5f\"},\"error_y\":{\"color\":\"#2a3f5f\"},\"marker\":{\"line\":{\"color\":\"#E5ECF6\",\"width\":0.5},\"pattern\":{\"fillmode\":\"overlay\",\"size\":10,\"solidity\":0.2}},\"type\":\"bar\"}],\"scattergeo\":[{\"type\":\"scattergeo\",\"marker\":{\"colorbar\":{\"outlinewidth\":0,\"ticks\":\"\"}}}],\"scatterpolar\":[{\"type\":\"scatterpolar\",\"marker\":{\"colorbar\":{\"outlinewidth\":0,\"ticks\":\"\"}}}],\"histogram\":[{\"marker\":{\"pattern\":{\"fillmode\":\"overlay\",\"size\":10,\"solidity\":0.2}},\"type\":\"histogram\"}],\"scattergl\":[{\"type\":\"scattergl\",\"marker\":{\"colorbar\":{\"outlinewidth\":0,\"ticks\":\"\"}}}],\"scatter3d\":[{\"type\":\"scatter3d\",\"line\":{\"colorbar\":{\"outlinewidth\":0,\"ticks\":\"\"}},\"marker\":{\"colorbar\":{\"outlinewidth\":0,\"ticks\":\"\"}}}],\"scattermapbox\":[{\"type\":\"scattermapbox\",\"marker\":{\"colorbar\":{\"outlinewidth\":0,\"ticks\":\"\"}}}],\"scatterternary\":[{\"type\":\"scatterternary\",\"marker\":{\"colorbar\":{\"outlinewidth\":0,\"ticks\":\"\"}}}],\"scattercarpet\":[{\"type\":\"scattercarpet\",\"marker\":{\"colorbar\":{\"outlinewidth\":0,\"ticks\":\"\"}}}],\"carpet\":[{\"aaxis\":{\"endlinecolor\":\"#2a3f5f\",\"gridcolor\":\"white\",\"linecolor\":\"white\",\"minorgridcolor\":\"white\",\"startlinecolor\":\"#2a3f5f\"},\"baxis\":{\"endlinecolor\":\"#2a3f5f\",\"gridcolor\":\"white\",\"linecolor\":\"white\",\"minorgridcolor\":\"white\",\"startlinecolor\":\"#2a3f5f\"},\"type\":\"carpet\"}],\"table\":[{\"cells\":{\"fill\":{\"color\":\"#EBF0F8\"},\"line\":{\"color\":\"white\"}},\"header\":{\"fill\":{\"color\":\"#C8D4E3\"},\"line\":{\"color\":\"white\"}},\"type\":\"table\"}],\"barpolar\":[{\"marker\":{\"line\":{\"color\":\"#E5ECF6\",\"width\":0.5},\"pattern\":{\"fillmode\":\"overlay\",\"size\":10,\"solidity\":0.2}},\"type\":\"barpolar\"}],\"pie\":[{\"automargin\":true,\"type\":\"pie\"}]},\"layout\":{\"autotypenumbers\":\"strict\",\"colorway\":[\"#636efa\",\"#EF553B\",\"#00cc96\",\"#ab63fa\",\"#FFA15A\",\"#19d3f3\",\"#FF6692\",\"#B6E880\",\"#FF97FF\",\"#FECB52\"],\"font\":{\"color\":\"#2a3f5f\"},\"hovermode\":\"closest\",\"hoverlabel\":{\"align\":\"left\"},\"paper_bgcolor\":\"white\",\"plot_bgcolor\":\"#E5ECF6\",\"polar\":{\"bgcolor\":\"#E5ECF6\",\"angularaxis\":{\"gridcolor\":\"white\",\"linecolor\":\"white\",\"ticks\":\"\"},\"radialaxis\":{\"gridcolor\":\"white\",\"linecolor\":\"white\",\"ticks\":\"\"}},\"ternary\":{\"bgcolor\":\"#E5ECF6\",\"aaxis\":{\"gridcolor\":\"white\",\"linecolor\":\"white\",\"ticks\":\"\"},\"baxis\":{\"gridcolor\":\"white\",\"linecolor\":\"white\",\"ticks\":\"\"},\"caxis\":{\"gridcolor\":\"white\",\"linecolor\":\"white\",\"ticks\":\"\"}},\"coloraxis\":{\"colorbar\":{\"outlinewidth\":0,\"ticks\":\"\"}},\"colorscale\":{\"sequential\":[[0.0,\"#0d0887\"],[0.1111111111111111,\"#46039f\"],[0.2222222222222222,\"#7201a8\"],[0.3333333333333333,\"#9c179e\"],[0.4444444444444444,\"#bd3786\"],[0.5555555555555556,\"#d8576b\"],[0.6666666666666666,\"#ed7953\"],[0.7777777777777778,\"#fb9f3a\"],[0.8888888888888888,\"#fdca26\"],[1.0,\"#f0f921\"]],\"sequentialminus\":[[0.0,\"#0d0887\"],[0.1111111111111111,\"#46039f\"],[0.2222222222222222,\"#7201a8\"],[0.3333333333333333,\"#9c179e\"],[0.4444444444444444,\"#bd3786\"],[0.5555555555555556,\"#d8576b\"],[0.6666666666666666,\"#ed7953\"],[0.7777777777777778,\"#fb9f3a\"],[0.8888888888888888,\"#fdca26\"],[1.0,\"#f0f921\"]],\"diverging\":[[0,\"#8e0152\"],[0.1,\"#c51b7d\"],[0.2,\"#de77ae\"],[0.3,\"#f1b6da\"],[0.4,\"#fde0ef\"],[0.5,\"#f7f7f7\"],[0.6,\"#e6f5d0\"],[0.7,\"#b8e186\"],[0.8,\"#7fbc41\"],[0.9,\"#4d9221\"],[1,\"#276419\"]]},\"xaxis\":{\"gridcolor\":\"white\",\"linecolor\":\"white\",\"ticks\":\"\",\"title\":{\"standoff\":15},\"zerolinecolor\":\"white\",\"automargin\":true,\"zerolinewidth\":2},\"yaxis\":{\"gridcolor\":\"white\",\"linecolor\":\"white\",\"ticks\":\"\",\"title\":{\"standoff\":15},\"zerolinecolor\":\"white\",\"automargin\":true,\"zerolinewidth\":2},\"scene\":{\"xaxis\":{\"backgroundcolor\":\"#E5ECF6\",\"gridcolor\":\"white\",\"linecolor\":\"white\",\"showbackground\":true,\"ticks\":\"\",\"zerolinecolor\":\"white\",\"gridwidth\":2},\"yaxis\":{\"backgroundcolor\":\"#E5ECF6\",\"gridcolor\":\"white\",\"linecolor\":\"white\",\"showbackground\":true,\"ticks\":\"\",\"zerolinecolor\":\"white\",\"gridwidth\":2},\"zaxis\":{\"backgroundcolor\":\"#E5ECF6\",\"gridcolor\":\"white\",\"linecolor\":\"white\",\"showbackground\":true,\"ticks\":\"\",\"zerolinecolor\":\"white\",\"gridwidth\":2}},\"shapedefaults\":{\"line\":{\"color\":\"#2a3f5f\"}},\"annotationdefaults\":{\"arrowcolor\":\"#2a3f5f\",\"arrowhead\":0,\"arrowwidth\":1},\"geo\":{\"bgcolor\":\"white\",\"landcolor\":\"#E5ECF6\",\"subunitcolor\":\"white\",\"showland\":true,\"showlakes\":true,\"lakecolor\":\"white\"},\"title\":{\"x\":0.05},\"mapbox\":{\"style\":\"light\"}}},\"xaxis\":{\"anchor\":\"y\",\"domain\":[0.0,1.0],\"title\":{\"text\":\"Target\"}},\"yaxis\":{\"anchor\":\"x\",\"domain\":[0.0,1.0],\"title\":{\"text\":\"Counts\"}},\"legend\":{\"title\":{\"text\":\"Marital status\"},\"tracegroupgap\":0},\"title\":{\"text\":\"Marital Status for Each School Outcome\"},\"barmode\":\"relative\"},                        {\"responsive\": true}                    ).then(function(){\n",
       "                            \n",
       "var gd = document.getElementById('09c59cbe-ed7c-4b09-9a81-c10f4798b633');\n",
       "var x = new MutationObserver(function (mutations, observer) {{\n",
       "        var display = window.getComputedStyle(gd).display;\n",
       "        if (!display || display === 'none') {{\n",
       "            console.log([gd, 'removed!']);\n",
       "            Plotly.purge(gd);\n",
       "            observer.disconnect();\n",
       "        }}\n",
       "}});\n",
       "\n",
       "// Listen for the removal of the full notebook cells\n",
       "var notebookContainer = gd.closest('#notebook-container');\n",
       "if (notebookContainer) {{\n",
       "    x.observe(notebookContainer, {childList: true});\n",
       "}}\n",
       "\n",
       "// Listen for the clearing of the current output cell\n",
       "var outputEl = gd.closest('.output');\n",
       "if (outputEl) {{\n",
       "    x.observe(outputEl, {childList: true});\n",
       "}}\n",
       "\n",
       "                        })                };                });            </script>        </div>"
      ]
     },
     "metadata": {},
     "output_type": "display_data"
    },
    {
     "data": {
      "text/plain": [
       "<Figure size 640x480 with 0 Axes>"
      ]
     },
     "metadata": {},
     "output_type": "display_data"
    }
   ],
   "source": [
    "#Marital Status for Each Outcome\n",
    "#Chart 5\n",
    "marital2 = px.bar(marital.T, labels={'x':\"Target\", 'value': 'Counts'}, title=\"Marital Status for Each School Outcome\", color_discrete_sequence=px.colors.qualitative.Prism)\n",
    "marital2.show()\n",
    "plt.savefig('stackedbar60.png')"
   ]
  },
  {
   "cell_type": "code",
   "execution_count": 144,
   "metadata": {},
   "outputs": [
    {
     "data": {
      "image/png": "[encoded data removed]",
      "text/plain": [
       "<Figure size 1115.38x500 with 2 Axes>"
      ]
     },
     "metadata": {},
     "output_type": "display_data"
    }
   ],
   "source": [
    "#Determing distribution of age for each gender for each target outcome\n",
    "#Chart 6\n",
    "gender = {0: \"Male\", 1: \"Female\"}\n",
    "df[\"Gender\"] = df[\"Gender\"].replace(gender)\n",
    "sns.displot(data=df, x='Age at enrollment', hue=\"Target\", col=\"Gender\", kde=True)\n",
    "plt.savefig('distribution.png')"
   ]
  },
  {
   "cell_type": "code",
   "execution_count": 145,
   "metadata": {},
   "outputs": [
    {
     "data": {
      "image/png": "[encoded data removed]",
      "text/plain": [
       "<Figure size 640x480 with 2 Axes>"
      ]
     },
     "metadata": {},
     "output_type": "display_data"
    }
   ],
   "source": [
    "#Seeing how the unemployment rate and inflation rate relate to each other\n",
    "#Chart 7\n",
    "df.plot(kind='hexbin', x='Inflation rate', y='Unemployment rate', title=\"Inflation Rate vs Unemployment Rate\", gridsize = 13)\n",
    "plt.savefig('hexplot.png')"
   ]
  },
  {
   "cell_type": "code",
   "execution_count": 120,
   "metadata": {},
   "outputs": [
    {
     "data": {
      "image/png": "[encoded data removed]",
      "text/plain": [
       "<Figure size 640x480 with 2 Axes>"
      ]
     },
     "metadata": {},
     "output_type": "display_data"
    }
   ],
   "source": [
    "#Seeing how the unemployment rate and GDP relate to each other\n",
    "#Chart 8\n",
    "df.plot(kind='hexbin', x='Inflation rate', y='GDP', title=\"Inflation Rate vs GDP\", gridsize = 13)\n",
    "plt.savefig('hexplot1.png')"
   ]
  },
  {
   "cell_type": "markdown",
   "metadata": {
    "azdata_cell_guid": "d4931c0c-2c09-4ee1-95d4-73dd08c2f0a6"
   },
   "source": [
    "## Summarize Your Results\n",
    "\n",
    "With your EDA complete, answer the following questions.\n",
    "\n",
    "1. Was there anything surprising about your dataset? \n",
    ">I was surprise by the data itself. Some of the pieces of data was different than I would have anticipated. \n",
    "2. Do you have any concerns about your dataset? \n",
    ">The only concern I have about the dataset is what some of the values in the columns mean, particularly the Curriculum unit 1st and 2nd sem (grade). For the inflation, unemployment rate and GDP it would be helpful to understand when that data was collected, at the beginning of them starting college or a few years later, at the end of their college.\n",
    "3. Is there anything you want to make note of for the next phase of your analysis, which is cleaning data? \n",
    ">I would like to see if there is any duplicate or missing data in the datasets, some of the data such as the father's qualification column seems off in comparison to my expectations so I would like to further confirm the accuracy of the data."
   ]
  }
 ],
 "metadata": {
  "kernelspec": {
   "display_name": "Python 3 (ipykernel)",
   "language": "python",
   "name": "python3"
  },
  "language_info": {
   "codemirror_mode": {
    "name": "ipython",
    "version": 3
   },
   "file_extension": ".py",
   "mimetype": "text/x-python",
   "name": "python",
   "nbconvert_exporter": "python",
   "pygments_lexer": "ipython3",
   "version": "3.11.2"
  }
 },
 "nbformat": 4,
 "nbformat_minor": 2
}
